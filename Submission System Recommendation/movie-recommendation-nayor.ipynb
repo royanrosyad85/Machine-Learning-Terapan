{
 "cells": [
  {
   "cell_type": "markdown",
   "metadata": {},
   "source": [
    "*   ***Name***        : Royan Sabila Rosyad W.\n",
    "*   ***Username***    : royanrosyad85\n",
    "*   ***Email***       : royan230603@gmail.com\n",
    "*   ***University***  : Universitas Islam Negeri Syarif Hidayatullah Jakarta"
   ]
  },
  {
   "cell_type": "code",
   "execution_count": null,
   "metadata": {
    "colab": {
     "base_uri": "https://localhost:8080/"
    },
    "id": "7e0iaM_3QoMA",
    "outputId": "e2377d79-c762-4a95-fbbb-2956582f90fc"
   },
   "outputs": [
    {
     "name": "stdout",
     "output_type": "stream",
     "text": [
      "Collecting tensorflow\n",
      "  Downloading tensorflow-2.19.0-cp311-cp311-manylinux_2_17_x86_64.manylinux2014_x86_64.whl.metadata (4.1 kB)\n",
      "Requirement already satisfied: absl-py>=1.0.0 in /usr/local/lib/python3.11/dist-packages (from tensorflow) (1.4.0)\n",
      "Collecting astunparse>=1.6.0 (from tensorflow)\n",
      "  Downloading astunparse-1.6.3-py2.py3-none-any.whl.metadata (4.4 kB)\n",
      "Collecting flatbuffers>=24.3.25 (from tensorflow)\n",
      "  Downloading flatbuffers-25.2.10-py2.py3-none-any.whl.metadata (875 bytes)\n",
      "Requirement already satisfied: gast!=0.5.0,!=0.5.1,!=0.5.2,>=0.2.1 in /usr/local/lib/python3.11/dist-packages (from tensorflow) (0.6.0)\n",
      "Collecting google-pasta>=0.1.1 (from tensorflow)\n",
      "  Downloading google_pasta-0.2.0-py3-none-any.whl.metadata (814 bytes)\n",
      "Collecting libclang>=13.0.0 (from tensorflow)\n",
      "  Downloading libclang-18.1.1-py2.py3-none-manylinux2010_x86_64.whl.metadata (5.2 kB)\n",
      "Requirement already satisfied: opt-einsum>=2.3.2 in /usr/local/lib/python3.11/dist-packages (from tensorflow) (3.4.0)\n",
      "Requirement already satisfied: packaging in /usr/local/lib/python3.11/dist-packages (from tensorflow) (25.0)\n",
      "Requirement already satisfied: protobuf!=4.21.0,!=4.21.1,!=4.21.2,!=4.21.3,!=4.21.4,!=4.21.5,<6.0.0dev,>=3.20.3 in /usr/local/lib/python3.11/dist-packages (from tensorflow) (5.29.4)\n",
      "Requirement already satisfied: requests<3,>=2.21.0 in /usr/local/lib/python3.11/dist-packages (from tensorflow) (2.32.3)\n",
      "Requirement already satisfied: setuptools in /usr/local/lib/python3.11/dist-packages (from tensorflow) (75.2.0)\n",
      "Requirement already satisfied: six>=1.12.0 in /usr/local/lib/python3.11/dist-packages (from tensorflow) (1.17.0)\n",
      "Requirement already satisfied: termcolor>=1.1.0 in /usr/local/lib/python3.11/dist-packages (from tensorflow) (3.0.1)\n",
      "Requirement already satisfied: typing-extensions>=3.6.6 in /usr/local/lib/python3.11/dist-packages (from tensorflow) (4.13.2)\n",
      "Requirement already satisfied: wrapt>=1.11.0 in /usr/local/lib/python3.11/dist-packages (from tensorflow) (1.17.2)\n",
      "Requirement already satisfied: grpcio<2.0,>=1.24.3 in /usr/local/lib/python3.11/dist-packages (from tensorflow) (1.71.0)\n",
      "Collecting tensorboard~=2.19.0 (from tensorflow)\n",
      "  Downloading tensorboard-2.19.0-py3-none-any.whl.metadata (1.8 kB)\n",
      "Requirement already satisfied: keras>=3.5.0 in /usr/local/lib/python3.11/dist-packages (from tensorflow) (3.8.0)\n",
      "Requirement already satisfied: numpy<2.2.0,>=1.26.0 in /usr/local/lib/python3.11/dist-packages (from tensorflow) (2.0.2)\n",
      "Requirement already satisfied: h5py>=3.11.0 in /usr/local/lib/python3.11/dist-packages (from tensorflow) (3.13.0)\n",
      "Requirement already satisfied: ml-dtypes<1.0.0,>=0.5.1 in /usr/local/lib/python3.11/dist-packages (from tensorflow) (0.5.1)\n",
      "Collecting tensorflow-io-gcs-filesystem>=0.23.1 (from tensorflow)\n",
      "  Downloading tensorflow_io_gcs_filesystem-0.37.1-cp311-cp311-manylinux_2_17_x86_64.manylinux2014_x86_64.whl.metadata (14 kB)\n",
      "Collecting wheel<1.0,>=0.23.0 (from astunparse>=1.6.0->tensorflow)\n",
      "  Downloading wheel-0.45.1-py3-none-any.whl.metadata (2.3 kB)\n",
      "Requirement already satisfied: rich in /usr/local/lib/python3.11/dist-packages (from keras>=3.5.0->tensorflow) (14.0.0)\n",
      "Requirement already satisfied: namex in /usr/local/lib/python3.11/dist-packages (from keras>=3.5.0->tensorflow) (0.0.9)\n",
      "Requirement already satisfied: optree in /usr/local/lib/python3.11/dist-packages (from keras>=3.5.0->tensorflow) (0.15.0)\n",
      "Requirement already satisfied: charset-normalizer<4,>=2 in /usr/local/lib/python3.11/dist-packages (from requests<3,>=2.21.0->tensorflow) (3.4.1)\n",
      "Requirement already satisfied: idna<4,>=2.5 in /usr/local/lib/python3.11/dist-packages (from requests<3,>=2.21.0->tensorflow) (3.10)\n",
      "Requirement already satisfied: urllib3<3,>=1.21.1 in /usr/local/lib/python3.11/dist-packages (from requests<3,>=2.21.0->tensorflow) (2.4.0)\n",
      "Requirement already satisfied: certifi>=2017.4.17 in /usr/local/lib/python3.11/dist-packages (from requests<3,>=2.21.0->tensorflow) (2025.1.31)\n",
      "Requirement already satisfied: markdown>=2.6.8 in /usr/lib/python3/dist-packages (from tensorboard~=2.19.0->tensorflow) (3.3.6)\n",
      "Collecting tensorboard-data-server<0.8.0,>=0.7.0 (from tensorboard~=2.19.0->tensorflow)\n",
      "  Downloading tensorboard_data_server-0.7.2-py3-none-manylinux_2_31_x86_64.whl.metadata (1.1 kB)\n",
      "Collecting werkzeug>=1.0.1 (from tensorboard~=2.19.0->tensorflow)\n",
      "  Downloading werkzeug-3.1.3-py3-none-any.whl.metadata (3.7 kB)\n",
      "Requirement already satisfied: MarkupSafe>=2.1.1 in /usr/local/lib/python3.11/dist-packages (from werkzeug>=1.0.1->tensorboard~=2.19.0->tensorflow) (3.0.2)\n",
      "Requirement already satisfied: markdown-it-py>=2.2.0 in /usr/local/lib/python3.11/dist-packages (from rich->keras>=3.5.0->tensorflow) (3.0.0)\n",
      "Requirement already satisfied: pygments<3.0.0,>=2.13.0 in /usr/local/lib/python3.11/dist-packages (from rich->keras>=3.5.0->tensorflow) (2.19.1)\n",
      "Requirement already satisfied: mdurl~=0.1 in /usr/local/lib/python3.11/dist-packages (from markdown-it-py>=2.2.0->rich->keras>=3.5.0->tensorflow) (0.1.2)\n",
      "Downloading tensorflow-2.19.0-cp311-cp311-manylinux_2_17_x86_64.manylinux2014_x86_64.whl (644.9 MB)\n",
      "\u001b[2K   \u001b[90m━━━━━━━━━━━━━━━━━━━━━━━━━━━━━━━━━━━━━━━━\u001b[0m \u001b[32m644.9/644.9 MB\u001b[0m \u001b[31m1.7 MB/s\u001b[0m eta \u001b[36m0:00:00\u001b[0m\n",
      "\u001b[?25hDownloading astunparse-1.6.3-py2.py3-none-any.whl (12 kB)\n",
      "Downloading flatbuffers-25.2.10-py2.py3-none-any.whl (30 kB)\n",
      "Downloading google_pasta-0.2.0-py3-none-any.whl (57 kB)\n",
      "\u001b[2K   \u001b[90m━━━━━━━━━━━━━━━━━━━━━━━━━━━━━━━━━━━━━━━━\u001b[0m \u001b[32m57.5/57.5 kB\u001b[0m \u001b[31m3.9 MB/s\u001b[0m eta \u001b[36m0:00:00\u001b[0m\n",
      "\u001b[?25hDownloading libclang-18.1.1-py2.py3-none-manylinux2010_x86_64.whl (24.5 MB)\n",
      "\u001b[2K   \u001b[90m━━━━━━━━━━━━━━━━━━━━━━━━━━━━━━━━━━━━━━━━\u001b[0m \u001b[32m24.5/24.5 MB\u001b[0m \u001b[31m83.3 MB/s\u001b[0m eta \u001b[36m0:00:00\u001b[0m\n",
      "\u001b[?25hDownloading tensorboard-2.19.0-py3-none-any.whl (5.5 MB)\n",
      "\u001b[2K   \u001b[90m━━━━━━━━━━━━━━━━━━━━━━━━━━━━━━━━━━━━━━━━\u001b[0m \u001b[32m5.5/5.5 MB\u001b[0m \u001b[31m109.0 MB/s\u001b[0m eta \u001b[36m0:00:00\u001b[0m\n",
      "\u001b[?25hDownloading tensorflow_io_gcs_filesystem-0.37.1-cp311-cp311-manylinux_2_17_x86_64.manylinux2014_x86_64.whl (5.1 MB)\n",
      "\u001b[2K   \u001b[90m━━━━━━━━━━━━━━━━━━━━━━━━━━━━━━━━━━━━━━━━\u001b[0m \u001b[32m5.1/5.1 MB\u001b[0m \u001b[31m115.6 MB/s\u001b[0m eta \u001b[36m0:00:00\u001b[0m\n",
      "\u001b[?25hDownloading tensorboard_data_server-0.7.2-py3-none-manylinux_2_31_x86_64.whl (6.6 MB)\n",
      "\u001b[2K   \u001b[90m━━━━━━━━━━━━━━━━━━━━━━━━━━━━━━━━━━━━━━━━\u001b[0m \u001b[32m6.6/6.6 MB\u001b[0m \u001b[31m119.6 MB/s\u001b[0m eta \u001b[36m0:00:00\u001b[0m\n",
      "\u001b[?25hDownloading werkzeug-3.1.3-py3-none-any.whl (224 kB)\n",
      "\u001b[2K   \u001b[90m━━━━━━━━━━━━━━━━━━━━━━━━━━━━━━━━━━━━━━━━\u001b[0m \u001b[32m224.5/224.5 kB\u001b[0m \u001b[31m17.1 MB/s\u001b[0m eta \u001b[36m0:00:00\u001b[0m\n",
      "\u001b[?25hDownloading wheel-0.45.1-py3-none-any.whl (72 kB)\n",
      "\u001b[2K   \u001b[90m━━━━━━━━━━━━━━━━━━━━━━━━━━━━━━━━━━━━━━━━\u001b[0m \u001b[32m72.5/72.5 kB\u001b[0m \u001b[31m5.4 MB/s\u001b[0m eta \u001b[36m0:00:00\u001b[0m\n",
      "\u001b[?25hInstalling collected packages: libclang, flatbuffers, wheel, werkzeug, tensorflow-io-gcs-filesystem, tensorboard-data-server, google-pasta, tensorboard, astunparse, tensorflow\n",
      "Successfully installed astunparse-1.6.3 flatbuffers-25.2.10 google-pasta-0.2.0 libclang-18.1.1 tensorboard-2.19.0 tensorboard-data-server-0.7.2 tensorflow-2.19.0 tensorflow-io-gcs-filesystem-0.37.1 werkzeug-3.1.3 wheel-0.45.1\n"
     ]
    }
   ],
   "source": [
    "!pip install tensorflow"
   ]
  },
  {
   "cell_type": "code",
   "execution_count": 3,
   "metadata": {
    "execution": {
     "iopub.execute_input": "2025-05-01T10:28:06.931103Z",
     "iopub.status.busy": "2025-05-01T10:28:06.930591Z",
     "iopub.status.idle": "2025-05-01T10:28:06.937175Z",
     "shell.execute_reply": "2025-05-01T10:28:06.936642Z",
     "shell.execute_reply.started": "2025-05-01T10:28:06.931083Z"
    },
    "id": "qdVslVkOQYWm",
    "trusted": true
   },
   "outputs": [],
   "source": [
    "import gdown\n",
    "import matplotlib.pyplot as plt\n",
    "%matplotlib inline\n",
    "import pandas as pd\n",
    "import seaborn as sns\n",
    "import numpy as np\n",
    "import tensorflow as tf\n",
    "\n",
    "from sklearn.model_selection import train_test_split\n",
    "from sklearn.preprocessing import StandardScaler\n",
    "from sklearn.svm import SVC\n",
    "from sklearn.metrics import accuracy_score, classification_report, confusion_matrix, ConfusionMatrixDisplay\n",
    "from sklearn.ensemble import RandomForestClassifier\n",
    "from sklearn.neighbors import KNeighborsClassifier\n",
    "from sklearn.model_selection import GridSearchCV\n",
    "\n",
    "from sklearn.utils import resample\n",
    "\n",
    "from tensorflow.keras.models import load_model\n",
    "from tensorflow.keras.layers import TFSMLayer\n",
    "import shutil, zipfile"
   ]
  },
  {
   "cell_type": "markdown",
   "metadata": {
    "id": "KFySa7SODNAQ"
   },
   "source": [
    "Berikut dataset yang digunakan pada proyek ini\n",
    "\n",
    "*   ***Dataset source***: https://grouplens.org/datasets/movielens/\n",
    "*   ***Dataset name***: MovieLens Latest Small Datasets"
   ]
  },
  {
   "cell_type": "markdown",
   "metadata": {
    "id": "ZyplG-trC67w"
   },
   "source": [
    "*Dataset* yang dipakai dalam pembuatan model machine learning ini adalah \"MovieLens Latest Small Dataset\", yang dapat diunduh melalui situs Grouplens pada [link berikut](https://files.grouplens.org/datasets/movielens/ml-latest-small.zip). *Dataset* ini terdiri dari beberapa file, yaitu:\n",
    "\n",
    "- `tag.csv`\n",
    "- `rating.csv`\n",
    "- `movies.csv`\n",
    "- `links.csv`\n",
    "\n",
    "Dari seluruh file tersebut, yang digunakan dalam proyek ini untuk membangun model dengan metode content based filtering dan collaborative filtering adalah `movies.csv` dan `ratings.csv`.\n",
    "\n",
    "Berikut penjelasan lebih lanjut mengenai *dataset* yang digunakan:\n",
    "\n",
    "Kolom-kolom pada file `movies.csv` meliputi:\n",
    "- `movieId`: *Identifier* unik untuk setiap film\n",
    "- `title`: Nama atau judul film\n",
    "- `genres`: Genre utama dari masing-masing film\n",
    "\n",
    "Sedangkan kolom-kolom pada file `ratings.csv` adalah:\n",
    "- `userId`: *Identifier* unik untuk setiap pengguna yang memberikan rating\n",
    "- `movieId`: *Identifier* film yang dinilai\n",
    "- `rating`: Nilai rating yang diberikan oleh pengguna\n",
    "- `timestamp`: Waktu saat data rating dicatat"
   ]
  },
  {
   "cell_type": "code",
   "execution_count": 4,
   "metadata": {
    "colab": {
     "base_uri": "https://localhost:8080/"
    },
    "execution": {
     "iopub.execute_input": "2025-05-01T10:28:11.838231Z",
     "iopub.status.busy": "2025-05-01T10:28:11.837755Z",
     "iopub.status.idle": "2025-05-01T10:28:13.225400Z",
     "shell.execute_reply": "2025-05-01T10:28:13.224488Z",
     "shell.execute_reply.started": "2025-05-01T10:28:11.838208Z"
    },
    "id": "9LZ0NOiFDJl_",
    "outputId": "86ee4a00-55ff-496b-9b92-007f286854bb",
    "trusted": true
   },
   "outputs": [
    {
     "name": "stdout",
     "output_type": "stream",
     "text": [
      "Isi direktori ml-latest-small: ['movies.csv', 'README.txt', 'ratings.csv', 'tags.csv', 'links.csv']\n"
     ]
    }
   ],
   "source": [
    "import os\n",
    "import requests\n",
    "\n",
    "# 2. Download dataset dari URL\n",
    "URL = \"https://files.grouplens.org/datasets/movielens/ml-latest-small.zip\"\n",
    "response = requests.get(URL)\n",
    "open(\"ml-latest-small.zip\", \"wb\").write(response.content)\n",
    "\n",
    "# 3. Ekstrak file zip\n",
    "with zipfile.ZipFile(\"ml-latest-small.zip\", 'r') as zip_ref:\n",
    "    zip_ref.extractall(\".\")\n",
    "\n",
    "# 4. Memastikan folder telah diekstrak\n",
    "dataset_dir = \"ml-latest-small\"\n",
    "print(f\"Isi direktori {dataset_dir}:\", os.listdir(dataset_dir))\n",
    "\n",
    "# 5. Load movies.csv dan ratings.csv dengan pandas\n",
    "movies_path = os.path.join(dataset_dir, \"movies.csv\")\n",
    "ratings_path = os.path.join(dataset_dir, \"ratings.csv\")\n",
    "\n",
    "movies_df = pd.read_csv(movies_path)\n",
    "ratings_df = pd.read_csv(ratings_path)"
   ]
  },
  {
   "cell_type": "markdown",
   "metadata": {
    "id": "jQA5L1_bGF34"
   },
   "source": [
    "### *Exploratory Data Analysis*\n",
    "> ***Exploratory Data Analysis*** (EDA) merupakan proses awal dalam memahami data, yang bertujuan untuk menelaah karakteristik, menemukan pola, mendeteksi anomali, serta memastikan kebenaran asumsi-asumsi yang terdapat pada data."
   ]
  },
  {
   "cell_type": "markdown",
   "metadata": {
    "id": "mKY5pQ8yGPbz"
   },
   "source": [
    "Menampilkan jumlah baris, jumlah kolom, serta daftar nama kolom yang terdapat pada `movies_df`."
   ]
  },
  {
   "cell_type": "code",
   "execution_count": 5,
   "metadata": {
    "colab": {
     "base_uri": "https://localhost:8080/"
    },
    "execution": {
     "iopub.execute_input": "2025-05-01T10:28:13.226863Z",
     "iopub.status.busy": "2025-05-01T10:28:13.226574Z",
     "iopub.status.idle": "2025-05-01T10:28:13.232670Z",
     "shell.execute_reply": "2025-05-01T10:28:13.232049Z",
     "shell.execute_reply.started": "2025-05-01T10:28:13.226837Z"
    },
    "id": "CuesUnm0F3SY",
    "outputId": "59744dcb-8de9-4fd9-b12e-822482529dca",
    "trusted": true
   },
   "outputs": [
    {
     "name": "stdout",
     "output_type": "stream",
     "text": [
      "panjang baris dan kolom movies_df: (9742, 3)\n",
      "movies_df kolom Index(['movieId', 'title', 'genres'], dtype='object')\n"
     ]
    }
   ],
   "source": [
    "print('panjang baris dan kolom movies_df:', movies_df.shape)\n",
    "print('movies_df kolom', movies_df.keys())"
   ]
  },
  {
   "cell_type": "markdown",
   "metadata": {
    "id": "Y9Q7UBA7Gt9l"
   },
   "source": [
    "Berdasarkan hasil *output* kode di atas, dapat disimpulkan bahwa `movies_df` memiliki 9742 baris dan 3 kolom.  \n",
    "Tiga kolom yang terdapat pada `movies_df` adalah `movieId`, `title`, dan `genres`.\n"
   ]
  },
  {
   "cell_type": "markdown",
   "metadata": {
    "id": "ToWoqkmxG6ps"
   },
   "source": [
    "Menampilkan detail mengenai setiap kolom yang terdapat pada `movies_df`."
   ]
  },
  {
   "cell_type": "code",
   "execution_count": 6,
   "metadata": {
    "colab": {
     "base_uri": "https://localhost:8080/"
    },
    "execution": {
     "iopub.execute_input": "2025-05-01T10:28:13.233638Z",
     "iopub.status.busy": "2025-05-01T10:28:13.233412Z",
     "iopub.status.idle": "2025-05-01T10:28:13.273255Z",
     "shell.execute_reply": "2025-05-01T10:28:13.272679Z",
     "shell.execute_reply.started": "2025-05-01T10:28:13.233621Z"
    },
    "id": "m2a4p2wMGr1N",
    "outputId": "d73b26d2-bfaf-4abe-ae61-74e136148822",
    "trusted": true
   },
   "outputs": [
    {
     "name": "stdout",
     "output_type": "stream",
     "text": [
      "informasi kolom movies_df:\n",
      "<class 'pandas.core.frame.DataFrame'>\n",
      "RangeIndex: 9742 entries, 0 to 9741\n",
      "Data columns (total 3 columns):\n",
      " #   Column   Non-Null Count  Dtype \n",
      "---  ------   --------------  ----- \n",
      " 0   movieId  9742 non-null   int64 \n",
      " 1   title    9742 non-null   object\n",
      " 2   genres   9742 non-null   object\n",
      "dtypes: int64(1), object(2)\n",
      "memory usage: 228.5+ KB\n"
     ]
    }
   ],
   "source": [
    "print('informasi kolom movies_df:')\n",
    "movies_df.info()"
   ]
  },
  {
   "cell_type": "markdown",
   "metadata": {
    "id": "YDC9jszyHSIN"
   },
   "source": [
    "Dari hasil *output* kode sebelumnya, dapat diketahui hal-hal berikut:\n",
    "\n",
    "*   Terdapat dua kolom bertipe objek, yaitu `title` dan `genres`, yang termasuk ke dalam fitur kategorikal (bukan numerik).\n",
    "*   Satu kolom lainnya, yaitu `movieId`, memiliki tipe data numerik int64."
   ]
  },
  {
   "cell_type": "markdown",
   "metadata": {
    "id": "8vzCmVjvHXV9"
   },
   "source": [
    "Menampilkan ringkasan statistik dari data `movies_df`."
   ]
  },
  {
   "cell_type": "code",
   "execution_count": 7,
   "metadata": {
    "colab": {
     "base_uri": "https://localhost:8080/",
     "height": 318
    },
    "execution": {
     "iopub.execute_input": "2025-05-01T10:28:13.275120Z",
     "iopub.status.busy": "2025-05-01T10:28:13.274911Z",
     "iopub.status.idle": "2025-05-01T10:28:13.308191Z",
     "shell.execute_reply": "2025-05-01T10:28:13.307674Z",
     "shell.execute_reply.started": "2025-05-01T10:28:13.275104Z"
    },
    "id": "Vq7e39MDHDJ3",
    "outputId": "03d7daa0-f366-4655-a43a-8b6a2f07dc05",
    "trusted": true
   },
   "outputs": [
    {
     "name": "stdout",
     "output_type": "stream",
     "text": [
      "informasi statistik movies_df:\n"
     ]
    },
    {
     "data": {
      "text/html": [
       "<div>\n",
       "<style scoped>\n",
       "    .dataframe tbody tr th:only-of-type {\n",
       "        vertical-align: middle;\n",
       "    }\n",
       "\n",
       "    .dataframe tbody tr th {\n",
       "        vertical-align: top;\n",
       "    }\n",
       "\n",
       "    .dataframe thead th {\n",
       "        text-align: right;\n",
       "    }\n",
       "</style>\n",
       "<table border=\"1\" class=\"dataframe\">\n",
       "  <thead>\n",
       "    <tr style=\"text-align: right;\">\n",
       "      <th></th>\n",
       "      <th>movieId</th>\n",
       "    </tr>\n",
       "  </thead>\n",
       "  <tbody>\n",
       "    <tr>\n",
       "      <th>count</th>\n",
       "      <td>9742.000000</td>\n",
       "    </tr>\n",
       "    <tr>\n",
       "      <th>mean</th>\n",
       "      <td>42200.353623</td>\n",
       "    </tr>\n",
       "    <tr>\n",
       "      <th>std</th>\n",
       "      <td>52160.494854</td>\n",
       "    </tr>\n",
       "    <tr>\n",
       "      <th>min</th>\n",
       "      <td>1.000000</td>\n",
       "    </tr>\n",
       "    <tr>\n",
       "      <th>25%</th>\n",
       "      <td>3248.250000</td>\n",
       "    </tr>\n",
       "    <tr>\n",
       "      <th>50%</th>\n",
       "      <td>7300.000000</td>\n",
       "    </tr>\n",
       "    <tr>\n",
       "      <th>75%</th>\n",
       "      <td>76232.000000</td>\n",
       "    </tr>\n",
       "    <tr>\n",
       "      <th>max</th>\n",
       "      <td>193609.000000</td>\n",
       "    </tr>\n",
       "  </tbody>\n",
       "</table>\n",
       "</div>"
      ],
      "text/plain": [
       "             movieId\n",
       "count    9742.000000\n",
       "mean    42200.353623\n",
       "std     52160.494854\n",
       "min         1.000000\n",
       "25%      3248.250000\n",
       "50%      7300.000000\n",
       "75%     76232.000000\n",
       "max    193609.000000"
      ]
     },
     "execution_count": 7,
     "metadata": {},
     "output_type": "execute_result"
    }
   ],
   "source": [
    "print('informasi statistik movies_df:')\n",
    "movies_df.describe()"
   ]
  },
  {
   "cell_type": "markdown",
   "metadata": {
    "id": "X5Thb8usHhBf"
   },
   "source": [
    "Fungsi describe() menyajikan ringkasan statistik untuk setiap kolom, di antaranya:\n",
    "\n",
    "*   **Count**  menunjukkan banyaknya data pada setiap kolom.\n",
    "*   **Mean** merupakan rata-rata dari nilai-nilai pada kolom tersebut.\n",
    "*   **Std** adalah nilai standar deviasi yang menggambarkan sebaran data.\n",
    "*   **Min** menunjukkan nilai terkecil pada kolom.\n",
    "*   **25%** adalah nilai kuartil pertama, yaitu batas bawah dari 25% data terendah.\n",
    "*   **50%** merupakan kuartil kedua atau median, yaitu nilai tengah dari data.\n",
    "*   **75%** adalah kuartil ketiga, batas atas dari 75% data terendah.\n",
    "*   **Max** menunjukkan nilai terbesar pada kolom."
   ]
  },
  {
   "cell_type": "markdown",
   "metadata": {
    "id": "SlgkBdTAHlal"
   },
   "source": [
    "Melihat contoh data dari `movies_df` dengan mengambil 5 baris pertama."
   ]
  },
  {
   "cell_type": "code",
   "execution_count": 8,
   "metadata": {
    "colab": {
     "base_uri": "https://localhost:8080/",
     "height": 206
    },
    "execution": {
     "iopub.execute_input": "2025-05-01T10:28:13.309029Z",
     "iopub.status.busy": "2025-05-01T10:28:13.308838Z",
     "iopub.status.idle": "2025-05-01T10:28:13.316220Z",
     "shell.execute_reply": "2025-05-01T10:28:13.315470Z",
     "shell.execute_reply.started": "2025-05-01T10:28:13.309004Z"
    },
    "id": "RTUYa95zHegy",
    "outputId": "590e62e7-6f0d-41af-f58b-399d082a8ece",
    "trusted": true
   },
   "outputs": [
    {
     "data": {
      "text/html": [
       "<div>\n",
       "<style scoped>\n",
       "    .dataframe tbody tr th:only-of-type {\n",
       "        vertical-align: middle;\n",
       "    }\n",
       "\n",
       "    .dataframe tbody tr th {\n",
       "        vertical-align: top;\n",
       "    }\n",
       "\n",
       "    .dataframe thead th {\n",
       "        text-align: right;\n",
       "    }\n",
       "</style>\n",
       "<table border=\"1\" class=\"dataframe\">\n",
       "  <thead>\n",
       "    <tr style=\"text-align: right;\">\n",
       "      <th></th>\n",
       "      <th>movieId</th>\n",
       "      <th>title</th>\n",
       "      <th>genres</th>\n",
       "    </tr>\n",
       "  </thead>\n",
       "  <tbody>\n",
       "    <tr>\n",
       "      <th>0</th>\n",
       "      <td>1</td>\n",
       "      <td>Toy Story (1995)</td>\n",
       "      <td>Adventure|Animation|Children|Comedy|Fantasy</td>\n",
       "    </tr>\n",
       "    <tr>\n",
       "      <th>1</th>\n",
       "      <td>2</td>\n",
       "      <td>Jumanji (1995)</td>\n",
       "      <td>Adventure|Children|Fantasy</td>\n",
       "    </tr>\n",
       "    <tr>\n",
       "      <th>2</th>\n",
       "      <td>3</td>\n",
       "      <td>Grumpier Old Men (1995)</td>\n",
       "      <td>Comedy|Romance</td>\n",
       "    </tr>\n",
       "    <tr>\n",
       "      <th>3</th>\n",
       "      <td>4</td>\n",
       "      <td>Waiting to Exhale (1995)</td>\n",
       "      <td>Comedy|Drama|Romance</td>\n",
       "    </tr>\n",
       "    <tr>\n",
       "      <th>4</th>\n",
       "      <td>5</td>\n",
       "      <td>Father of the Bride Part II (1995)</td>\n",
       "      <td>Comedy</td>\n",
       "    </tr>\n",
       "  </tbody>\n",
       "</table>\n",
       "</div>"
      ],
      "text/plain": [
       "   movieId                               title  \\\n",
       "0        1                    Toy Story (1995)   \n",
       "1        2                      Jumanji (1995)   \n",
       "2        3             Grumpier Old Men (1995)   \n",
       "3        4            Waiting to Exhale (1995)   \n",
       "4        5  Father of the Bride Part II (1995)   \n",
       "\n",
       "                                        genres  \n",
       "0  Adventure|Animation|Children|Comedy|Fantasy  \n",
       "1                   Adventure|Children|Fantasy  \n",
       "2                               Comedy|Romance  \n",
       "3                         Comedy|Drama|Romance  \n",
       "4                                       Comedy  "
      ]
     },
     "execution_count": 8,
     "metadata": {},
     "output_type": "execute_result"
    }
   ],
   "source": [
    "movies_df.head()"
   ]
  },
  {
   "cell_type": "markdown",
   "metadata": {
    "id": "34kYg4nXHsww"
   },
   "source": [
    "Dari *output* kode yang dihasilkan, dapat disimpulkan bahwa kolom `movieId` dan `title` tidak memerlukan penyesuaian lebih lanjut. Sebaliknya, kolom `genres` menampilkan beberapa genre per film, sehingga diperlukan langkah pemrosesan untuk mengisolasi genre utama dari masing-masing film."
   ]
  },
  {
   "cell_type": "markdown",
   "metadata": {
    "id": "bgqPbnwLHwNI"
   },
   "source": [
    "Kolom `genres` memuat beberapa genre yang dipisahkan oleh tanda |, sehingga perlu dilakukan pemrosesan untuk mengekstrak hanya genre utama dengan cara melakukan split pada nilai kolom tersebut."
   ]
  },
  {
   "cell_type": "code",
   "execution_count": 9,
   "metadata": {
    "execution": {
     "iopub.execute_input": "2025-05-01T10:28:13.317220Z",
     "iopub.status.busy": "2025-05-01T10:28:13.316965Z",
     "iopub.status.idle": "2025-05-01T10:28:13.338696Z",
     "shell.execute_reply": "2025-05-01T10:28:13.337902Z",
     "shell.execute_reply.started": "2025-05-01T10:28:13.317196Z"
    },
    "id": "oOLFK0MbHpMD",
    "trusted": true
   },
   "outputs": [],
   "source": [
    "movies_df['genres'] = movies_df['genres'].str.split('|').str[0]"
   ]
  },
  {
   "cell_type": "markdown",
   "metadata": {
    "id": "gYvv5oQCIDoo"
   },
   "source": [
    "Kode di atas digunakan untuk mengekstrak genre utama dari setiap film, sehingga kolom genre hanya memuat satu genre saja dengan cara memisahkan *value* pada kolom tersebut."
   ]
  },
  {
   "cell_type": "markdown",
   "metadata": {
    "id": "kvG9yPbQIG-Y"
   },
   "source": [
    "Melihat kembali contoh data dari `movies_df` dengan mengambil 5 baris pertama."
   ]
  },
  {
   "cell_type": "code",
   "execution_count": 10,
   "metadata": {
    "colab": {
     "base_uri": "https://localhost:8080/",
     "height": 363
    },
    "execution": {
     "iopub.execute_input": "2025-05-01T10:28:13.340198Z",
     "iopub.status.busy": "2025-05-01T10:28:13.339407Z",
     "iopub.status.idle": "2025-05-01T10:28:13.356037Z",
     "shell.execute_reply": "2025-05-01T10:28:13.355482Z",
     "shell.execute_reply.started": "2025-05-01T10:28:13.340176Z"
    },
    "id": "yJ45fR_8ICHs",
    "outputId": "aed98bf5-56c9-4267-aa0f-cdf44fef7e37",
    "trusted": true
   },
   "outputs": [
    {
     "data": {
      "text/html": [
       "<div>\n",
       "<style scoped>\n",
       "    .dataframe tbody tr th:only-of-type {\n",
       "        vertical-align: middle;\n",
       "    }\n",
       "\n",
       "    .dataframe tbody tr th {\n",
       "        vertical-align: top;\n",
       "    }\n",
       "\n",
       "    .dataframe thead th {\n",
       "        text-align: right;\n",
       "    }\n",
       "</style>\n",
       "<table border=\"1\" class=\"dataframe\">\n",
       "  <thead>\n",
       "    <tr style=\"text-align: right;\">\n",
       "      <th></th>\n",
       "      <th>movieId</th>\n",
       "      <th>title</th>\n",
       "      <th>genres</th>\n",
       "    </tr>\n",
       "  </thead>\n",
       "  <tbody>\n",
       "    <tr>\n",
       "      <th>0</th>\n",
       "      <td>1</td>\n",
       "      <td>Toy Story (1995)</td>\n",
       "      <td>Adventure</td>\n",
       "    </tr>\n",
       "    <tr>\n",
       "      <th>1</th>\n",
       "      <td>2</td>\n",
       "      <td>Jumanji (1995)</td>\n",
       "      <td>Adventure</td>\n",
       "    </tr>\n",
       "    <tr>\n",
       "      <th>2</th>\n",
       "      <td>3</td>\n",
       "      <td>Grumpier Old Men (1995)</td>\n",
       "      <td>Comedy</td>\n",
       "    </tr>\n",
       "    <tr>\n",
       "      <th>3</th>\n",
       "      <td>4</td>\n",
       "      <td>Waiting to Exhale (1995)</td>\n",
       "      <td>Comedy</td>\n",
       "    </tr>\n",
       "    <tr>\n",
       "      <th>4</th>\n",
       "      <td>5</td>\n",
       "      <td>Father of the Bride Part II (1995)</td>\n",
       "      <td>Comedy</td>\n",
       "    </tr>\n",
       "    <tr>\n",
       "      <th>5</th>\n",
       "      <td>6</td>\n",
       "      <td>Heat (1995)</td>\n",
       "      <td>Action</td>\n",
       "    </tr>\n",
       "    <tr>\n",
       "      <th>6</th>\n",
       "      <td>7</td>\n",
       "      <td>Sabrina (1995)</td>\n",
       "      <td>Comedy</td>\n",
       "    </tr>\n",
       "    <tr>\n",
       "      <th>7</th>\n",
       "      <td>8</td>\n",
       "      <td>Tom and Huck (1995)</td>\n",
       "      <td>Adventure</td>\n",
       "    </tr>\n",
       "    <tr>\n",
       "      <th>8</th>\n",
       "      <td>9</td>\n",
       "      <td>Sudden Death (1995)</td>\n",
       "      <td>Action</td>\n",
       "    </tr>\n",
       "    <tr>\n",
       "      <th>9</th>\n",
       "      <td>10</td>\n",
       "      <td>GoldenEye (1995)</td>\n",
       "      <td>Action</td>\n",
       "    </tr>\n",
       "  </tbody>\n",
       "</table>\n",
       "</div>"
      ],
      "text/plain": [
       "   movieId                               title     genres\n",
       "0        1                    Toy Story (1995)  Adventure\n",
       "1        2                      Jumanji (1995)  Adventure\n",
       "2        3             Grumpier Old Men (1995)     Comedy\n",
       "3        4            Waiting to Exhale (1995)     Comedy\n",
       "4        5  Father of the Bride Part II (1995)     Comedy\n",
       "5        6                         Heat (1995)     Action\n",
       "6        7                      Sabrina (1995)     Comedy\n",
       "7        8                 Tom and Huck (1995)  Adventure\n",
       "8        9                 Sudden Death (1995)     Action\n",
       "9       10                    GoldenEye (1995)     Action"
      ]
     },
     "execution_count": 10,
     "metadata": {},
     "output_type": "execute_result"
    }
   ],
   "source": [
    "movies_df.head(10)"
   ]
  },
  {
   "cell_type": "markdown",
   "metadata": {
    "id": "2OnF64mlIOEJ"
   },
   "source": [
    "Melihat jumlah data `movieId` yang unik yang ada di `movies_df`.\n"
   ]
  },
  {
   "cell_type": "code",
   "execution_count": 11,
   "metadata": {
    "colab": {
     "base_uri": "https://localhost:8080/"
    },
    "execution": {
     "iopub.execute_input": "2025-05-01T10:28:13.356860Z",
     "iopub.status.busy": "2025-05-01T10:28:13.356645Z",
     "iopub.status.idle": "2025-05-01T10:28:13.373012Z",
     "shell.execute_reply": "2025-05-01T10:28:13.372399Z",
     "shell.execute_reply.started": "2025-05-01T10:28:13.356845Z"
    },
    "id": "MLFmR1HsIKn5",
    "outputId": "6a1559c8-3878-437c-ce93-d5ca3c95c602",
    "trusted": true
   },
   "outputs": [
    {
     "name": "stdout",
     "output_type": "stream",
     "text": [
      "Num of unique movieId: 9742\n"
     ]
    }
   ],
   "source": [
    "print('Num of unique movieId:', len(movies_df['movieId'].unique()))"
   ]
  },
  {
   "cell_type": "markdown",
   "metadata": {
    "id": "LjQ9TZ65IkcY"
   },
   "source": [
    "Kode di atas digunakan untuk memastikan bahwa setiap nilai pada kolom `movieId` di `movies_df` bersifat unik dan tidak ada duplikasi. Hasilnya menunjukkan terdapat 87585 nilai unik, yang jumlahnya sama dengan total data, sehingga dapat disimpulkan bahwa seluruh `movieId` pada `movies_df` memang unik."
   ]
  },
  {
   "cell_type": "markdown",
   "metadata": {
    "id": "iERWE_HeIpZg"
   },
   "source": [
    "Melihat jumlah data genre dari `movies_df` dan menampilkannya.\n"
   ]
  },
  {
   "cell_type": "code",
   "execution_count": 12,
   "metadata": {
    "colab": {
     "base_uri": "https://localhost:8080/",
     "height": 663
    },
    "execution": {
     "iopub.execute_input": "2025-05-01T10:28:13.374068Z",
     "iopub.status.busy": "2025-05-01T10:28:13.373791Z",
     "iopub.status.idle": "2025-05-01T10:28:13.391974Z",
     "shell.execute_reply": "2025-05-01T10:28:13.391285Z",
     "shell.execute_reply.started": "2025-05-01T10:28:13.374046Z"
    },
    "id": "IrY9kkr5IY0g",
    "outputId": "99bd785b-3437-439a-ed7a-6240f7f3327e",
    "trusted": true
   },
   "outputs": [
    {
     "name": "stdout",
     "output_type": "stream",
     "text": [
      "Num of unique genres: 19\n"
     ]
    },
    {
     "data": {
      "text/html": [
       "<div>\n",
       "<style scoped>\n",
       "    .dataframe tbody tr th:only-of-type {\n",
       "        vertical-align: middle;\n",
       "    }\n",
       "\n",
       "    .dataframe tbody tr th {\n",
       "        vertical-align: top;\n",
       "    }\n",
       "\n",
       "    .dataframe thead th {\n",
       "        text-align: right;\n",
       "    }\n",
       "</style>\n",
       "<table border=\"1\" class=\"dataframe\">\n",
       "  <thead>\n",
       "    <tr style=\"text-align: right;\">\n",
       "      <th></th>\n",
       "      <th>genres</th>\n",
       "    </tr>\n",
       "  </thead>\n",
       "  <tbody>\n",
       "    <tr>\n",
       "      <th>0</th>\n",
       "      <td>Adventure</td>\n",
       "    </tr>\n",
       "    <tr>\n",
       "      <th>1</th>\n",
       "      <td>Comedy</td>\n",
       "    </tr>\n",
       "    <tr>\n",
       "      <th>2</th>\n",
       "      <td>Action</td>\n",
       "    </tr>\n",
       "    <tr>\n",
       "      <th>3</th>\n",
       "      <td>Drama</td>\n",
       "    </tr>\n",
       "    <tr>\n",
       "      <th>4</th>\n",
       "      <td>Crime</td>\n",
       "    </tr>\n",
       "    <tr>\n",
       "      <th>5</th>\n",
       "      <td>Children</td>\n",
       "    </tr>\n",
       "    <tr>\n",
       "      <th>6</th>\n",
       "      <td>Mystery</td>\n",
       "    </tr>\n",
       "    <tr>\n",
       "      <th>7</th>\n",
       "      <td>Animation</td>\n",
       "    </tr>\n",
       "    <tr>\n",
       "      <th>8</th>\n",
       "      <td>Documentary</td>\n",
       "    </tr>\n",
       "    <tr>\n",
       "      <th>9</th>\n",
       "      <td>Thriller</td>\n",
       "    </tr>\n",
       "    <tr>\n",
       "      <th>10</th>\n",
       "      <td>Horror</td>\n",
       "    </tr>\n",
       "    <tr>\n",
       "      <th>11</th>\n",
       "      <td>Fantasy</td>\n",
       "    </tr>\n",
       "    <tr>\n",
       "      <th>12</th>\n",
       "      <td>Western</td>\n",
       "    </tr>\n",
       "    <tr>\n",
       "      <th>13</th>\n",
       "      <td>Film-Noir</td>\n",
       "    </tr>\n",
       "    <tr>\n",
       "      <th>14</th>\n",
       "      <td>Romance</td>\n",
       "    </tr>\n",
       "    <tr>\n",
       "      <th>15</th>\n",
       "      <td>Sci-Fi</td>\n",
       "    </tr>\n",
       "    <tr>\n",
       "      <th>16</th>\n",
       "      <td>Musical</td>\n",
       "    </tr>\n",
       "    <tr>\n",
       "      <th>17</th>\n",
       "      <td>War</td>\n",
       "    </tr>\n",
       "    <tr>\n",
       "      <th>18</th>\n",
       "      <td>(no genres listed)</td>\n",
       "    </tr>\n",
       "  </tbody>\n",
       "</table>\n",
       "</div>"
      ],
      "text/plain": [
       "                genres\n",
       "0            Adventure\n",
       "1               Comedy\n",
       "2               Action\n",
       "3                Drama\n",
       "4                Crime\n",
       "5             Children\n",
       "6              Mystery\n",
       "7            Animation\n",
       "8          Documentary\n",
       "9             Thriller\n",
       "10              Horror\n",
       "11             Fantasy\n",
       "12             Western\n",
       "13           Film-Noir\n",
       "14             Romance\n",
       "15              Sci-Fi\n",
       "16             Musical\n",
       "17                 War\n",
       "18  (no genres listed)"
      ]
     },
     "execution_count": 12,
     "metadata": {},
     "output_type": "execute_result"
    }
   ],
   "source": [
    "print('Num of unique genres:', len(movies_df['genres'].unique()))\n",
    "list_of_genres = pd.DataFrame(movies_df['genres'].unique(), columns=['genres'])\n",
    "list_of_genres"
   ]
  },
  {
   "cell_type": "markdown",
   "metadata": {
    "id": "PI4HcBBTKPS3"
   },
   "source": [
    "Melihat jumlah data dari setiap genre yang ada di kolom `genres` yang ada di `movies_df`."
   ]
  },
  {
   "cell_type": "code",
   "execution_count": 13,
   "metadata": {
    "colab": {
     "base_uri": "https://localhost:8080/",
     "height": 711
    },
    "execution": {
     "iopub.execute_input": "2025-05-01T10:28:13.395547Z",
     "iopub.status.busy": "2025-05-01T10:28:13.395250Z",
     "iopub.status.idle": "2025-05-01T10:28:13.405207Z",
     "shell.execute_reply": "2025-05-01T10:28:13.404501Z",
     "shell.execute_reply.started": "2025-05-01T10:28:13.395531Z"
    },
    "id": "o---lpyqKNMT",
    "outputId": "1e2abadb-2eb1-4998-a761-4dc2bb597ee5",
    "trusted": true
   },
   "outputs": [
    {
     "data": {
      "text/plain": [
       "genres\n",
       "Comedy                2779\n",
       "Drama                 2226\n",
       "Action                1828\n",
       "Adventure              653\n",
       "Crime                  537\n",
       "Horror                 468\n",
       "Documentary            386\n",
       "Animation              298\n",
       "Children               197\n",
       "Thriller                84\n",
       "Sci-Fi                  62\n",
       "Mystery                 48\n",
       "Fantasy                 42\n",
       "Romance                 38\n",
       "(no genres listed)      34\n",
       "Musical                 23\n",
       "Western                 23\n",
       "Film-Noir               12\n",
       "War                      4\n",
       "Name: count, dtype: int64"
      ]
     },
     "execution_count": 13,
     "metadata": {},
     "output_type": "execute_result"
    }
   ],
   "source": [
    "movies_df['genres'].value_counts()"
   ]
  },
  {
   "cell_type": "markdown",
   "metadata": {
    "id": "tIpFU5eEKZOk"
   },
   "source": [
    "Dari *output* kode diatas, dapat dilihat bahwa terdapat *outlier* pada `movies_df` yang dimana nantinya akan dihapus."
   ]
  },
  {
   "cell_type": "markdown",
   "metadata": {
    "id": "ZItl6XkoKb4Y"
   },
   "source": [
    "Mengambil panjang baris dan kolom serta nama-nama kolom yang ada di `ratings_df`."
   ]
  },
  {
   "cell_type": "code",
   "execution_count": 14,
   "metadata": {
    "colab": {
     "base_uri": "https://localhost:8080/"
    },
    "execution": {
     "iopub.execute_input": "2025-05-01T10:28:13.406097Z",
     "iopub.status.busy": "2025-05-01T10:28:13.405884Z",
     "iopub.status.idle": "2025-05-01T10:28:13.422803Z",
     "shell.execute_reply": "2025-05-01T10:28:13.422221Z",
     "shell.execute_reply.started": "2025-05-01T10:28:13.406082Z"
    },
    "id": "8WvSM4EEKUm2",
    "outputId": "51ff98ff-3bcc-4844-fa20-0d2d6874e4be",
    "trusted": true
   },
   "outputs": [
    {
     "name": "stdout",
     "output_type": "stream",
     "text": [
      "panjang baris dan kolom ratings_df: (100836, 4)\n",
      "ratings_df kolom: Index(['userId', 'movieId', 'rating', 'timestamp'], dtype='object')\n"
     ]
    }
   ],
   "source": [
    "print('panjang baris dan kolom ratings_df:', ratings_df.shape)\n",
    "print('ratings_df kolom:', ratings_df.keys())"
   ]
  },
  {
   "cell_type": "markdown",
   "metadata": {
    "id": "fMtdXS_TK2k0"
   },
   "source": [
    "Dari hasil *output* kode sebelumnya, dapat diketahui hal-hal berikut:\n",
    "\n",
    "*   Data terdiri atas 100.836 baris dan 4 kolom.\n",
    "*   Empat fitur yang tersedia adalah `userId`, `movieId`, `rating`, dan `timestamp`."
   ]
  },
  {
   "cell_type": "markdown",
   "metadata": {
    "id": "KbMhymDkK_y8"
   },
   "source": [
    "Informasi kolom yang terdapat di ratings_df"
   ]
  },
  {
   "cell_type": "code",
   "execution_count": 15,
   "metadata": {
    "colab": {
     "base_uri": "https://localhost:8080/"
    },
    "execution": {
     "iopub.execute_input": "2025-05-01T10:28:13.424069Z",
     "iopub.status.busy": "2025-05-01T10:28:13.423649Z",
     "iopub.status.idle": "2025-05-01T10:28:13.442639Z",
     "shell.execute_reply": "2025-05-01T10:28:13.441956Z",
     "shell.execute_reply.started": "2025-05-01T10:28:13.424043Z"
    },
    "id": "lpML6UN_KvUY",
    "outputId": "f219603a-e651-4a4a-a88e-c2c0f950f2e3",
    "trusted": true
   },
   "outputs": [
    {
     "name": "stdout",
     "output_type": "stream",
     "text": [
      "<class 'pandas.core.frame.DataFrame'>\n",
      "RangeIndex: 100836 entries, 0 to 100835\n",
      "Data columns (total 4 columns):\n",
      " #   Column     Non-Null Count   Dtype  \n",
      "---  ------     --------------   -----  \n",
      " 0   userId     100836 non-null  int64  \n",
      " 1   movieId    100836 non-null  int64  \n",
      " 2   rating     100836 non-null  float64\n",
      " 3   timestamp  100836 non-null  int64  \n",
      "dtypes: float64(1), int64(3)\n",
      "memory usage: 3.1 MB\n"
     ]
    }
   ],
   "source": [
    "ratings_df.info()"
   ]
  },
  {
   "cell_type": "markdown",
   "metadata": {
    "id": "eHUphIPxLFir"
   },
   "source": [
    "Dari *output* kode sebelumnya, dapat diketahui hal-hal berikut:\n",
    "\n",
    "*   Tiga kolom numerik bertipe *int64* terdapat pada data, yaitu: `userId`, `movieId`, dan `timestamp`.\n",
    "*   Satu kolom lainnya, yaitu `rating`, memiliki tipe data numerik *float64*."
   ]
  },
  {
   "cell_type": "code",
   "execution_count": null,
   "metadata": {
    "colab": {
     "base_uri": "https://localhost:8080/",
     "height": 318
    },
    "execution": {
     "iopub.execute_input": "2025-05-01T10:28:13.443868Z",
     "iopub.status.busy": "2025-05-01T10:28:13.443311Z",
     "iopub.status.idle": "2025-05-01T10:28:13.466521Z",
     "shell.execute_reply": "2025-05-01T10:28:13.465972Z",
     "shell.execute_reply.started": "2025-05-01T10:28:13.443851Z"
    },
    "id": "F3v8DvQcLOqr",
    "outputId": "1750d64d-2b8b-44e8-f2f2-b86ea8cdc7ea",
    "trusted": true
   },
   "outputs": [
    {
     "name": "stdout",
     "output_type": "stream",
     "text": [
      "rating_df statistic information\n"
     ]
    },
    {
     "data": {
      "text/html": [
       "<div>\n",
       "<style scoped>\n",
       "    .dataframe tbody tr th:only-of-type {\n",
       "        vertical-align: middle;\n",
       "    }\n",
       "\n",
       "    .dataframe tbody tr th {\n",
       "        vertical-align: top;\n",
       "    }\n",
       "\n",
       "    .dataframe thead th {\n",
       "        text-align: right;\n",
       "    }\n",
       "</style>\n",
       "<table border=\"1\" class=\"dataframe\">\n",
       "  <thead>\n",
       "    <tr style=\"text-align: right;\">\n",
       "      <th></th>\n",
       "      <th>userId</th>\n",
       "      <th>movieId</th>\n",
       "      <th>rating</th>\n",
       "      <th>timestamp</th>\n",
       "    </tr>\n",
       "  </thead>\n",
       "  <tbody>\n",
       "    <tr>\n",
       "      <th>count</th>\n",
       "      <td>100836.000000</td>\n",
       "      <td>100836.000000</td>\n",
       "      <td>100836.000000</td>\n",
       "      <td>1.008360e+05</td>\n",
       "    </tr>\n",
       "    <tr>\n",
       "      <th>mean</th>\n",
       "      <td>326.127564</td>\n",
       "      <td>19435.295718</td>\n",
       "      <td>3.501557</td>\n",
       "      <td>1.205946e+09</td>\n",
       "    </tr>\n",
       "    <tr>\n",
       "      <th>std</th>\n",
       "      <td>182.618491</td>\n",
       "      <td>35530.987199</td>\n",
       "      <td>1.042529</td>\n",
       "      <td>2.162610e+08</td>\n",
       "    </tr>\n",
       "    <tr>\n",
       "      <th>min</th>\n",
       "      <td>1.000000</td>\n",
       "      <td>1.000000</td>\n",
       "      <td>0.500000</td>\n",
       "      <td>8.281246e+08</td>\n",
       "    </tr>\n",
       "    <tr>\n",
       "      <th>25%</th>\n",
       "      <td>177.000000</td>\n",
       "      <td>1199.000000</td>\n",
       "      <td>3.000000</td>\n",
       "      <td>1.019124e+09</td>\n",
       "    </tr>\n",
       "    <tr>\n",
       "      <th>50%</th>\n",
       "      <td>325.000000</td>\n",
       "      <td>2991.000000</td>\n",
       "      <td>3.500000</td>\n",
       "      <td>1.186087e+09</td>\n",
       "    </tr>\n",
       "    <tr>\n",
       "      <th>75%</th>\n",
       "      <td>477.000000</td>\n",
       "      <td>8122.000000</td>\n",
       "      <td>4.000000</td>\n",
       "      <td>1.435994e+09</td>\n",
       "    </tr>\n",
       "    <tr>\n",
       "      <th>max</th>\n",
       "      <td>610.000000</td>\n",
       "      <td>193609.000000</td>\n",
       "      <td>5.000000</td>\n",
       "      <td>1.537799e+09</td>\n",
       "    </tr>\n",
       "  </tbody>\n",
       "</table>\n",
       "</div>"
      ],
      "text/plain": [
       "              userId        movieId         rating     timestamp\n",
       "count  100836.000000  100836.000000  100836.000000  1.008360e+05\n",
       "mean      326.127564   19435.295718       3.501557  1.205946e+09\n",
       "std       182.618491   35530.987199       1.042529  2.162610e+08\n",
       "min         1.000000       1.000000       0.500000  8.281246e+08\n",
       "25%       177.000000    1199.000000       3.000000  1.019124e+09\n",
       "50%       325.000000    2991.000000       3.500000  1.186087e+09\n",
       "75%       477.000000    8122.000000       4.000000  1.435994e+09\n",
       "max       610.000000  193609.000000       5.000000  1.537799e+09"
      ]
     },
     "execution_count": 16,
     "metadata": {},
     "output_type": "execute_result"
    }
   ],
   "source": [
    "print('ratings_df statistic information')\n",
    "ratings_df.describe()"
   ]
  },
  {
   "cell_type": "markdown",
   "metadata": {
    "id": "ZgY1Io-WL1ZQ"
   },
   "source": [
    "Fungsi describe() menyajikan ringkasan statistik untuk setiap kolom dalam data, di antaranya:\n",
    "\n",
    "*   **Count** menunjukkan banyaknya data pada setiap kolom.\n",
    "*   **Mean** merupakan rata-rata dari nilai-nilai pada kolom tersebut.\n",
    "*   **Std** adalah nilai standar deviasi yang menggambarkan sebaran data.\n",
    "*   **Min** menunjukkan nilai terkecil pada kolom.\n",
    "*   **25%** adalah nilai kuartil pertama, yaitu batas bawah dari 25% data terendah.\n",
    "*   **50%** merupakan kuartil kedua atau median, yaitu nilai tengah dari data.\n",
    "*   **75%** adalah kuartil ketiga, batas atas dari 75% data terendah.\n",
    "*   **Max** menunjukkan nilai terbesar pada kolom."
   ]
  },
  {
   "cell_type": "code",
   "execution_count": 17,
   "metadata": {
    "colab": {
     "base_uri": "https://localhost:8080/",
     "height": 363
    },
    "execution": {
     "iopub.execute_input": "2025-05-01T10:28:13.467631Z",
     "iopub.status.busy": "2025-05-01T10:28:13.467363Z",
     "iopub.status.idle": "2025-05-01T10:28:13.474620Z",
     "shell.execute_reply": "2025-05-01T10:28:13.474015Z",
     "shell.execute_reply.started": "2025-05-01T10:28:13.467609Z"
    },
    "id": "j6ByOTULLxda",
    "outputId": "ac77140b-0d96-48b1-dde6-d0c7a06248ec",
    "trusted": true
   },
   "outputs": [
    {
     "data": {
      "text/html": [
       "<div>\n",
       "<style scoped>\n",
       "    .dataframe tbody tr th:only-of-type {\n",
       "        vertical-align: middle;\n",
       "    }\n",
       "\n",
       "    .dataframe tbody tr th {\n",
       "        vertical-align: top;\n",
       "    }\n",
       "\n",
       "    .dataframe thead th {\n",
       "        text-align: right;\n",
       "    }\n",
       "</style>\n",
       "<table border=\"1\" class=\"dataframe\">\n",
       "  <thead>\n",
       "    <tr style=\"text-align: right;\">\n",
       "      <th></th>\n",
       "      <th>userId</th>\n",
       "      <th>movieId</th>\n",
       "      <th>rating</th>\n",
       "      <th>timestamp</th>\n",
       "    </tr>\n",
       "  </thead>\n",
       "  <tbody>\n",
       "    <tr>\n",
       "      <th>0</th>\n",
       "      <td>1</td>\n",
       "      <td>1</td>\n",
       "      <td>4.0</td>\n",
       "      <td>964982703</td>\n",
       "    </tr>\n",
       "    <tr>\n",
       "      <th>1</th>\n",
       "      <td>1</td>\n",
       "      <td>3</td>\n",
       "      <td>4.0</td>\n",
       "      <td>964981247</td>\n",
       "    </tr>\n",
       "    <tr>\n",
       "      <th>2</th>\n",
       "      <td>1</td>\n",
       "      <td>6</td>\n",
       "      <td>4.0</td>\n",
       "      <td>964982224</td>\n",
       "    </tr>\n",
       "    <tr>\n",
       "      <th>3</th>\n",
       "      <td>1</td>\n",
       "      <td>47</td>\n",
       "      <td>5.0</td>\n",
       "      <td>964983815</td>\n",
       "    </tr>\n",
       "    <tr>\n",
       "      <th>4</th>\n",
       "      <td>1</td>\n",
       "      <td>50</td>\n",
       "      <td>5.0</td>\n",
       "      <td>964982931</td>\n",
       "    </tr>\n",
       "    <tr>\n",
       "      <th>5</th>\n",
       "      <td>1</td>\n",
       "      <td>70</td>\n",
       "      <td>3.0</td>\n",
       "      <td>964982400</td>\n",
       "    </tr>\n",
       "    <tr>\n",
       "      <th>6</th>\n",
       "      <td>1</td>\n",
       "      <td>101</td>\n",
       "      <td>5.0</td>\n",
       "      <td>964980868</td>\n",
       "    </tr>\n",
       "    <tr>\n",
       "      <th>7</th>\n",
       "      <td>1</td>\n",
       "      <td>110</td>\n",
       "      <td>4.0</td>\n",
       "      <td>964982176</td>\n",
       "    </tr>\n",
       "    <tr>\n",
       "      <th>8</th>\n",
       "      <td>1</td>\n",
       "      <td>151</td>\n",
       "      <td>5.0</td>\n",
       "      <td>964984041</td>\n",
       "    </tr>\n",
       "    <tr>\n",
       "      <th>9</th>\n",
       "      <td>1</td>\n",
       "      <td>157</td>\n",
       "      <td>5.0</td>\n",
       "      <td>964984100</td>\n",
       "    </tr>\n",
       "  </tbody>\n",
       "</table>\n",
       "</div>"
      ],
      "text/plain": [
       "   userId  movieId  rating  timestamp\n",
       "0       1        1     4.0  964982703\n",
       "1       1        3     4.0  964981247\n",
       "2       1        6     4.0  964982224\n",
       "3       1       47     5.0  964983815\n",
       "4       1       50     5.0  964982931\n",
       "5       1       70     3.0  964982400\n",
       "6       1      101     5.0  964980868\n",
       "7       1      110     4.0  964982176\n",
       "8       1      151     5.0  964984041\n",
       "9       1      157     5.0  964984100"
      ]
     },
     "execution_count": 17,
     "metadata": {},
     "output_type": "execute_result"
    }
   ],
   "source": [
    "ratings_df.head(10)"
   ]
  },
  {
   "cell_type": "markdown",
   "metadata": {
    "id": "de54W1lCL65k"
   },
   "source": [
    "Menampilkan total pengguna unik yang ada pada data ratings_df"
   ]
  },
  {
   "cell_type": "code",
   "execution_count": null,
   "metadata": {
    "colab": {
     "base_uri": "https://localhost:8080/"
    },
    "execution": {
     "iopub.execute_input": "2025-05-01T10:28:13.475362Z",
     "iopub.status.busy": "2025-05-01T10:28:13.475212Z",
     "iopub.status.idle": "2025-05-01T10:28:13.488839Z",
     "shell.execute_reply": "2025-05-01T10:28:13.488269Z",
     "shell.execute_reply.started": "2025-05-01T10:28:13.475351Z"
    },
    "id": "_H3GaXSvL5S6",
    "outputId": "f82a6783-adb6-4cd4-ea04-21a89178e4dd",
    "trusted": true
   },
   "outputs": [
    {
     "name": "stdout",
     "output_type": "stream",
     "text": [
      "Num of unique userId: 610\n"
     ]
    }
   ],
   "source": [
    "print('Num of unique userId:', len(ratings_df['userId'].unique()))"
   ]
  },
  {
   "cell_type": "markdown",
   "metadata": {
    "id": "kpOz6E2cMGAL"
   },
   "source": [
    "Berdasarkan *output* kode diatas, terdapat sebanyak 610 data *user* yang unik pada `ratings_df`."
   ]
  },
  {
   "cell_type": "code",
   "execution_count": 19,
   "metadata": {
    "colab": {
     "base_uri": "https://localhost:8080/"
    },
    "execution": {
     "iopub.execute_input": "2025-05-01T10:28:13.489672Z",
     "iopub.status.busy": "2025-05-01T10:28:13.489449Z",
     "iopub.status.idle": "2025-05-01T10:28:13.502765Z",
     "shell.execute_reply": "2025-05-01T10:28:13.502249Z",
     "shell.execute_reply.started": "2025-05-01T10:28:13.489653Z"
    },
    "id": "cSlroUsTMD5B",
    "outputId": "0bf170cd-7276-4ba7-dedd-00a6fc4a0543",
    "trusted": true
   },
   "outputs": [
    {
     "name": "stdout",
     "output_type": "stream",
     "text": [
      "Num of unique movieId: 9724\n"
     ]
    }
   ],
   "source": [
    "print('Num of unique movieId:', len(ratings_df['movieId'].unique()))"
   ]
  },
  {
   "cell_type": "markdown",
   "metadata": {
    "id": "u2L9GLo1Mo40"
   },
   "source": [
    "Cek missing value pada movies_df"
   ]
  },
  {
   "cell_type": "code",
   "execution_count": 20,
   "metadata": {
    "colab": {
     "base_uri": "https://localhost:8080/",
     "height": 178
    },
    "execution": {
     "iopub.execute_input": "2025-05-01T10:28:13.503626Z",
     "iopub.status.busy": "2025-05-01T10:28:13.503391Z",
     "iopub.status.idle": "2025-05-01T10:28:13.518220Z",
     "shell.execute_reply": "2025-05-01T10:28:13.517635Z",
     "shell.execute_reply.started": "2025-05-01T10:28:13.503612Z"
    },
    "id": "ghd4rfE_Mbym",
    "outputId": "b6df5bce-6bb8-4b60-c563-81c6e34f2add",
    "trusted": true
   },
   "outputs": [
    {
     "data": {
      "text/plain": [
       "movieId    0\n",
       "title      0\n",
       "genres     0\n",
       "dtype: int64"
      ]
     },
     "execution_count": 20,
     "metadata": {},
     "output_type": "execute_result"
    }
   ],
   "source": [
    "missing_value = movies_df.isnull().sum()\n",
    "missing_value"
   ]
  },
  {
   "cell_type": "markdown",
   "metadata": {
    "id": "9655Gz7yMzG9"
   },
   "source": [
    "Berdasarkan *output* kode diatas, tidak terdapat satupun data *null* pada `movies_df`."
   ]
  },
  {
   "cell_type": "markdown",
   "metadata": {
    "id": "BKH4uj-HM05U"
   },
   "source": [
    "Cek missing value pada ratings_df"
   ]
  },
  {
   "cell_type": "code",
   "execution_count": 21,
   "metadata": {
    "colab": {
     "base_uri": "https://localhost:8080/",
     "height": 210
    },
    "execution": {
     "iopub.execute_input": "2025-05-01T10:28:13.519166Z",
     "iopub.status.busy": "2025-05-01T10:28:13.518941Z",
     "iopub.status.idle": "2025-05-01T10:28:13.534959Z",
     "shell.execute_reply": "2025-05-01T10:28:13.534237Z",
     "shell.execute_reply.started": "2025-05-01T10:28:13.519146Z"
    },
    "id": "fcf5cg8QMweU",
    "outputId": "77d47ecf-441d-4496-8141-4a99f5865cbd",
    "trusted": true
   },
   "outputs": [
    {
     "data": {
      "text/plain": [
       "userId       0\n",
       "movieId      0\n",
       "rating       0\n",
       "timestamp    0\n",
       "dtype: int64"
      ]
     },
     "execution_count": 21,
     "metadata": {},
     "output_type": "execute_result"
    }
   ],
   "source": [
    "missing_value = ratings_df.isnull().sum()\n",
    "missing_value"
   ]
  },
  {
   "cell_type": "markdown",
   "metadata": {
    "id": "lAJrbS9-NAus"
   },
   "source": [
    "Berdasarkan *output* kode diatas, tidak terdapat satupun data *null* pada `ratings_df`."
   ]
  },
  {
   "cell_type": "markdown",
   "metadata": {
    "id": "xoGq73-yNEok"
   },
   "source": [
    "### Cek Duplikat Data"
   ]
  },
  {
   "cell_type": "code",
   "execution_count": 22,
   "metadata": {
    "colab": {
     "base_uri": "https://localhost:8080/"
    },
    "execution": {
     "iopub.execute_input": "2025-05-01T10:28:13.536182Z",
     "iopub.status.busy": "2025-05-01T10:28:13.535973Z",
     "iopub.status.idle": "2025-05-01T10:28:13.554801Z",
     "shell.execute_reply": "2025-05-01T10:28:13.554187Z",
     "shell.execute_reply.started": "2025-05-01T10:28:13.536160Z"
    },
    "id": "dwMc1zNQM-TK",
    "outputId": "faf3b073-a3a4-4535-c6f2-7d3605a20693",
    "trusted": true
   },
   "outputs": [
    {
     "name": "stdout",
     "output_type": "stream",
     "text": [
      "False\n",
      "Empty DataFrame\n",
      "Columns: [movieId, title, genres]\n",
      "Index: []\n"
     ]
    }
   ],
   "source": [
    "print(movies_df.duplicated().any())\n",
    "print(movies_df[movies_df.duplicated()])"
   ]
  },
  {
   "cell_type": "markdown",
   "metadata": {
    "id": "EU-cNlsGNOm8"
   },
   "source": [
    "Tidak terdapat satupun data duplikat pada `movies_df`."
   ]
  },
  {
   "cell_type": "code",
   "execution_count": 23,
   "metadata": {
    "colab": {
     "base_uri": "https://localhost:8080/"
    },
    "execution": {
     "iopub.execute_input": "2025-05-01T10:28:13.555836Z",
     "iopub.status.busy": "2025-05-01T10:28:13.555604Z",
     "iopub.status.idle": "2025-05-01T10:28:13.581072Z",
     "shell.execute_reply": "2025-05-01T10:28:13.580556Z",
     "shell.execute_reply.started": "2025-05-01T10:28:13.555816Z"
    },
    "id": "lZOeFjkyNMYj",
    "outputId": "5438f1dc-4096-4ce0-d3d9-ac77fc4663ca",
    "trusted": true
   },
   "outputs": [
    {
     "name": "stdout",
     "output_type": "stream",
     "text": [
      "False\n",
      "Empty DataFrame\n",
      "Columns: [userId, movieId, rating, timestamp]\n",
      "Index: []\n"
     ]
    }
   ],
   "source": [
    "print(ratings_df.duplicated().any())\n",
    "print(ratings_df[ratings_df.duplicated()])"
   ]
  },
  {
   "cell_type": "code",
   "execution_count": 24,
   "metadata": {
    "colab": {
     "base_uri": "https://localhost:8080/"
    },
    "execution": {
     "iopub.execute_input": "2025-05-01T10:28:13.581887Z",
     "iopub.status.busy": "2025-05-01T10:28:13.581693Z",
     "iopub.status.idle": "2025-05-01T10:28:13.589743Z",
     "shell.execute_reply": "2025-05-01T10:28:13.589099Z",
     "shell.execute_reply.started": "2025-05-01T10:28:13.581873Z"
    },
    "id": "cp4ERqpANbJQ",
    "outputId": "d1def9fe-67ef-4263-a9c3-8e43318646b6",
    "trusted": true
   },
   "outputs": [
    {
     "name": "stdout",
     "output_type": "stream",
     "text": [
      "False\n",
      "Empty DataFrame\n",
      "Columns: [movieId, title, genres]\n",
      "Index: []\n"
     ]
    }
   ],
   "source": [
    "print(movies_df.isna().any().any())\n",
    "print(movies_df[movies_df.isna().any(axis=1)])"
   ]
  },
  {
   "cell_type": "markdown",
   "metadata": {
    "id": "b6t5fK17OBDp"
   },
   "source": [
    "Berdasarkan *output* kode diatas, tidak terdapat satupun data NaN pada `movies_df`."
   ]
  },
  {
   "cell_type": "markdown",
   "metadata": {
    "id": "doKJBJ1POJFQ"
   },
   "source": [
    "## *Data Visualization*"
   ]
  },
  {
   "cell_type": "markdown",
   "metadata": {
    "id": "5M-fqE5jOLUY"
   },
   "source": [
    "#### *Univariate Analysis*\n",
    "> *Univariate analysis* adalah teknik analisis yang difokuskan pada satu variabel (*feature*) saja dalam satu waktu. Tujuan dari analisis ini adalah untuk memahami distribusi, karakteristik, dan pola yang ada pada variabel tersebut."
   ]
  },
  {
   "cell_type": "markdown",
   "metadata": {
    "id": "poc4-UqMOQDp"
   },
   "source": [
    "Mendefinisikan fungsi untuk menghitung total dan persentase data dari setiap kategori."
   ]
  },
  {
   "cell_type": "code",
   "execution_count": 25,
   "metadata": {
    "execution": {
     "iopub.execute_input": "2025-05-01T10:28:13.590672Z",
     "iopub.status.busy": "2025-05-01T10:28:13.590384Z",
     "iopub.status.idle": "2025-05-01T10:28:13.604060Z",
     "shell.execute_reply": "2025-05-01T10:28:13.603564Z",
     "shell.execute_reply.started": "2025-05-01T10:28:13.590650Z"
    },
    "id": "CBwKpUUwN_V1",
    "trusted": true
   },
   "outputs": [],
   "source": [
    "def CountAndPlot(df, feature):\n",
    "  count = df[feature].value_counts()\n",
    "  percent = 100*df[feature].value_counts(normalize=True)\n",
    "  samples = pd.DataFrame({'Sample Count':count, 'Percentage':percent.round(1)})\n",
    "  print(samples)\n",
    "  count.plot(kind='bar', title=feature)"
   ]
  },
  {
   "cell_type": "code",
   "execution_count": 26,
   "metadata": {
    "colab": {
     "base_uri": "https://localhost:8080/",
     "height": 945
    },
    "execution": {
     "iopub.execute_input": "2025-05-01T10:28:13.605127Z",
     "iopub.status.busy": "2025-05-01T10:28:13.604901Z",
     "iopub.status.idle": "2025-05-01T10:28:13.987670Z",
     "shell.execute_reply": "2025-05-01T10:28:13.986939Z",
     "shell.execute_reply.started": "2025-05-01T10:28:13.605103Z"
    },
    "id": "mphvAUFpOUA9",
    "outputId": "05597c3a-70ca-4e0b-80c4-027ddf9e0629",
    "trusted": true
   },
   "outputs": [
    {
     "name": "stdout",
     "output_type": "stream",
     "text": [
      "                    Sample Count  Percentage\n",
      "genres                                      \n",
      "Comedy                      2779        28.5\n",
      "Drama                       2226        22.8\n",
      "Action                      1828        18.8\n",
      "Adventure                    653         6.7\n",
      "Crime                        537         5.5\n",
      "Horror                       468         4.8\n",
      "Documentary                  386         4.0\n",
      "Animation                    298         3.1\n",
      "Children                     197         2.0\n",
      "Thriller                      84         0.9\n",
      "Sci-Fi                        62         0.6\n",
      "Mystery                       48         0.5\n",
      "Fantasy                       42         0.4\n",
      "Romance                       38         0.4\n",
      "(no genres listed)            34         0.3\n",
      "Musical                       23         0.2\n",
      "Western                       23         0.2\n",
      "Film-Noir                     12         0.1\n",
      "War                            4         0.0\n"
     ]
    },
    {
     "data": {
      "image/png": "[encoded data removed]",
      "text/plain": [
       "<Figure size 640x480 with 1 Axes>"
      ]
     },
     "metadata": {},
     "output_type": "display_data"
    }
   ],
   "source": [
    "CountAndPlot(movies_df, 'genres')"
   ]
  },
  {
   "cell_type": "markdown",
   "metadata": {
    "id": "2ySSe2fmOZyO"
   },
   "source": [
    "Dari visualisasi grafik tersebut, terlihat bahwa genre `drama` memiliki jumlah terbanyak dalam dataset `movies_df`, diikuti oleh genre `comedy` dan `action` yang menempati posisi kedua dan ketiga."
   ]
  },
  {
   "cell_type": "code",
   "execution_count": 27,
   "metadata": {
    "colab": {
     "base_uri": "https://localhost:8080/",
     "height": 688
    },
    "execution": {
     "iopub.execute_input": "2025-05-01T10:28:13.988634Z",
     "iopub.status.busy": "2025-05-01T10:28:13.988374Z",
     "iopub.status.idle": "2025-05-01T10:28:14.161142Z",
     "shell.execute_reply": "2025-05-01T10:28:14.160570Z",
     "shell.execute_reply.started": "2025-05-01T10:28:13.988610Z"
    },
    "id": "EdunX23WOWph",
    "outputId": "597271cc-976a-4293-a282-05d58d5cfb66",
    "trusted": true
   },
   "outputs": [
    {
     "name": "stdout",
     "output_type": "stream",
     "text": [
      "        Sample Count  Percentage\n",
      "rating                          \n",
      "4.0            26818        26.6\n",
      "3.0            20047        19.9\n",
      "5.0            13211        13.1\n",
      "3.5            13136        13.0\n",
      "4.5             8551         8.5\n",
      "2.0             7551         7.5\n",
      "2.5             5550         5.5\n",
      "1.0             2811         2.8\n",
      "1.5             1791         1.8\n",
      "0.5             1370         1.4\n"
     ]
    },
    {
     "data": {
      "image/png": "[encoded data removed]",
      "text/plain": [
       "<Figure size 640x480 with 1 Axes>"
      ]
     },
     "metadata": {},
     "output_type": "display_data"
    }
   ],
   "source": [
    "CountAndPlot(ratings_df, 'rating')"
   ]
  },
  {
   "cell_type": "markdown",
   "metadata": {
    "id": "5ECoZaCPOpvw"
   },
   "source": [
    "Berdasarkan grafik yang dihasilkan, dapat diamati bahwa mayoritas *user* cenderung memberikan rating `4.0` pada film yang mereka tonton. Hal ini menunjukkan adanya kecenderungan pengguna untuk memberikan penilaian yang cukup tinggi terhadap film, yang dapat mempengaruhi distribusi data rating secara keseluruhan. Pola ini penting untuk diperhatikan karena dapat berdampak pada proses pelatihan model rekomendasi, terutama dalam mengidentifikasi preferensi pengguna secara lebih akurat."
   ]
  },
  {
   "cell_type": "markdown",
   "metadata": {
    "id": "adKCr-atOrLP"
   },
   "source": [
    "## Data Preparation"
   ]
  },
  {
   "cell_type": "markdown",
   "metadata": {
    "id": "4JQNy3c6OtWP"
   },
   "source": [
    "#### *Data Cleaning*\n",
    "\n",
    "> **Penjelasan**: *Data cleaning* adalah tahap krusial dalam pengembangan sistem rekomendasi. Pada tahap ini, data yang tidak relevan, tidak lengkap, atau tidak konsisten diidentifikasi dan dibersihkan, sehingga dataset menjadi siap untuk dianalisis dan digunakan dalam proses pelatihan model."
   ]
  },
  {
   "cell_type": "markdown",
   "metadata": {
    "id": "LpAxQYwvOzKI"
   },
   "source": [
    "##### *Removal Duplicates and NaN Data*\n",
    "\n",
    "Tahap awal dalam proses *data cleaning* melibatkan penghapusan baris yang duplikat serta nilai kosong (*NaN*) yang dapat mempengaruhi akurasi dan kinerja model. Tindakan ini bertujuan untuk menjamin bahwa setiap data pada dataset bersifat unik dan konsisten."
   ]
  },
  {
   "cell_type": "markdown",
   "metadata": {
    "id": "87hFWYEoO1UI"
   },
   "source": [
    "Membersihkan `movies_df` dan `ratings_df` dari data yang duplikat dan data yang memiliki *value* `NaN`. Kemudian memasukkan hasil dari kedua proses tersebut ke `clean_movies_df` dan `clean_ratings_df`."
   ]
  },
  {
   "cell_type": "code",
   "execution_count": 28,
   "metadata": {
    "execution": {
     "iopub.execute_input": "2025-05-01T10:28:14.161999Z",
     "iopub.status.busy": "2025-05-01T10:28:14.161782Z",
     "iopub.status.idle": "2025-05-01T10:28:14.185048Z",
     "shell.execute_reply": "2025-05-01T10:28:14.184592Z",
     "shell.execute_reply.started": "2025-05-01T10:28:14.161982Z"
    },
    "id": "bmF4ISHsOmvi",
    "trusted": true
   },
   "outputs": [],
   "source": [
    "clean_movies_df = movies_df.drop_duplicates().dropna()\n",
    "clean_ratings_df = ratings_df.drop_duplicates().dropna()"
   ]
  },
  {
   "cell_type": "code",
   "execution_count": 29,
   "metadata": {
    "colab": {
     "base_uri": "https://localhost:8080/",
     "height": 206
    },
    "execution": {
     "iopub.execute_input": "2025-05-01T10:28:14.185901Z",
     "iopub.status.busy": "2025-05-01T10:28:14.185739Z",
     "iopub.status.idle": "2025-05-01T10:28:14.192877Z",
     "shell.execute_reply": "2025-05-01T10:28:14.192236Z",
     "shell.execute_reply.started": "2025-05-01T10:28:14.185887Z"
    },
    "id": "tXqKKUhaPOpd",
    "outputId": "1e13581e-1620-44bb-97f6-b50f78f13906",
    "trusted": true
   },
   "outputs": [
    {
     "data": {
      "text/html": [
       "<div>\n",
       "<style scoped>\n",
       "    .dataframe tbody tr th:only-of-type {\n",
       "        vertical-align: middle;\n",
       "    }\n",
       "\n",
       "    .dataframe tbody tr th {\n",
       "        vertical-align: top;\n",
       "    }\n",
       "\n",
       "    .dataframe thead th {\n",
       "        text-align: right;\n",
       "    }\n",
       "</style>\n",
       "<table border=\"1\" class=\"dataframe\">\n",
       "  <thead>\n",
       "    <tr style=\"text-align: right;\">\n",
       "      <th></th>\n",
       "      <th>movieId</th>\n",
       "      <th>title</th>\n",
       "      <th>genres</th>\n",
       "    </tr>\n",
       "  </thead>\n",
       "  <tbody>\n",
       "    <tr>\n",
       "      <th>0</th>\n",
       "      <td>1</td>\n",
       "      <td>Toy Story (1995)</td>\n",
       "      <td>Adventure</td>\n",
       "    </tr>\n",
       "    <tr>\n",
       "      <th>1</th>\n",
       "      <td>2</td>\n",
       "      <td>Jumanji (1995)</td>\n",
       "      <td>Adventure</td>\n",
       "    </tr>\n",
       "    <tr>\n",
       "      <th>2</th>\n",
       "      <td>3</td>\n",
       "      <td>Grumpier Old Men (1995)</td>\n",
       "      <td>Comedy</td>\n",
       "    </tr>\n",
       "    <tr>\n",
       "      <th>3</th>\n",
       "      <td>4</td>\n",
       "      <td>Waiting to Exhale (1995)</td>\n",
       "      <td>Comedy</td>\n",
       "    </tr>\n",
       "    <tr>\n",
       "      <th>4</th>\n",
       "      <td>5</td>\n",
       "      <td>Father of the Bride Part II (1995)</td>\n",
       "      <td>Comedy</td>\n",
       "    </tr>\n",
       "  </tbody>\n",
       "</table>\n",
       "</div>"
      ],
      "text/plain": [
       "   movieId                               title     genres\n",
       "0        1                    Toy Story (1995)  Adventure\n",
       "1        2                      Jumanji (1995)  Adventure\n",
       "2        3             Grumpier Old Men (1995)     Comedy\n",
       "3        4            Waiting to Exhale (1995)     Comedy\n",
       "4        5  Father of the Bride Part II (1995)     Comedy"
      ]
     },
     "execution_count": 29,
     "metadata": {},
     "output_type": "execute_result"
    }
   ],
   "source": [
    "clean_movies_df.head()"
   ]
  },
  {
   "cell_type": "code",
   "execution_count": 30,
   "metadata": {
    "colab": {
     "base_uri": "https://localhost:8080/",
     "height": 206
    },
    "execution": {
     "iopub.execute_input": "2025-05-01T10:28:14.193890Z",
     "iopub.status.busy": "2025-05-01T10:28:14.193635Z",
     "iopub.status.idle": "2025-05-01T10:28:14.209529Z",
     "shell.execute_reply": "2025-05-01T10:28:14.208892Z",
     "shell.execute_reply.started": "2025-05-01T10:28:14.193867Z"
    },
    "id": "V-N20eKpPcrl",
    "outputId": "28243f46-4702-4706-93b5-a2a37488230d",
    "trusted": true
   },
   "outputs": [
    {
     "data": {
      "text/html": [
       "<div>\n",
       "<style scoped>\n",
       "    .dataframe tbody tr th:only-of-type {\n",
       "        vertical-align: middle;\n",
       "    }\n",
       "\n",
       "    .dataframe tbody tr th {\n",
       "        vertical-align: top;\n",
       "    }\n",
       "\n",
       "    .dataframe thead th {\n",
       "        text-align: right;\n",
       "    }\n",
       "</style>\n",
       "<table border=\"1\" class=\"dataframe\">\n",
       "  <thead>\n",
       "    <tr style=\"text-align: right;\">\n",
       "      <th></th>\n",
       "      <th>userId</th>\n",
       "      <th>movieId</th>\n",
       "      <th>rating</th>\n",
       "      <th>timestamp</th>\n",
       "    </tr>\n",
       "  </thead>\n",
       "  <tbody>\n",
       "    <tr>\n",
       "      <th>0</th>\n",
       "      <td>1</td>\n",
       "      <td>1</td>\n",
       "      <td>4.0</td>\n",
       "      <td>964982703</td>\n",
       "    </tr>\n",
       "    <tr>\n",
       "      <th>1</th>\n",
       "      <td>1</td>\n",
       "      <td>3</td>\n",
       "      <td>4.0</td>\n",
       "      <td>964981247</td>\n",
       "    </tr>\n",
       "    <tr>\n",
       "      <th>2</th>\n",
       "      <td>1</td>\n",
       "      <td>6</td>\n",
       "      <td>4.0</td>\n",
       "      <td>964982224</td>\n",
       "    </tr>\n",
       "    <tr>\n",
       "      <th>3</th>\n",
       "      <td>1</td>\n",
       "      <td>47</td>\n",
       "      <td>5.0</td>\n",
       "      <td>964983815</td>\n",
       "    </tr>\n",
       "    <tr>\n",
       "      <th>4</th>\n",
       "      <td>1</td>\n",
       "      <td>50</td>\n",
       "      <td>5.0</td>\n",
       "      <td>964982931</td>\n",
       "    </tr>\n",
       "  </tbody>\n",
       "</table>\n",
       "</div>"
      ],
      "text/plain": [
       "   userId  movieId  rating  timestamp\n",
       "0       1        1     4.0  964982703\n",
       "1       1        3     4.0  964981247\n",
       "2       1        6     4.0  964982224\n",
       "3       1       47     5.0  964983815\n",
       "4       1       50     5.0  964982931"
      ]
     },
     "execution_count": 30,
     "metadata": {},
     "output_type": "execute_result"
    }
   ],
   "source": [
    "clean_ratings_df.head()"
   ]
  },
  {
   "cell_type": "markdown",
   "metadata": {
    "id": "LQrQv8UtPjyv"
   },
   "source": [
    "##### *Removal Irrelevant Columns*\n",
    "\n",
    "> **Penjelasan**: Tahapan ini bertujuan untuk menghilangkan data yang tidak dibutuhkan dan tidak berkontribusi pada proyek.\n",
    "\n",
    "> **Alasan**: Langkah ini dilakukan agar dataset hanya berisi data yang relevan, sehingga proses analisis menjadi lebih efektif. Selain itu, perlu dipastikan bahwa setiap `movieId` pada `ratings_df` juga terdapat di `movies_df`, agar data tetap konsisten saat diproses pada tahap berikutnya."
   ]
  },
  {
   "cell_type": "markdown",
   "metadata": {
    "id": "9g5j0JABPm0U"
   },
   "source": [
    "Berdasarkan hasil visualisasi pada tahap *data understanding*, ditemukan bahwa pada `movies_df` terdapat genre `(no genres listed)` yang sebaiknya dihapus karena tidak relevan untuk pengembangan model. Selain itu, kolom `timestamp` pada `ratings_df` juga tidak dibutuhkan dalam proses pengembangan model sehingga perlu dihilangkan."
   ]
  },
  {
   "cell_type": "markdown",
   "metadata": {
    "id": "0G7SVCHLPp60"
   },
   "source": [
    "Genre film '(no genres listed)' yang dianggap tidak relevan dihapus dari `clean_movies_df` untuk memastikan hanya data yang sesuai yang digunakan dalam analisis."
   ]
  },
  {
   "cell_type": "code",
   "execution_count": 31,
   "metadata": {
    "colab": {
     "base_uri": "https://localhost:8080/",
     "height": 680
    },
    "execution": {
     "iopub.execute_input": "2025-05-01T10:28:14.214078Z",
     "iopub.status.busy": "2025-05-01T10:28:14.213878Z",
     "iopub.status.idle": "2025-05-01T10:28:14.228649Z",
     "shell.execute_reply": "2025-05-01T10:28:14.228002Z",
     "shell.execute_reply.started": "2025-05-01T10:28:14.214062Z"
    },
    "id": "_Rx5VO0yPfgN",
    "outputId": "65a68523-95a7-459c-ff4a-cb106bff01d1",
    "trusted": true
   },
   "outputs": [
    {
     "data": {
      "text/plain": [
       "genres\n",
       "Comedy         2779\n",
       "Drama          2226\n",
       "Action         1828\n",
       "Adventure       653\n",
       "Crime           537\n",
       "Horror          468\n",
       "Documentary     386\n",
       "Animation       298\n",
       "Children        197\n",
       "Thriller         84\n",
       "Sci-Fi           62\n",
       "Mystery          48\n",
       "Fantasy          42\n",
       "Romance          38\n",
       "Musical          23\n",
       "Western          23\n",
       "Film-Noir        12\n",
       "War               4\n",
       "Name: count, dtype: int64"
      ]
     },
     "execution_count": 31,
     "metadata": {},
     "output_type": "execute_result"
    }
   ],
   "source": [
    "clean_movies_df = clean_movies_df[clean_movies_df['genres'] != '(no genres listed)']\n",
    "clean_movies_df['genres'].value_counts()"
   ]
  },
  {
   "cell_type": "markdown",
   "metadata": {
    "id": "7x4WXjH5QA_h"
   },
   "source": [
    "Selanjutnya, kolom `timestamp` pada `clean_ratings_df` dihapus karena tidak dibutuhkan dalam proses pengembangan model."
   ]
  },
  {
   "cell_type": "code",
   "execution_count": 32,
   "metadata": {
    "colab": {
     "base_uri": "https://localhost:8080/",
     "height": 206
    },
    "execution": {
     "iopub.execute_input": "2025-05-01T10:28:14.229405Z",
     "iopub.status.busy": "2025-05-01T10:28:14.229249Z",
     "iopub.status.idle": "2025-05-01T10:28:14.244905Z",
     "shell.execute_reply": "2025-05-01T10:28:14.244007Z",
     "shell.execute_reply.started": "2025-05-01T10:28:14.229392Z"
    },
    "id": "eMk7KHS7P9z7",
    "outputId": "91ffc6b4-1cb9-4d2a-9f76-69e12a03cf27",
    "trusted": true
   },
   "outputs": [
    {
     "data": {
      "text/html": [
       "<div>\n",
       "<style scoped>\n",
       "    .dataframe tbody tr th:only-of-type {\n",
       "        vertical-align: middle;\n",
       "    }\n",
       "\n",
       "    .dataframe tbody tr th {\n",
       "        vertical-align: top;\n",
       "    }\n",
       "\n",
       "    .dataframe thead th {\n",
       "        text-align: right;\n",
       "    }\n",
       "</style>\n",
       "<table border=\"1\" class=\"dataframe\">\n",
       "  <thead>\n",
       "    <tr style=\"text-align: right;\">\n",
       "      <th></th>\n",
       "      <th>userId</th>\n",
       "      <th>movieId</th>\n",
       "      <th>rating</th>\n",
       "    </tr>\n",
       "  </thead>\n",
       "  <tbody>\n",
       "    <tr>\n",
       "      <th>0</th>\n",
       "      <td>1</td>\n",
       "      <td>1</td>\n",
       "      <td>4.0</td>\n",
       "    </tr>\n",
       "    <tr>\n",
       "      <th>1</th>\n",
       "      <td>1</td>\n",
       "      <td>3</td>\n",
       "      <td>4.0</td>\n",
       "    </tr>\n",
       "    <tr>\n",
       "      <th>2</th>\n",
       "      <td>1</td>\n",
       "      <td>6</td>\n",
       "      <td>4.0</td>\n",
       "    </tr>\n",
       "    <tr>\n",
       "      <th>3</th>\n",
       "      <td>1</td>\n",
       "      <td>47</td>\n",
       "      <td>5.0</td>\n",
       "    </tr>\n",
       "    <tr>\n",
       "      <th>4</th>\n",
       "      <td>1</td>\n",
       "      <td>50</td>\n",
       "      <td>5.0</td>\n",
       "    </tr>\n",
       "  </tbody>\n",
       "</table>\n",
       "</div>"
      ],
      "text/plain": [
       "   userId  movieId  rating\n",
       "0       1        1     4.0\n",
       "1       1        3     4.0\n",
       "2       1        6     4.0\n",
       "3       1       47     5.0\n",
       "4       1       50     5.0"
      ]
     },
     "execution_count": 32,
     "metadata": {},
     "output_type": "execute_result"
    }
   ],
   "source": [
    "clean_ratings_df = clean_ratings_df.drop('timestamp', axis=1)\n",
    "clean_ratings_df.head()"
   ]
  },
  {
   "cell_type": "markdown",
   "metadata": {
    "id": "2RJ8PYxxQcFp"
   },
   "source": [
    "Kemudian selanjutnya memastikan bahwa `movieId` yang ada di `ratings_df` terdaftar pada `movies_df` juga agar sesuai ketika data diproses pada tahap-tahap selanjutnya."
   ]
  },
  {
   "cell_type": "code",
   "execution_count": 33,
   "metadata": {
    "colab": {
     "base_uri": "https://localhost:8080/"
    },
    "execution": {
     "iopub.execute_input": "2025-05-01T10:28:14.246389Z",
     "iopub.status.busy": "2025-05-01T10:28:14.245885Z",
     "iopub.status.idle": "2025-05-01T10:28:14.257242Z",
     "shell.execute_reply": "2025-05-01T10:28:14.256399Z",
     "shell.execute_reply.started": "2025-05-01T10:28:14.246373Z"
    },
    "id": "UyR6BsAMQZ_9",
    "outputId": "c0ec970c-0caa-45a5-82a0-d2521f9fdc41",
    "trusted": true
   },
   "outputs": [
    {
     "name": "stdout",
     "output_type": "stream",
     "text": [
      "Total:  9724\n"
     ]
    },
    {
     "data": {
      "text/plain": [
       "array([     1,      3,      6, ..., 160836, 163937, 163981])"
      ]
     },
     "execution_count": 33,
     "metadata": {},
     "output_type": "execute_result"
    }
   ],
   "source": [
    "moviesIds = clean_ratings_df['movieId'].unique()\n",
    "print('Total: ', len(moviesIds))\n",
    "moviesIds"
   ]
  },
  {
   "cell_type": "code",
   "execution_count": 34,
   "metadata": {
    "colab": {
     "base_uri": "https://localhost:8080/"
    },
    "execution": {
     "iopub.execute_input": "2025-05-01T10:28:14.258448Z",
     "iopub.status.busy": "2025-05-01T10:28:14.258205Z",
     "iopub.status.idle": "2025-05-01T10:28:14.270495Z",
     "shell.execute_reply": "2025-05-01T10:28:14.269927Z",
     "shell.execute_reply.started": "2025-05-01T10:28:14.258417Z"
    },
    "id": "c7ijaowEQ6PP",
    "outputId": "0f8bca35-bda9-4a4e-d35b-01789c1c39a7",
    "trusted": true
   },
   "outputs": [
    {
     "data": {
      "text/plain": [
       "100836"
      ]
     },
     "execution_count": 34,
     "metadata": {},
     "output_type": "execute_result"
    }
   ],
   "source": [
    "len(clean_ratings_df)"
   ]
  },
  {
   "cell_type": "code",
   "execution_count": 35,
   "metadata": {
    "colab": {
     "base_uri": "https://localhost:8080/"
    },
    "execution": {
     "iopub.execute_input": "2025-05-01T10:28:14.271297Z",
     "iopub.status.busy": "2025-05-01T10:28:14.271077Z",
     "iopub.status.idle": "2025-05-01T10:28:14.288273Z",
     "shell.execute_reply": "2025-05-01T10:28:14.287713Z",
     "shell.execute_reply.started": "2025-05-01T10:28:14.271278Z"
    },
    "id": "3_7ZSObFQ8AB",
    "outputId": "588374a8-17ae-40f2-cc73-a4f284ec0af3",
    "trusted": true
   },
   "outputs": [
    {
     "data": {
      "text/plain": [
       "100836"
      ]
     },
     "execution_count": 35,
     "metadata": {},
     "output_type": "execute_result"
    }
   ],
   "source": [
    "clean_ratings_df = clean_ratings_df[clean_ratings_df['movieId'].isin(moviesIds)]\n",
    "len(clean_ratings_df)"
   ]
  },
  {
   "cell_type": "markdown",
   "metadata": {
    "id": "IWNxRrKXRQCD"
   },
   "source": [
    "##### *Handle Imbalance Data*\n",
    "\n",
    "> **Penjelasan**: Memeriksa dan menghapus data untuk mengatasi masalah ketidakseimbangan\n",
    "\n",
    "> **Alasan**: Proses ini diperlukan untuk membersihkan data dari data yang terlalu sedikit jumlahnya dan tidak seimbang terhadap jumlah data lainnya"
   ]
  },
  {
   "cell_type": "code",
   "execution_count": null,
   "metadata": {
    "colab": {
     "base_uri": "https://localhost:8080/"
    },
    "execution": {
     "iopub.execute_input": "2025-05-01T10:28:14.289212Z",
     "iopub.status.busy": "2025-05-01T10:28:14.288977Z",
     "iopub.status.idle": "2025-05-01T10:28:14.305821Z",
     "shell.execute_reply": "2025-05-01T10:28:14.305252Z",
     "shell.execute_reply.started": "2025-05-01T10:28:14.289196Z"
    },
    "id": "im2pCb5uRM4q",
    "outputId": "888a9aea-6ba2-4120-92ff-19bf2d9cf8d0",
    "trusted": true
   },
   "outputs": [
    {
     "name": "stdout",
     "output_type": "stream",
     "text": [
      "Jumlah Genre IMAX: 0\n",
      "\n",
      "genres\n",
      "Comedy         2779\n",
      "Drama          2226\n",
      "Action         1828\n",
      "Adventure       653\n",
      "Crime           537\n",
      "Horror          468\n",
      "Documentary     386\n",
      "Animation       298\n",
      "Children        197\n",
      "Thriller         84\n",
      "Sci-Fi           62\n",
      "Mystery          48\n",
      "Fantasy          42\n",
      "Romance          38\n",
      "Musical          23\n",
      "Western          23\n",
      "Film-Noir        12\n",
      "War               4\n",
      "Name: count, dtype: int64\n"
     ]
    }
   ],
   "source": [
    "clean_movies_df = clean_movies_df[clean_movies_df['genres'] != 'War']\n",
    "print('Jumlah Genre War:', len(clean_movies_df[clean_movies_df['genres'] == 'War']))\n",
    "print()\n",
    "print(clean_movies_df['genres'].value_counts())"
   ]
  },
  {
   "cell_type": "markdown",
   "metadata": {
    "id": "Zpoy7UicZyHJ"
   },
   "source": [
    "Kemudian melakukan *grouping* untuk setiap `moviesId` terhadap seluruh data *rating* yang ada."
   ]
  },
  {
   "cell_type": "code",
   "execution_count": 37,
   "metadata": {
    "colab": {
     "base_uri": "https://localhost:8080/"
    },
    "execution": {
     "iopub.execute_input": "2025-05-01T10:28:14.307019Z",
     "iopub.status.busy": "2025-05-01T10:28:14.306768Z",
     "iopub.status.idle": "2025-05-01T10:28:14.416367Z",
     "shell.execute_reply": "2025-05-01T10:28:14.415767Z",
     "shell.execute_reply.started": "2025-05-01T10:28:14.306999Z"
    },
    "id": "IJ6FfMxJRvnf",
    "outputId": "983a8de5-bd24-4f7b-ea8c-c2773a48819e",
    "trusted": true
   },
   "outputs": [
    {
     "data": {
      "text/plain": [
       "{1: [0, 516, 874, 1434, 1667, 1772, 2274, 3219, 4059, 4879, 4929, 5031, 5555, 6315, 6429, 6477, 6876, 7112, 7931, 8035, 9157, 9428, 9979, 10360, 11728, 11808, 12264, 12412, 12730, 13402, 13549, 14067, 14121, 14720, 15041, 15155, 15565, 16970, 17904, 18536, 18773, 19179, 19822, 19919, 20301, 20336, 20726, 21083, 21691, 21968, 22096, 22303, 22425, 22638, 22684, 23129, 23226, 23663, 23864, 24054, 24321, 24640, 24900, 25804, 25881, 26092, 27260, 27307, 27925, 28032, 28934, 29268, 29378, 29936, 30517, 30601, 30721, 30885, 31524, 32052, 32840, 33044, 33670, 33898, 34760, 34910, 35301, 35580, 36173, 36374, 37470, 37555, 38236, 38446, 38665, 39031, 39060, 39174, 39229, 40575, ...], 2: [560, 1026, 1773, 2275, 2977, 3220, 4060, 7422, 8791, 10361, 12731, 14122, 14721, 14817, 15566, 15942, 16971, 17905, 18349, 18831, 19229, 20337, 21084, 21969, 22219, 22426, 23227, 24322, 24901, 27308, 29379, 30886, 31525, 32259, 32590, 33045, 33735, 33899, 35581, 36375, 37945, 39230, 40979, 41732, 42115, 43958, 44536, 45474, 45729, 45944, 46734, 47708, 48984, 49918, 49975, 50082, 50949, 52881, 53493, 54124, 54548, 56365, 56879, 58097, 60962, 62010, 62295, 65884, 66190, 66799, 67081, 67356, 68493, 68577, 68656, 71350, 72919, 73093, 75200, 75356, 75425, 76228, 77094, 77223, 77951, 78471, 79794, 79993, 81000, 81532, 82407, 82614, 83171, 83574, 85985, 86583, 87318, 87717, 88220, 88678, ...], 3: [1, 561, 2276, 4930, 5875, 6316, 6430, 7423, 8511, 9429, 10362, 14123, 15300, 15509, 18262, 18350, 22277, 22304, 24323, 25882, 30887, 33046, 35582, 39032, 39061, 42116, 43169, 43959, 45643, 46735, 47709, 49919, 50950, 51894, 55396, 61842, 62296, 68657, 71258, 72920, 75426, 76229, 79297, 79994, 84604, 84931, 85292, 90421, 90519, 91497, 92625, 98668], 4: [562, 1386, 13075, 23702, 38179, 62011, 95103], 5: [563, 4880, 6317, 6478, 8512, 9980, 10363, 13076, 15567, 16972, 17258, 18351, 18751, 18774, 22151, 22278, 24324, 24590, 25974, 28935, 33671, 39033, 39062, 40980, 42117, 49920, 51895, 53494, 60291, 61271, 62297, 67461, 68658, 70609, 71259, 71351, 72921, 73094, 77224, 78472, 79120, 79298, 79995, 80374, 82167, 86584, 90520, 95104, 97045], 6: [2, 564, 1259, 1774, 3781, 3902, 4194, 4931, 6431, 6479, 8036, 8792, 9430, 10364, 12473, 12732, 13077, 14124, 15510, 16215, 17080, 17906, 18352, 18775, 21085, 22279, 23228, 23865, 25975, 26093, 27926, 28087, 28571, 29380, 30888, 31526, 32053, 35302, 35855, 38666, 39034, 39063, 39231, 41461, 41856, 43960, 44463, 45945, 47710, 48018, 48241, 48582, 48795, 48985, 50200, 51838, 51896, 52010, 53495, 54743, 55397, 56129, 56366, 56880, 58966, 59166, 60292, 60406, 61156, 62298, 65885, 67082, 67462, 67584, 68374, 70610, 72454, 72922, 73095, 76230, 78248, 79299, 79417, 79996, 82168, 82483, 83485, 85119, 85986, 86585, 88679, 89055, 89317, 90422, 90521, 91300, 92160, 92626, 95966, 96101, ...], 7: [565, 1387, 2277, 4881, 4932, 5032, 5876, 6318, 6480, 7424, 8513, 10365, 11729, 13078, 14068, 14873, 18353, 22280, 24325, 24902, 25883, 25976, 27791, 28572, 29937, 37900, 38180, 39064, 40981, 41244, 41857, 45730, 48583, 51897, 53018, 62012, 62299, 70611, 72923, 73096, 78473, 79300, 79845, 79997, 80840, 81050, 82169, 83412, 84328, 87718, 92161, 92627, 95105, 97365], 8: [566, 2978, 6319, 39232, 56130, 62300, 67357, 79998], 9: [22305, 25884, 30889, 39035, 39065, 51898, 53496, 54883, 60293, 61272, 66362, 67463, 71260, 72032, 79301, 92628], 10: [567, 1027, 1260, 2278, 3221, 4038, 4882, 5187, 5877, 6320, 6877, 7989, 8037, 8623, 9158, 10366, 12704, 12733, 13079, 14125, 14722, 14818, 15247, 15943, 18354, 18537, 20615, 21970, 23229, 23866, 24591, 24748, 24773, 24864, 25805, 25977, 26094, 27309, 28010, 28088, 28936, 29381, 29981, 30890, 31527, 32054, 33047, 33672, 33900, 35112, 35583, 35819, 35856, 36323, 38181, 39233, 41462, 41733, 42118, 43492, 43961, 45529, 45731, 46736, 48242, 48584, 49976, 51195, 51656, 52380, 52882, 52980, 53497, 53582, 54646, 55398, 56131, 56530, 56881, 58967, 59167, 59234, 60407, 60963, 61575, 62013, 62301, 65297, 65886, 67083, 67585, 68272, 68494, 68578, 68659, 70642, 70845, 71352, 71545, 72455, ...], 11: [568, 1028, 5033, 5273, 5377, 5878, 6321, 6481, 7990, 8038, 10367, 13080, 13550, 14819, 15301, 16973, 17081, 17969, 18355, 18776, 21086, 22685, 24326, 24774, 24903, 25978, 28573, 29269, 29382, 35113, 35303, 38237, 43194, 45732, 48585, 49977, 52654, 52883, 53498, 54125, 56132, 56367, 59235, 61353, 61843, 62014, 62302, 67586, 68495, 71200, 72456, 73097, 75358, 78475, 79908, 80000, 81083, 83436, 84330, 87720, 88222, 89244, 90257, 90523, 91498, 92163, 92630, 95968, 97366, 98480], 12: [2279, 6432, 18752, 22306, 30891, 39175, 39234, 40982, 42119, 43962, 51899, 53019, 53057, 56882, 68660, 79302, 82485, 88410, 92631], 13: [569, 2280, 2979, 42120, 45733, 50671, 75359, 80375], 14: [13081, 14069, 17082, 26095, 29938, 39066, 45644, 51900, 56133, 58968, 67464, 72925, 73098, 79303, 82170, 84605, 95969, 97047], 15: [570, 2281, 14723, 20616, 41734, 48586, 62303, 80001, 84331, 85988, 91302, 92632, 97367], 16: [571, 1775, 4195, 5879, 8752, 9431, 10368, 13493, 14126, 15302, 15568, 16216, 17083, 17259, 17907, 18777, 20617, 23703, 24904, 25979, 26096, 27533, 27927, 28089, 29270, 33048, 35304, 35584, 37901, 38126, 38667, 39235, 41463, 41962, 43170, 44537, 45675, 45946, 46737, 47926, 47990, 48019, 48796, 50951, 51364, 51901, 52011, 54126, 54744, 55399, 56134, 56368, 56883, 58969, 59168, 61413, 62238, 62304, 66278, 67465, 68375, 68496, 68661, 70846, 71546, 72033, 73099, 76232, 77095, 77226, 80002, 80841, 81084, 85120, 89319, 89987, 90424, 92633, 95970, 96102, 98670, 99536], 17: [572, 4883, 5034, 5378, 5556, 7932, 10369, 11730, 13082, 14070, 14820, 15303, 17908, 18356, 19920, 21971, 22686, 23704, 23867, 24749, 26097, 27928, 28341, 29939, 30602, 33551, 35969, 38182, 38238, 38668, 39067, 40576, 42121, 45530, 45645, 45734, 48587, 50083, 51902, 52716, 53020, 54127, 60294, 61354, 62137, 62305, 67466, 68416, 68497, 70612, 73100, 78361, 78476, 80003, 80376, 81534, 87721, 88523, 89245, 90524, 91499, 92164, 92634, 95106, 96103, 97048, 97368], 18: [6433, 9981, 10370, 14874, 15569, 17084, 25885, 26098, 37726, 44395, 46738, 48986, 56884, 62306, 77227, 78477, 80004, 82171, 92635, 97369], 19: [573, 1388, 2282, 3222, 5557, 5880, 6482, 7991, 8514, 9432, 9982, 10371, 14127, 14821, 15304, 15570, 17909, 18357, 18778, 18832, 20618, 20889, 21692, 21972, 22687, 24905, 25886, 28937, 30892, 31528, 32591, 33049, 33673, 35585, 36376, 39236, 40983, 41245, 41735, 43493, 43963, 46739, 47711, 48987, 49921, 50084, 50201, 52884, 53499, 54128, 55865, 56369, 56531, 56663, 56842, 56885, 58098, 61576, 66363, 66800, 67587, 68662, 72926, 75201, 75427, 76233, 77228, 78478, 79500, 79795, 80377, 81982, 82486, 83576, 84332, 84932, 85293, 85989, 87688, 89906, 90525, 91303, 92636, 95107, 95971, 97049, 97370, 98671], 20: [12413, 28574, 30893, 35305, 36377, 39237, 41736, 50470, 59169, 68663, 72034, 80005, 82487, 90425, 92637], 21: [300, 517, 574, 1029, 4196, 4933, 5035, 5274, 5379, 5558, 5881, 6483, 7933, 8039, 8515, 9983, 13083, 14128, 14822, 15511, 17085, 17910, 18150, 18358, 20338, 21087, 22688, 25980, 26099, 27929, 28575, 30722, 31529, 33674, 35114, 35306, 35784, 38183, 38669, 39176, 40577, 41737, 42122, 43964, 45531, 45646, 45735, 46740, 47712, 48588, 49922, 53834, 55400, 56135, 56370, 56843, 56886, 58970, 59170, 61355, 61844, 62015, 62307, 67588, 68376, 68498, 68664, 70847, 71353, 71547, 72927, 73101, 76234, 78250, 78479, 80006, 82488, 85294, 87689, 87722, 88524, 90258, 90426, 91304, 92165, 92638, 95972, 96104, 98672], 22: [575, 5882, 8516, 9433, 14129, 15248, 18779, 21088, 23230, 25981, 30894, 33050, 39238, 44464, 46741, 48589, 50085, 50202, 53500, 55401, 56371, 59171, 62016, 62308, 66364, 66662, 73102, 78480, 80169, 81085, 84333, 89320, 89907, 90427, 95973, 97050], 23: [4197, 6322, 15249, 15512, 20619, 21089, 26100, 35307, 39239, 48590, 62309, 72035, 77229, 82489, 92639, 97051], 24: [576, 4934, 11731, 17260, 25982, 28342, 29271, 34911, 38239, 38670, 39240, 43195, 46742, 49923, 51903, 52460, 62310, 73103, 75428, 76046, 77230, 81931, 85295, 91245, 91305, 92640, 95108, 98673], 25: [577, 1389, 4884, 4935, 5036, 5296, 9434, 10372, 13084, 14071, 14130, 14875, 17004, 17086, 17911, 17970, 18514, 18780, 21973, 22281, 22689, 24641, 25806, 25983, 26101, 27534, 27930, 28090, 28343, 28576, 29272, 29940, 30603, 35115, 38184, 38502, 39036, 39068, 40578, 41464, 43196, 45647, 45947, 47713, 50952, 51904, 53501, 56136, 56372, 58971, 59172, 60295, 60408, 61273, 61414, 62311, 66801, 67467, 68499, 70613, 71548, 72036, 73104, 80007, 82172, 82490, 84933, 87723, 88223, 89321, 90428, 90477, 95974, 96105, 97052, 98481], 26: [578, 4936, 5559, 10373, 18359, 26102, 38185, 48591, 72928, 73105, 77231, 78362, 92641], 27: [579, 41246, 46743, 51905, 62312, 71354, 73106, 80008, 80286], 28: [5037, 15305, 24906, 35970, 38186, 73107, 80378, 91500, 96106, 97145, 97371], 29: [3782, 6323, 9984, 14131, 14876, 19921, 24642, 26103, 27535, 29383, 32260, 35971, 37508, 37974, 38845, 38902, 39241, 41963, 44396, 48243, 48988, 50086, 50203, 50953, 59236, 60409, 68239, 72457, 73108, 77232, 82173, 85296, 89035, 92642, 95109, 95975, 96107, 97372], 30: [50204, 83172, 96108], 31: [261, 580, 4198, 5560, 6918, 8517, 10374, 13085, 15944, 17087, 18360, 19850, 23130, 23705, 25984, 29781, 35586, 41465, 46744, 48592, 51906, 54745, 56137, 59237, 62017, 62313, 66191, 67468, 68579, 72037, 73109, 76047, 77233, 81932, 83577, 86586, 92643, 98674], 32: [301, 581, 1030, 1390, 1776, 2283, 3783, 3903, 4199, 4937, 5038, 5455, 6484, 6878, 7113, 7934, 8040, 8518, 8753, 9159, 9435, 9985, 11763, 12414, 12537, 12705, 14072, 14132, 14823, 14877, 16217, 17088, 17912, 18151, 18361, 18753, 18833, 19922, 20266, 20339, 21974, 22119, 22220, 22282, 23231, 23868, 24643, 24775, 25887, 26104, 27931, 28091, 28344, 29273, 29384, 29941, 31530, 32055, 32261, 32592, 33051, 33552, 35116, 35207, 35308, 35785, 36174, 36378, 37556, 37946, 38447, 38503, 38671, 39037, 39069, 39100, 39177, 39242, 40579, 41020, 41466, 41738, 42123, 43494, 44538, 45648, 45676, 45736, 45948, 46745, 48020, 48244, 48593, 48797, 48989, 50087, 50205, 50954, 51365, 51907, ...], 34: [518, 582, 1031, 1777, 2284, 2980, 4039, 4061, 5039, 5561, 6324, 9160, 9436, 10375, 12734, 13086, 14724, 14824, 14878, 15042, 15571, 17089, 17261, 18152, 18362, 19589, 19923, 20620, 21090, 21859, 21975, 22690, 23232, 24327, 24592, 24776, 25888, 25985, 27261, 27932, 28345, 28938, 29274, 30723, 30895, 32056, 32841, 33675, 33736, 34912, 35117, 35587, 37682, 38240, 39178, 39243, 40580, 42124, 43197, 43495, 45949, 50088, 50672, 50955, 51196, 52886, 52981, 53503, 53584, 54129, 54549, 55212, 56139, 56374, 56665, 56844, 56888, 58100, 59174, 60411, 60939, 60964, 61356, 62018, 62138, 62315, 65888, 66720, 67085, 67358, 68501, 70849, 71201, 71300, 72930, 73111, 75361, 75430, 76236, 78363, ...], 36: [519, 583, 1261, 1778, 4938, 5040, 6434, 7425, 8519, 9437, 11666, 13087, 14073, 14133, 15572, 17090, 17913, 18363, 21860, 22283, 23706, 24644, 26105, 27933, 28092, 28346, 28577, 29942, 33676, 35118, 35820, 38187, 38241, 38504, 39070, 43198, 45532, 45649, 45737, 47714, 50089, 51908, 54130, 56140, 56795, 61274, 61357, 62316, 65889, 66802, 67470, 71550, 72459, 72931, 73112, 78364, 79305, 80010, 82175, 85992, 90429, 90478, 90527, 95978, 96111, 97374, 98483], 38: [3223, 30896, 68666, 73113], 39: [520, 1032, 1323, 1391, 4939, 5041, 5275, 5380, 6485, 6879, 7992, 8041, 8520, 9438, 10376, 14134, 14825, 14879, 15513, 15945, 17091, 17262, 17914, 17971, 18364, 18781, 19924, 21976, 22691, 24055, 24328, 24777, 24865, 24907, 25986, 27934, 28939, 30724, 32915, 33052, 33737, 33901, 35119, 35588, 35786, 38242, 38672, 40581, 41247, 41698, 41739, 41858, 43965, 46746, 47715, 48245, 48594, 50673, 52887, 53504, 54131, 55213, 55994, 56141, 59175, 59239, 61716, 62317, 67086, 68502, 71355, 72422, 72460, 72932, 73114, 76237, 77952, 78252, 78483, 79909, 80287, 80329, 80381, 81002, 82616, 85298, 85993, 86589, 87531, 87725, 88226, 89056, 89848, 89909, 91306, 91501, 91751, 92167, 92645, 95112, ...], 40: [47991, 84607], 41: [584, 1073, 8624, 14135, 18365, 26106, 38903, 48595, 51909, 56142, 72398, 72933, 73115, 91394, 92646], 42: [34913, 55402, 62318, 85122, 90430, 92168, 92647], 43: [585, 5042, 42125, 67471, 72934, 73116, 82176, 92648], 44: [1262, 1435, 1668, 2285, 3224, 5562, 8521, 10377, 14826, 18366, 18538, 18782, 20621, 23233, 26107, 29385, 30897, 31531, 33053, 35589, 35821, 39244, 41740, 43966, 48596, 53585, 56375, 56889, 59176, 59240, 61024, 61577, 62319, 66365, 67590, 68580, 70643, 72461, 78253, 81087, 83579, 84625, 86590, 91307, 92649, 98678], 45: [302, 586, 9439, 13088, 17092, 19925, 22692, 25987, 26108, 30898, 33677, 37420, 38673, 40582, 48742, 58973, 59177, 59241, 61025, 62320, 68503, 72462, 73117, 75362, 76048, 80011, 80038, 84123, 92169, 92650, 95980, 96113], 46: [587, 5563, 13089, 17972, 29275, 35590, 38904, 45738, 62019, 62321, 73118, 78484, 91502, 95113, 97375], 47: [3, 303, 588, 1033, 1355, 1392, 1436, 1569, 1669, 1779, 2286, 4040, 4200, 5456, 5658, 5883, 6325, 6919, 7935, 7993, 8522, 8793, 9161, 9440, 9986, 10378, 11764, 12195, 12265, 12706, 12735, 14136, 14827, 15514, 15946, 16218, 17093, 17207, 17915, 18263, 18367, 18783, 18834, 19123, 19590, 19682, 19851, 19926, 20267, 20302, 20340, 20622, 21091, 21693, 21861, 21977, 22362, 22693, 23234, 23869, 24645, 24866, 24908, 25807, 25889, 25988, 26109, 27536, 27935, 28011, 28347, 28578, 28940, 29826, 30899, 31532, 32057, 32593, 32842, 33054, 33553, 33738, 33902, 34761, 35309, 35708, 35787, 36175, 36379, 37447, 37557, 37975, 38127, 38905, 39245, 41741, 41859, 42126, 43967, 44465, ...], 48: [2287, 2981, 3225, 4062, 5381, 5564, 6326, 7058, 8523, 8730, 9441, 10379, 12266, 15573, 17263, 18368, 19927, 20303, 21978, 23664, 24329, 24593, 24909, 28067, 30725, 33055, 33903, 34914, 35120, 35591, 35822, 36380, 38188, 38448, 39246, 41964, 42127, 47716, 48743, 48991, 50090, 56087, 56144, 56891, 58102, 60965, 61200, 62323, 66663, 67313, 67359, 68581, 71356, 75363, 77236, 77954, 78486, 80382, 82618, 83174, 83581, 85994, 86128, 87320, 89247, 89911, 91503, 98680], 49: [29386], 50: [4, 521, 589, 875, 1034, 1570, 1670, 1780, 3784, 3904, 4201, 4764, 4940, 5043, 5276, 5382, 5457, 5659, 5884, 6486, 6880, 7936, 8042, 8524, 8731, 8754, 9162, 9442, 9987, 10380, 11620, 11765, 12538, 13090, 13494, 14137, 15043, 15574, 16219, 17094, 17916, 18369, 18835, 19180, 19852, 19928, 20268, 21092, 21862, 22097, 22363, 22694, 23235, 23707, 23870, 24778, 24910, 25808, 26110, 27537, 27936, 28093, 28306, 28348, 28579, 29387, 30180, 30623, 30900, 31533, 32058, 32262, 32594, 33645, 34762, 35208, 35310, 35709, 35972, 36176, 36381, 37558, 37976, 38128, 38189, 38674, 38906, 39247, 40583, 41047, 41068, 41248, 41467, 41965, 43199, 43968, 44397, 44436, 44466, 44540, ...], 52: [304, 4941, 8043, 13091, 14074, 17095, 18754, 22284, 22695, 25890, 27937, 39071, 48599, 56146, 61276, 61845, 62022, 62325, 67474, 71553, 73121, 79306, 82177, 92172, 92653, 95115, 95983, 96114], 53: [13368, 96115], 54: [590, 2288, 62326], 55: [13092], 57: [6327, 13093, 38190, 62327, 73122, 87727, 92654, 96116], 58: [305, 522, 876, 3785, 4942, 5044, 12018, 14075, 14138, 19929, 22285, 22696, 27938, 28349, 29388, 29943, 32263, 38846, 39072, 45651, 45739, 47927, 50206, 50958, 54550, 60414, 61846, 65892, 66279, 68379, 72399, 73123, 82178, 85995, 90261, 96117, 97378], 60: [591, 4063, 5277, 5565, 6328, 8732, 13472, 14725, 15575, 18370, 23236, 24330, 24911, 30901, 33056, 34915, 35592, 39248, 43969, 45740, 48600, 50092, 53808, 56378, 56893, 58895, 60966, 66664, 67360, 73055, 76240, 89912, 92655, 97056], 61: [592, 25989, 61277, 79307, 80013, 92656], 62: [593, 4064, 4202, 4885, 4943, 5278, 5383, 5566, 6487, 6920, 8525, 10381, 11732, 13094, 15306, 16974, 17096, 17917, 18371, 18784, 20623, 21093, 22286, 22307, 22697, 23131, 23708, 24331, 24779, 25990, 28274, 28580, 28941, 29389, 29944, 30604, 35121, 35823, 39073, 39249, 40984, 41021, 41966, 43496, 45741, 46749, 48601, 50093, 50959, 51912, 53836, 54133, 56147, 58104, 58975, 60297, 61359, 62023, 62328, 67475, 67591, 71203, 71357, 72937, 73124, 76241, 77097, 79308, 79849, 80014, 81089, 82210, 82620, 83414, 84608, 88525, 89326, 95116, 96118, 97057], 63: [33057, 39038, 41699, 59244, 77955, 79309, 98682], 64: [2289, 17973, 38675, 71262, 79310], 65: [594, 2290, 6435, 6488, 7426, 8044, 10382, 17264, 20341, 25891, 30902, 31534, 33058, 33646, 34916, 39250, 41022, 43970, 46750, 51913, 53022, 60298, 62329, 68669, 71263, 79311, 83415, 84247, 85300, 92657, 98683], 66: [595, 6436, 28350, 30605, 51914, 68670, 75432, 79312, 85996], 68: [14076, 22698, 58976, 84609, 97379], 69: [6489, 7994, 8045, 13495, 24056, 26111, 32969, 33059, 38676, 39251, 41700, 43971, 53506, 66366, 70645, 76242, 77956, 84733, 92173, 92658], 70: [5, 1781, 2291, 5188, 6490, 7427, 8046, 9443, 10383, 15576, 18836, 19930, 26112, 27538, 28094, 36382, 39252, 41701, 41860, 43972, 44398, 44467, 45952, 46751, 48248, 51841, 53507, 53588, 54647, 54748, 55405, 56148, 56894, 59245, 60415, 61416, 65893, 66367, 67592, 70557, 70646, 70852, 72465, 78487, 84648, 86130, 88411, 89327, 91504, 92174, 92659, 96119, 97380, 98684, 99540], 71: [17974, 56149, 59246, 62330, 67593], 72: [27939, 46752, 48992, 62331, 77957, 85301, 95117], 73: [18372, 24332, 42128, 45742, 65454, 65593, 75364, 78365, 80015, 92660, 95118, 97146, 97381], 74: [4944, 15307, 17975, 39039, 51915, 71264, 73125, 79313], 75: [22308, 62332, 79314, 85302, 92661], 76: [596, 7428, 17097, 23237, 26113, 39040, 48249, 51916, 56895, 75433, 79315, 82494, 85997, 92662, 97058], 77: [96120], 78: [4945, 62333, 67476], 79: [597, 6329, 22287, 23238, 25991, 37559, 38505, 39041, 39074, 44468, 51917, 55406, 67477, 71265, 79316, 82179, 92663], 80: [50207, 97382], 81: [14077, 19230, 24646, 26114, 28581, 39042, 45743, 55407, 56150, 62334, 67478, 77238, 82180, 92664], 82: [5567, 14078, 17005, 71155, 73126, 76049, 96121, 97383], 83: [30606], 85: [14079, 23239, 27940, 28582, 38191, 58977, 96122], 86: [598, 5885, 11733, 14726, 21094, 25992, 39253, 45744, 62335, 67479, 78255, 80016, 82181, 82495, 98484], 87: [599, 2292, 15947, 30903, 39254, 42129, 92665], 88: [600, 6491, 13551, 14139, 33060, 39255, 40985, 46753, 62336, 79317, 84248, 85303, 89057, 89988, 92666, 98685], 89: [601, 8047, 15308, 19931, 26115, 30904, 36383, 62337, 72466, 92667], 92: [602, 2293, 14140, 22309, 62338, 73127, 97059, 97384], 93: [603, 7429, 20624, 23240, 39256, 80017, 91308, 92668, 98686], 94: [5045, 6437, 13095, 26116, 27941, 46754, 58978, 62339, 70615, 85928], 95: [604, 1263, 1393, 4203, 4946, 5886, 6330, 6438, 8048, 10384, 11734, 13096, 14141, 14828, 15309, 17918, 18785, 20625, 21095, 21863, 22288, 22310, 23241, 24594, 25892, 27942, 29945, 30905, 31535, 35311, 35593, 38677, 39043, 39075, 39257, 41023, 41742, 42130, 44469, 45652, 48602, 51918, 53023, 54853, 54885, 55408, 56379, 56533, 56896, 58979, 60299, 60967, 61278, 62340, 65894, 66368, 67088, 67480, 67594, 68506, 68671, 70616, 71358, 72170, 72938, 76243, 78256, 78488, 79318, 80018, 82182, 82496, 83416, 84336, 84610, 84934, 85998, 88228, 91309, 92669, 95984, 97060, 98687, 99541], 96: [73128], 97: [26117, 27539, 48800, 48993, 50473, 59247, 68380, 86131, 92670, 96123], 99: [27943, 96124], 100: [605, 4947, 13097, 25993, 26118, 29961, 44470, 48603, 51919, 68381, 73129, 79319, 92671, 95985], 101: [6, 15577, 32264, 36384, 37977, 39258, 40584, 41967, 46755, 48250, 53837, 62341, 68672, 71156, 73130, 76244, 79910, 80843, 87794, 92175, 92672, 95119, 96125], 102: [606, 2294, 6331, 13098, 22311], 103: [79320, 80019, 82183], 104: [607, 1782, 2295, 5568, 5887, 6439, 6492, 8049, 9444, 10385, 12736, 13552, 14142, 15310, 15578, 16975, 17098, 17265, 17919, 18837, 21096, 21694, 22312, 24057, 24333, 24912, 25893, 26119, 28275, 28351, 28942, 30607, 30726, 31536, 32265, 32970, 33061, 33904, 35312, 35594, 36385, 39076, 39259, 40986, 41024, 41069, 41249, 41702, 41743, 44541, 46756, 47928, 50208, 50623, 50960, 51658, 51920, 53838, 54903, 56897, 58105, 59248, 60300, 62342, 65300, 65723, 66369, 67595, 68274, 68673, 70853, 71266, 73131, 75434, 76024, 76245, 77958, 79232, 79321, 79502, 79850, 79911, 80844, 82184, 83417, 83582, 84649, 84935, 85304, 85999, 87532, 88683, 89849, 90530, 92176, 92673, 95120, 97061, 98688], 105: [608, 1394, 5384, 8625, 13099, 15948, 16976, 18373, 21097, 28352, 29390, 33062, 45745, 50094, 52982, 61360, 62024, 65895, 78366, 78489, 96126, 97062, 97385], 106: [306], 107: [2296, 2982, 3662, 5569, 6332, 6493, 8050, 14696, 15579, 21695, 22313, 24913, 43973, 48604, 51921, 54134, 56898, 62343, 68674, 73132, 75435, 80349, 81537, 82621, 86000, 98689], 108: [96127], 110: [7, 523, 609, 1035, 1264, 1395, 1671, 1783, 4204, 4845, 5046, 5189, 5385, 5570, 5888, 6333, 6494, 6881, 7091, 7937, 7995, 8051, 8526, 8626, 8794, 9163, 9445, 9988, 10386, 11766, 12707, 12737, 12957, 14143, 14727, 14829, 15044, 15580, 15949, 16220, 16977, 17099, 17208, 17920, 18153, 18374, 18786, 19181, 19231, 19591, 19649, 19683, 19823, 19853, 20269, 20304, 20342, 20626, 20727, 21098, 21696, 21979, 23132, 23242, 23763, 23799, 24058, 24595, 24750, 24867, 25809, 25894, 25994, 26120, 27069, 27540, 27944, 28012, 28276, 28353, 28943, 29391, 29782, 29982, 30906, 32595, 32843, 33554, 33678, 33905, 34763, 35122, 35313, 35595, 35857, 36177, 36386, 37560, 38243, 38449, ...], 111: [1571, 1672, 1784, 5571, 5660, 6882, 7114, 7430, 8627, 9164, 9446, 9989, 12019, 12267, 14144, 15581, 16221, 16978, 17209, 17976, 18838, 19854, 20728, 22098, 22364, 22699, 23243, 24227, 24647, 26121, 27541, 27945, 28095, 28583, 32266, 35788, 36387, 37448, 37978, 38507, 39179, 39261, 40585, 41468, 41820, 42132, 43200, 43498, 44471, 44543, 46758, 48022, 48802, 50209, 50677, 50962, 51369, 52014, 52719, 52926, 53589, 54136, 54750, 55410, 56152, 56381, 59250, 60417, 61418, 61717, 61847, 62026, 62345, 64994, 65205, 65302, 65749, 67090, 68383, 68420, 70559, 71157, 71205, 71554, 72171, 72425, 72468, 73134, 76247, 78491, 79797, 83487, 88230, 88526, 89329, 89989, 90479, 90532, 92675, 96129, ...], 112: [610, 6440, 6495, 8052, 9447, 14145, 18154, 20343, 25895, 26122, 31537, 33063, 35824, 37902, 39077, 41025, 41745, 45747, 51923, 53024, 53509, 55997, 56153, 58980, 59181, 60301, 61279, 62346, 67091, 67482, 67597, 70617, 70855, 72469, 78258, 79322, 80020, 82185, 82498, 86002, 91311, 92676, 96130, 97065, 98486, 99544], ...}"
      ]
     },
     "execution_count": 37,
     "metadata": {},
     "output_type": "execute_result"
    }
   ],
   "source": [
    "grouped_ratings = clean_ratings_df.groupby('movieId')\n",
    "grouped_ratings.groups"
   ]
  },
  {
   "cell_type": "markdown",
   "metadata": {
    "id": "7IR5bnJde-H7"
   },
   "source": [
    "Proses *undersampling* dilakukan sehingga setiap `movies_id` hanya terhubung dengan paling banyak tiga `userId`."
   ]
  },
  {
   "cell_type": "code",
   "execution_count": 38,
   "metadata": {
    "colab": {
     "base_uri": "https://localhost:8080/",
     "height": 424
    },
    "execution": {
     "iopub.execute_input": "2025-05-01T10:28:14.417265Z",
     "iopub.status.busy": "2025-05-01T10:28:14.417048Z",
     "iopub.status.idle": "2025-05-01T10:28:18.668759Z",
     "shell.execute_reply": "2025-05-01T10:28:18.668072Z",
     "shell.execute_reply.started": "2025-05-01T10:28:14.417249Z"
    },
    "id": "0PMPR7DJe3YB",
    "outputId": "ed643d3b-2320-4141-9e84-c51bcaf38460",
    "trusted": true
   },
   "outputs": [
    {
     "data": {
      "text/html": [
       "<div>\n",
       "<style scoped>\n",
       "    .dataframe tbody tr th:only-of-type {\n",
       "        vertical-align: middle;\n",
       "    }\n",
       "\n",
       "    .dataframe tbody tr th {\n",
       "        vertical-align: top;\n",
       "    }\n",
       "\n",
       "    .dataframe thead th {\n",
       "        text-align: right;\n",
       "    }\n",
       "</style>\n",
       "<table border=\"1\" class=\"dataframe\">\n",
       "  <thead>\n",
       "    <tr style=\"text-align: right;\">\n",
       "      <th></th>\n",
       "      <th>userId</th>\n",
       "      <th>movieId</th>\n",
       "      <th>rating</th>\n",
       "    </tr>\n",
       "  </thead>\n",
       "  <tbody>\n",
       "    <tr>\n",
       "      <th>90256</th>\n",
       "      <td>587</td>\n",
       "      <td>1</td>\n",
       "      <td>5.0</td>\n",
       "    </tr>\n",
       "    <tr>\n",
       "      <th>98666</th>\n",
       "      <td>608</td>\n",
       "      <td>1</td>\n",
       "      <td>2.5</td>\n",
       "    </tr>\n",
       "    <tr>\n",
       "      <th>58965</th>\n",
       "      <td>385</td>\n",
       "      <td>1</td>\n",
       "      <td>4.0</td>\n",
       "    </tr>\n",
       "    <tr>\n",
       "      <th>75200</th>\n",
       "      <td>475</td>\n",
       "      <td>2</td>\n",
       "      <td>4.5</td>\n",
       "    </tr>\n",
       "    <tr>\n",
       "      <th>12731</th>\n",
       "      <td>82</td>\n",
       "      <td>2</td>\n",
       "      <td>3.0</td>\n",
       "    </tr>\n",
       "    <tr>\n",
       "      <th>...</th>\n",
       "      <td>...</td>\n",
       "      <td>...</td>\n",
       "      <td>...</td>\n",
       "    </tr>\n",
       "    <tr>\n",
       "      <th>27259</th>\n",
       "      <td>184</td>\n",
       "      <td>193587</td>\n",
       "      <td>3.5</td>\n",
       "    </tr>\n",
       "    <tr>\n",
       "      <th>27259</th>\n",
       "      <td>184</td>\n",
       "      <td>193587</td>\n",
       "      <td>3.5</td>\n",
       "    </tr>\n",
       "    <tr>\n",
       "      <th>51362</th>\n",
       "      <td>331</td>\n",
       "      <td>193609</td>\n",
       "      <td>4.0</td>\n",
       "    </tr>\n",
       "    <tr>\n",
       "      <th>51362</th>\n",
       "      <td>331</td>\n",
       "      <td>193609</td>\n",
       "      <td>4.0</td>\n",
       "    </tr>\n",
       "    <tr>\n",
       "      <th>51362</th>\n",
       "      <td>331</td>\n",
       "      <td>193609</td>\n",
       "      <td>4.0</td>\n",
       "    </tr>\n",
       "  </tbody>\n",
       "</table>\n",
       "<p>29172 rows × 3 columns</p>\n",
       "</div>"
      ],
      "text/plain": [
       "       userId  movieId  rating\n",
       "90256     587        1     5.0\n",
       "98666     608        1     2.5\n",
       "58965     385        1     4.0\n",
       "75200     475        2     4.5\n",
       "12731      82        2     3.0\n",
       "...       ...      ...     ...\n",
       "27259     184   193587     3.5\n",
       "27259     184   193587     3.5\n",
       "51362     331   193609     4.0\n",
       "51362     331   193609     4.0\n",
       "51362     331   193609     4.0\n",
       "\n",
       "[29172 rows x 3 columns]"
      ]
     },
     "execution_count": 38,
     "metadata": {},
     "output_type": "execute_result"
    }
   ],
   "source": [
    "target_ratings = 3\n",
    "\n",
    "clean_ratings_df = pd.concat(\n",
    "    [\n",
    "        group.sample(n=target_ratings, random_state=42) if len(group) > target_ratings else\n",
    "        resample(group, replace=True, n_samples=target_ratings, random_state=42)\n",
    "        for _, group in grouped_ratings\n",
    "    ]\n",
    ")\n",
    "\n",
    "clean_ratings_df"
   ]
  },
  {
   "cell_type": "markdown",
   "metadata": {
    "id": "khDbmZJLfwvL"
   },
   "source": [
    "#### *Text Processing*\n",
    "\n",
    "> **Penjelasan**: Tahapan ini bertujuan untuk menemukan serta memperbaiki atau menghapus data yang tidak valid, tidak seragam, maupun tidak sesuai dalam dataset.\n",
    "\n",
    "> **Alasan**: Langkah ini penting agar seluruh data memiliki format yang seragam dan tidak terdapat perbedaan dalam penulisan atau struktur data."
   ]
  },
  {
   "cell_type": "code",
   "execution_count": null,
   "metadata": {
    "colab": {
     "base_uri": "https://localhost:8080/"
    },
    "execution": {
     "iopub.execute_input": "2025-05-01T10:28:18.669747Z",
     "iopub.status.busy": "2025-05-01T10:28:18.669483Z",
     "iopub.status.idle": "2025-05-01T10:28:18.685390Z",
     "shell.execute_reply": "2025-05-01T10:28:18.684672Z",
     "shell.execute_reply.started": "2025-05-01T10:28:18.669723Z"
    },
    "id": "NFOk23-zfss0",
    "outputId": "5fd09cff-1b96-4888-ff94-e24c277146f4",
    "trusted": true
   },
   "outputs": [
    {
     "name": "stdout",
     "output_type": "stream",
     "text": [
      "IMAX Genres Count :  12\n",
      "IMAX Genres Count :  62\n",
      "\n",
      "Example movie with genre Filmnoir\n",
      "      movieId                       title    genres\n",
      "279       320               Suture (1993)  Filmnoir\n",
      "695       913  Maltese Falcon, The (1941)  Filmnoir\n",
      "711       930            Notorious (1946)  Filmnoir\n",
      "913      1212       Third Man, The (1949)  Filmnoir\n",
      "1531     2066      Out of the Past (1947)  Filmnoir\n",
      "\n",
      "Example movie with genre Scifi\n",
      "      movieId                                  title genres\n",
      "668       880       Island of Dr. Moreau, The (1996)  Scifi\n",
      "1320     1779                          Sphere (1998)  Scifi\n",
      "1719     2311  2010: The Year We Make Contact (1984)  Scifi\n",
      "1902     2526                          Meteor (1979)  Scifi\n",
      "2000     2661        It Came from Outer Space (1953)  Scifi\n"
     ]
    }
   ],
   "source": [
    "clean_movies_df['genres'] = clean_movies_df['genres'].replace({'Film-Noir': 'Filmnoir', 'Sci-Fi': 'Scifi'})\n",
    "print('Filmnoir Genres Count : ', len(clean_movies_df[clean_movies_df['genres'] == 'Filmnoir']))\n",
    "print('Scifi Genres Count : ', len(clean_movies_df[clean_movies_df['genres'] == 'Scifi']))\n",
    "\n",
    "print()\n",
    "\n",
    "print('Example movie with genre Filmnoir')\n",
    "print(clean_movies_df[clean_movies_df['genres'] == 'Filmnoir'].head())\n",
    "\n",
    "print()\n",
    "\n",
    "print('Example movie with genre Scifi')\n",
    "print(clean_movies_df[clean_movies_df['genres'] == 'Scifi'].head())"
   ]
  },
  {
   "cell_type": "code",
   "execution_count": 40,
   "metadata": {
    "execution": {
     "iopub.execute_input": "2025-05-01T10:28:18.686330Z",
     "iopub.status.busy": "2025-05-01T10:28:18.686080Z",
     "iopub.status.idle": "2025-05-01T10:28:18.719229Z",
     "shell.execute_reply": "2025-05-01T10:28:18.718765Z",
     "shell.execute_reply.started": "2025-05-01T10:28:18.686309Z"
    },
    "id": "yCMCtPfJgnWa",
    "trusted": true
   },
   "outputs": [],
   "source": [
    "clean_movies_df.to_csv('clean_movies_df.csv', index=False)"
   ]
  },
  {
   "cell_type": "markdown",
   "metadata": {
    "id": "T_au7U5Yg2rI"
   },
   "source": [
    "#### *Data Transformation*\n",
    "\n",
    "> **Penjelasan**: *Data transformation* merupakan tahapan mengonversi data mentah menjadi format yang lebih sesuai untuk keperluan analisis atau pelatihan model. Proses ini dapat mencakup berbagai metode, seperti normalisasi, standardisasi, encoding, dan scaling, agar data memiliki skala atau bentuk yang selaras dengan kebutuhan algoritma machine learning.\n",
    "\n",
    "> **Alasan**: Transformasi data dilakukan untuk memastikan kualitas data meningkat sehingga model dapat belajar secara optimal, misalnya pada pengembangan model *sentiment analysis*.\n"
   ]
  },
  {
   "cell_type": "code",
   "execution_count": 41,
   "metadata": {
    "execution": {
     "iopub.execute_input": "2025-05-01T10:28:18.720050Z",
     "iopub.status.busy": "2025-05-01T10:28:18.719811Z",
     "iopub.status.idle": "2025-05-01T10:28:18.736701Z",
     "shell.execute_reply": "2025-05-01T10:28:18.736198Z",
     "shell.execute_reply.started": "2025-05-01T10:28:18.720030Z"
    },
    "id": "SVw4WPPAgzZ8",
    "trusted": true
   },
   "outputs": [],
   "source": [
    "from sklearn.feature_extraction.text import TfidfVectorizer\n",
    "tfidf = TfidfVectorizer()"
   ]
  },
  {
   "cell_type": "code",
   "execution_count": 42,
   "metadata": {
    "colab": {
     "base_uri": "https://localhost:8080/"
    },
    "execution": {
     "iopub.execute_input": "2025-05-01T10:28:18.737365Z",
     "iopub.status.busy": "2025-05-01T10:28:18.737189Z",
     "iopub.status.idle": "2025-05-01T10:28:18.773283Z",
     "shell.execute_reply": "2025-05-01T10:28:18.772627Z",
     "shell.execute_reply.started": "2025-05-01T10:28:18.737351Z"
    },
    "id": "6sqSeL1EhIsI",
    "outputId": "6a9c0a63-7484-4374-8c6a-a45f6f616e5e",
    "trusted": true
   },
   "outputs": [
    {
     "data": {
      "text/plain": [
       "(9742, 23)"
      ]
     },
     "execution_count": 42,
     "metadata": {},
     "output_type": "execute_result"
    }
   ],
   "source": [
    "tfidf_matrix = tfidf.fit_transform(movies_df['genres'])\n",
    "tfidf_matrix.shape"
   ]
  },
  {
   "cell_type": "code",
   "execution_count": 43,
   "metadata": {
    "colab": {
     "base_uri": "https://localhost:8080/"
    },
    "execution": {
     "iopub.execute_input": "2025-05-01T10:28:18.774225Z",
     "iopub.status.busy": "2025-05-01T10:28:18.774008Z",
     "iopub.status.idle": "2025-05-01T10:28:18.779310Z",
     "shell.execute_reply": "2025-05-01T10:28:18.778697Z",
     "shell.execute_reply.started": "2025-05-01T10:28:18.774204Z"
    },
    "id": "w99eRRcdhRYO",
    "outputId": "ea87d480-b801-451c-e5c6-6065347dbd61",
    "trusted": true
   },
   "outputs": [
    {
     "data": {
      "text/plain": [
       "matrix([[0., 1., 0., ..., 0., 0., 0.],\n",
       "        [0., 1., 0., ..., 0., 0., 0.],\n",
       "        [0., 0., 0., ..., 0., 0., 0.],\n",
       "        ...,\n",
       "        [0., 0., 0., ..., 0., 0., 0.],\n",
       "        [1., 0., 0., ..., 0., 0., 0.],\n",
       "        [0., 0., 0., ..., 0., 0., 0.]])"
      ]
     },
     "execution_count": 43,
     "metadata": {},
     "output_type": "execute_result"
    }
   ],
   "source": [
    "tfidf_matrix.todense()"
   ]
  },
  {
   "cell_type": "code",
   "execution_count": 44,
   "metadata": {
    "colab": {
     "base_uri": "https://localhost:8080/",
     "height": 455
    },
    "execution": {
     "iopub.execute_input": "2025-05-01T10:28:18.780255Z",
     "iopub.status.busy": "2025-05-01T10:28:18.780055Z",
     "iopub.status.idle": "2025-05-01T10:28:18.820782Z",
     "shell.execute_reply": "2025-05-01T10:28:18.820210Z",
     "shell.execute_reply.started": "2025-05-01T10:28:18.780241Z"
    },
    "id": "jK54bIyz-N_R",
    "outputId": "aba2ea9a-5bc7-4b7f-c24f-021a169054a0",
    "trusted": true
   },
   "outputs": [
    {
     "data": {
      "text/html": [
       "<div>\n",
       "<style scoped>\n",
       "    .dataframe tbody tr th:only-of-type {\n",
       "        vertical-align: middle;\n",
       "    }\n",
       "\n",
       "    .dataframe tbody tr th {\n",
       "        vertical-align: top;\n",
       "    }\n",
       "\n",
       "    .dataframe thead th {\n",
       "        text-align: right;\n",
       "    }\n",
       "</style>\n",
       "<table border=\"1\" class=\"dataframe\">\n",
       "  <thead>\n",
       "    <tr style=\"text-align: right;\">\n",
       "      <th></th>\n",
       "      <th>no</th>\n",
       "      <th>genres</th>\n",
       "      <th>drama</th>\n",
       "      <th>noir</th>\n",
       "      <th>western</th>\n",
       "      <th>documentary</th>\n",
       "      <th>action</th>\n",
       "      <th>animation</th>\n",
       "      <th>musical</th>\n",
       "      <th>adventure</th>\n",
       "      <th>...</th>\n",
       "      <th>war</th>\n",
       "      <th>comedy</th>\n",
       "      <th>crime</th>\n",
       "      <th>fi</th>\n",
       "      <th>thriller</th>\n",
       "      <th>fantasy</th>\n",
       "      <th>horror</th>\n",
       "      <th>children</th>\n",
       "      <th>romance</th>\n",
       "      <th>sci</th>\n",
       "    </tr>\n",
       "    <tr>\n",
       "      <th>movieId</th>\n",
       "      <th></th>\n",
       "      <th></th>\n",
       "      <th></th>\n",
       "      <th></th>\n",
       "      <th></th>\n",
       "      <th></th>\n",
       "      <th></th>\n",
       "      <th></th>\n",
       "      <th></th>\n",
       "      <th></th>\n",
       "      <th></th>\n",
       "      <th></th>\n",
       "      <th></th>\n",
       "      <th></th>\n",
       "      <th></th>\n",
       "      <th></th>\n",
       "      <th></th>\n",
       "      <th></th>\n",
       "      <th></th>\n",
       "      <th></th>\n",
       "      <th></th>\n",
       "    </tr>\n",
       "  </thead>\n",
       "  <tbody>\n",
       "    <tr>\n",
       "      <th>631</th>\n",
       "      <td>0.0</td>\n",
       "      <td>0.0</td>\n",
       "      <td>0.0</td>\n",
       "      <td>0.0</td>\n",
       "      <td>0.0</td>\n",
       "      <td>0.0</td>\n",
       "      <td>0.0</td>\n",
       "      <td>0.0</td>\n",
       "      <td>0.0</td>\n",
       "      <td>1.0</td>\n",
       "      <td>...</td>\n",
       "      <td>0.0</td>\n",
       "      <td>0.0</td>\n",
       "      <td>0.0</td>\n",
       "      <td>0.000000</td>\n",
       "      <td>0.0</td>\n",
       "      <td>0.0</td>\n",
       "      <td>0.0</td>\n",
       "      <td>0.0</td>\n",
       "      <td>0.0</td>\n",
       "      <td>0.000000</td>\n",
       "    </tr>\n",
       "    <tr>\n",
       "      <th>190183</th>\n",
       "      <td>0.0</td>\n",
       "      <td>0.0</td>\n",
       "      <td>0.0</td>\n",
       "      <td>0.0</td>\n",
       "      <td>0.0</td>\n",
       "      <td>0.0</td>\n",
       "      <td>0.0</td>\n",
       "      <td>0.0</td>\n",
       "      <td>0.0</td>\n",
       "      <td>0.0</td>\n",
       "      <td>...</td>\n",
       "      <td>0.0</td>\n",
       "      <td>0.0</td>\n",
       "      <td>0.0</td>\n",
       "      <td>0.707107</td>\n",
       "      <td>0.0</td>\n",
       "      <td>0.0</td>\n",
       "      <td>0.0</td>\n",
       "      <td>0.0</td>\n",
       "      <td>0.0</td>\n",
       "      <td>0.707107</td>\n",
       "    </tr>\n",
       "    <tr>\n",
       "      <th>7251</th>\n",
       "      <td>0.0</td>\n",
       "      <td>0.0</td>\n",
       "      <td>1.0</td>\n",
       "      <td>0.0</td>\n",
       "      <td>0.0</td>\n",
       "      <td>0.0</td>\n",
       "      <td>0.0</td>\n",
       "      <td>0.0</td>\n",
       "      <td>0.0</td>\n",
       "      <td>0.0</td>\n",
       "      <td>...</td>\n",
       "      <td>0.0</td>\n",
       "      <td>0.0</td>\n",
       "      <td>0.0</td>\n",
       "      <td>0.000000</td>\n",
       "      <td>0.0</td>\n",
       "      <td>0.0</td>\n",
       "      <td>0.0</td>\n",
       "      <td>0.0</td>\n",
       "      <td>0.0</td>\n",
       "      <td>0.000000</td>\n",
       "    </tr>\n",
       "    <tr>\n",
       "      <th>127114</th>\n",
       "      <td>0.0</td>\n",
       "      <td>0.0</td>\n",
       "      <td>1.0</td>\n",
       "      <td>0.0</td>\n",
       "      <td>0.0</td>\n",
       "      <td>0.0</td>\n",
       "      <td>0.0</td>\n",
       "      <td>0.0</td>\n",
       "      <td>0.0</td>\n",
       "      <td>0.0</td>\n",
       "      <td>...</td>\n",
       "      <td>0.0</td>\n",
       "      <td>0.0</td>\n",
       "      <td>0.0</td>\n",
       "      <td>0.000000</td>\n",
       "      <td>0.0</td>\n",
       "      <td>0.0</td>\n",
       "      <td>0.0</td>\n",
       "      <td>0.0</td>\n",
       "      <td>0.0</td>\n",
       "      <td>0.000000</td>\n",
       "    </tr>\n",
       "    <tr>\n",
       "      <th>152085</th>\n",
       "      <td>0.0</td>\n",
       "      <td>0.0</td>\n",
       "      <td>1.0</td>\n",
       "      <td>0.0</td>\n",
       "      <td>0.0</td>\n",
       "      <td>0.0</td>\n",
       "      <td>0.0</td>\n",
       "      <td>0.0</td>\n",
       "      <td>0.0</td>\n",
       "      <td>0.0</td>\n",
       "      <td>...</td>\n",
       "      <td>0.0</td>\n",
       "      <td>0.0</td>\n",
       "      <td>0.0</td>\n",
       "      <td>0.000000</td>\n",
       "      <td>0.0</td>\n",
       "      <td>0.0</td>\n",
       "      <td>0.0</td>\n",
       "      <td>0.0</td>\n",
       "      <td>0.0</td>\n",
       "      <td>0.000000</td>\n",
       "    </tr>\n",
       "    <tr>\n",
       "      <th>...</th>\n",
       "      <td>...</td>\n",
       "      <td>...</td>\n",
       "      <td>...</td>\n",
       "      <td>...</td>\n",
       "      <td>...</td>\n",
       "      <td>...</td>\n",
       "      <td>...</td>\n",
       "      <td>...</td>\n",
       "      <td>...</td>\n",
       "      <td>...</td>\n",
       "      <td>...</td>\n",
       "      <td>...</td>\n",
       "      <td>...</td>\n",
       "      <td>...</td>\n",
       "      <td>...</td>\n",
       "      <td>...</td>\n",
       "      <td>...</td>\n",
       "      <td>...</td>\n",
       "      <td>...</td>\n",
       "      <td>...</td>\n",
       "      <td>...</td>\n",
       "    </tr>\n",
       "    <tr>\n",
       "      <th>5780</th>\n",
       "      <td>0.0</td>\n",
       "      <td>0.0</td>\n",
       "      <td>0.0</td>\n",
       "      <td>0.0</td>\n",
       "      <td>0.0</td>\n",
       "      <td>0.0</td>\n",
       "      <td>0.0</td>\n",
       "      <td>0.0</td>\n",
       "      <td>0.0</td>\n",
       "      <td>0.0</td>\n",
       "      <td>...</td>\n",
       "      <td>0.0</td>\n",
       "      <td>1.0</td>\n",
       "      <td>0.0</td>\n",
       "      <td>0.000000</td>\n",
       "      <td>0.0</td>\n",
       "      <td>0.0</td>\n",
       "      <td>0.0</td>\n",
       "      <td>0.0</td>\n",
       "      <td>0.0</td>\n",
       "      <td>0.000000</td>\n",
       "    </tr>\n",
       "    <tr>\n",
       "      <th>5254</th>\n",
       "      <td>0.0</td>\n",
       "      <td>0.0</td>\n",
       "      <td>0.0</td>\n",
       "      <td>0.0</td>\n",
       "      <td>0.0</td>\n",
       "      <td>0.0</td>\n",
       "      <td>1.0</td>\n",
       "      <td>0.0</td>\n",
       "      <td>0.0</td>\n",
       "      <td>0.0</td>\n",
       "      <td>...</td>\n",
       "      <td>0.0</td>\n",
       "      <td>0.0</td>\n",
       "      <td>0.0</td>\n",
       "      <td>0.000000</td>\n",
       "      <td>0.0</td>\n",
       "      <td>0.0</td>\n",
       "      <td>0.0</td>\n",
       "      <td>0.0</td>\n",
       "      <td>0.0</td>\n",
       "      <td>0.000000</td>\n",
       "    </tr>\n",
       "    <tr>\n",
       "      <th>71970</th>\n",
       "      <td>0.0</td>\n",
       "      <td>0.0</td>\n",
       "      <td>0.0</td>\n",
       "      <td>0.0</td>\n",
       "      <td>0.0</td>\n",
       "      <td>0.0</td>\n",
       "      <td>0.0</td>\n",
       "      <td>0.0</td>\n",
       "      <td>0.0</td>\n",
       "      <td>1.0</td>\n",
       "      <td>...</td>\n",
       "      <td>0.0</td>\n",
       "      <td>0.0</td>\n",
       "      <td>0.0</td>\n",
       "      <td>0.000000</td>\n",
       "      <td>0.0</td>\n",
       "      <td>0.0</td>\n",
       "      <td>0.0</td>\n",
       "      <td>0.0</td>\n",
       "      <td>0.0</td>\n",
       "      <td>0.000000</td>\n",
       "    </tr>\n",
       "    <tr>\n",
       "      <th>114678</th>\n",
       "      <td>0.0</td>\n",
       "      <td>0.0</td>\n",
       "      <td>0.0</td>\n",
       "      <td>0.0</td>\n",
       "      <td>0.0</td>\n",
       "      <td>0.0</td>\n",
       "      <td>0.0</td>\n",
       "      <td>0.0</td>\n",
       "      <td>0.0</td>\n",
       "      <td>1.0</td>\n",
       "      <td>...</td>\n",
       "      <td>0.0</td>\n",
       "      <td>0.0</td>\n",
       "      <td>0.0</td>\n",
       "      <td>0.000000</td>\n",
       "      <td>0.0</td>\n",
       "      <td>0.0</td>\n",
       "      <td>0.0</td>\n",
       "      <td>0.0</td>\n",
       "      <td>0.0</td>\n",
       "      <td>0.000000</td>\n",
       "    </tr>\n",
       "    <tr>\n",
       "      <th>4477</th>\n",
       "      <td>0.0</td>\n",
       "      <td>0.0</td>\n",
       "      <td>0.0</td>\n",
       "      <td>0.0</td>\n",
       "      <td>0.0</td>\n",
       "      <td>0.0</td>\n",
       "      <td>0.0</td>\n",
       "      <td>0.0</td>\n",
       "      <td>0.0</td>\n",
       "      <td>1.0</td>\n",
       "      <td>...</td>\n",
       "      <td>0.0</td>\n",
       "      <td>0.0</td>\n",
       "      <td>0.0</td>\n",
       "      <td>0.000000</td>\n",
       "      <td>0.0</td>\n",
       "      <td>0.0</td>\n",
       "      <td>0.0</td>\n",
       "      <td>0.0</td>\n",
       "      <td>0.0</td>\n",
       "      <td>0.000000</td>\n",
       "    </tr>\n",
       "  </tbody>\n",
       "</table>\n",
       "<p>9742 rows × 23 columns</p>\n",
       "</div>"
      ],
      "text/plain": [
       "          no  genres  drama  noir  western  documentary  action  animation  \\\n",
       "movieId                                                                      \n",
       "631      0.0     0.0    0.0   0.0      0.0          0.0     0.0        0.0   \n",
       "190183   0.0     0.0    0.0   0.0      0.0          0.0     0.0        0.0   \n",
       "7251     0.0     0.0    1.0   0.0      0.0          0.0     0.0        0.0   \n",
       "127114   0.0     0.0    1.0   0.0      0.0          0.0     0.0        0.0   \n",
       "152085   0.0     0.0    1.0   0.0      0.0          0.0     0.0        0.0   \n",
       "...      ...     ...    ...   ...      ...          ...     ...        ...   \n",
       "5780     0.0     0.0    0.0   0.0      0.0          0.0     0.0        0.0   \n",
       "5254     0.0     0.0    0.0   0.0      0.0          0.0     1.0        0.0   \n",
       "71970    0.0     0.0    0.0   0.0      0.0          0.0     0.0        0.0   \n",
       "114678   0.0     0.0    0.0   0.0      0.0          0.0     0.0        0.0   \n",
       "4477     0.0     0.0    0.0   0.0      0.0          0.0     0.0        0.0   \n",
       "\n",
       "         musical  adventure  ...  war  comedy  crime        fi  thriller  \\\n",
       "movieId                      ...                                           \n",
       "631          0.0        1.0  ...  0.0     0.0    0.0  0.000000       0.0   \n",
       "190183       0.0        0.0  ...  0.0     0.0    0.0  0.707107       0.0   \n",
       "7251         0.0        0.0  ...  0.0     0.0    0.0  0.000000       0.0   \n",
       "127114       0.0        0.0  ...  0.0     0.0    0.0  0.000000       0.0   \n",
       "152085       0.0        0.0  ...  0.0     0.0    0.0  0.000000       0.0   \n",
       "...          ...        ...  ...  ...     ...    ...       ...       ...   \n",
       "5780         0.0        0.0  ...  0.0     1.0    0.0  0.000000       0.0   \n",
       "5254         0.0        0.0  ...  0.0     0.0    0.0  0.000000       0.0   \n",
       "71970        0.0        1.0  ...  0.0     0.0    0.0  0.000000       0.0   \n",
       "114678       0.0        1.0  ...  0.0     0.0    0.0  0.000000       0.0   \n",
       "4477         0.0        1.0  ...  0.0     0.0    0.0  0.000000       0.0   \n",
       "\n",
       "         fantasy  horror  children  romance       sci  \n",
       "movieId                                                \n",
       "631          0.0     0.0       0.0      0.0  0.000000  \n",
       "190183       0.0     0.0       0.0      0.0  0.707107  \n",
       "7251         0.0     0.0       0.0      0.0  0.000000  \n",
       "127114       0.0     0.0       0.0      0.0  0.000000  \n",
       "152085       0.0     0.0       0.0      0.0  0.000000  \n",
       "...          ...     ...       ...      ...       ...  \n",
       "5780         0.0     0.0       0.0      0.0  0.000000  \n",
       "5254         0.0     0.0       0.0      0.0  0.000000  \n",
       "71970        0.0     0.0       0.0      0.0  0.000000  \n",
       "114678       0.0     0.0       0.0      0.0  0.000000  \n",
       "4477         0.0     0.0       0.0      0.0  0.000000  \n",
       "\n",
       "[9742 rows x 23 columns]"
      ]
     },
     "execution_count": 44,
     "metadata": {},
     "output_type": "execute_result"
    }
   ],
   "source": [
    "df = pd.DataFrame(\n",
    "    tfidf_matrix.todense(),\n",
    "    columns=tfidf.get_feature_names_out(),\n",
    "    index=movies_df['movieId']\n",
    ")\n",
    "sampled_df = df.sample(df.shape[1], axis=1).sample(df.shape[0], axis=0)\n",
    "sampled_df"
   ]
  },
  {
   "cell_type": "markdown",
   "metadata": {
    "id": "VUhHu2GB-ujS"
   },
   "source": [
    "#### *Calculating Cosine Similarity*\n",
    "\n",
    "> **Penjelasan**: *Cosine similarity* merupakan teknik yang digunakan untuk menilai seberapa mirip dua vektor dalam ruang multidimensi dengan melihat sudut di antara keduanya. Skor cosine similarity berada pada rentang -1 hingga 1, di mana angka 1 menandakan kemiripan total, 0 berarti tidak ada kemiripan, dan -1 menunjukkan arah yang benar-benar berlawanan.\n",
    "\n",
    "> **Alasan**: Tahapan ini penting dilakukan karena metode ini efektif dalam menilai tingkat kemiripan antar dokumen atau data yang akan dimanfaatkan dalam model.\n"
   ]
  },
  {
   "cell_type": "code",
   "execution_count": 45,
   "metadata": {
    "colab": {
     "base_uri": "https://localhost:8080/"
    },
    "execution": {
     "iopub.execute_input": "2025-05-01T10:28:18.821753Z",
     "iopub.status.busy": "2025-05-01T10:28:18.821517Z",
     "iopub.status.idle": "2025-05-01T10:28:20.014637Z",
     "shell.execute_reply": "2025-05-01T10:28:20.013911Z",
     "shell.execute_reply.started": "2025-05-01T10:28:18.821726Z"
    },
    "id": "Zj5qBTvP-uzx",
    "outputId": "94afdc85-8307-4a25-843e-8bb6a383685c",
    "trusted": true
   },
   "outputs": [
    {
     "data": {
      "text/plain": [
       "array([[1., 1., 0., ..., 0., 0., 0.],\n",
       "       [1., 1., 0., ..., 0., 0., 0.],\n",
       "       [0., 0., 1., ..., 0., 0., 1.],\n",
       "       ...,\n",
       "       [0., 0., 0., ..., 1., 0., 0.],\n",
       "       [0., 0., 0., ..., 0., 1., 0.],\n",
       "       [0., 0., 1., ..., 0., 0., 1.]])"
      ]
     },
     "execution_count": 45,
     "metadata": {},
     "output_type": "execute_result"
    }
   ],
   "source": [
    "from sklearn.metrics.pairwise import cosine_similarity\n",
    "\n",
    "cosine = cosine_similarity(tfidf_matrix)\n",
    "cosine"
   ]
  },
  {
   "cell_type": "code",
   "execution_count": 46,
   "metadata": {
    "colab": {
     "base_uri": "https://localhost:8080/",
     "height": 394
    },
    "execution": {
     "iopub.execute_input": "2025-05-01T10:28:20.015534Z",
     "iopub.status.busy": "2025-05-01T10:28:20.015274Z",
     "iopub.status.idle": "2025-05-01T10:28:20.031398Z",
     "shell.execute_reply": "2025-05-01T10:28:20.030859Z",
     "shell.execute_reply.started": "2025-05-01T10:28:20.015517Z"
    },
    "id": "CyQKgta7_Et7",
    "outputId": "f3beddd8-45d9-4b7c-b9ca-a9de0633675f",
    "trusted": true
   },
   "outputs": [
    {
     "data": {
      "text/html": [
       "<div>\n",
       "<style scoped>\n",
       "    .dataframe tbody tr th:only-of-type {\n",
       "        vertical-align: middle;\n",
       "    }\n",
       "\n",
       "    .dataframe tbody tr th {\n",
       "        vertical-align: top;\n",
       "    }\n",
       "\n",
       "    .dataframe thead th {\n",
       "        text-align: right;\n",
       "    }\n",
       "</style>\n",
       "<table border=\"1\" class=\"dataframe\">\n",
       "  <thead>\n",
       "    <tr style=\"text-align: right;\">\n",
       "      <th>title</th>\n",
       "      <th>Diving Bell and the Butterfly, The (Scaphandre et le papillon, Le) (2007)</th>\n",
       "      <th>I Can't Think Straight (2007)</th>\n",
       "      <th>Harry Potter and the Sorcerer's Stone (a.k.a. Harry Potter and the Philosopher's Stone) (2001)</th>\n",
       "      <th>Rage of Honor (1987)</th>\n",
       "      <th>Citizen X (1995)</th>\n",
       "    </tr>\n",
       "    <tr>\n",
       "      <th>title</th>\n",
       "      <th></th>\n",
       "      <th></th>\n",
       "      <th></th>\n",
       "      <th></th>\n",
       "      <th></th>\n",
       "    </tr>\n",
       "  </thead>\n",
       "  <tbody>\n",
       "    <tr>\n",
       "      <th>Saved! (2004)</th>\n",
       "      <td>0.0</td>\n",
       "      <td>0.0</td>\n",
       "      <td>0.0</td>\n",
       "      <td>0.0</td>\n",
       "      <td>0.0</td>\n",
       "    </tr>\n",
       "    <tr>\n",
       "      <th>Pontypool (2008)</th>\n",
       "      <td>0.0</td>\n",
       "      <td>0.0</td>\n",
       "      <td>0.0</td>\n",
       "      <td>0.0</td>\n",
       "      <td>0.0</td>\n",
       "    </tr>\n",
       "    <tr>\n",
       "      <th>Harder They Fall, The (1956)</th>\n",
       "      <td>1.0</td>\n",
       "      <td>1.0</td>\n",
       "      <td>0.0</td>\n",
       "      <td>0.0</td>\n",
       "      <td>0.0</td>\n",
       "    </tr>\n",
       "    <tr>\n",
       "      <th>Andalusian Dog, An (Chien andalou, Un) (1929)</th>\n",
       "      <td>0.0</td>\n",
       "      <td>0.0</td>\n",
       "      <td>0.0</td>\n",
       "      <td>0.0</td>\n",
       "      <td>0.0</td>\n",
       "    </tr>\n",
       "    <tr>\n",
       "      <th>Suicide Club (Jisatsu saakuru) (2001)</th>\n",
       "      <td>0.0</td>\n",
       "      <td>0.0</td>\n",
       "      <td>0.0</td>\n",
       "      <td>0.0</td>\n",
       "      <td>0.0</td>\n",
       "    </tr>\n",
       "    <tr>\n",
       "      <th>Fur: An Imaginary Portrait of Diane Arbus (2006)</th>\n",
       "      <td>1.0</td>\n",
       "      <td>1.0</td>\n",
       "      <td>0.0</td>\n",
       "      <td>0.0</td>\n",
       "      <td>0.0</td>\n",
       "    </tr>\n",
       "    <tr>\n",
       "      <th>Before the Devil Knows You're Dead (2007)</th>\n",
       "      <td>0.0</td>\n",
       "      <td>0.0</td>\n",
       "      <td>0.0</td>\n",
       "      <td>0.0</td>\n",
       "      <td>1.0</td>\n",
       "    </tr>\n",
       "    <tr>\n",
       "      <th>Remember Me (2010)</th>\n",
       "      <td>1.0</td>\n",
       "      <td>1.0</td>\n",
       "      <td>0.0</td>\n",
       "      <td>0.0</td>\n",
       "      <td>0.0</td>\n",
       "    </tr>\n",
       "    <tr>\n",
       "      <th>Prince of Darkness (1987)</th>\n",
       "      <td>0.0</td>\n",
       "      <td>0.0</td>\n",
       "      <td>0.0</td>\n",
       "      <td>0.0</td>\n",
       "      <td>0.0</td>\n",
       "    </tr>\n",
       "    <tr>\n",
       "      <th>Intolerance: Love's Struggle Throughout the Ages (1916)</th>\n",
       "      <td>1.0</td>\n",
       "      <td>1.0</td>\n",
       "      <td>0.0</td>\n",
       "      <td>0.0</td>\n",
       "      <td>0.0</td>\n",
       "    </tr>\n",
       "  </tbody>\n",
       "</table>\n",
       "</div>"
      ],
      "text/plain": [
       "title                                               Diving Bell and the Butterfly, The (Scaphandre et le papillon, Le) (2007)  \\\n",
       "title                                                                                                                           \n",
       "Saved! (2004)                                                                                     0.0                           \n",
       "Pontypool (2008)                                                                                  0.0                           \n",
       "Harder They Fall, The (1956)                                                                      1.0                           \n",
       "Andalusian Dog, An (Chien andalou, Un) (1929)                                                     0.0                           \n",
       "Suicide Club (Jisatsu saakuru) (2001)                                                             0.0                           \n",
       "Fur: An Imaginary Portrait of Diane Arbus (2006)                                                  1.0                           \n",
       "Before the Devil Knows You're Dead (2007)                                                         0.0                           \n",
       "Remember Me (2010)                                                                                1.0                           \n",
       "Prince of Darkness (1987)                                                                         0.0                           \n",
       "Intolerance: Love's Struggle Throughout the Age...                                                1.0                           \n",
       "\n",
       "title                                               I Can't Think Straight (2007)  \\\n",
       "title                                                                               \n",
       "Saved! (2004)                                                                 0.0   \n",
       "Pontypool (2008)                                                              0.0   \n",
       "Harder They Fall, The (1956)                                                  1.0   \n",
       "Andalusian Dog, An (Chien andalou, Un) (1929)                                 0.0   \n",
       "Suicide Club (Jisatsu saakuru) (2001)                                         0.0   \n",
       "Fur: An Imaginary Portrait of Diane Arbus (2006)                              1.0   \n",
       "Before the Devil Knows You're Dead (2007)                                     0.0   \n",
       "Remember Me (2010)                                                            1.0   \n",
       "Prince of Darkness (1987)                                                     0.0   \n",
       "Intolerance: Love's Struggle Throughout the Age...                            1.0   \n",
       "\n",
       "title                                               Harry Potter and the Sorcerer's Stone (a.k.a. Harry Potter and the Philosopher's Stone) (2001)  \\\n",
       "title                                                                                                                                                \n",
       "Saved! (2004)                                                                                     0.0                                                \n",
       "Pontypool (2008)                                                                                  0.0                                                \n",
       "Harder They Fall, The (1956)                                                                      0.0                                                \n",
       "Andalusian Dog, An (Chien andalou, Un) (1929)                                                     0.0                                                \n",
       "Suicide Club (Jisatsu saakuru) (2001)                                                             0.0                                                \n",
       "Fur: An Imaginary Portrait of Diane Arbus (2006)                                                  0.0                                                \n",
       "Before the Devil Knows You're Dead (2007)                                                         0.0                                                \n",
       "Remember Me (2010)                                                                                0.0                                                \n",
       "Prince of Darkness (1987)                                                                         0.0                                                \n",
       "Intolerance: Love's Struggle Throughout the Age...                                                0.0                                                \n",
       "\n",
       "title                                               Rage of Honor (1987)  \\\n",
       "title                                                                      \n",
       "Saved! (2004)                                                        0.0   \n",
       "Pontypool (2008)                                                     0.0   \n",
       "Harder They Fall, The (1956)                                         0.0   \n",
       "Andalusian Dog, An (Chien andalou, Un) (1929)                        0.0   \n",
       "Suicide Club (Jisatsu saakuru) (2001)                                0.0   \n",
       "Fur: An Imaginary Portrait of Diane Arbus (2006)                     0.0   \n",
       "Before the Devil Knows You're Dead (2007)                            0.0   \n",
       "Remember Me (2010)                                                   0.0   \n",
       "Prince of Darkness (1987)                                            0.0   \n",
       "Intolerance: Love's Struggle Throughout the Age...                   0.0   \n",
       "\n",
       "title                                               Citizen X (1995)  \n",
       "title                                                                 \n",
       "Saved! (2004)                                                    0.0  \n",
       "Pontypool (2008)                                                 0.0  \n",
       "Harder They Fall, The (1956)                                     0.0  \n",
       "Andalusian Dog, An (Chien andalou, Un) (1929)                    0.0  \n",
       "Suicide Club (Jisatsu saakuru) (2001)                            0.0  \n",
       "Fur: An Imaginary Portrait of Diane Arbus (2006)                 0.0  \n",
       "Before the Devil Knows You're Dead (2007)                        1.0  \n",
       "Remember Me (2010)                                               0.0  \n",
       "Prince of Darkness (1987)                                        0.0  \n",
       "Intolerance: Love's Struggle Throughout the Age...               0.0  "
      ]
     },
     "execution_count": 46,
     "metadata": {},
     "output_type": "execute_result"
    }
   ],
   "source": [
    "cosine_df = pd.DataFrame(cosine, index=movies_df.title, columns=movies_df.title)\n",
    "cosine_df.sample(5, axis=1).sample(10, axis=0)"
   ]
  },
  {
   "cell_type": "markdown",
   "metadata": {
    "id": "qBmaDW6R_ryl"
   },
   "source": [
    "#### *Data Encoding*\n",
    "\n",
    "> **Penjelasan**: *Data encoding* merupakan langkah untuk mengonversi data ke dalam bentuk numerik.\n",
    "\n",
    "> **Alasan**: Nilai pada userId dan movieId sebelumnya tidak berurutan (misal: 0, 1, 2, dan seterusnya), sehingga diperlukan proses ini untuk mengubahnya menjadi angka yang terurut (*index*). Hal ini bertujuan agar data lebih mudah diproses oleh model."
   ]
  },
  {
   "cell_type": "code",
   "execution_count": 47,
   "metadata": {
    "colab": {
     "base_uri": "https://localhost:8080/"
    },
    "execution": {
     "iopub.execute_input": "2025-05-01T10:28:20.032165Z",
     "iopub.status.busy": "2025-05-01T10:28:20.032006Z",
     "iopub.status.idle": "2025-05-01T10:28:20.037584Z",
     "shell.execute_reply": "2025-05-01T10:28:20.036871Z",
     "shell.execute_reply.started": "2025-05-01T10:28:20.032152Z"
    },
    "id": "Cw-oafJb_0bK",
    "outputId": "72eaa1f7-4765-47b6-aed6-d78e48d84050",
    "trusted": true
   },
   "outputs": [
    {
     "name": "stdout",
     "output_type": "stream",
     "text": [
      "list userId: [587, 608, 385, 475, 82, 20, 179, 480, 588, 6, 14, 411, 121, 561, 600, 191, 391, 373, 177, 566, 541, 414, 151, 337, 282, 395, 91, 169, 455, 19, 273, 350, 328, 84, 90, 372, 599, 559, 266, 314, 156, 40, 44, 521, 489, 555, 448, 501, 78, 301, 199, 604, 297, 474, 28, 43, 140, 263, 33, 265, 488, 280, 458, 605, 603, 95, 325, 518, 47, 63, 166, 470, 274, 198, 96, 112, 32, 217, 21, 387, 386, 311, 544, 234, 368, 597, 514, 354, 479, 42, 18, 336, 401, 132, 38, 202, 24, 331, 85, 267, 304, 429, 181, 196, 150, 226, 269, 492, 113, 539, 606, 45, 548, 51, 380, 438, 307, 117, 100, 456, 477, 524, 437, 254, 483, 214, 160, 288, 469, 57, 451, 187, 444, 313, 1, 389, 249, 404, 4, 103, 402, 609, 136, 318, 246, 602, 260, 290, 520, 540, 568, 312, 571, 476, 410, 268, 108, 517, 592, 68, 142, 425, 379, 221, 486, 79, 369, 182, 176, 590, 586, 534, 243, 23, 585, 500, 66, 170, 219, 35, 353, 287, 9, 607, 195, 275, 584, 440, 436, 278, 594, 562, 579, 446, 235, 105, 543, 227, 58, 384, 468, 240, 232, 330, 130, 101, 99, 376, 27, 546, 310, 53, 321, 46, 22, 294, 447, 399, 484, 473, 102, 262, 134, 284, 174, 109, 239, 125, 532, 5, 530, 434, 319, 131, 348, 231, 229, 482, 367, 567, 490, 485, 537, 419, 323, 495, 536, 570, 394, 271, 504, 56, 26, 580, 17, 144, 295, 512, 64, 523, 558, 165, 576, 464, 349, 467, 213, 454, 542, 575, 324, 104, 292, 357, 186, 256, 527, 356, 238, 596, 302, 54, 305, 222, 115, 493, 428, 552, 381, 375, 351, 462, 11, 225, 346, 382, 286, 392, 554, 83, 36, 244, 553, 93, 298, 62, 279, 178, 432, 39, 137, 503, 31, 388, 418, 529, 377, 453, 560, 277, 293, 361, 339, 171, 400, 370, 345, 276, 86, 281, 194, 342, 180, 153, 509, 572, 413, 593, 135, 525, 89, 383, 497, 415, 59, 216, 398, 421, 322, 253, 74, 75, 355, 409, 128, 285, 412, 577, 29, 70, 309, 481, 563, 138, 167, 161, 211, 10, 538, 200, 610, 452, 329, 159, 215, 7, 283, 3, 591, 212, 16, 13, 589, 508, 237, 77, 30, 352, 80, 526, 60, 308, 332, 52, 188, 362, 183, 124, 116, 317, 50, 272, 505, 405, 417, 531, 201, 465, 236, 110, 250, 343, 326, 547, 499, 423, 149, 374, 230, 164, 12, 303, 218, 431, 510, 360, 220, 261, 426, 155, 420, 363, 224, 487, 163, 522, 15, 430, 73, 185, 397, 296, 141, 528, 255, 334, 491, 403, 111, 315, 516, 55, 207, 197, 549, 422, 390, 92, 72, 129, 533, 358, 233, 424, 76, 551, 327, 48, 408, 157, 371, 472, 34, 535, 359, 502, 175, 67, 439, 583, 457, 41, 573, 406, 460, 595, 306, 289, 365, 316, 203, 407, 127, 241, 245, 65, 204, 511, 168, 450, 299, 442, 333, 97, 341, 320, 146, 87, 449, 545, 344, 496, 416, 69, 119, 441, 210, 427, 247, 190, 578, 466, 139, 143, 184, 205, 601, 300, 513, 148, 88, 61, 366, 264, 463, 564, 506, 519, 158, 223, 338, 378, 193, 445, 478, 98, 556, 122, 393, 152, 258, 2, 154, 123, 443, 582, 550, 209, 106, 598, 291, 248, 581, 515, 114, 252, 25, 251, 471, 459]\n",
      "encoded userId: {587: 0, 608: 1, 385: 2, 475: 3, 82: 4, 20: 5, 179: 6, 480: 7, 588: 8, 6: 9, 14: 10, 411: 11, 121: 12, 561: 13, 600: 14, 191: 15, 391: 16, 373: 17, 177: 18, 566: 19, 541: 20, 414: 21, 151: 22, 337: 23, 282: 24, 395: 25, 91: 26, 169: 27, 455: 28, 19: 29, 273: 30, 350: 31, 328: 32, 84: 33, 90: 34, 372: 35, 599: 36, 559: 37, 266: 38, 314: 39, 156: 40, 40: 41, 44: 42, 521: 43, 489: 44, 555: 45, 448: 46, 501: 47, 78: 48, 301: 49, 199: 50, 604: 51, 297: 52, 474: 53, 28: 54, 43: 55, 140: 56, 263: 57, 33: 58, 265: 59, 488: 60, 280: 61, 458: 62, 605: 63, 603: 64, 95: 65, 325: 66, 518: 67, 47: 68, 63: 69, 166: 70, 470: 71, 274: 72, 198: 73, 96: 74, 112: 75, 32: 76, 217: 77, 21: 78, 387: 79, 386: 80, 311: 81, 544: 82, 234: 83, 368: 84, 597: 85, 514: 86, 354: 87, 479: 88, 42: 89, 18: 90, 336: 91, 401: 92, 132: 93, 38: 94, 202: 95, 24: 96, 331: 97, 85: 98, 267: 99, 304: 100, 429: 101, 181: 102, 196: 103, 150: 104, 226: 105, 269: 106, 492: 107, 113: 108, 539: 109, 606: 110, 45: 111, 548: 112, 51: 113, 380: 114, 438: 115, 307: 116, 117: 117, 100: 118, 456: 119, 477: 120, 524: 121, 437: 122, 254: 123, 483: 124, 214: 125, 160: 126, 288: 127, 469: 128, 57: 129, 451: 130, 187: 131, 444: 132, 313: 133, 1: 134, 389: 135, 249: 136, 404: 137, 4: 138, 103: 139, 402: 140, 609: 141, 136: 142, 318: 143, 246: 144, 602: 145, 260: 146, 290: 147, 520: 148, 540: 149, 568: 150, 312: 151, 571: 152, 476: 153, 410: 154, 268: 155, 108: 156, 517: 157, 592: 158, 68: 159, 142: 160, 425: 161, 379: 162, 221: 163, 486: 164, 79: 165, 369: 166, 182: 167, 176: 168, 590: 169, 586: 170, 534: 171, 243: 172, 23: 173, 585: 174, 500: 175, 66: 176, 170: 177, 219: 178, 35: 179, 353: 180, 287: 181, 9: 182, 607: 183, 195: 184, 275: 185, 584: 186, 440: 187, 436: 188, 278: 189, 594: 190, 562: 191, 579: 192, 446: 193, 235: 194, 105: 195, 543: 196, 227: 197, 58: 198, 384: 199, 468: 200, 240: 201, 232: 202, 330: 203, 130: 204, 101: 205, 99: 206, 376: 207, 27: 208, 546: 209, 310: 210, 53: 211, 321: 212, 46: 213, 22: 214, 294: 215, 447: 216, 399: 217, 484: 218, 473: 219, 102: 220, 262: 221, 134: 222, 284: 223, 174: 224, 109: 225, 239: 226, 125: 227, 532: 228, 5: 229, 530: 230, 434: 231, 319: 232, 131: 233, 348: 234, 231: 235, 229: 236, 482: 237, 367: 238, 567: 239, 490: 240, 485: 241, 537: 242, 419: 243, 323: 244, 495: 245, 536: 246, 570: 247, 394: 248, 271: 249, 504: 250, 56: 251, 26: 252, 580: 253, 17: 254, 144: 255, 295: 256, 512: 257, 64: 258, 523: 259, 558: 260, 165: 261, 576: 262, 464: 263, 349: 264, 467: 265, 213: 266, 454: 267, 542: 268, 575: 269, 324: 270, 104: 271, 292: 272, 357: 273, 186: 274, 256: 275, 527: 276, 356: 277, 238: 278, 596: 279, 302: 280, 54: 281, 305: 282, 222: 283, 115: 284, 493: 285, 428: 286, 552: 287, 381: 288, 375: 289, 351: 290, 462: 291, 11: 292, 225: 293, 346: 294, 382: 295, 286: 296, 392: 297, 554: 298, 83: 299, 36: 300, 244: 301, 553: 302, 93: 303, 298: 304, 62: 305, 279: 306, 178: 307, 432: 308, 39: 309, 137: 310, 503: 311, 31: 312, 388: 313, 418: 314, 529: 315, 377: 316, 453: 317, 560: 318, 277: 319, 293: 320, 361: 321, 339: 322, 171: 323, 400: 324, 370: 325, 345: 326, 276: 327, 86: 328, 281: 329, 194: 330, 342: 331, 180: 332, 153: 333, 509: 334, 572: 335, 413: 336, 593: 337, 135: 338, 525: 339, 89: 340, 383: 341, 497: 342, 415: 343, 59: 344, 216: 345, 398: 346, 421: 347, 322: 348, 253: 349, 74: 350, 75: 351, 355: 352, 409: 353, 128: 354, 285: 355, 412: 356, 577: 357, 29: 358, 70: 359, 309: 360, 481: 361, 563: 362, 138: 363, 167: 364, 161: 365, 211: 366, 10: 367, 538: 368, 200: 369, 610: 370, 452: 371, 329: 372, 159: 373, 215: 374, 7: 375, 283: 376, 3: 377, 591: 378, 212: 379, 16: 380, 13: 381, 589: 382, 508: 383, 237: 384, 77: 385, 30: 386, 352: 387, 80: 388, 526: 389, 60: 390, 308: 391, 332: 392, 52: 393, 188: 394, 362: 395, 183: 396, 124: 397, 116: 398, 317: 399, 50: 400, 272: 401, 505: 402, 405: 403, 417: 404, 531: 405, 201: 406, 465: 407, 236: 408, 110: 409, 250: 410, 343: 411, 326: 412, 547: 413, 499: 414, 423: 415, 149: 416, 374: 417, 230: 418, 164: 419, 12: 420, 303: 421, 218: 422, 431: 423, 510: 424, 360: 425, 220: 426, 261: 427, 426: 428, 155: 429, 420: 430, 363: 431, 224: 432, 487: 433, 163: 434, 522: 435, 15: 436, 430: 437, 73: 438, 185: 439, 397: 440, 296: 441, 141: 442, 528: 443, 255: 444, 334: 445, 491: 446, 403: 447, 111: 448, 315: 449, 516: 450, 55: 451, 207: 452, 197: 453, 549: 454, 422: 455, 390: 456, 92: 457, 72: 458, 129: 459, 533: 460, 358: 461, 233: 462, 424: 463, 76: 464, 551: 465, 327: 466, 48: 467, 408: 468, 157: 469, 371: 470, 472: 471, 34: 472, 535: 473, 359: 474, 502: 475, 175: 476, 67: 477, 439: 478, 583: 479, 457: 480, 41: 481, 573: 482, 406: 483, 460: 484, 595: 485, 306: 486, 289: 487, 365: 488, 316: 489, 203: 490, 407: 491, 127: 492, 241: 493, 245: 494, 65: 495, 204: 496, 511: 497, 168: 498, 450: 499, 299: 500, 442: 501, 333: 502, 97: 503, 341: 504, 320: 505, 146: 506, 87: 507, 449: 508, 545: 509, 344: 510, 496: 511, 416: 512, 69: 513, 119: 514, 441: 515, 210: 516, 427: 517, 247: 518, 190: 519, 578: 520, 466: 521, 139: 522, 143: 523, 184: 524, 205: 525, 601: 526, 300: 527, 513: 528, 148: 529, 88: 530, 61: 531, 366: 532, 264: 533, 463: 534, 564: 535, 506: 536, 519: 537, 158: 538, 223: 539, 338: 540, 378: 541, 193: 542, 445: 543, 478: 544, 98: 545, 556: 546, 122: 547, 393: 548, 152: 549, 258: 550, 2: 551, 154: 552, 123: 553, 443: 554, 582: 555, 550: 556, 209: 557, 106: 558, 598: 559, 291: 560, 248: 561, 581: 562, 515: 563, 114: 564, 252: 565, 25: 566, 251: 567, 471: 568, 459: 569}\n",
      "decoded userId: {0: 587, 1: 608, 2: 385, 3: 475, 4: 82, 5: 20, 6: 179, 7: 480, 8: 588, 9: 6, 10: 14, 11: 411, 12: 121, 13: 561, 14: 600, 15: 191, 16: 391, 17: 373, 18: 177, 19: 566, 20: 541, 21: 414, 22: 151, 23: 337, 24: 282, 25: 395, 26: 91, 27: 169, 28: 455, 29: 19, 30: 273, 31: 350, 32: 328, 33: 84, 34: 90, 35: 372, 36: 599, 37: 559, 38: 266, 39: 314, 40: 156, 41: 40, 42: 44, 43: 521, 44: 489, 45: 555, 46: 448, 47: 501, 48: 78, 49: 301, 50: 199, 51: 604, 52: 297, 53: 474, 54: 28, 55: 43, 56: 140, 57: 263, 58: 33, 59: 265, 60: 488, 61: 280, 62: 458, 63: 605, 64: 603, 65: 95, 66: 325, 67: 518, 68: 47, 69: 63, 70: 166, 71: 470, 72: 274, 73: 198, 74: 96, 75: 112, 76: 32, 77: 217, 78: 21, 79: 387, 80: 386, 81: 311, 82: 544, 83: 234, 84: 368, 85: 597, 86: 514, 87: 354, 88: 479, 89: 42, 90: 18, 91: 336, 92: 401, 93: 132, 94: 38, 95: 202, 96: 24, 97: 331, 98: 85, 99: 267, 100: 304, 101: 429, 102: 181, 103: 196, 104: 150, 105: 226, 106: 269, 107: 492, 108: 113, 109: 539, 110: 606, 111: 45, 112: 548, 113: 51, 114: 380, 115: 438, 116: 307, 117: 117, 118: 100, 119: 456, 120: 477, 121: 524, 122: 437, 123: 254, 124: 483, 125: 214, 126: 160, 127: 288, 128: 469, 129: 57, 130: 451, 131: 187, 132: 444, 133: 313, 134: 1, 135: 389, 136: 249, 137: 404, 138: 4, 139: 103, 140: 402, 141: 609, 142: 136, 143: 318, 144: 246, 145: 602, 146: 260, 147: 290, 148: 520, 149: 540, 150: 568, 151: 312, 152: 571, 153: 476, 154: 410, 155: 268, 156: 108, 157: 517, 158: 592, 159: 68, 160: 142, 161: 425, 162: 379, 163: 221, 164: 486, 165: 79, 166: 369, 167: 182, 168: 176, 169: 590, 170: 586, 171: 534, 172: 243, 173: 23, 174: 585, 175: 500, 176: 66, 177: 170, 178: 219, 179: 35, 180: 353, 181: 287, 182: 9, 183: 607, 184: 195, 185: 275, 186: 584, 187: 440, 188: 436, 189: 278, 190: 594, 191: 562, 192: 579, 193: 446, 194: 235, 195: 105, 196: 543, 197: 227, 198: 58, 199: 384, 200: 468, 201: 240, 202: 232, 203: 330, 204: 130, 205: 101, 206: 99, 207: 376, 208: 27, 209: 546, 210: 310, 211: 53, 212: 321, 213: 46, 214: 22, 215: 294, 216: 447, 217: 399, 218: 484, 219: 473, 220: 102, 221: 262, 222: 134, 223: 284, 224: 174, 225: 109, 226: 239, 227: 125, 228: 532, 229: 5, 230: 530, 231: 434, 232: 319, 233: 131, 234: 348, 235: 231, 236: 229, 237: 482, 238: 367, 239: 567, 240: 490, 241: 485, 242: 537, 243: 419, 244: 323, 245: 495, 246: 536, 247: 570, 248: 394, 249: 271, 250: 504, 251: 56, 252: 26, 253: 580, 254: 17, 255: 144, 256: 295, 257: 512, 258: 64, 259: 523, 260: 558, 261: 165, 262: 576, 263: 464, 264: 349, 265: 467, 266: 213, 267: 454, 268: 542, 269: 575, 270: 324, 271: 104, 272: 292, 273: 357, 274: 186, 275: 256, 276: 527, 277: 356, 278: 238, 279: 596, 280: 302, 281: 54, 282: 305, 283: 222, 284: 115, 285: 493, 286: 428, 287: 552, 288: 381, 289: 375, 290: 351, 291: 462, 292: 11, 293: 225, 294: 346, 295: 382, 296: 286, 297: 392, 298: 554, 299: 83, 300: 36, 301: 244, 302: 553, 303: 93, 304: 298, 305: 62, 306: 279, 307: 178, 308: 432, 309: 39, 310: 137, 311: 503, 312: 31, 313: 388, 314: 418, 315: 529, 316: 377, 317: 453, 318: 560, 319: 277, 320: 293, 321: 361, 322: 339, 323: 171, 324: 400, 325: 370, 326: 345, 327: 276, 328: 86, 329: 281, 330: 194, 331: 342, 332: 180, 333: 153, 334: 509, 335: 572, 336: 413, 337: 593, 338: 135, 339: 525, 340: 89, 341: 383, 342: 497, 343: 415, 344: 59, 345: 216, 346: 398, 347: 421, 348: 322, 349: 253, 350: 74, 351: 75, 352: 355, 353: 409, 354: 128, 355: 285, 356: 412, 357: 577, 358: 29, 359: 70, 360: 309, 361: 481, 362: 563, 363: 138, 364: 167, 365: 161, 366: 211, 367: 10, 368: 538, 369: 200, 370: 610, 371: 452, 372: 329, 373: 159, 374: 215, 375: 7, 376: 283, 377: 3, 378: 591, 379: 212, 380: 16, 381: 13, 382: 589, 383: 508, 384: 237, 385: 77, 386: 30, 387: 352, 388: 80, 389: 526, 390: 60, 391: 308, 392: 332, 393: 52, 394: 188, 395: 362, 396: 183, 397: 124, 398: 116, 399: 317, 400: 50, 401: 272, 402: 505, 403: 405, 404: 417, 405: 531, 406: 201, 407: 465, 408: 236, 409: 110, 410: 250, 411: 343, 412: 326, 413: 547, 414: 499, 415: 423, 416: 149, 417: 374, 418: 230, 419: 164, 420: 12, 421: 303, 422: 218, 423: 431, 424: 510, 425: 360, 426: 220, 427: 261, 428: 426, 429: 155, 430: 420, 431: 363, 432: 224, 433: 487, 434: 163, 435: 522, 436: 15, 437: 430, 438: 73, 439: 185, 440: 397, 441: 296, 442: 141, 443: 528, 444: 255, 445: 334, 446: 491, 447: 403, 448: 111, 449: 315, 450: 516, 451: 55, 452: 207, 453: 197, 454: 549, 455: 422, 456: 390, 457: 92, 458: 72, 459: 129, 460: 533, 461: 358, 462: 233, 463: 424, 464: 76, 465: 551, 466: 327, 467: 48, 468: 408, 469: 157, 470: 371, 471: 472, 472: 34, 473: 535, 474: 359, 475: 502, 476: 175, 477: 67, 478: 439, 479: 583, 480: 457, 481: 41, 482: 573, 483: 406, 484: 460, 485: 595, 486: 306, 487: 289, 488: 365, 489: 316, 490: 203, 491: 407, 492: 127, 493: 241, 494: 245, 495: 65, 496: 204, 497: 511, 498: 168, 499: 450, 500: 299, 501: 442, 502: 333, 503: 97, 504: 341, 505: 320, 506: 146, 507: 87, 508: 449, 509: 545, 510: 344, 511: 496, 512: 416, 513: 69, 514: 119, 515: 441, 516: 210, 517: 427, 518: 247, 519: 190, 520: 578, 521: 466, 522: 139, 523: 143, 524: 184, 525: 205, 526: 601, 527: 300, 528: 513, 529: 148, 530: 88, 531: 61, 532: 366, 533: 264, 534: 463, 535: 564, 536: 506, 537: 519, 538: 158, 539: 223, 540: 338, 541: 378, 542: 193, 543: 445, 544: 478, 545: 98, 546: 556, 547: 122, 548: 393, 549: 152, 550: 258, 551: 2, 552: 154, 553: 123, 554: 443, 555: 582, 556: 550, 557: 209, 558: 106, 559: 598, 560: 291, 561: 248, 562: 581, 563: 515, 564: 114, 565: 252, 566: 25, 567: 251, 568: 471, 569: 459}\n"
     ]
    }
   ],
   "source": [
    "Id_user = clean_ratings_df['userId'].unique().tolist()\n",
    "print('list userId:', Id_user)\n",
    "\n",
    "user_encoded = {x: i for i, x in enumerate(Id_user)}\n",
    "print('encoded userId:', user_encoded)\n",
    "\n",
    "decode_user = {i: x for i, x in enumerate(Id_user)}\n",
    "print('decoded userId:', decode_user)"
   ]
  },
  {
   "cell_type": "code",
   "execution_count": 48,
   "metadata": {
    "colab": {
     "base_uri": "https://localhost:8080/"
    },
    "execution": {
     "iopub.execute_input": "2025-05-01T10:28:20.038642Z",
     "iopub.status.busy": "2025-05-01T10:28:20.038320Z",
     "iopub.status.idle": "2025-05-01T10:28:20.070538Z",
     "shell.execute_reply": "2025-05-01T10:28:20.069886Z",
     "shell.execute_reply.started": "2025-05-01T10:28:20.038620Z"
    },
    "id": "3qrGkKKZAjQa",
    "outputId": "451a42cd-f03a-40b9-98a4-a4c5ebbdcb4b",
    "trusted": true
   },
   "outputs": [
    {
     "name": "stdout",
     "output_type": "stream",
     "text": [
      "list movieId: [1, 2, 3, 4, 5, 6, 7, 8, 9, 10, 11, 12, 13, 14, 15, 16, 17, 18, 19, 20, 21, 22, 23, 24, 25, 26, 27, 28, 29, 30, 31, 32, 34, 36, 38, 39, 40, 41, 42, 43, 44, 45, 46, 47, 48, 49, 50, 52, 53, 54, 55, 57, 58, 60, 61, 62, 63, 64, 65, 66, 68, 69, 70, 71, 72, 73, 74, 75, 76, 77, 78, 79, 80, 81, 82, 83, 85, 86, 87, 88, 89, 92, 93, 94, 95, 96, 97, 99, 100, 101, 102, 103, 104, 105, 106, 107, 108, 110, 111, 112, 113, 116, 117, 118, 119, 121, 122, 123, 125, 126, 128, 129, 132, 135, 137, 140, 141, 144, 145, 146, 147, 148, 149, 150, 151, 152, 153, 154, 155, 156, 157, 158, 159, 160, 161, 162, 163, 164, 165, 166, 168, 169, 170, 171, 172, 173, 174, 175, 176, 177, 178, 179, 180, 181, 183, 184, 185, 186, 187, 188, 189, 190, 191, 193, 194, 195, 196, 198, 199, 201, 202, 203, 204, 205, 206, 207, 208, 209, 210, 211, 212, 213, 214, 215, 216, 217, 218, 219, 220, 222, 223, 224, 225, 227, 228, 229, 230, 231, 232, 233, 234, 235, 236, 237, 238, 239, 240, 241, 242, 243, 246, 247, 248, 249, 250, 251, 252, 253, 254, 255, 256, 257, 258, 259, 260, 261, 262, 263, 265, 266, 267, 269, 270, 271, 272, 273, 274, 275, 276, 277, 278, 279, 280, 281, 282, 283, 284, 285, 287, 288, 289, 290, 291, 292, 293, 294, 295, 296, 298, 299, 300, 301, 302, 303, 304, 305, 306, 307, 308, 310, 311, 312, 313, 314, 315, 316, 317, 318, 319, 320, 321, 322, 324, 325, 326, 327, 328, 329, 330, 331, 332, 333, 334, 335, 336, 337, 338, 339, 340, 341, 342, 343, 344, 345, 346, 347, 348, 349, 350, 351, 352, 353, 354, 355, 356, 357, 358, 359, 360, 361, 362, 363, 364, 365, 366, 367, 368, 369, 370, 371, 372, 373, 374, 376, 377, 378, 379, 380, 381, 382, 383, 384, 385, 386, 387, 388, 389, 390, 391, 393, 405, 406, 407, 408, 409, 410, 412, 413, 414, 415, 416, 417, 418, 419, 420, 421, 422, 423, 424, 425, 426, 427, 428, 429, 430, 431, 432, 433, 434, 435, 436, 437, 438, 440, 441, 442, 444, 445, 446, 448, 449, 450, 451, 452, 453, 454, 455, 456, 457, 458, 459, 460, 461, 464, 466, 467, 468, 469, 470, 471, 472, 473, 474, 475, 476, 477, 478, 479, 480, 481, 482, 484, 485, 486, 487, 488, 489, 490, 491, 492, 493, 494, 495, 496, 497, 499, 500, 501, 502, 504, 505, 506, 507, 508, 509, 510, 511, 512, 513, 514, 515, 516, 517, 518, 519, 520, 521, 522, 523, 524, 526, 527, 528, 529, 531, 532, 533, 534, 535, 536, 537, 538, 539, 540, 541, 542, 543, 544, 546, 547, 548, 549, 550, 551, 552, 553, 555, 556, 558, 562, 563, 564, 567, 568, 569, 573, 574, 575, 577, 579, 580, 581, 583, 585, 586, 587, 588, 589, 590, 592, 593, 594, 595, 596, 597, 599, 600, 602, 605, 606, 608, 609, 610, 611, 612, 613, 615, 616, 617, 618, 619, 626, 627, 628, 631, 632, 633, 634, 635, 636, 637, 638, 639, 640, 645, 647, 648, 649, 650, 653, 656, 661, 662, 663, 665, 667, 668, 670, 671, 673, 674, 678, 679, 680, 685, 688, 691, 692, 694, 695, 697, 698, 700, 703, 704, 706, 707, 708, 709, 710, 711, 714, 715, 718, 719, 720, 722, 724, 725, 726, 728, 731, 733, 735, 736, 737, 741, 742, 743, 745, 747, 748, 750, 757, 759, 760, 761, 762, 764, 765, 766, 773, 775, 778, 779, 780, 781, 782, 783, 784, 785, 786, 788, 790, 791, 795, 798, 799, 800, 801, 802, 803, 804, 805, 806, 808, 809, 810, 813, 818, 823, 824, 828, 829, 830, 832, 833, 835, 836, 837, 838, 839, 840, 841, 842, 848, 849, 851, 852, 858, 861, 866, 867, 869, 870, 875, 876, 879, 880, 881, 882, 885, 886, 888, 889, 891, 892, 893, 896, 897, 898, 899, 900, 901, 902, 903, 904, 905, 906, 907, 908, 909, 910, 911, 912, 913, 914, 915, 916, 917, 918, 919, 920, 921, 922, 923, 924, 926, 927, 928, 929, 930, 931, 932, 933, 934, 935, 936, 937, 938, 940, 941, 942, 943, 944, 945, 946, 947, 948, 949, 950, 951, 952, 953, 954, 955, 956, 959, 961, 963, 965, 968, 969, 970, 971, 973, 976, 979, 981, 982, 984, 986, 987, 988, 990, 991, 993, 994, 996, 998, 999, 1003, 1004, 1005, 1006, 1007, 1008, 1009, 1010, 1011, 1012, 1013, 1014, 1015, 1016, 1017, 1018, 1019, 1020, 1021, 1022, 1023, 1024, 1025, 1027, 1028, 1029, 1030, 1031, 1032, 1033, 1034, 1035, 1036, 1037, 1040, 1041, 1042, 1043, 1046, 1047, 1049, 1050, 1051, 1053, 1054, 1055, 1056, 1057, 1059, 1060, 1061, 1064, 1066, 1068, 1073, 1077, 1078, 1079, 1080, 1081, 1082, 1083, 1084, 1085, 1086, 1088, 1089, 1090, 1091, 1092, 1093, 1094, 1095, 1096, 1097, 1099, 1100, 1101, 1103, 1104, 1105, 1107, 1111, 1112, 1114, 1116, 1117, 1119, 1120, 1121, 1123, 1124, 1125, 1126, 1127, 1128, 1129, 1130, 1131, 1132, 1135, 1136, 1137, 1140, 1144, 1147, 1148, 1150, 1151, 1156, 1161, 1162, 1163, 1167, 1170, 1171, 1172, 1173, 1175, 1176, 1177, 1178, 1179, 1180, 1183, 1184, 1185, 1186, 1187, 1188, 1189, 1190, 1191, 1192, 1193, 1194, 1196, 1197, 1198, 1199, 1200, 1201, 1202, 1203, 1204, 1206, 1207, 1208, 1209, 1210, 1211, 1212, 1213, 1214, 1215, 1216, 1217, 1218, 1219, 1220, 1221, 1222, 1223, 1224, 1225, 1226, 1227, 1228, 1230, 1231, 1232, 1233, 1234, 1235, 1236, 1237, 1238, 1240, 1241, 1242, 1243, 1244, 1245, 1246, 1247, 1248, 1249, 1250, 1251, 1252, 1253, 1254, 1255, 1256, 1257, 1258, 1259, 1260, 1261, 1262, 1263, 1264, 1265, 1266, 1267, 1268, 1269, 1270, 1271, 1272, 1273, 1274, 1275, 1276, 1277, 1278, 1279, 1280, 1281, 1282, 1283, 1284, 1285, 1286, 1287, 1288, 1289, 1290, 1291, 1292, 1293, 1295, 1296, 1297, 1298, 1299, 1300, 1301, 1302, 1303, 1304, 1305, 1306, 1307, 1310, 1312, 1318, 1320, 1321, 1322, 1323, 1324, 1325, 1326, 1327, 1328, 1329, 1330, 1331, 1332, 1333, 1334, 1335, 1336, 1337, 1339, 1340, 1341, 1342, 1343, 1344, 1345, 1346, 1347, 1348, 1349, 1350, 1351, 1352, 1353, 1354, 1355, 1356, 1357, 1358, 1359, 1361, 1363, 1365, 1366, 1367, 1370, 1371, 1372, 1373, 1374, 1375, 1376, 1377, 1378, 1379, 1380, 1381, 1382, 1385, 1387, 1388, 1389, 1390, 1391, 1392, 1393, 1394, 1395, 1396, 1397, 1398, 1399, 1401, 1405, 1406, 1407, 1408, 1409, 1411, 1412, 1413, 1414, 1415, 1416, 1417, 1419, 1422, 1423, 1425, 1426, 1427, 1428, 1429, 1430, 1431, 1432, 1437, 1438, 1439, 1440, 1441, 1442, 1445, 1446, 1447, 1449, 1453, 1454, 1456, 1457, 1458, 1459, 1460, 1461, 1464, 1465, 1466, 1468, 1473, 1474, 1475, 1476, 1477, 1479, 1480, 1483, 1484, 1485, 1487, 1488, 1489, 1490, 1493, 1495, 1496, 1497, 1498, 1499, 1500, 1502, 1503, 1507, 1513, 1514, 1515, 1516, 1517, 1518, 1519, 1526, 1527, 1529, 1533, 1537, 1541, 1542, 1544, 1545, 1546, 1547, 1549, 1550, 1551, 1552, 1554, 1556, 1562, 1564, 1565, 1566, 1569, 1571, 1572, 1573, 1574, 1580, 1581, 1582, 1583, 1584, 1585, 1586, 1587, 1588, 1589, 1590, 1591, 1592, 1593, 1594, 1596, 1597, 1598, 1599, 1600, 1601, 1602, 1603, 1604, 1605, 1606, 1608, 1609, 1610, 1611, 1612, 1613, 1614, 1615, 1616, 1617, 1619, 1620, 1621, 1623, 1624, 1625, 1626, 1627, 1629, 1631, 1633, 1635, 1639, 1641, 1642, 1643, 1644, 1645, 1646, 1647, 1648, 1649, 1650, 1652, 1653, 1654, 1655, 1656, 1658, 1659, 1660, 1661, 1662, 1663, 1665, 1667, 1670, 1671, 1672, 1673, 1674, 1675, 1676, 1677, 1678, 1679, 1680, 1681, 1682, 1683, 1684, 1685, 1686, 1687, 1688, 1689, 1690, 1693, 1694, 1695, 1696, 1699, 1701, 1702, 1703, 1704, 1707, 1711, 1713, 1717, 1718, 1719, 1721, 1722, 1726, 1727, 1729, 1730, 1731, 1732, 1733, 1734, 1735, 1739, 1746, 1747, 1748, 1752, 1753, 1754, 1755, 1757, 1759, 1760, 1762, 1767, 1769, 1770, 1771, 1772, 1777, 1779, 1783, 1784, 1785, 1791, 1792, 1793, 1794, 1797, 1798, 1799, 1801, 1804, 1805, 1806, 1807, 1809, 1810, 1812, 1816, 1821, 1824, 1825, 1826, 1827, 1829, 1831, 1833, 1834, 1835, 1836, 1837, 1839, 1840, 1841, 1844, 1845, 1848, 1855, 1856, 1857, 1858, 1859, 1860, 1862, 1863, 1866, 1867, 1870, 1873, 1875, 1876, 1881, 1882, 1883, 1884, 1885, 1887, 1888, 1889, 1891, 1892, 1893, 1894, 1895, 1897, 1900, 1902, 1904, 1906, 1907, 1909, 1910, 1911, 1912, 1913, 1914, 1916, 1917, 1918, 1919, 1920, 1921, 1922, 1923, 1924, 1926, 1927, 1928, 1929, 1931, 1932, 1933, 1934, 1936, 1937, 1938, 1939, 1940, 1941, 1942, 1944, 1945, 1946, 1947, 1948, 1949, 1950, 1951, 1952, 1953, 1954, 1955, 1956, 1957, 1958, 1959, 1960, 1961, 1962, 1963, 1964, 1965, 1966, 1967, 1968, 1969, 1970, 1971, 1972, 1973, 1974, 1975, 1976, 1977, 1978, 1979, 1980, 1981, 1982, 1983, 1984, 1985, 1986, 1987, 1990, 1991, 1992, 1993, 1994, 1995, 1996, 1997, 1998, 1999, 2000, 2001, 2002, 2003, 2004, 2005, 2006, 2007, 2008, 2009, 2010, 2011, 2012, 2013, 2014, 2015, 2016, 2017, 2018, 2019, 2020, 2021, 2022, 2023, 2024, 2025, 2026, 2027, 2028, 2032, 2033, 2034, 2035, 2036, 2037, 2038, 2040, 2041, 2042, 2043, 2044, 2046, 2048, 2050, 2051, 2052, 2053, 2054, 2055, 2056, 2057, 2058, 2059, 2060, 2064, 2065, 2066, 2067, 2068, 2069, 2070, 2071, 2072, 2073, 2074, 2075, 2076, 2077, 2078, 2080, 2081, 2082, 2083, 2084, 2085, 2087, 2088, 2089, 2090, 2091, 2092, 2093, 2094, 2095, 2096, 2097, 2098, 2099, 2100, 2102, 2103, 2104, 2105, 2106, 2107, 2108, 2109, 2110, 2111, 2112, 2114, 2115, 2116, 2117, 2118, 2119, 2120, 2121, 2122, 2123, 2124, 2125, 2126, 2130, 2131, 2132, 2133, 2134, 2135, 2136, 2137, 2138, 2139, 2140, 2141, 2142, 2143, 2144, 2145, 2146, 2147, 2148, 2149, 2150, 2151, 2152, 2153, 2154, 2155, 2156, 2159, 2160, 2161, 2162, 2163, 2164, 2165, 2166, 2167, 2169, 2170, 2171, 2172, 2174, 2175, 2176, 2177, 2178, 2179, 2180, 2181, 2182, 2183, 2184, 2185, 2186, 2187, 2188, 2190, 2193, 2194, 2195, 2196, 2201, 2202, 2203, 2204, 2205, 2206, 2207, 2208, 2210, 2211, 2212, 2226, 2227, 2231, 2232, 2236, 2239, 2240, 2241, 2243, 2244, 2245, 2247, 2248, 2249, 2252, 2253, 2255, 2256, 2257, 2259, 2260, 2261, 2262, 2263, 2264, 2265, 2266, 2267, 2268, 2269, 2271, 2272, 2273, 2275, 2278, 2279, 2280, 2281, 2282, 2283, 2286, 2287, 2288, 2289, 2290, 2291, 2292, 2294, 2295, 2296, 2297, 2298, 2300, 2301, 2302, 2303, 2304, 2306, 2307, 2310, 2311, 2312, 2313, 2314, 2315, 2316, 2318, 2320, 2321, 2322, 2323, 2324, 2325, 2327, 2328, 2329, 2330, 2331, 2332, 2333, 2334, 2335, 2336, 2337, 2338, 2339, 2340, 2342, 2344, 2346, 2347, 2348, 2349, 2350, 2351, 2352, 2353, 2354, 2355, 2356, 2357, 2358, 2359, 2360, 2361, 2362, 2363, 2364, 2365, 2366, 2367, 2368, 2369, 2370, 2371, 2372, 2373, 2374, 2375, 2376, 2377, 2378, 2379, 2380, 2381, 2382, 2383, 2384, 2385, 2387, 2388, 2389, 2390, 2391, 2392, 2393, 2394, 2395, 2396, 2398, 2399, 2400, 2401, 2402, 2403, 2404, 2405, 2406, 2407, 2408, 2409, 2410, 2411, 2412, 2413, 2414, 2415, 2416, 2417, 2418, 2419, 2420, 2421, 2422, 2423, 2424, 2425, 2427, 2428, 2429, 2430, 2431, 2432, 2433, 2435, 2436, 2439, 2442, 2443, 2445, 2446, 2447, 2448, 2450, 2451, 2453, 2454, 2455, 2456, 2457, 2458, 2459, 2460, 2462, 2463, 2465, 2467, 2468, 2469, 2470, 2471, 2472, 2473, 2474, 2475, 2476, 2477, 2478, 2481, 2482, 2483, 2485, 2488, 2490, 2491, 2492, 2493, 2494, 2495, 2496, 2497, 2498, 2500, 2501, 2502, 2503, 2504, 2505, 2506, 2511, 2512, 2513, 2514, 2515, 2516, 2517, 2518, 2520, 2521, 2522, 2523, 2524, 2525, 2526, 2527, 2528, 2529, 2530, 2531, 2532, 2533, 2534, 2535, 2537, 2538, 2539, 2540, 2541, 2542, 2544, 2546, 2548, 2549, 2550, 2551, 2552, 2553, 2554, 2555, 2557, 2558, 2559, 2560, 2561, 2563, 2565, 2566, 2567, 2568, 2570, 2571, 2572, 2573, 2574, 2575, 2577, 2579, 2580, 2581, 2582, 2583, 2585, 2586, 2587, 2589, 2590, 2593, 2594, 2596, 2597, 2598, 2599, 2600, 2605, 2606, 2607, 2609, 2611, 2612, 2613, 2614, 2615, 2616, 2617, 2618, 2620, 2622, 2623, 2624, 2625, 2628, 2629, 2630, 2632, 2633, 2634, 2639, 2640, 2641, 2642, 2643, 2644, 2648, 2651, 2652, 2654, 2655, 2656, 2657, 2659, 2660, 2661, 2662, 2664, 2665, 2668, 2669, 2670, 2671, 2672, 2674, 2676, 2677, 2681, 2682, 2683, 2686, 2687, 2688, 2690, 2691, 2692, 2693, 2694, 2695, 2696, 2697, 2698, 2699, 2700, 2701, 2702, 2706, 2707, 2708, 2709, 2710, 2712, 2713, 2716, 2717, 2718, 2719, 2720, 2722, 2723, 2724, 2725, 2726, 2727, 2728, 2729, 2730, 2731, 2732, 2733, 2734, 2735, 2736, 2737, 2738, 2739, 2740, 2741, 2742, 2743, 2744, 2745, 2746, 2747, 2748, 2749, 2750, 2751, 2752, 2754, 2757, 2759, 2761, 2762, 2763, 2764, 2765, 2766, 2769, 2770, 2771, 2772, 2774, 2775, 2779, 2782, 2784, 2786, 2787, 2788, 2789, 2790, 2791, 2792, 2793, 2794, 2795, 2796, 2797, 2798, 2799, 2800, 2801, 2802, 2803, 2804, 2805, 2806, 2807, 2808, 2810, 2812, 2813, 2815, 2816, 2817, 2818, 2819, 2820, 2822, 2824, 2826, 2827, 2828, 2829, 2835, 2836, 2837, 2839, 2840, 2841, 2843, 2844, 2846, 2847, 2848, 2851, 2852, 2856, 2857, 2858, 2859, 2860, 2861, 2862, 2863, 2865, 2866, 2867, 2868, 2870, 2871, 2872, 2874, 2875, 2876, 2877, 2878, 2879, 2880, 2881, 2882, 2883, 2884, 2885, 2886, 2887, 2888, 2889, 2890, 2891, 2892, 2893, 2894, 2896, 2897, 2898, 2899, 2900, 2901, 2902, 2903, 2905, 2906, 2907, 2908, 2912, 2915, 2916, 2917, 2918, 2919, 2921, 2922, 2924, 2925, 2926, 2927, 2928, 2929, 2930, 2931, 2932, 2935, 2936, 2937, 2940, 2941, 2942, 2943, 2944, 2946, 2947, 2948, 2949, 2950, 2951, 2952, 2953, 2956, 2959, 2961, 2962, 2964, 2965, 2966, 2967, 2968, 2969, 2970, 2971, 2972, 2973, 2974, 2975, 2976, 2977, 2978, 2979, 2982, 2983, 2984, 2985, 2986, 2987, 2988, 2989, 2990, 2991, 2992, 2993, 2995, 2996, 2997, 3000, 3002, 3003, 3004, 3005, 3006, 3007, 3008, 3010, 3011, 3013, 3014, 3015, 3016, 3017, 3018, 3019, 3020, 3021, 3022, 3024, 3028, 3029, 3030, 3031, 3032, 3033, 3034, 3035, 3036, 3037, 3038, 3039, 3040, 3041, 3042, 3043, 3044, 3045, 3046, 3048, 3051, 3052, 3053, 3054, 3055, 3056, 3057, 3060, 3061, 3062, 3063, 3064, 3066, 3067, 3068, 3070, 3071, 3072, 3073, 3074, 3075, 3076, 3077, 3078, 3079, 3081, 3082, 3083, 3086, 3087, 3088, 3089, 3090, 3091, 3093, 3094, 3095, 3096, 3097, 3098, 3099, 3100, 3101, 3102, 3103, 3104, 3105, 3106, 3107, 3108, 3109, 3111, 3112, 3113, 3114, 3115, 3117, 3120, 3125, 3127, 3129, 3130, 3132, 3134, 3135, 3138, 3141, 3142, 3143, 3145, 3146, 3147, 3148, 3150, 3152, 3153, 3155, 3156, 3157, 3158, 3159, 3160, 3161, 3162, 3163, 3165, 3167, 3168, 3169, 3171, 3173, 3174, 3175, 3176, 3177, 3178, 3179, 3181, 3182, 3183, 3185, 3186, 3189, 3190, 3192, 3194, 3196, 3197, 3198, 3200, 3201, 3203, 3204, 3206, 3208, 3210, 3211, 3213, 3214, 3217, 3219, 3221, 3223, 3224, 3225, 3230, 3235, 3238, 3240, 3241, 3243, 3244, 3246, 3247, 3248, 3249, 3250, 3251, 3252, 3253, 3254, 3255, 3256, 3257, 3258, 3259, 3260, 3261, 3262, 3263, 3264, 3265, 3266, 3267, 3268, 3269, 3270, 3271, 3272, 3273, 3274, 3275, 3276, 3280, 3281, 3283, 3284, 3285, 3286, 3287, 3289, 3294, 3295, 3296, 3298, 3299, 3300, 3301, 3302, 3303, 3306, 3307, 3308, 3310, 3313, 3315, 3316, 3317, 3323, 3324, 3325, 3326, 3327, 3328, 3329, 3330, 3331, 3334, 3341, 3342, 3344, 3345, 3347, 3350, 3353, 3354, 3355, 3357, 3358, 3359, 3360, 3361, 3362, 3363, 3364, 3365, 3368, 3370, 3372, 3374, 3378, 3379, 3384, 3385, 3386, 3387, 3388, 3389, 3390, 3391, 3392, 3393, 3394, 3395, 3396, 3397, 3398, 3400, 3401, 3402, 3403, 3404, 3405, 3406, 3408, 3409, 3410, 3412, 3414, 3415, 3417, 3418, 3420, 3421, 3422, 3423, 3424, 3425, 3426, 3428, 3429, 3430, 3431, 3432, 3433, 3434, 3435, 3436, 3438, 3439, 3440, 3441, 3442, 3444, 3445, 3446, 3447, 3448, 3449, 3450, 3451, 3452, 3453, 3454, 3455, 3459, 3461, 3462, 3466, 3467, 3468, 3469, 3470, 3471, 3473, 3474, 3475, 3476, 3477, 3478, 3479, 3480, 3481, 3483, 3484, 3489, 3492, 3494, 3496, 3497, 3498, 3499, 3500, 3501, 3502, 3503, 3504, 3505, 3506, 3507, 3508, 3510, 3511, 3512, 3513, 3514, 3515, 3516, 3519, 3521, 3524, 3525, 3526, 3527, 3528, 3529, 3531, 3534, 3535, 3536, 3537, 3538, 3539, 3543, 3544, 3545, 3546, 3548, 3549, 3550, 3551, 3552, 3553, 3554, 3555, 3556, 3557, 3559, 3563, 3564, 3565, 3566, 3567, 3568, 3569, 3571, 3572, 3573, 3574, 3576, 3577, 3578, 3580, 3581, 3584, 3586, 3587, 3590, 3591, 3592, 3593, 3594, 3596, 3597, 3598, 3599, 3604, 3606, 3608, 3609, 3614, 3615, 3616, 3617, 3618, 3619, 3622, 3623, 3624, 3625, 3626, 3627, 3628, 3629, 3632, 3633, 3634, 3635, 3637, 3638, 3639, 3640, 3641, 3643, 3646, 3648, 3649, 3652, 3653, 3654, 3655, 3658, 3660, 3661, 3662, 3663, 3664, 3667, 3668, 3669, 3671, 3672, 3673, 3674, 3675, 3676, 3677, 3678, 3679, 3680, 3681, 3682, 3683, 3684, 3685, 3686, 3687, 3688, 3689, 3690, 3691, 3692, 3693, 3694, 3695, 3696, 3697, 3698, 3699, 3700, 3701, 3702, 3703, 3704, 3705, 3706, 3707, 3708, 3709, 3710, 3711, 3712, 3713, 3714, 3715, 3716, 3717, 3719, 3720, 3723, 3724, 3725, 3726, 3727, 3728, 3729, 3730, 3731, 3732, 3733, 3735, 3736, 3737, 3738, 3739, 3740, 3741, 3742, 3743, 3744, 3745, 3746, 3747, 3751, 3752, 3753, 3754, 3755, 3756, 3758, 3760, 3761, 3763, 3764, 3765, 3766, 3767, 3768, 3769, 3770, 3771, 3773, 3774, 3783, 3784, 3785, 3786, 3787, 3788, 3789, 3790, 3791, 3792, 3793, 3794, 3795, 3797, 3798, 3799, 3801, 3802, 3806, 3807, 3808, 3809, 3810, 3811, 3812, 3813, 3814, 3816, 3819, 3821, 3822, 3823, 3824, 3825, 3826, 3827, 3830, 3831, 3832, 3833, 3834, 3835, 3836, 3837, 3838, 3839, 3840, 3841, 3843, 3844, 3845, 3846, 3847, 3849, 3851, 3852, 3855, 3857, 3858, 3859, 3861, 3862, 3863, 3864, 3865, 3868, 3869, 3870, 3871, 3872, 3873, 3877, 3879, 3882, 3884, 3888, 3889, 3893, 3894, 3895, 3896, 3897, 3898, 3899, 3900, 3901, 3906, 3908, 3909, 3910, 3911, 3912, 3914, 3915, 3916, 3917, 3918, 3919, 3920, 3922, 3925, 3926, 3927, 3928, 3929, 3930, 3932, 3933, 3937, 3938, 3939, 3940, 3941, 3942, 3943, 3945, 3946, 3947, 3948, 3949, 3950, 3951, 3952, 3953, 3955, 3957, 3958, 3959, 3962, 3963, 3964, 3965, 3966, 3967, 3968, 3969, 3971, 3972, 3973, 3974, 3977, 3978, 3979, 3980, 3981, 3983, 3984, 3985, 3986, 3987, 3988, 3989, 3990, 3991, 3992, 3993, 3994, 3996, 3997, 3998, 3999, 4000, 4002, 4003, 4005, 4006, 4007, 4008, 4009, 4010, 4011, 4012, 4014, 4015, 4016, 4017, 4018, 4019, 4020, 4021, 4022, 4023, 4024, 4025, 4027, 4029, 4030, 4031, 4032, 4033, 4034, 4035, 4036, 4037, 4039, 4040, 4041, 4042, 4043, 4046, 4047, 4051, 4052, 4053, 4054, 4055, 4056, 4061, 4062, 4063, 4064, 4065, 4066, 4067, 4068, 4069, 4074, 4077, 4078, 4079, 4080, 4081, 4082, 4083, 4084, 4085, 4086, 4089, 4090, 4091, 4092, 4093, 4102, 4103, 4104, 4105, 4109, 4110, 4111, 4113, 4115, 4116, 4117, 4121, 4123, 4124, 4125, 4126, 4127, 4128, 4129, 4130, 4131, 4132, 4133, 4135, 4138, 4139, 4141, 4142, 4143, 4144, 4146, 4147, 4148, 4149, 4152, 4153, 4154, 4155, 4156, 4157, 4158, 4159, 4160, 4161, 4164, 4166, 4167, 4168, 4171, 4174, 4175, 4178, 4180, 4181, 4184, 4187, 4189, 4190, 4191, 4193, 4195, 4197, 4198, 4200, 4202, 4203, 4204, 4205, 4207, 4210, 4211, 4212, 4214, 4215, 4217, 4218, 4219, 4220, 4221, 4223, 4224, 4225, 4226, 4228, 4229, 4231, 4232, 4233, 4234, 4235, 4236, 4237, 4238, 4239, 4240, 4241, 4242, 4243, 4246, 4247, 4248, 4251, 4252, 4254, 4255, 4256, 4259, 4260, 4262, 4263, 4265, 4267, 4268, 4270, 4273, 4275, 4276, 4278, 4280, 4282, 4284, 4285, 4289, 4290, 4291, 4292, 4293, 4294, 4296, 4297, 4298, 4299, 4300, 4304, 4305, 4306, 4307, 4308, 4310, 4312, 4313, 4316, 4317, 4321, 4322, 4323, 4325, 4326, 4327, 4329, 4333, 4334, 4337, 4338, 4339, 4340, 4342, 4343, 4344, 4345, 4347, 4349, 4350, 4351, 4353, 4354, 4355, 4356, 4357, 4359, 4361, 4366, 4367, 4368, 4369, 4370, 4371, 4372, 4373, 4374, 4378, 4380, 4381, 4383, 4384, 4386, 4387, 4388, 4389, 4390, 4392, 4393, 4394, 4395, 4396, 4397, 4399, 4402, 4403, 4404, 4406, 4407, 4408, 4409, 4410, 4412, 4419, 4420, 4422, 4424, 4426, 4427, 4428, 4429, 4432, 4433, 4434, 4436, 4437, 4438, 4439, 4440, 4441, 4442, 4443, 4444, 4445, 4446, 4447, 4448, 4449, 4450, 4451, 4452, 4453, 4454, 4458, 4459, 4462, 4463, 4464, 4465, 4466, 4467, 4470, 4471, 4473, 4474, 4475, 4476, 4477, 4478, 4480, 4482, 4483, 4484, 4487, 4488, 4489, 4490, 4492, 4495, 4496, 4497, 4498, 4499, 4500, 4502, 4504, 4505, 4506, 4508, 4509, 4511, 4516, 4517, 4518, 4519, 4520, 4521, 4522, 4523, 4524, 4526, 4527, 4529, 4531, 4533, 4534, 4535, 4537, 4541, 4544, 4545, 4546, 4552, 4553, 4557, 4558, 4562, 4563, 4564, 4565, 4568, 4571, 4572, 4573, 4574, 4577, 4578, 4580, 4581, 4583, 4584, 4585, 4587, 4589, 4591, 4593, 4594, 4595, 4597, 4599, 4600, 4602, 4603, 4605, 4608, 4610, 4611, 4612, 4613, 4614, 4615, 4616, 4617, 4619, 4621, 4622, 4623, 4624, 4625, 4626, 4628, 4629, 4630, 4632, 4634, 4635, 4636, 4638, 4639, 4640, 4641, 4642, 4643, 4644, 4645, 4646, 4649, 4653, 4654, 4658, 4660, 4661, 4662, 4663, 4666, 4670, 4671, 4672, 4673, 4675, 4676, 4677, 4678, 4679, 4681, 4683, 4686, 4687, 4688, 4689, 4690, 4695, 4697, 4699, 4700, 4701, 4703, 4704, 4705, 4708, 4709, 4710, 4711, 4713, 4714, 4715, 4717, 4718, 4719, 4720, 4721, 4722, 4723, 4725, 4727, 4728, 4732, 4733, 4734, 4735, 4736, 4738, 4740, 4741, 4743, 4744, 4745, 4748, 4749, 4750, 4754, 4756, 4757, 4759, 4765, 4766, 4769, 4770, 4771, 4772, 4773, 4774, 4775, 4776, 4777, 4780, 4782, 4783, 4784, 4785, 4786, 4787, 4788, 4789, 4792, 4794, 4795, 4796, 4798, 4799, 4800, 4801, 4802, 4803, 4804, 4808, 4809, 4810, 4811, 4812, 4813, 4814, 4815, 4816, 4818, 4821, 4822, 4823, 4825, 4826, 4827, 4828, 4830, 4831, 4833, 4835, 4836, 4840, 4844, 4845, 4846, 4847, 4848, 4849, 4850, 4852, 4855, 4857, 4860, 4862, 4863, 4864, 4865, 4866, 4867, 4871, 4873, 4874, 4876, 4877, 4878, 4879, 4880, 4881, 4883, 4885, 4886, 4887, 4888, 4889, 4890, 4893, 4896, 4898, 4899, 4900, 4901, 4902, 4903, 4909, 4911, 4912, 4914, 4915, 4916, 4917, 4919, 4920, 4921, 4925, 4926, 4927, 4928, 4929, 4932, 4936, 4939, 4941, 4942, 4945, 4946, 4947, 4951, 4952, 4953, 4954, 4956, 4957, 4958, 4959, 4961, 4962, 4963, 4964, 4965, 4966, 4967, 4969, 4970, 4971, 4973, 4974, 4975, 4976, 4977, 4978, 4979, 4980, 4981, 4985, 4987, 4988, 4989, 4990, 4991, 4992, 4993, 4994, 4995, 4998, 5004, 5007, 5008, 5009, 5010, 5011, 5012, 5013, 5014, 5015, 5016, 5021, 5023, 5025, 5026, 5027, 5028, 5033, 5034, 5039, 5040, 5041, 5046, 5047, 5048, 5049, 5051, 5053, 5054, 5055, 5059, 5060, 5062, 5063, 5064, 5065, 5066, 5068, 5069, 5071, 5072, 5073, 5074, 5075, 5076, 5077, 5080, 5081, 5083, 5088, 5092, 5093, 5094, 5095, 5096, 5099, 5102, 5103, 5105, 5106, 5107, 5108, 5109, 5110, 5111, 5112, 5113, 5114, 5116, 5120, 5121, 5127, 5128, 5131, 5134, 5135, 5136, 5137, 5139, 5146, 5147, 5151, 5152, 5155, 5156, 5159, 5165, 5168, 5170, 5171, 5177, 5178, 5181, 5187, 5189, 5197, 5198, 5202, 5205, 5209, 5212, 5213, 5214, 5218, 5219, 5220, 5221, 5222, 5224, 5225, 5226, 5231, 5237, 5238, 5239, 5240, 5241, 5244, 5246, 5247, 5248, 5250, 5254, 5255, 5256, 5258, 5264, 5265, 5266, 5267, 5268, 5269, 5272, 5275, 5278, 5279, 5282, 5283, 5284, 5285, 5288, 5291, 5292, 5293, 5294, 5296, 5297, 5298, 5299, 5300, 5303, 5304, 5307, 5308, 5309, 5311, 5312, 5313, 5316, 5319, 5321, 5322, 5323, 5324, 5325, 5328, 5329, 5333, 5334, 5337, 5338, 5339, 5341, 5345, 5346, 5347, 5348, 5349, 5353, 5356, 5357, 5358, 5361, 5363, 5364, 5365, 5372, 5373, 5375, 5377, 5378, 5379, 5380, 5382, 5384, 5385, 5387, 5388, 5389, 5390, 5391, 5397, 5398, 5400, 5401, 5404, 5409, 5410, 5414, 5415, 5416, 5417, 5418, 5419, 5420, 5421, 5422, 5423, 5424, 5425, 5427, 5428, 5433, 5434, 5435, 5437, 5438, 5440, 5442, 5443, 5444, 5445, 5446, 5447, 5448, 5449, 5450, 5451, 5452, 5454, 5455, 5456, 5458, 5459, 5460, 5461, 5462, 5463, 5464, 5465, 5466, 5468, 5470, 5471, 5472, 5475, 5476, 5477, 5478, 5479, 5480, 5481, 5483, 5485, 5486, 5489, 5490, 5493, 5497, 5498, 5499, 5500, 5501, 5502, 5503, 5504, 5505, 5506, 5507, 5508, 5512, 5513, 5515, 5521, 5522, 5523, 5524, 5525, 5527, 5528, 5529, 5530, 5531, 5532, 5537, 5538, 5539, 5540, 5541, 5543, 5544, 5548, 5550, 5553, 5556, 5560, 5562, 5563, 5564, 5568, 5569, 5570, 5572, 5573, 5574, 5575, 5577, 5580, 5581, 5582, 5584, 5585, 5588, 5589, 5590, 5591, 5596, 5597, 5601, 5602, 5603, 5604, 5607, 5608, 5609, 5610, 5611, 5612, 5613, 5614, 5615, 5617, 5618, 5619, 5620, 5621, 5625, 5628, 5629, 5630, 5632, 5633, 5635, 5636, 5637, 5638, 5640, 5643, 5644, 5646, 5649, 5650, 5651, 5657, 5663, 5664, 5665, 5666, 5667, 5668, 5669, 5670, 5672, 5673, 5675, 5678, 5679, 5680, 5682, 5684, 5685, 5688, 5689, 5690, 5693, 5694, 5696, 5699, 5700, 5704, 5706, 5707, 5710, 5712, 5720, 5723, 5733, 5735, 5736, 5741, 5742, 5745, 5746, 5747, 5749, 5752, 5755, 5764, 5767, 5768, 5771, 5772, 5773, 5779, 5780, 5782, 5784, 5785, 5786, 5787, 5788, 5791, 5792, 5796, 5797, 5799, 5801, 5802, 5803, 5804, 5809, 5810, 5812, 5816, 5817, 5818, 5820, 5826, 5828, 5829, 5833, 5836, 5838, 5839, 5840, 5841, 5843, 5847, 5849, 5853, 5856, 5863, 5867, 5872, 5873, 5874, 5875, 5876, 5878, 5879, 5880, 5881, 5882, 5883, 5884, 5888, 5889, 5890, 5891, 5893, 5896, 5899, 5900, 5901, 5902, 5903, 5909, 5912, 5915, 5919, 5922, 5925, 5927, 5929, 5932, 5938, 5941, 5942, 5943, 5944, 5945, 5947, 5949, 5951, 5952, 5953, 5954, 5955, 5956, 5957, 5959, 5961, 5962, 5963, 5965, 5968, 5969, 5970, 5971, 5974, 5975, 5979, 5980, 5984, 5986, 5988, 5989, 5990, 5991, 5992, 5993, 5994, 5995, 5999, 6001, 6002, 6003, 6005, 6006, 6009, 6012, 6013, 6014, 6016, 6020, 6021, 6022, 6023, 6025, 6027, 6030, 6031, 6033, 6035, 6036, 6039, 6040, 6041, 6042, 6044, 6049, 6051, 6055, 6057, 6058, 6059, 6060, 6062, 6063, 6064, 6067, 6070, 6078, 6086, 6090, 6093, 6095, 6100, 6101, 6104, 6107, 6111, 6116, 6119, 6122, 6123, 6124, 6125, 6140, 6141, 6143, 6145, 6148, 6153, 6155, 6156, 6157, 6158, 6159, 6162, 6163, 6166, 6169, 6170, 6178, 6181, 6182, 6183, 6184, 6185, 6186, 6187, 6188, 6192, 6193, 6195, 6196, 6197, 6201, 6202, 6203, 6204, 6210, 6212, 6213, 6214, 6215, 6216, 6217, 6218, 6219, 6220, 6222, 6223, 6225, 6228, 6232, 6234, 6235, 6237, 6238, 6239, 6241, 6242, 6244, 6245, 6246, 6249, 6250, 6251, 6252, 6254, 6263, 6264, 6265, 6266, 6267, 6268, 6269, 6270, 6271, 6273, 6279, 6280, 6281, 6283, 6285, 6286, 6287, 6288, 6289, 6290, 6291, 6294, 6295, 6296, 6297, 6298, 6299, 6300, 6301, 6302, 6303, 6305, 6306, 6308, 6310, 6313, 6314, 6315, 6316, 6319, 6320, 6322, 6323, 6324, 6327, 6329, 6330, 6331, 6332, 6333, 6334, 6335, 6336, 6337, 6338, 6339, 6341, 6342, 6344, 6345, 6347, 6348, 6349, 6350, 6357, 6358, 6365, 6367, 6368, 6370, 6371, 6373, 6374, 6375, 6376, 6377, 6378, 6379, 6380, 6382, 6383, 6385, 6386, 6387, 6390, 6395, 6400, 6402, 6405, 6407, 6408, 6410, 6412, 6415, 6417, 6422, 6424, 6425, 6427, 6428, 6429, 6433, 6434, 6436, 6440, 6442, 6448, 6449, 6452, 6453, 6454, 6460, 6461, 6464, 6465, 6466, 6476, 6477, 6480, 6482, 6483, 6484, 6493, 6502, 6503, 6506, 6509, 6510, 6514, 6515, 6516, 6517, 6523, 6527, 6528, 6530, 6533, 6534, 6535, 6536, 6537, 6538, 6539, 6541, 6542, 6545, 6547, 6548, 6549, 6550, 6551, 6552, 6553, 6554, 6557, 6558, 6559, 6560, 6561, 6563, 6564, 6565, 6566, 6567, 6568, 6571, 6572, 6573, 6574, 6577, 6578, 6579, 6581, 6582, 6583, 6584, 6586, 6587, 6588, 6591, 6592, 6593, 6595, 6596, 6597, 6598, 6603, 6604, 6609, 6611, 6612, 6614, 6615, 6616, 6617, 6618, 6619, 6620, 6624, 6625, 6628, 6629, 6631, 6636, 6638, 6639, 6643, 6644, 6645, 6650, 6654, 6656, 6658, 6659, 6660, 6662, 6663, 6664, 6665, 6666, 6667, 6669, 6670, 6671, 6678, 6679, 6684, 6686, 6687, 6688, 6689, 6691, 6692, 6695, 6696, 6699, 6702, 6705, 6706, 6707, 6708, 6709, 6710, 6711, 6713, 6715, 6718, 6720, 6721, 6722, 6723, 6724, 6731, 6732, 6734, 6744, 6746, 6748, 6750, 6751, 6752, 6753, 6754, 6755, 6760, 6763, 6764, 6765, 6768, 6769, 6770, 6772, 6773, 6774, 6775, 6776, 6777, 6780, 6782, 6783, 6785, 6786, 6787, 6788, 6789, 6790, 6791, 6793, 6794, 6796, 6797, 6798, 6800, 6803, 6804, 6807, 6808, 6809, 6810, 6811, 6812, 6814, 6816, 6817, 6818, 6820, 6821, 6827, 6832, 6835, 6836, 6837, 6850, 6851, 6852, 6853, 6856, 6857, 6858, 6860, 6862, 6863, 6867, 6868, 6869, 6870, 6872, 6873, 6874, 6879, 6880, 6881, 6882, 6883, 6884, 6885, 6886, 6887, 6888, 6889, 6890, 6893, 6898, 6899, 6902, 6909, 6911, 6912, 6918, 6920, 6927, 6932, 6934, 6935, 6936, 6938, 6939, 6942, 6944, 6945, 6946, 6947, 6948, 6949, 6950, 6951, 6952, 6953, 6954, 6957, 6958, 6959, 6961, 6962, 6963, 6965, 6966, 6967, 6969, 6970, 6971, 6973, 6974, 6975, 6978, 6979, 6981, 6982, 6983, 6984, 6985, 6986, 6987, 6989, 6990, 6992, 6993, 6994, 6996, 6997, 6998, 6999, 7000, 7001, 7004, 7005, 7007, 7008, 7009, 7010, 7012, 7013, 7015, 7016, 7017, 7018, 7019, 7022, 7023, 7024, 7025, 7026, 7027, 7028, 7030, 7031, 7032, 7033, 7034, 7036, 7037, 7038, 7040, 7041, 7044, 7045, 7046, 7047, 7048, 7049, 7050, 7051, 7052, 7053, 7054, 7055, 7056, 7057, 7058, 7059, 7060, 7061, 7062, 7063, 7064, 7065, 7067, 7069, 7070, 7071, 7072, 7073, 7074, 7075, 7076, 7078, 7079, 7080, 7082, 7083, 7084, 7085, 7086, 7087, 7088, 7089, 7090, 7091, 7092, 7093, 7096, 7099, 7101, 7102, 7103, 7104, 7107, 7108, 7109, 7114, 7115, 7116, 7117, 7118, 7121, 7122, 7123, 7124, 7125, 7127, 7131, 7132, 7134, 7137, 7139, 7141, 7142, 7143, 7147, 7149, 7150, 7151, 7153, 7154, 7155, 7156, 7158, 7160, 7161, 7162, 7163, 7164, 7165, 7167, 7169, 7171, 7173, 7175, 7176, 7177, 7178, 7179, 7181, 7184, 7190, 7191, 7192, 7193, 7202, 7205, 7206, 7208, 7209, 7211, 7212, 7215, 7216, 7217, 7218, 7219, 7222, 7223, 7225, 7228, 7234, 7235, 7236, 7238, 7243, 7245, 7247, 7248, 7251, 7254, 7255, 7256, 7257, 7258, 7259, 7260, 7261, 7262, 7263, 7264, 7265, 7266, 7282, 7285, 7292, 7293, 7294, 7297, 7299, 7301, 7302, 7303, 7304, 7305, 7306, 7307, 7308, 7310, 7311, 7312, 7315, 7316, 7317, 7318, 7319, 7320, 7321, 7323, 7324, 7325, 7326, 7327, 7328, 7333, 7335, 7336, 7340, 7344, 7345, 7346, 7347, 7348, 7349, 7352, 7354, 7357, 7360, 7361, 7362, 7364, 7366, 7367, 7368, 7369, 7371, 7372, 7373, 7375, 7376, 7377, 7379, 7380, 7381, 7382, 7386, 7387, 7390, 7394, 7395, 7396, 7411, 7414, 7419, 7438, 7439, 7440, 7443, 7444, 7445, 7448, 7449, 7450, 7451, 7454, 7455, 7457, 7458, 7459, 7460, 7477, 7479, 7481, 7482, 7486, 7487, 7492, 7493, 7541, 7560, 7561, 7562, 7564, 7566, 7569, 7570, 7572, 7573, 7579, 7581, 7584, 7587, 7614, 7615, 7616, 7618, 7619, 7620, 7624, 7636, 7646, 7647, 7649, 7650, 7657, 7669, 7698, 7700, 7701, 7702, 7704, 7705, 7706, 7707, 7708, 7713, 7714, 7716, 7720, 7727, 7728, 7730, 7742, 7743, 7745, 7748, 7749, 7753, 7756, 7757, 7762, 7766, 7767, 7772, 7773, 7781, 7782, 7786, 7789, 7802, 7810, 7811, 7812, 7815, 7820, 7822, 7826, 7831, 7832, 7833, 7834, 7835, 7839, 7840, 7841, 7842, 7843, 7844, 7845, 7846, 7879, 7882, 7883, 7884, 7888, 7889, 7891, 7894, 7895, 7896, 7899, 7900, 7916, 7920, 7924, 7925, 7926, 7930, 7932, 7934, 7936, 7937, 7938, 7939, 7940, 7943, 7944, 7951, 7976, 7979, 7980, 7981, 7982, 7983, 7984, 7986, 7987, 7988, 7991, 7993, 8008, 8010, 8011, 8012, 8014, 8015, 8016, 8019, 8024, 8025, 8033, 8035, 8042, 8043, 8044, 8045, 8057, 8092, 8093, 8094, 8117, 8118, 8119, 8121, 8125, 8126, 8128, 8131, 8132, 8136, 8137, 8138, 8142, 8143, 8147, 8153, 8154, 8157, 8158, 8167, 8169, 8183, 8188, 8189, 8190, 8191, 8195, 8196, 8197, 8199, 8207, 8225, 8228, 8232, 8235, 8236, 8238, 8239, 8241, 8253, 8254, 8261, 8264, 8266, 8268, 8270, 8275, 8290, 8293, 8302, 8327, 8331, 8335, 8336, 8337, 8338, 8340, 8341, 8360, 8361, 8362, 8363, 8364, 8366, 8368, 8369, 8370, 8371, 8372, 8373, 8375, 8376, 8378, 8379, 8380, 8382, 8383, 8385, 8387, 8391, 8402, 8405, 8410, 8424, 8425, 8426, 8427, 8446, 8447, 8450, 8451, 8454, 8456, 8458, 8459, 8461, 8462, 8463, 8464, 8465, 8477, 8481, 8482, 8484, 8487, 8491, 8492, 8493, 8494, 8495, 8500, 8501, 8502, 8506, 8507, 8511, 8512, 8518, 8521, 8526, 8528, 8529, 8530, 8531, 8532, 8533, 8534, 8535, 8542, 8571, 8574, 8575, 8577, 8578, 8580, 8581, 8582, 8587, 8588, 8591, 8593, 8596, 8600, 8601, 8604, 8605, 8607, 8609, 8610, 8611, 8614, 8617, 8620, 8622, 8623, 8626, 8632, 8633, 8636, 8638, 8640, 8641, 8643, 8644, 8645, 8650, 8656, 8665, 8666, 8667, 8670, 8677, 8684, 8685, 8690, 8695, 8711, 8712, 8713, 8714, 8718, 8720, 8724, 8727, 8730, 8738, 8743, 8748, 8753, 8754, 8755, 8771, 8772, 8773, 8774, 8778, 8781, 8782, 8783, 8784, 8795, 8796, 8798, 8799, 8800, 8804, 8807, 8808, 8809, 8810, 8813, 8814, 8815, 8827, 8830, 8831, 8832, 8833, 8835, 8836, 8838, 8840, 8844, 8848, 8860, 8861, 8864, 8865, 8866, 8869, 8870, 8873, 8874, 8875, 8879, 8880, 8894, 8905, 8906, 8907, 8908, 8910, 8911, 8912, 8914, 8915, 8916, 8917, 8918, 8919, 8920, 8921, 8928, 8933, 8934, 8937, 8938, 8939, 8943, 8946, 8947, 8948, 8949, 8950, 8951, 8952, 8954, 8955, 8957, 8958, 8959, 8961, 8964, 8965, 8966, 8967, 8968, 8969, 8970, 8972, 8973, 8974, 8977, 8978, 8979, 8981, 8982, 8983, 8984, 8985, 8987, 8989, 8998, 9004, 9005, 9008, 9010, 9018, 25746, 25750, 25752, 25753, 25757, 25769, 25771, 25773, 25782, 25788, 25795, 25797, 25805, 25825, 25826, 25827, 25833, 25834, 25841, 25850, 25856, 25865, 25870, 25886, 25887, 25898, 25905, 25906, 25923, 25927, 25937, 25940, 25946, 25947, 25952, 25959, 25962, 25963, 25996, 25999, 26002, 26003, 26038, 26048, 26052, 26059, 26073, 26078, 26082, 26084, 26095, 26116, 26122, 26124, 26131, 26133, 26142, 26147, 26150, 26151, 26152, 26158, 26159, 26169, 26171, 26172, 26176, 26183, 26184, 26195, 26198, 26225, 26231, 26236, 26237, 26242, 26249, 26258, 26265, 26283, 26285, 26303, 26308, 26313, 26317, 26322, 26326, 26340, 26344, 26347, 26350, 26357, 26359, 26365, 26366, 26375, 26386, 26391, 26394, 26399, 26401, 26409, 26413, 26422, 26429, 26444, 26453, 26464, 26467, 26471, 26472, 26492, 26498, 26504, 26510, 26523, 26524, 26527, 26528, 26539, 26542, 26547, 26554, 26555, 26562, 26564, 26567, 26578, 26585, 26587, 26590, 26593, 26599, 26603, 26606, 26612, 26614, 26622, 26629, 26630, 26631, 26645, 26649, 26662, 26676, 26680, 26681, 26686, 26693, 26694, 26695, 26696, 26700, 26701, 26704, 26712, 26713, 26717, 26726, 26729, 26732, 26736, 26741, 26743, 26745, 26750, 26761, 26764, 26765, 26776, 26777, 26778, 26782, 26791, 26792, 26796, 26797, 26810, 26812, 26819, 26828, 26838, 26840, 26849, 26854, 26861, 26865, 26870, 26871, 26875, 26887, 26900, 26901, 26903, 26913, 26928, 26940, 26947, 26958, 26965, 26974, 26985, 26999, 27002, 27003, 27006, 27008, 27020, 27022, 27032, 27036, 27074, 27075, 27105, 27124, 27134, 27140, 27155, 27156, 27176, 27178, 27186, 27193, 27246, 27251, 27255, 27266, 27306, 27311, 27317, 27320, 27328, 27329, 27368, 27369, 27370, 27373, 27397, 27408, 27416, 27420, 27426, 27434, 27441, 27450, 27473, 27478, 27480, 27482, 27491, 27513, 27523, 27537, 27539, 27549, 27555, 27563, 27584, 27592, 27595, 27604, 27611, 27618, 27619, 27627, 27644, 27660, 27664, 27667, 27674, 27683, 27685, 27689, 27692, 27695, 27704, 27705, 27706, 27708, 27716, 27721, 27722, 27728, 27731, 27741, 27744, 27746, 27751, 27762, 27768, 27769, 27772, 27773, 27776, 27778, 27784, 27788, 27790, 27793, 27801, 27802, 27803, 27808, 27815, 27816, 27820, 27821, 27822, 27826, 27829, 27830, 27831, 27834, 27837, 27838, 27839, 27846, 27850, 27865, 27866, 27869, 27873, 27878, 27879, 27882, 27899, 27904, 27905, 27912, 30707, 30745, 30749, 30793, 30803, 30810, 30812, 30816, 30818, 30820, 30822, 30825, 30846, 30848, 30850, 30883, 30890, 30894, 30898, 30994, 31000, 31030, 31038, 31049, 31083, 31086, 31101, 31114, 31116, 31123, 31150, 31162, 31184, 31193, 31221, 31223, 31225, 31260, 31297, 31309, 31364, 31367, 31410, 31420, 31422, 31424, 31427, 31431, 31433, 31435, 31437, 31445, 31522, 31545, 31553, 31590, 31610, 31617, 31658, 31660, 31664, 31685, 31692, 31694, 31696, 31698, 31700, 31702, 31737, 31804, 31851, 31867, 31878, 31903, 31909, 31921, 31923, 31925, 31952, 31973, 32009, 32011, 32017, 32019, 32022, 32029, 32031, 32058, 32060, 32116, 32139, 32179, 32213, 32234, 32243, 32289, 32291, 32294, 32296, 32298, 32300, 32302, 32314, 32387, 32392, 32440, 32442, 32456, 32460, 32469, 32511, 32515, 32554, 32582, 32584, 32587, 32589, 32596, 32598, 32600, 32620, 32632, 32649, 32657, 32659, 32666, 32728, 32743, 32770, 32799, 32862, 32875, 32892, 32898, 32906, 32914, 32917, 33004, 33085, 33090, 33124, 33126, 33132, 33138, 33145, 33148, 33154, 33158, 33162, 33164, 33166, 33171, 33188, 33201, 33237, 33294, 33310, 33312, 33421, 33435, 33437, 33493, 33495, 33499, 33558, 33564, 33615, 33629, 33639, 33644, 33646, 33649, 33660, 33669, 33672, 33677, 33679, 33681, 33683, 33725, 33779, 33781, 33794, 33801, 33815, 33826, 33830, 33834, 33836, 33838, 33880, 33893, 33896, 33903, 33966, 34018, 34048, 34072, 34129, 34143, 34148, 34150, 34153, 34162, 34164, 34271, 34292, 34312, 34319, 34321, 34323, 34326, 34330, 34332, 34334, 34336, 34338, 34359, 34397, 34405, 34437, 34450, 34520, 34523, 34528, 34530, 34532, 34534, 34536, 34540, 34542, 34800, 34811, 35015, 35347, 35807, 35836, 35957, 36276, 36289, 36363, 36397, 36401, 36477, 36509, 36517, 36519, 36525, 36527, 36529, 36533, 36535, 36537, 36708, 36850, 36931, 37211, 37240, 37380, 37382, 37384, 37386, 37444, 37475, 37477, 37495, 37545, 37720, 37727, 37729, 37731, 37733, 37736, 37739, 37741, 37830, 37844, 37853, 37857, 38038, 38061, 38095, 38159, 38164, 38198, 38294, 38304, 38388, 38583, 38798, 38886, 38992, 39183, 39231, 39234, 39292, 39307, 39381, 39400, 39414, 39427, 39435, 39444, 39446, 39449, 39516, 39715, 39801, 39869, 40148, 40278, 40339, 40412, 40414, 40478, 40491, 40578, 40581, 40583, 40597, 40614, 40617, 40629, 40697, 40723, 40732, 40815, 40819, 40826, 40851, 40870, 40946, 40955, 40959, 40962, 40966, 41014, 41285, 41527, 41566, 41569, 41571, 41573, 41617, 41627, 41712, 41716, 41724, 41769, 41828, 41863, 41997, 42002, 42004, 42007, 42009, 42011, 42013, 42015, 42018, 42176, 42191, 42285, 42418, 42422, 42556, 42559, 42602, 42632, 42638, 42718, 42723, 42725, 42728, 42730, 42732, 42734, 42738, 42740, 42761, 42943, 42946, 43289, 43333, 43376, 43396, 43419, 43460, 43549, 43556, 43558, 43560, 43677, 43679, 43684, 43708, 43744, 43836, 43869, 43871, 43904, 43908, 43912, 43914, 43917, 43919, 43921, 43928, 43930, 43932, 43936, 44004, 44020, 44022, 44189, 44191, 44193, 44195, 44197, 44199, 44204, 44225, 44238, 44241, 44243, 44301, 44397, 44399, 44511, 44555, 44597, 44613, 44633, 44657, 44665, 44694, 44709, 44719, 44731, 44759, 44761, 44773, 44777, 44788, 44828, 44840, 44849, 44851, 44864, 44889, 44929, 44931, 44937, 44943, 44972, 44974, 45028, 45062, 45074, 45081, 45106, 45175, 45183, 45186, 45208, 45210, 45221, 45361, 45382, 45431, 45440, 45442, 45447, 45499, 45501, 45503, 45517, 45635, 45648, 45658, 45662, 45666, 45668, 45672, 45720, 45722, 45726, 45728, 45730, 45732, 45880, 45928, 45950, 45969, 46062, 46105, 46231, 46322, 46335, 46337, 46347, 46367, 46530, 46559, 46572, 46574, 46578, 46664, 46723, 46772, 46850, 46855, 46862, 46865, 46948, 46965, 46967, 46970, 46972, 46974, 46976, 47044, 47099, 47122, 47124, 47200, 47202, 47254, 47261, 47382, 47384, 47404, 47423, 47446, 47465, 47491, 47516, 47518, 47538, 47566, 47610, 47629, 47640, 47644, 47646, 47721, 47725, 47736, 47774, 47793, 47810, 47894, 47937, 47950, 47952, 47970, 47978, 47997, 47999, 48001, 48032, 48043, 48045, 48082, 48142, 48150, 48161, 48214, 48262, 48304, 48319, 48322, 48326, 48342, 48385, 48394, 48412, 48414, 48416, 48516, 48518, 48520, 48560, 48593, 48596, 48598, 48638, 48649, 48678, 48696, 48698, 48738, 48741, 48744, 48774, 48780, 48783, 48872, 48877, 48879, 48883, 48982, 48997, 49013, 49110, 49130, 49132, 49220, 49263, 49265, 49272, 49274, 49276, 49278, 49280, 49284, 49286, 49314, 49347, 49389, 49396, 49524, 49530, 49647, 49649, 49651, 49666, 49688, 49735, 49772, 49793, 49822, 49824, 49910, 49917, 49932, 49957, 49961, 50003, 50005, 50064, 50068, 50147, 50158, 50160, 50189, 50274, 50354, 50356, 50440, 50442, 50445, 50514, 50601, 50610, 50613, 50658, 50685, 50740, 50792, 50794, 50796, 50798, 50800, 50802, 50804, 50806, 50842, 50851, 50872, 50912, 50923, 50942, 50954, 50999, 51024, 51037, 51077, 51080, 51082, 51084, 51086, 51088, 51091, 51167, 51174, 51255, 51314, 51357, 51412, 51471, 51498, 51540, 51545, 51562, 51573, 51575, 51662, 51666, 51694, 51698, 51705, 51709, 51834, 51884, 51903, 51925, 51927, 51931, 51933, 51935, 51937, 51939, 52042, 52241, 52245, 52279, 52281, 52283, 52287, 52299, 52319, 52328, 52375, 52435, 52458, 52462, 52579, 52604, 52644, 52668, 52694, 52712, 52715, 52722, 52724, 52730, 52767, 52784, 52831, 52867, 52885, 52950, 52952, 52967, 52973, 52975, 53000, 53022, 53024, 53121, 53123, 53125, 53127, 53129, 53138, 53140, 53143, 53161, 53280, 53318, 53322, 53326, 53355, 53435, 53447, 53450, 53453, 53460, 53464, 53466, 53468, 53519, 53550, 53574, 53578, 53808, 53883, 53894, 53921, 53953, 53956, 53972, 53974, 53993, 53996, 54001, 54004, 54116, 54121, 54185, 54190, 54256, 54259, 54272, 54274, 54276, 54281, 54286, 54354, 54372, 54503, 54617, 54648, 54686, 54732, 54734, 54736, 54745, 54768, 54771, 54780, 54785, 54787, 54796, 54881, 54908, 54910, 54934, 54962, 54995, 54997, 54999, 55020, 55036, 55052, 55061, 55067, 55069, 55071, 55080, 55094, 55110, 55112, 55116, 55118, 55156, 55167, 55190, 55205, 55207, 55232, 55241, 55245, 55247, 55250, 55253, 55259, 55261, 55267, 55269, 55272, 55274, 55276, 55278, 55280, 55282, 55290, 55292, 55294, 55363, 55391, 55442, 55444, 55451, 55492, 55553, 55555, 55577, 55620, 55687, 55721, 55729, 55765, 55768, 55805, 55814, 55820, 55830, 55844, 55854, 55872, 55908, 55946, 55995, 56003, 56012, 56022, 56060, 56145, 56152, 56156, 56169, 56171, 56174, 56176, 56251, 56274, 56286, 56333, 56336, 56339, 56367, 56379, 56389, 56563, 56587, 56607, 56620, 56715, 56757, 56775, 56782, 56788, 56801, 56805, 56837, 56869, 56908, 56915, 56921, 56941, 56949, 57147, 57183, 57243, 57274, 57326, 57368, 57421, 57499, 57502, 57504, 57522, 57526, 57528, 57532, 57536, 57637, 57640, 57669, 57772, 57843, 57910, 57951, 58025, 58047, 58078, 58103, 58105, 58107, 58154, 58156, 58162, 58191, 58287, 58291, 58293, 58295, 58297, 58299, 58301, 58303, 58306, 58309, 58315, 58332, 58347, 58351, 58376, 58404, 58425, 58492, 58554, 58559, 58627, 58655, 58783, 58803, 58806, 58826, 58839, 58842, 58870, 58876, 58879, 58964, 58972, 58975, 58998, 59014, 59016, 59018, 59022, 59026, 59037, 59103, 59118, 59126, 59129, 59131, 59141, 59143, 59220, 59258, 59295, 59306, 59315, 59333, 59336, 59369, 59387, 59421, 59429, 59440, 59501, 59549, 59604, 59615, 59667, 59725, 59727, 59731, 59738, 59784, 59810, 59814, 59900, 59915, 59947, 59985, 59995, 60030, 60037, 60040, 60046, 60069, 60072, 60074, 60126, 60128, 60141, 60161, 60289, 60291, 60293, 60303, 60333, 60363, 60365, 60389, 60397, 60408, 60471, 60487, 60514, 60516, 60522, 60538, 60647, 60674, 60684, 60735, 60737, 60753, 60756, 60760, 60766, 60803, 60818, 60832, 60857, 60885, 60894, 60904, 60937, 60941, 60943, 60950, 60979, 61011, 61024, 61026, 61071, 61073, 61123, 61132, 61160, 61167, 61210, 61236, 61240, 61246, 61248, 61250, 61255, 61257, 61262, 61289, 61319, 61323, 61348, 61350, 61352, 61394, 61401, 61406, 61465, 61628, 61692, 61697, 61705, 61729, 61818, 61986, 62008, 62081, 62113, 62155, 62208, 62250, 62293, 62299, 62336, 62344, 62374, 62376, 62383, 62394, 62434, 62437, 62439, 62511, 62553, 62586, 62644, 62662, 62718, 62792, 62799, 62834, 62836, 62849, 62956, 62970, 62999, 63033, 63062, 63072, 63082, 63113, 63131, 63179, 63222, 63239, 63276, 63312, 63393, 63433, 63436, 63479, 63515, 63540, 63768, 63808, 63826, 63853, 63859, 63876, 63992, 64010, 64030, 64032, 64034, 64114, 64116, 64167, 64197, 64231, 64249, 64278, 64285, 64497, 64499, 64501, 64575, 64614, 64620, 64622, 64695, 64716, 64839, 64957, 64969, 64983, 64993, 64997, 65037, 65088, 65126, 65130, 65133, 65135, 65188, 65193, 65216, 65225, 65230, 65261, 65350, 65359, 65514, 65577, 65585, 65588, 65596, 65601, 65631, 65642, 65651, 65682, 65685, 65738, 65740, 65802, 65810, 65882, 65982, 66090, 66097, 66171, 66198, 66203, 66240, 66297, 66310, 66320, 66335, 66371, 66427, 66509, 66511, 66544, 66665, 66744, 66783, 66785, 66798, 66915, 66934, 66943, 67087, 67168, 67186, 67193, 67197, 67255, 67267, 67295, 67361, 67408, 67508, 67534, 67618, 67665, 67695, 67734, 67788, 67799, 67888, 67923, 67997, 68073, 68135, 68157, 68159, 68194, 68205, 68237, 68269, 68319, 68347, 68358, 68444, 68480, 68486, 68522, 68536, 68552, 68554, 68597, 68600, 68650, 68659, 68791, 68793, 68835, 68848, 68872, 68886, 68932, 68945, 68952, 68954, 68959, 69069, 69118, 69122, 69131, 69134, 69140, 69211, 69224, 69227, 69251, 69275, 69278, 69304, 69306, 69394, 69406, 69436, 69453, 69469, 69481, 69495, 69516, 69524, 69526, 69529, 69604, 69606, 69640, 69644, 69654, 69685, 69712, 69720, 69746, 69757, 69784, 69805, 69844, 69849, 69860, 69904, 69951, 69953, 69988, 70015, 70159, 70183, 70206, 70208, 70286, 70293, 70301, 70305, 70334, 70336, 70361, 70451, 70492, 70521, 70533, 70545, 70565, 70599, 70637, 70641, 70663, 70687, 70697, 70703, 70708, 70728, 70862, 70932, 70946, 70984, 70990, 70994, 71033, 71057, 71106, 71108, 71129, 71131, 71135, 71147, 71156, 71160, 71205, 71211, 71248, 71252, 71254, 71264, 71268, 71282, 71302, 71304, 71327, 71341, 71379, 71429, 71438, 71453, 71462, 71464, 71466, 71468, 71484, 71494, 71500, 71518, 71520, 71530, 71535, 71550, 71579, 71619, 71640, 71668, 71732, 71745, 71810, 71823, 71838, 71867, 71899, 71902, 71910, 71970, 71999, 72011, 72104, 72129, 72142, 72165, 72167, 72171, 72178, 72224, 72226, 72294, 72308, 72330, 72356, 72378, 72395, 72405, 72407, 72424, 72479, 72489, 72554, 72591, 72601, 72603, 72605, 72624, 72641, 72692, 72694, 72696, 72701, 72714, 72720, 72731, 72733, 72737, 72874, 72919, 72921, 72982, 72998, 73015, 73017, 73023, 73042, 73106, 73160, 73211, 73266, 73268, 73290, 73319, 73321, 73323, 73344, 73386, 73431, 73488, 73499, 73501, 73515, 73569, 73676, 73681, 73741, 73804, 73808, 73822, 73854, 73858, 73876, 73881, 73929, 74075, 74089, 74095, 74154, 74226, 74228, 74275, 74282, 74324, 74342, 74370, 74450, 74452, 74458, 74508, 74510, 74530, 74532, 74545, 74553, 74580, 74624, 74647, 74668, 74677, 74683, 74685, 74688, 74696, 74698, 74727, 74750, 74754, 74789, 74791, 74795, 74851, 74868, 74916, 74946, 74948, 75341, 75389, 75395, 75416, 75446, 75803, 75805, 75813, 75816, 75947, 75985, 76030, 76054, 76060, 76077, 76091, 76093, 76143, 76173, 76175, 76251, 76293, 76301, 76738, 76743, 76751, 76763, 77177, 77191, 77201, 77206, 77233, 77266, 77364, 77414, 77421, 77427, 77455, 77561, 77667, 77688, 77709, 77795, 77798, 77800, 77841, 77846, 77866, 77881, 77893, 77931, 78034, 78039, 78041, 78088, 78103, 78105, 78116, 78142, 78160, 78174, 78209, 78218, 78264, 78266, 78316, 78349, 78467, 78469, 78499, 78544, 78574, 78620, 78626, 78637, 78703, 78746, 78772, 78836, 78893, 78959, 79006, 79008, 79057, 79073, 79091, 79132, 79134, 79139, 79185, 79224, 79242, 79251, 79259, 79274, 79293, 79299, 79333, 79357, 79428, 79501, 79536, 79553, 79572, 79590, 79592, 79677, 79684, 79695, 79702, 79798, 79868, 79879, 79895, 79897, 79946, 80083, 80094, 80124, 80126, 80139, 80162, 80166, 80219, 80241, 80363, 80454, 80463, 80478, 80489, 80549, 80551, 80553, 80572, 80584, 80586, 80590, 80615, 80693, 80727, 80748, 80831, 80834, 80839, 80846, 80858, 80860, 80862, 80864, 80880, 80906, 80917, 80969, 81018, 81087, 81132, 81156, 81158, 81191, 81229, 81257, 81383, 81417, 81456, 81512, 81520, 81535, 81537, 81562, 81564, 81591, 81681, 81782, 81784, 81786, 81788, 81791, 81819, 81831, 81834, 81845, 81847, 81910, 81932, 81949, 82041, 82053, 82088, 82093, 82095, 82152, 82167, 82169, 82202, 82242, 82366, 82378, 82459, 82461, 82499, 82527, 82534, 82641, 82667, 82684, 82744, 82765, 82767, 82848, 82852, 82854, 82857, 83086, 83132, 83134, 83177, 83270, 83349, 83369, 83374, 83480, 83601, 83613, 83796, 83803, 83827, 83910, 83969, 83976, 84152, 84156, 84187, 84189, 84240, 84246, 84273, 84374, 84392, 84414, 84512, 84523, 84553, 84601, 84615, 84637, 84696, 84716, 84772, 84799, 84844, 84847, 84942, 84944, 84950, 84952, 84954, 85020, 85022, 85025, 85056, 85131, 85179, 85213, 85259, 85261, 85295, 85316, 85334, 85342, 85354, 85367, 85394, 85397, 85399, 85401, 85412, 85414, 85438, 85510, 85736, 85774, 85780, 85788, 85796, 85881, 85885, 86000, 86014, 86028, 86059, 86066, 86068, 86142, 86190, 86237, 86279, 86286, 86290, 86293, 86295, 86298, 86320, 86332, 86345, 86347, 86355, 86377, 86487, 86504, 86548, 86593, 86628, 86644, 86668, 86721, 86781, 86815, 86817, 86833, 86835, 86864, 86880, 86882, 86892, 86898, 86911, 86922, 86960, 87028, 87192, 87194, 87197, 87222, 87232, 87234, 87287, 87298, 87304, 87306, 87413, 87430, 87444, 87483, 87485, 87520, 87522, 87529, 87660, 87785, 87834, 87867, 87869, 87876, 87960, 88069, 88094, 88108, 88125, 88129, 88140, 88163, 88179, 88235, 88267, 88272, 88327, 88345, 88356, 88405, 88448, 88515, 88593, 88672, 88697, 88699, 88744, 88746, 88785, 88810, 88812, 88911, 88932, 88954, 89028, 89030, 89039, 89047, 89072, 89085, 89087, 89090, 89118, 89190, 89208, 89281, 89305, 89343, 89386, 89388, 89427, 89470, 89492, 89580, 89582, 89586, 89678, 89745, 89753, 89759, 89761, 89774, 89804, 89837, 89840, 89862, 89864, 89898, 89904, 89939, 89945, 90057, 90243, 90245, 90249, 90343, 90345, 90353, 90357, 90374, 90376, 90384, 90403, 90405, 90428, 90430, 90439, 90469, 90471, 90522, 90524, 90528, 90531, 90576, 90600, 90603, 90630, 90647, 90717, 90719, 90738, 90746, 90769, 90809, 90863, 90866, 90888, 90890, 90943, 90945, 91077, 91079, 91094, 91104, 91126, 91128, 91233, 91261, 91266, 91273, 91323, 91325, 91337, 91353, 91355, 91386, 91414, 91470, 91483, 91485, 91488, 91500, 91529, 91535, 91542, 91571, 91622, 91628, 91630, 91653, 91658, 91660, 91666, 91671, 91688, 91690, 91784, 91842, 91860, 91869, 91873, 91890, 91935, 91947, 91974, 91976, 91978, 91981, 92008, 92046, 92048, 92094, 92192, 92198, 92234, 92243, 92259, 92264, 92309, 92348, 92391, 92420, 92422, 92427, 92439, 92475, 92494, 92507, 92509, 92535, 92637, 92643, 92665, 92674, 92681, 92694, 92730, 92760, 92938, 92954, 93006, 93008, 93022, 93040, 93114, 93134, 93139, 93193, 93208, 93242, 93270, 93272, 93287, 93297, 93320, 93326, 93363, 93443, 93502, 93510, 93512, 93563, 93598, 93610, 93721, 93723, 93740, 93766, 93790, 93805, 93819, 93831, 93838, 93840, 93855, 93980, 93982, 93988, 94011, 94015, 94018, 94070, 94122, 94130, 94150, 94160, 94262, 94266, 94323, 94325, 94405, 94478, 94494, 94503, 94661, 94677, 94735, 94777, 94780, 94799, 94810, 94833, 94864, 94867, 94896, 94919, 94931, 94953, 94959, 94985, 95004, 95067, 95088, 95105, 95135, 95145, 95147, 95149, 95163, 95165, 95167, 95170, 95175, 95182, 95193, 95199, 95201, 95207, 95218, 95307, 95309, 95311, 95313, 95377, 95441, 95449, 95473, 95475, 95497, 95499, 95508, 95510, 95519, 95543, 95558, 95583, 95624, 95633, 95654, 95690, 95717, 95720, 95738, 95744, 95761, 95771, 95780, 95796, 95839, 95843, 95858, 95873, 95875, 95939, 95949, 95965, 96004, 96007, 96020, 96079, 96084, 96110, 96114, 96121, 96150, 96281, 96283, 96373, 96411, 96417, 96430, 96432, 96448, 96471, 96488, 96518, 96520, 96530, 96563, 96567, 96588, 96606, 96608, 96610, 96616, 96655, 96691, 96726, 96728, 96737, 96811, 96815, 96821, 96829, 96832, 96861, 96917, 96935, 96945, 96964, 96975, 97024, 97168, 97172, 97188, 97194, 97225, 97230, 97285, 97304, 97306, 97328, 97470, 97643, 97665, 97701, 97742, 97752, 97757, 97785, 97836, 97858, 97860, 97866, 97870, 97904, 97913, 97921, 97923, 97936, 97938, 97950, 97988, 98061, 98083, 98122, 98124, 98154, 98160, 98175, 98203, 98230, 98239, 98243, 98279, 98296, 98361, 98491, 98499, 98503, 98585, 98604, 98607, 98623, 98633, 98697, 98799, 98809, 98836, 98908, 98961, 99005, 99007, 99030, 99087, 99106, 99112, 99114, 99117, 99122, 99130, 99145, 99149, 99191, 99415, 99437, 99532, 99574, 99636, 99638, 99721, 99728, 99750, 99764, 99813, 99846, 99853, 99910, 99917, 99992, 100044, 100068, 100083, 100106, 100159, 100163, 100194, 100226, 100277, 100302, 100304, 100306, 100326, 100383, 100390, 100397, 100487, 100498, 100507, 100527, 100553, 100556, 100579, 100611, 100714, 100737, 100810, 100843, 100882, 100906, 101025, 101070, 101072, 101074, 101076, 101088, 101112, 101142, 101283, 101360, 101362, 101415, 101423, 101525, 101529, 101531, 101577, 101612, 101739, 101741, 101765, 101864, 101884, 101895, 101962, 101973, 102007, 102025, 102033, 102058, 102066, 102070, 102084, 102088, 102123, 102125, 102165, 102194, 102217, 102278, 102338, 102378, 102407, 102445, 102481, 102590, 102602, 102666, 102684, 102686, 102716, 102720, 102735, 102742, 102747, 102749, 102760, 102800, 102802, 102819, 102823, 102852, 102880, 102903, 102984, 102993, 103027, 103042, 103048, 103075, 103085, 103107, 103137, 103141, 103171, 103210, 103219, 103221, 103228, 103233, 103235, 103245, 103249, 103253, 103335, 103339, 103341, 103366, 103372, 103384, 103449, 103483, 103502, 103539, 103543, 103596, 103602, 103606, 103609, 103624, 103655, 103685, 103688, 103755, 103772, 103801, 103810, 103819, 103865, 103883, 103980, 103984, 104017, 104069, 104074, 104076, 104078, 104129, 104141, 104211, 104218, 104241, 104243, 104245, 104272, 104283, 104303, 104337, 104339, 104374, 104419, 104457, 104644, 104760, 104780, 104837, 104841, 104863, 104875, 104879, 104906, 104908, 104913, 104925, 104944, 105020, 105037, 105121, 105197, 105211, 105213, 105246, 105250, 105254, 105325, 105351, 105355, 105468, 105504, 105540, 105585, 105593, 105653, 105720, 105731, 105746, 105755, 105801, 105835, 105844, 105954, 106002, 106062, 106072, 106100, 106144, 106330, 106438, 106441, 106487, 106489, 106491, 106540, 106542, 106594, 106642, 106648, 106696, 106766, 106782, 106785, 106839, 106873, 106883, 106889, 106916, 106918, 106920, 106927, 107013, 107069, 107141, 107159, 107314, 107338, 107348, 107406, 107408, 107410, 107412, 107436, 107447, 107449, 107462, 107565, 107630, 107702, 107723, 107771, 107780, 107846, 107945, 107951, 107953, 107962, 107997, 107999, 108078, 108090, 108156, 108188, 108190, 108192, 108540, 108601, 108689, 108715, 108727, 108729, 108795, 108928, 108932, 108945, 108949, 108981, 109042, 109161, 109183, 109187, 109191, 109241, 109282, 109295, 109313, 109317, 109372, 109374, 109383, 109416, 109483, 109487, 109569, 109576, 109578, 109596, 109633, 109673, 109687, 109723, 109846, 109848, 109850, 109853, 109864, 109895, 109897, 109941, 109968, 109971, 110102, 110127, 110130, 110281, 110286, 110297, 110330, 110350, 110387, 110501, 110541, 110553, 110586, 110591, 110603, 110611, 110655, 110669, 110718, 110730, 110746, 110771, 110773, 110781, 110826, 110882, 111113, 111146, 111320, 111360, 111362, 111364, 111375, 111384, 111443, 111551, 111617, 111622, 111659, 111663, 111680, 111732, 111743, 111759, 111781, 111785, 111795, 111800, 111817, 111844, 111913, 111921, 112006, 112070, 112138, 112171, 112175, 112183, 112290, 112303, 112316, 112326, 112334, 112370, 112421, 112450, 112454, 112460, 112497, 112512, 112515, 112552, 112556, 112580, 112623, 112727, 112749, 112788, 112804, 112818, 112852, 112868, 112897, 112911, 112940, 113159, 113186, 113207, 113225, 113252, 113275, 113278, 113280, 113313, 113345, 113348, 113350, 113374, 113378, 113394, 113416, 113453, 113532, 113565, 113573, 113604, 113705, 113741, 113780, 113829, 113849, 113862, 114028, 114044, 114060, 114066, 114074, 114126, 114180, 114184, 114246, 114265, 114335, 114396, 114494, 114554, 114601, 114627, 114662, 114670, 114678, 114707, 114713, 114762, 114795, 114818, 114847, 114925, 114935, 115065, 115111, 115122, 115149, 115151, 115170, 115203, 115210, 115216, 115231, 115502, 115569, 115617, 115664, 115667, 115680, 115713, 115727, 115819, 115828, 115877, 115969, 116044, 116138, 116169, 116207, 116411, 116413, 116419, 116505, 116529, 116668, 116718, 116724, 116738, 116797, 116799, 116817, 116823, 116849, 116887, 116897, 116941, 116963, 116977, 116985, 117107, 117109, 117133, 117176, 117192, 117364, 117368, 117444, 117466, 117511, 117529, 117531, 117533, 117545, 117572, 117590, 117630, 117646, 117849, 117851, 117867, 117877, 117881, 117887, 117895, 117922, 118082, 118166, 118198, 118248, 118270, 118290, 118326, 118354, 118512, 118530, 118572, 118696, 118700, 118702, 118706, 118784, 118814, 118834, 118862, 118880, 118888, 118894, 118896, 118900, 118924, 118930, 118985, 118997, 119068, 119141, 119145, 119153, 119155, 119167, 119218, 119655, 119714, 119828, 119964, 120130, 120138, 120466, 120478, 120625, 120635, 120637, 120761, 120783, 120799, 120807, 120813, 120827, 120919, 121007, 121035, 121097, 121099, 121129, 121169, 121171, 121231, 121253, 121338, 121342, 121372, 121374, 121469, 121715, 121781, 122092, 122246, 122260, 122433, 122490, 122627, 122882, 122884, 122886, 122888, 122890, 122892, 122896, 122898, 122900, 122902, 122904, 122906, 122912, 122916, 122918, 122920, 122922, 122924, 122926, 122932, 123200, 123310, 123545, 123553, 123947, 124273, 124404, 124484, 124851, 124853, 124859, 125221, 125914, 125916, 125970, 125974, 126088, 126090, 126142, 126420, 126426, 126430, 126482, 126548, 126577, 126921, 127052, 127096, 127098, 127108, 127114, 127116, 127130, 127132, 127134, 127136, 127146, 127152, 127164, 127172, 127180, 127184, 127194, 127198, 127202, 127204, 127212, 127298, 127319, 127323, 127390, 128087, 128089, 128097, 128099, 128197, 128360, 128366, 128488, 128512, 128520, 128542, 128592, 128594, 128620, 128695, 128736, 128832, 128838, 128842, 128852, 128900, 128902, 128908, 128914, 128944, 128968, 128975, 128991, 129011, 129229, 129250, 129313, 129333, 129354, 129397, 129428, 129514, 129657, 129659, 129737, 129779, 129937, 130050, 130052, 130073, 130083, 130087, 130444, 130450, 130452, 130482, 130490, 130498, 130518, 130520, 130576, 130578, 130634, 130686, 130840, 130842, 130970, 130976, 130978, 131013, 131023, 131098, 131104, 131130, 131237, 131439, 131480, 131578, 131610, 131656, 131714, 131724, 131739, 131749, 131796, 131826, 131920, 131934, 132046, 132084, 132153, 132157, 132333, 132335, 132362, 132422, 132424, 132454, 132462, 132488, 132496, 132584, 132618, 132660, 132796, 132800, 132888, 133115, 133195, 133217, 133281, 133365, 133377, 133419, 133545, 133645, 133712, 133716, 133771, 133780, 133782, 133798, 133802, 133832, 133867, 133879, 134004, 134019, 134021, 134041, 134095, 134109, 134130, 134158, 134170, 134184, 134214, 134246, 134248, 134252, 134326, 134334, 134368, 134393, 134515, 134524, 134528, 134775, 134783, 134796, 134808, 134847, 134849, 134853, 134859, 134861, 134881, 135133, 135137, 135143, 135198, 135216, 135288, 135436, 135456, 135518, 135532, 135534, 135536, 135567, 135569, 135777, 135787, 135803, 135815, 135861, 135885, 135887, 135937, 136012, 136016, 136018, 136020, 136024, 136297, 136305, 136341, 136353, 136355, 136359, 136443, 136445, 136447, 136449, 136469, 136471, 136503, 136511, 136540, 136556, 136562, 136564, 136598, 136602, 136654, 136664, 136666, 136778, 136786, 136800, 136816, 136834, 136838, 136840, 136850, 136859, 136864, 136912, 136958, 137218, 137337, 137345, 137517, 137595, 137857, 137859, 137863, 138036, 138186, 138204, 138208, 138210, 138396, 138546, 138610, 138632, 138702, 138798, 138835, 138966, 139052, 139130, 139157, 139385, 139415, 139511, 139640, 139642, 139644, 139655, 139717, 139747, 139855, 139857, 139859, 139915, 139994, 140016, 140038, 140110, 140133, 140162, 140174, 140237, 140247, 140265, 140267, 140289, 140301, 140359, 140481, 140523, 140525, 140541, 140561, 140627, 140711, 140715, 140725, 140737, 140816, 140850, 140852, 140928, 140956, 141004, 141131, 141400, 141408, 141422, 141513, 141544, 141646, 141668, 141688, 141718, 141749, 141799, 141810, 141816, 141818, 141820, 141830, 141836, 141844, 141846, 141866, 141890, 141928, 141994, 142020, 142056, 142074, 142115, 142196, 142222, 142366, 142372, 142420, 142422, 142424, 142444, 142448, 142456, 142488, 142507, 142509, 142536, 142550, 142558, 142598, 142602, 142831, 142961, 142997, 143001, 143031, 143245, 143255, 143257, 143355, 143365, 143367, 143385, 143410, 143458, 143472, 143511, 143525, 143559, 143859, 143896, 143969, 144210, 144222, 144262, 144352, 144478, 144522, 144606, 144620, 144714, 144716, 144734, 144976, 145080, 145150, 145283, 145418, 145491, 145724, 145745, 145839, 145935, 145951, 145994, 146024, 146028, 146210, 146244, 146309, 146656, 146662, 146682, 146684, 146688, 146730, 146986, 147002, 147142, 147196, 147250, 147282, 147286, 147300, 147326, 147328, 147330, 147372, 147374, 147376, 147378, 147380, 147382, 147384, 147410, 147657, 147662, 147936, 148166, 148172, 148238, 148424, 148482, 148592, 148626, 148632, 148652, 148667, 148671, 148675, 148709, 148775, 148881, 148888, 148956, 148978, 148982, 149011, 149144, 149146, 149330, 149334, 149350, 149352, 149354, 149380, 149406, 149508, 149566, 149590, 149612, 149830, 149902, 150254, 150401, 150548, 150554, 150596, 150604, 150696, 150993, 151311, 151315, 151317, 151455, 151479, 151501, 151557, 151559, 151653, 151687, 151695, 151739, 151745, 151759, 151763, 151769, 151777, 151781, 152037, 152063, 152065, 152071, 152077, 152079, 152081, 152083, 152085, 152091, 152105, 152173, 152270, 152284, 152372, 152591, 152658, 152711, 152970, 153070, 153236, 153386, 153408, 154065, 154358, 154975, 155064, 155168, 155288, 155358, 155509, 155589, 155659, 155743, 155774, 155812, 155820, 155892, 156025, 156371, 156387, 156553, 156605, 156607, 156609, 156675, 156706, 156726, 156781, 156783, 157108, 157110, 157122, 157130, 157172, 157200, 157270, 157296, 157312, 157340, 157369, 157407, 157432, 157699, 157775, 157865, 158022, 158027, 158035, 158238, 158254, 158388, 158398, 158402, 158528, 158721, 158783, 158813, 158830, 158842, 158872, 158874, 158882, 158956, 158966, 158972, 159061, 159069, 159077, 159093, 159161, 159193, 159403, 159415, 159441, 159510, 159690, 159717, 159755, 159779, 159811, 159817, 159849, 159858, 159976, 160080, 160271, 160289, 160341, 160400, 160422, 160438, 160440, 160527, 160563, 160565, 160567, 160569, 160571, 160573, 160644, 160646, 160684, 160718, 160730, 160836, 160848, 160872, 160954, 160978, 160980, 161008, 161024, 161032, 161044, 161127, 161131, 161290, 161354, 161580, 161582, 161594, 161634, 161830, 161918, 161922, 161966, 162082, 162344, 162350, 162414, 162478, 162578, 162590, 162598, 162600, 162602, 162606, 162828, 162968, 162982, 163056, 163072, 163112, 163134, 163386, 163527, 163639, 163645, 163653, 163809, 163925, 163937, 163981, 163985, 164179, 164200, 164226, 164280, 164367, 164375, 164540, 164647, 164655, 164707, 164753, 164881, 164909, 164917, 165075, 165101, 165103, 165139, 165343, 165347, 165483, 165489, 165529, 165549, 165551, 165635, 165639, 165645, 165671, 165843, 165947, 165959, 165969, 166015, 166024, 166183, 166203, 166291, 166461, 166492, 166526, 166528, 166534, 166558, 166568, 166635, 166643, 166705, 166946, 167018, 167036, 167064, 167296, 167370, 167380, 167538, 167570, 167634, 167706, 167732, 167746, 167772, 167790, 167854, 168026, 168090, 168144, 168174, 168218, 168248, 168250, 168252, 168254, 168266, 168326, 168350, 168358, 168366, 168418, 168456, 168492, 168608, 168612, 168632, 168712, 168846, 169034, 169180, 169670, 169904, 169912, 169958, 169982, 169984, 169992, 170289, 170297, 170355, 170357, 170399, 170401, 170411, 170551, 170597, 170697, 170705, 170777, 170813, 170817, 170827, 170837, 170875, 170897, 170907, 170937, 170939, 170945, 170957, 170993, 171011, 171023, 171251, 171495, 171631, 171695, 171701, 171749, 171751, 171759, 171763, 171765, 171811, 171867, 171891, 171917, 172013, 172215, 172229, 172233, 172253, 172321, 172461, 172497, 172547, 172577, 172583, 172585, 172587, 172589, 172591, 172637, 172705, 172793, 172825, 172875, 172881, 172887, 172909, 173145, 173197, 173205, 173209, 173235, 173253, 173255, 173291, 173307, 173317, 173351, 173355, 173535, 173619, 173751, 173873, 173925, 173941, 173963, 174045, 174053, 174055, 174141, 174403, 174479, 174551, 174681, 174727, 174737, 174815, 174909, 175197, 175199, 175293, 175303, 175387, 175397, 175401, 175431, 175435, 175475, 175485, 175569, 175577, 175585, 175661, 175693, 175705, 175707, 175743, 175781, 176051, 176101, 176329, 176371, 176389, 176413, 176415, 176419, 176423, 176579, 176601, 176621, 176751, 176805, 176935, 177185, 177285, 177593, 177615, 177763, 177765, 177939, 178061, 178111, 178129, 178323, 178613, 178615, 178827, 179053, 179073, 179119, 179133, 179135, 179211, 179401, 179427, 179491, 179511, 179709, 179749, 179813, 179815, 179817, 179819, 179953, 180031, 180045, 180095, 180231, 180263, 180265, 180297, 180497, 180777, 180985, 180987, 181065, 181139, 181315, 181413, 181659, 181719, 182293, 182297, 182299, 182639, 182715, 182727, 182731, 182749, 182793, 182823, 183011, 183197, 183199, 183227, 183295, 183301, 183317, 183611, 183635, 183897, 183911, 183959, 184015, 184053, 184245, 184253, 184257, 184349, 184471, 184641, 184721, 184791, 184931, 184987, 184997, 185029, 185031, 185033, 185135, 185435, 185473, 185585, 186587, 187031, 187541, 187593, 187595, 187717, 188189, 188301, 188675, 188751, 188797, 188833, 189043, 189111, 189333, 189381, 189547, 189713, 190183, 190207, 190209, 190213, 190215, 190219, 190221, 191005, 193565, 193567, 193571, 193573, 193579, 193581, 193583, 193585, 193587, 193609]\n",
      "encoded movieId: {1: 0, 2: 1, 3: 2, 4: 3, 5: 4, 6: 5, 7: 6, 8: 7, 9: 8, 10: 9, 11: 10, 12: 11, 13: 12, 14: 13, 15: 14, 16: 15, 17: 16, 18: 17, 19: 18, 20: 19, 21: 20, 22: 21, 23: 22, 24: 23, 25: 24, 26: 25, 27: 26, 28: 27, 29: 28, 30: 29, 31: 30, 32: 31, 34: 32, 36: 33, 38: 34, 39: 35, 40: 36, 41: 37, 42: 38, 43: 39, 44: 40, 45: 41, 46: 42, 47: 43, 48: 44, 49: 45, 50: 46, 52: 47, 53: 48, 54: 49, 55: 50, 57: 51, 58: 52, 60: 53, 61: 54, 62: 55, 63: 56, 64: 57, 65: 58, 66: 59, 68: 60, 69: 61, 70: 62, 71: 63, 72: 64, 73: 65, 74: 66, 75: 67, 76: 68, 77: 69, 78: 70, 79: 71, 80: 72, 81: 73, 82: 74, 83: 75, 85: 76, 86: 77, 87: 78, 88: 79, 89: 80, 92: 81, 93: 82, 94: 83, 95: 84, 96: 85, 97: 86, 99: 87, 100: 88, 101: 89, 102: 90, 103: 91, 104: 92, 105: 93, 106: 94, 107: 95, 108: 96, 110: 97, 111: 98, 112: 99, 113: 100, 116: 101, 117: 102, 118: 103, 119: 104, 121: 105, 122: 106, 123: 107, 125: 108, 126: 109, 128: 110, 129: 111, 132: 112, 135: 113, 137: 114, 140: 115, 141: 116, 144: 117, 145: 118, 146: 119, 147: 120, 148: 121, 149: 122, 150: 123, 151: 124, 152: 125, 153: 126, 154: 127, 155: 128, 156: 129, 157: 130, 158: 131, 159: 132, 160: 133, 161: 134, 162: 135, 163: 136, 164: 137, 165: 138, 166: 139, 168: 140, 169: 141, 170: 142, 171: 143, 172: 144, 173: 145, 174: 146, 175: 147, 176: 148, 177: 149, 178: 150, 179: 151, 180: 152, 181: 153, 183: 154, 184: 155, 185: 156, 186: 157, 187: 158, 188: 159, 189: 160, 190: 161, 191: 162, 193: 163, 194: 164, 195: 165, 196: 166, 198: 167, 199: 168, 201: 169, 202: 170, 203: 171, 204: 172, 205: 173, 206: 174, 207: 175, 208: 176, 209: 177, 210: 178, 211: 179, 212: 180, 213: 181, 214: 182, 215: 183, 216: 184, 217: 185, 218: 186, 219: 187, 220: 188, 222: 189, 223: 190, 224: 191, 225: 192, 227: 193, 228: 194, 229: 195, 230: 196, 231: 197, 232: 198, 233: 199, 234: 200, 235: 201, 236: 202, 237: 203, 238: 204, 239: 205, 240: 206, 241: 207, 242: 208, 243: 209, 246: 210, 247: 211, 248: 212, 249: 213, 250: 214, 251: 215, 252: 216, 253: 217, 254: 218, 255: 219, 256: 220, 257: 221, 258: 222, 259: 223, 260: 224, 261: 225, 262: 226, 263: 227, 265: 228, 266: 229, 267: 230, 269: 231, 270: 232, 271: 233, 272: 234, 273: 235, 274: 236, 275: 237, 276: 238, 277: 239, 278: 240, 279: 241, 280: 242, 281: 243, 282: 244, 283: 245, 284: 246, 285: 247, 287: 248, 288: 249, 289: 250, 290: 251, 291: 252, 292: 253, 293: 254, 294: 255, 295: 256, 296: 257, 298: 258, 299: 259, 300: 260, 301: 261, 302: 262, 303: 263, 304: 264, 305: 265, 306: 266, 307: 267, 308: 268, 310: 269, 311: 270, 312: 271, 313: 272, 314: 273, 315: 274, 316: 275, 317: 276, 318: 277, 319: 278, 320: 279, 321: 280, 322: 281, 324: 282, 325: 283, 326: 284, 327: 285, 328: 286, 329: 287, 330: 288, 331: 289, 332: 290, 333: 291, 334: 292, 335: 293, 336: 294, 337: 295, 338: 296, 339: 297, 340: 298, 341: 299, 342: 300, 343: 301, 344: 302, 345: 303, 346: 304, 347: 305, 348: 306, 349: 307, 350: 308, 351: 309, 352: 310, 353: 311, 354: 312, 355: 313, 356: 314, 357: 315, 358: 316, 359: 317, 360: 318, 361: 319, 362: 320, 363: 321, 364: 322, 365: 323, 366: 324, 367: 325, 368: 326, 369: 327, 370: 328, 371: 329, 372: 330, 373: 331, 374: 332, 376: 333, 377: 334, 378: 335, 379: 336, 380: 337, 381: 338, 382: 339, 383: 340, 384: 341, 385: 342, 386: 343, 387: 344, 388: 345, 389: 346, 390: 347, 391: 348, 393: 349, 405: 350, 406: 351, 407: 352, 408: 353, 409: 354, 410: 355, 412: 356, 413: 357, 414: 358, 415: 359, 416: 360, 417: 361, 418: 362, 419: 363, 420: 364, 421: 365, 422: 366, 423: 367, 424: 368, 425: 369, 426: 370, 427: 371, 428: 372, 429: 373, 430: 374, 431: 375, 432: 376, 433: 377, 434: 378, 435: 379, 436: 380, 437: 381, 438: 382, 440: 383, 441: 384, 442: 385, 444: 386, 445: 387, 446: 388, 448: 389, 449: 390, 450: 391, 451: 392, 452: 393, 453: 394, 454: 395, 455: 396, 456: 397, 457: 398, 458: 399, 459: 400, 460: 401, 461: 402, 464: 403, 466: 404, 467: 405, 468: 406, 469: 407, 470: 408, 471: 409, 472: 410, 473: 411, 474: 412, 475: 413, 476: 414, 477: 415, 478: 416, 479: 417, 480: 418, 481: 419, 482: 420, 484: 421, 485: 422, 486: 423, 487: 424, 488: 425, 489: 426, 490: 427, 491: 428, 492: 429, 493: 430, 494: 431, 495: 432, 496: 433, 497: 434, 499: 435, 500: 436, 501: 437, 502: 438, 504: 439, 505: 440, 506: 441, 507: 442, 508: 443, 509: 444, 510: 445, 511: 446, 512: 447, 513: 448, 514: 449, 515: 450, 516: 451, 517: 452, 518: 453, 519: 454, 520: 455, 521: 456, 522: 457, 523: 458, 524: 459, 526: 460, 527: 461, 528: 462, 529: 463, 531: 464, 532: 465, 533: 466, 534: 467, 535: 468, 536: 469, 537: 470, 538: 471, 539: 472, 540: 473, 541: 474, 542: 475, 543: 476, 544: 477, 546: 478, 547: 479, 548: 480, 549: 481, 550: 482, 551: 483, 552: 484, 553: 485, 555: 486, 556: 487, 558: 488, 562: 489, 563: 490, 564: 491, 567: 492, 568: 493, 569: 494, 573: 495, 574: 496, 575: 497, 577: 498, 579: 499, 580: 500, 581: 501, 583: 502, 585: 503, 586: 504, 587: 505, 588: 506, 589: 507, 590: 508, 592: 509, 593: 510, 594: 511, 595: 512, 596: 513, 597: 514, 599: 515, 600: 516, 602: 517, 605: 518, 606: 519, 608: 520, 609: 521, 610: 522, 611: 523, 612: 524, 613: 525, 615: 526, 616: 527, 617: 528, 618: 529, 619: 530, 626: 531, 627: 532, 628: 533, 631: 534, 632: 535, 633: 536, 634: 537, 635: 538, 636: 539, 637: 540, 638: 541, 639: 542, 640: 543, 645: 544, 647: 545, 648: 546, 649: 547, 650: 548, 653: 549, 656: 550, 661: 551, 662: 552, 663: 553, 665: 554, 667: 555, 668: 556, 670: 557, 671: 558, 673: 559, 674: 560, 678: 561, 679: 562, 680: 563, 685: 564, 688: 565, 691: 566, 692: 567, 694: 568, 695: 569, 697: 570, 698: 571, 700: 572, 703: 573, 704: 574, 706: 575, 707: 576, 708: 577, 709: 578, 710: 579, 711: 580, 714: 581, 715: 582, 718: 583, 719: 584, 720: 585, 722: 586, 724: 587, 725: 588, 726: 589, 728: 590, 731: 591, 733: 592, 735: 593, 736: 594, 737: 595, 741: 596, 742: 597, 743: 598, 745: 599, 747: 600, 748: 601, 750: 602, 757: 603, 759: 604, 760: 605, 761: 606, 762: 607, 764: 608, 765: 609, 766: 610, 773: 611, 775: 612, 778: 613, 779: 614, 780: 615, 781: 616, 782: 617, 783: 618, 784: 619, 785: 620, 786: 621, 788: 622, 790: 623, 791: 624, 795: 625, 798: 626, 799: 627, 800: 628, 801: 629, 802: 630, 803: 631, 804: 632, 805: 633, 806: 634, 808: 635, 809: 636, 810: 637, 813: 638, 818: 639, 823: 640, 824: 641, 828: 642, 829: 643, 830: 644, 832: 645, 833: 646, 835: 647, 836: 648, 837: 649, 838: 650, 839: 651, 840: 652, 841: 653, 842: 654, 848: 655, 849: 656, 851: 657, 852: 658, 858: 659, 861: 660, 866: 661, 867: 662, 869: 663, 870: 664, 875: 665, 876: 666, 879: 667, 880: 668, 881: 669, 882: 670, 885: 671, 886: 672, 888: 673, 889: 674, 891: 675, 892: 676, 893: 677, 896: 678, 897: 679, 898: 680, 899: 681, 900: 682, 901: 683, 902: 684, 903: 685, 904: 686, 905: 687, 906: 688, 907: 689, 908: 690, 909: 691, 910: 692, 911: 693, 912: 694, 913: 695, 914: 696, 915: 697, 916: 698, 917: 699, 918: 700, 919: 701, 920: 702, 921: 703, 922: 704, 923: 705, 924: 706, 926: 707, 927: 708, 928: 709, 929: 710, 930: 711, 931: 712, 932: 713, 933: 714, 934: 715, 935: 716, 936: 717, 937: 718, 938: 719, 940: 720, 941: 721, 942: 722, 943: 723, 944: 724, 945: 725, 946: 726, 947: 727, 948: 728, 949: 729, 950: 730, 951: 731, 952: 732, 953: 733, 954: 734, 955: 735, 956: 736, 959: 737, 961: 738, 963: 739, 965: 740, 968: 741, 969: 742, 970: 743, 971: 744, 973: 745, 976: 746, 979: 747, 981: 748, 982: 749, 984: 750, 986: 751, 987: 752, 988: 753, 990: 754, 991: 755, 993: 756, 994: 757, 996: 758, 998: 759, 999: 760, 1003: 761, 1004: 762, 1005: 763, 1006: 764, 1007: 765, 1008: 766, 1009: 767, 1010: 768, 1011: 769, 1012: 770, 1013: 771, 1014: 772, 1015: 773, 1016: 774, 1017: 775, 1018: 776, 1019: 777, 1020: 778, 1021: 779, 1022: 780, 1023: 781, 1024: 782, 1025: 783, 1027: 784, 1028: 785, 1029: 786, 1030: 787, 1031: 788, 1032: 789, 1033: 790, 1034: 791, 1035: 792, 1036: 793, 1037: 794, 1040: 795, 1041: 796, 1042: 797, 1043: 798, 1046: 799, 1047: 800, 1049: 801, 1050: 802, 1051: 803, 1053: 804, 1054: 805, 1055: 806, 1056: 807, 1057: 808, 1059: 809, 1060: 810, 1061: 811, 1064: 812, 1066: 813, 1068: 814, 1073: 815, 1077: 816, 1078: 817, 1079: 818, 1080: 819, 1081: 820, 1082: 821, 1083: 822, 1084: 823, 1085: 824, 1086: 825, 1088: 826, 1089: 827, 1090: 828, 1091: 829, 1092: 830, 1093: 831, 1094: 832, 1095: 833, 1096: 834, 1097: 835, 1099: 836, 1100: 837, 1101: 838, 1103: 839, 1104: 840, 1105: 841, 1107: 842, 1111: 843, 1112: 844, 1114: 845, 1116: 846, 1117: 847, 1119: 848, 1120: 849, 1121: 850, 1123: 851, 1124: 852, 1125: 853, 1126: 854, 1127: 855, 1128: 856, 1129: 857, 1130: 858, 1131: 859, 1132: 860, 1135: 861, 1136: 862, 1137: 863, 1140: 864, 1144: 865, 1147: 866, 1148: 867, 1150: 868, 1151: 869, 1156: 870, 1161: 871, 1162: 872, 1163: 873, 1167: 874, 1170: 875, 1171: 876, 1172: 877, 1173: 878, 1175: 879, 1176: 880, 1177: 881, 1178: 882, 1179: 883, 1180: 884, 1183: 885, 1184: 886, 1185: 887, 1186: 888, 1187: 889, 1188: 890, 1189: 891, 1190: 892, 1191: 893, 1192: 894, 1193: 895, 1194: 896, 1196: 897, 1197: 898, 1198: 899, 1199: 900, 1200: 901, 1201: 902, 1202: 903, 1203: 904, 1204: 905, 1206: 906, 1207: 907, 1208: 908, 1209: 909, 1210: 910, 1211: 911, 1212: 912, 1213: 913, 1214: 914, 1215: 915, 1216: 916, 1217: 917, 1218: 918, 1219: 919, 1220: 920, 1221: 921, 1222: 922, 1223: 923, 1224: 924, 1225: 925, 1226: 926, 1227: 927, 1228: 928, 1230: 929, 1231: 930, 1232: 931, 1233: 932, 1234: 933, 1235: 934, 1236: 935, 1237: 936, 1238: 937, 1240: 938, 1241: 939, 1242: 940, 1243: 941, 1244: 942, 1245: 943, 1246: 944, 1247: 945, 1248: 946, 1249: 947, 1250: 948, 1251: 949, 1252: 950, 1253: 951, 1254: 952, 1255: 953, 1256: 954, 1257: 955, 1258: 956, 1259: 957, 1260: 958, 1261: 959, 1262: 960, 1263: 961, 1264: 962, 1265: 963, 1266: 964, 1267: 965, 1268: 966, 1269: 967, 1270: 968, 1271: 969, 1272: 970, 1273: 971, 1274: 972, 1275: 973, 1276: 974, 1277: 975, 1278: 976, 1279: 977, 1280: 978, 1281: 979, 1282: 980, 1283: 981, 1284: 982, 1285: 983, 1286: 984, 1287: 985, 1288: 986, 1289: 987, 1290: 988, 1291: 989, 1292: 990, 1293: 991, 1295: 992, 1296: 993, 1297: 994, 1298: 995, 1299: 996, 1300: 997, 1301: 998, 1302: 999, 1303: 1000, 1304: 1001, 1305: 1002, 1306: 1003, 1307: 1004, 1310: 1005, 1312: 1006, 1318: 1007, 1320: 1008, 1321: 1009, 1322: 1010, 1323: 1011, 1324: 1012, 1325: 1013, 1326: 1014, 1327: 1015, 1328: 1016, 1329: 1017, 1330: 1018, 1331: 1019, 1332: 1020, 1333: 1021, 1334: 1022, 1335: 1023, 1336: 1024, 1337: 1025, 1339: 1026, 1340: 1027, 1341: 1028, 1342: 1029, 1343: 1030, 1344: 1031, 1345: 1032, 1346: 1033, 1347: 1034, 1348: 1035, 1349: 1036, 1350: 1037, 1351: 1038, 1352: 1039, 1353: 1040, 1354: 1041, 1355: 1042, 1356: 1043, 1357: 1044, 1358: 1045, 1359: 1046, 1361: 1047, 1363: 1048, 1365: 1049, 1366: 1050, 1367: 1051, 1370: 1052, 1371: 1053, 1372: 1054, 1373: 1055, 1374: 1056, 1375: 1057, 1376: 1058, 1377: 1059, 1378: 1060, 1379: 1061, 1380: 1062, 1381: 1063, 1382: 1064, 1385: 1065, 1387: 1066, 1388: 1067, 1389: 1068, 1390: 1069, 1391: 1070, 1392: 1071, 1393: 1072, 1394: 1073, 1395: 1074, 1396: 1075, 1397: 1076, 1398: 1077, 1399: 1078, 1401: 1079, 1405: 1080, 1406: 1081, 1407: 1082, 1408: 1083, 1409: 1084, 1411: 1085, 1412: 1086, 1413: 1087, 1414: 1088, 1415: 1089, 1416: 1090, 1417: 1091, 1419: 1092, 1422: 1093, 1423: 1094, 1425: 1095, 1426: 1096, 1427: 1097, 1428: 1098, 1429: 1099, 1430: 1100, 1431: 1101, 1432: 1102, 1437: 1103, 1438: 1104, 1439: 1105, 1440: 1106, 1441: 1107, 1442: 1108, 1445: 1109, 1446: 1110, 1447: 1111, 1449: 1112, 1453: 1113, 1454: 1114, 1456: 1115, 1457: 1116, 1458: 1117, 1459: 1118, 1460: 1119, 1461: 1120, 1464: 1121, 1465: 1122, 1466: 1123, 1468: 1124, 1473: 1125, 1474: 1126, 1475: 1127, 1476: 1128, 1477: 1129, 1479: 1130, 1480: 1131, 1483: 1132, 1484: 1133, 1485: 1134, 1487: 1135, 1488: 1136, 1489: 1137, 1490: 1138, 1493: 1139, 1495: 1140, 1496: 1141, 1497: 1142, 1498: 1143, 1499: 1144, 1500: 1145, 1502: 1146, 1503: 1147, 1507: 1148, 1513: 1149, 1514: 1150, 1515: 1151, 1516: 1152, 1517: 1153, 1518: 1154, 1519: 1155, 1526: 1156, 1527: 1157, 1529: 1158, 1533: 1159, 1537: 1160, 1541: 1161, 1542: 1162, 1544: 1163, 1545: 1164, 1546: 1165, 1547: 1166, 1549: 1167, 1550: 1168, 1551: 1169, 1552: 1170, 1554: 1171, 1556: 1172, 1562: 1173, 1564: 1174, 1565: 1175, 1566: 1176, 1569: 1177, 1571: 1178, 1572: 1179, 1573: 1180, 1574: 1181, 1580: 1182, 1581: 1183, 1582: 1184, 1583: 1185, 1584: 1186, 1585: 1187, 1586: 1188, 1587: 1189, 1588: 1190, 1589: 1191, 1590: 1192, 1591: 1193, 1592: 1194, 1593: 1195, 1594: 1196, 1596: 1197, 1597: 1198, 1598: 1199, 1599: 1200, 1600: 1201, 1601: 1202, 1602: 1203, 1603: 1204, 1604: 1205, 1605: 1206, 1606: 1207, 1608: 1208, 1609: 1209, 1610: 1210, 1611: 1211, 1612: 1212, 1613: 1213, 1614: 1214, 1615: 1215, 1616: 1216, 1617: 1217, 1619: 1218, 1620: 1219, 1621: 1220, 1623: 1221, 1624: 1222, 1625: 1223, 1626: 1224, 1627: 1225, 1629: 1226, 1631: 1227, 1633: 1228, 1635: 1229, 1639: 1230, 1641: 1231, 1642: 1232, 1643: 1233, 1644: 1234, 1645: 1235, 1646: 1236, 1647: 1237, 1648: 1238, 1649: 1239, 1650: 1240, 1652: 1241, 1653: 1242, 1654: 1243, 1655: 1244, 1656: 1245, 1658: 1246, 1659: 1247, 1660: 1248, 1661: 1249, 1662: 1250, 1663: 1251, 1665: 1252, 1667: 1253, 1670: 1254, 1671: 1255, 1672: 1256, 1673: 1257, 1674: 1258, 1675: 1259, 1676: 1260, 1677: 1261, 1678: 1262, 1679: 1263, 1680: 1264, 1681: 1265, 1682: 1266, 1683: 1267, 1684: 1268, 1685: 1269, 1686: 1270, 1687: 1271, 1688: 1272, 1689: 1273, 1690: 1274, 1693: 1275, 1694: 1276, 1695: 1277, 1696: 1278, 1699: 1279, 1701: 1280, 1702: 1281, 1703: 1282, 1704: 1283, 1707: 1284, 1711: 1285, 1713: 1286, 1717: 1287, 1718: 1288, 1719: 1289, 1721: 1290, 1722: 1291, 1726: 1292, 1727: 1293, 1729: 1294, 1730: 1295, 1731: 1296, 1732: 1297, 1733: 1298, 1734: 1299, 1735: 1300, 1739: 1301, 1746: 1302, 1747: 1303, 1748: 1304, 1752: 1305, 1753: 1306, 1754: 1307, 1755: 1308, 1757: 1309, 1759: 1310, 1760: 1311, 1762: 1312, 1767: 1313, 1769: 1314, 1770: 1315, 1771: 1316, 1772: 1317, 1777: 1318, 1779: 1319, 1783: 1320, 1784: 1321, 1785: 1322, 1791: 1323, 1792: 1324, 1793: 1325, 1794: 1326, 1797: 1327, 1798: 1328, 1799: 1329, 1801: 1330, 1804: 1331, 1805: 1332, 1806: 1333, 1807: 1334, 1809: 1335, 1810: 1336, 1812: 1337, 1816: 1338, 1821: 1339, 1824: 1340, 1825: 1341, 1826: 1342, 1827: 1343, 1829: 1344, 1831: 1345, 1833: 1346, 1834: 1347, 1835: 1348, 1836: 1349, 1837: 1350, 1839: 1351, 1840: 1352, 1841: 1353, 1844: 1354, 1845: 1355, 1848: 1356, 1855: 1357, 1856: 1358, 1857: 1359, 1858: 1360, 1859: 1361, 1860: 1362, 1862: 1363, 1863: 1364, 1866: 1365, 1867: 1366, 1870: 1367, 1873: 1368, 1875: 1369, 1876: 1370, 1881: 1371, 1882: 1372, 1883: 1373, 1884: 1374, 1885: 1375, 1887: 1376, 1888: 1377, 1889: 1378, 1891: 1379, 1892: 1380, 1893: 1381, 1894: 1382, 1895: 1383, 1897: 1384, 1900: 1385, 1902: 1386, 1904: 1387, 1906: 1388, 1907: 1389, 1909: 1390, 1910: 1391, 1911: 1392, 1912: 1393, 1913: 1394, 1914: 1395, 1916: 1396, 1917: 1397, 1918: 1398, 1919: 1399, 1920: 1400, 1921: 1401, 1922: 1402, 1923: 1403, 1924: 1404, 1926: 1405, 1927: 1406, 1928: 1407, 1929: 1408, 1931: 1409, 1932: 1410, 1933: 1411, 1934: 1412, 1936: 1413, 1937: 1414, 1938: 1415, 1939: 1416, 1940: 1417, 1941: 1418, 1942: 1419, 1944: 1420, 1945: 1421, 1946: 1422, 1947: 1423, 1948: 1424, 1949: 1425, 1950: 1426, 1951: 1427, 1952: 1428, 1953: 1429, 1954: 1430, 1955: 1431, 1956: 1432, 1957: 1433, 1958: 1434, 1959: 1435, 1960: 1436, 1961: 1437, 1962: 1438, 1963: 1439, 1964: 1440, 1965: 1441, 1966: 1442, 1967: 1443, 1968: 1444, 1969: 1445, 1970: 1446, 1971: 1447, 1972: 1448, 1973: 1449, 1974: 1450, 1975: 1451, 1976: 1452, 1977: 1453, 1978: 1454, 1979: 1455, 1980: 1456, 1981: 1457, 1982: 1458, 1983: 1459, 1984: 1460, 1985: 1461, 1986: 1462, 1987: 1463, 1990: 1464, 1991: 1465, 1992: 1466, 1993: 1467, 1994: 1468, 1995: 1469, 1996: 1470, 1997: 1471, 1998: 1472, 1999: 1473, 2000: 1474, 2001: 1475, 2002: 1476, 2003: 1477, 2004: 1478, 2005: 1479, 2006: 1480, 2007: 1481, 2008: 1482, 2009: 1483, 2010: 1484, 2011: 1485, 2012: 1486, 2013: 1487, 2014: 1488, 2015: 1489, 2016: 1490, 2017: 1491, 2018: 1492, 2019: 1493, 2020: 1494, 2021: 1495, 2022: 1496, 2023: 1497, 2024: 1498, 2025: 1499, 2026: 1500, 2027: 1501, 2028: 1502, 2032: 1503, 2033: 1504, 2034: 1505, 2035: 1506, 2036: 1507, 2037: 1508, 2038: 1509, 2040: 1510, 2041: 1511, 2042: 1512, 2043: 1513, 2044: 1514, 2046: 1515, 2048: 1516, 2050: 1517, 2051: 1518, 2052: 1519, 2053: 1520, 2054: 1521, 2055: 1522, 2056: 1523, 2057: 1524, 2058: 1525, 2059: 1526, 2060: 1527, 2064: 1528, 2065: 1529, 2066: 1530, 2067: 1531, 2068: 1532, 2069: 1533, 2070: 1534, 2071: 1535, 2072: 1536, 2073: 1537, 2074: 1538, 2075: 1539, 2076: 1540, 2077: 1541, 2078: 1542, 2080: 1543, 2081: 1544, 2082: 1545, 2083: 1546, 2084: 1547, 2085: 1548, 2087: 1549, 2088: 1550, 2089: 1551, 2090: 1552, 2091: 1553, 2092: 1554, 2093: 1555, 2094: 1556, 2095: 1557, 2096: 1558, 2097: 1559, 2098: 1560, 2099: 1561, 2100: 1562, 2102: 1563, 2103: 1564, 2104: 1565, 2105: 1566, 2106: 1567, 2107: 1568, 2108: 1569, 2109: 1570, 2110: 1571, 2111: 1572, 2112: 1573, 2114: 1574, 2115: 1575, 2116: 1576, 2117: 1577, 2118: 1578, 2119: 1579, 2120: 1580, 2121: 1581, 2122: 1582, 2123: 1583, 2124: 1584, 2125: 1585, 2126: 1586, 2130: 1587, 2131: 1588, 2132: 1589, 2133: 1590, 2134: 1591, 2135: 1592, 2136: 1593, 2137: 1594, 2138: 1595, 2139: 1596, 2140: 1597, 2141: 1598, 2142: 1599, 2143: 1600, 2144: 1601, 2145: 1602, 2146: 1603, 2147: 1604, 2148: 1605, 2149: 1606, 2150: 1607, 2151: 1608, 2152: 1609, 2153: 1610, 2154: 1611, 2155: 1612, 2156: 1613, 2159: 1614, 2160: 1615, 2161: 1616, 2162: 1617, 2163: 1618, 2164: 1619, 2165: 1620, 2166: 1621, 2167: 1622, 2169: 1623, 2170: 1624, 2171: 1625, 2172: 1626, 2174: 1627, 2175: 1628, 2176: 1629, 2177: 1630, 2178: 1631, 2179: 1632, 2180: 1633, 2181: 1634, 2182: 1635, 2183: 1636, 2184: 1637, 2185: 1638, 2186: 1639, 2187: 1640, 2188: 1641, 2190: 1642, 2193: 1643, 2194: 1644, 2195: 1645, 2196: 1646, 2201: 1647, 2202: 1648, 2203: 1649, 2204: 1650, 2205: 1651, 2206: 1652, 2207: 1653, 2208: 1654, 2210: 1655, 2211: 1656, 2212: 1657, 2226: 1658, 2227: 1659, 2231: 1660, 2232: 1661, 2236: 1662, 2239: 1663, 2240: 1664, 2241: 1665, 2243: 1666, 2244: 1667, 2245: 1668, 2247: 1669, 2248: 1670, 2249: 1671, 2252: 1672, 2253: 1673, 2255: 1674, 2256: 1675, 2257: 1676, 2259: 1677, 2260: 1678, 2261: 1679, 2262: 1680, 2263: 1681, 2264: 1682, 2265: 1683, 2266: 1684, 2267: 1685, 2268: 1686, 2269: 1687, 2271: 1688, 2272: 1689, 2273: 1690, 2275: 1691, 2278: 1692, 2279: 1693, 2280: 1694, 2281: 1695, 2282: 1696, 2283: 1697, 2286: 1698, 2287: 1699, 2288: 1700, 2289: 1701, 2290: 1702, 2291: 1703, 2292: 1704, 2294: 1705, 2295: 1706, 2296: 1707, 2297: 1708, 2298: 1709, 2300: 1710, 2301: 1711, 2302: 1712, 2303: 1713, 2304: 1714, 2306: 1715, 2307: 1716, 2310: 1717, 2311: 1718, 2312: 1719, 2313: 1720, 2314: 1721, 2315: 1722, 2316: 1723, 2318: 1724, 2320: 1725, 2321: 1726, 2322: 1727, 2323: 1728, 2324: 1729, 2325: 1730, 2327: 1731, 2328: 1732, 2329: 1733, 2330: 1734, 2331: 1735, 2332: 1736, 2333: 1737, 2334: 1738, 2335: 1739, 2336: 1740, 2337: 1741, 2338: 1742, 2339: 1743, 2340: 1744, 2342: 1745, 2344: 1746, 2346: 1747, 2347: 1748, 2348: 1749, 2349: 1750, 2350: 1751, 2351: 1752, 2352: 1753, 2353: 1754, 2354: 1755, 2355: 1756, 2356: 1757, 2357: 1758, 2358: 1759, 2359: 1760, 2360: 1761, 2361: 1762, 2362: 1763, 2363: 1764, 2364: 1765, 2365: 1766, 2366: 1767, 2367: 1768, 2368: 1769, 2369: 1770, 2370: 1771, 2371: 1772, 2372: 1773, 2373: 1774, 2374: 1775, 2375: 1776, 2376: 1777, 2377: 1778, 2378: 1779, 2379: 1780, 2380: 1781, 2381: 1782, 2382: 1783, 2383: 1784, 2384: 1785, 2385: 1786, 2387: 1787, 2388: 1788, 2389: 1789, 2390: 1790, 2391: 1791, 2392: 1792, 2393: 1793, 2394: 1794, 2395: 1795, 2396: 1796, 2398: 1797, 2399: 1798, 2400: 1799, 2401: 1800, 2402: 1801, 2403: 1802, 2404: 1803, 2405: 1804, 2406: 1805, 2407: 1806, 2408: 1807, 2409: 1808, 2410: 1809, 2411: 1810, 2412: 1811, 2413: 1812, 2414: 1813, 2415: 1814, 2416: 1815, 2417: 1816, 2418: 1817, 2419: 1818, 2420: 1819, 2421: 1820, 2422: 1821, 2423: 1822, 2424: 1823, 2425: 1824, 2427: 1825, 2428: 1826, 2429: 1827, 2430: 1828, 2431: 1829, 2432: 1830, 2433: 1831, 2435: 1832, 2436: 1833, 2439: 1834, 2442: 1835, 2443: 1836, 2445: 1837, 2446: 1838, 2447: 1839, 2448: 1840, 2450: 1841, 2451: 1842, 2453: 1843, 2454: 1844, 2455: 1845, 2456: 1846, 2457: 1847, 2458: 1848, 2459: 1849, 2460: 1850, 2462: 1851, 2463: 1852, 2465: 1853, 2467: 1854, 2468: 1855, 2469: 1856, 2470: 1857, 2471: 1858, 2472: 1859, 2473: 1860, 2474: 1861, 2475: 1862, 2476: 1863, 2477: 1864, 2478: 1865, 2481: 1866, 2482: 1867, 2483: 1868, 2485: 1869, 2488: 1870, 2490: 1871, 2491: 1872, 2492: 1873, 2493: 1874, 2494: 1875, 2495: 1876, 2496: 1877, 2497: 1878, 2498: 1879, 2500: 1880, 2501: 1881, 2502: 1882, 2503: 1883, 2504: 1884, 2505: 1885, 2506: 1886, 2511: 1887, 2512: 1888, 2513: 1889, 2514: 1890, 2515: 1891, 2516: 1892, 2517: 1893, 2518: 1894, 2520: 1895, 2521: 1896, 2522: 1897, 2523: 1898, 2524: 1899, 2525: 1900, 2526: 1901, 2527: 1902, 2528: 1903, 2529: 1904, 2530: 1905, 2531: 1906, 2532: 1907, 2533: 1908, 2534: 1909, 2535: 1910, 2537: 1911, 2538: 1912, 2539: 1913, 2540: 1914, 2541: 1915, 2542: 1916, 2544: 1917, 2546: 1918, 2548: 1919, 2549: 1920, 2550: 1921, 2551: 1922, 2552: 1923, 2553: 1924, 2554: 1925, 2555: 1926, 2557: 1927, 2558: 1928, 2559: 1929, 2560: 1930, 2561: 1931, 2563: 1932, 2565: 1933, 2566: 1934, 2567: 1935, 2568: 1936, 2570: 1937, 2571: 1938, 2572: 1939, 2573: 1940, 2574: 1941, 2575: 1942, 2577: 1943, 2579: 1944, 2580: 1945, 2581: 1946, 2582: 1947, 2583: 1948, 2585: 1949, 2586: 1950, 2587: 1951, 2589: 1952, 2590: 1953, 2593: 1954, 2594: 1955, 2596: 1956, 2597: 1957, 2598: 1958, 2599: 1959, 2600: 1960, 2605: 1961, 2606: 1962, 2607: 1963, 2609: 1964, 2611: 1965, 2612: 1966, 2613: 1967, 2614: 1968, 2615: 1969, 2616: 1970, 2617: 1971, 2618: 1972, 2620: 1973, 2622: 1974, 2623: 1975, 2624: 1976, 2625: 1977, 2628: 1978, 2629: 1979, 2630: 1980, 2632: 1981, 2633: 1982, 2634: 1983, 2639: 1984, 2640: 1985, 2641: 1986, 2642: 1987, 2643: 1988, 2644: 1989, 2648: 1990, 2651: 1991, 2652: 1992, 2654: 1993, 2655: 1994, 2656: 1995, 2657: 1996, 2659: 1997, 2660: 1998, 2661: 1999, 2662: 2000, 2664: 2001, 2665: 2002, 2668: 2003, 2669: 2004, 2670: 2005, 2671: 2006, 2672: 2007, 2674: 2008, 2676: 2009, 2677: 2010, 2681: 2011, 2682: 2012, 2683: 2013, 2686: 2014, 2687: 2015, 2688: 2016, 2690: 2017, 2691: 2018, 2692: 2019, 2693: 2020, 2694: 2021, 2695: 2022, 2696: 2023, 2697: 2024, 2698: 2025, 2699: 2026, 2700: 2027, 2701: 2028, 2702: 2029, 2706: 2030, 2707: 2031, 2708: 2032, 2709: 2033, 2710: 2034, 2712: 2035, 2713: 2036, 2716: 2037, 2717: 2038, 2718: 2039, 2719: 2040, 2720: 2041, 2722: 2042, 2723: 2043, 2724: 2044, 2725: 2045, 2726: 2046, 2727: 2047, 2728: 2048, 2729: 2049, 2730: 2050, 2731: 2051, 2732: 2052, 2733: 2053, 2734: 2054, 2735: 2055, 2736: 2056, 2737: 2057, 2738: 2058, 2739: 2059, 2740: 2060, 2741: 2061, 2742: 2062, 2743: 2063, 2744: 2064, 2745: 2065, 2746: 2066, 2747: 2067, 2748: 2068, 2749: 2069, 2750: 2070, 2751: 2071, 2752: 2072, 2754: 2073, 2757: 2074, 2759: 2075, 2761: 2076, 2762: 2077, 2763: 2078, 2764: 2079, 2765: 2080, 2766: 2081, 2769: 2082, 2770: 2083, 2771: 2084, 2772: 2085, 2774: 2086, 2775: 2087, 2779: 2088, 2782: 2089, 2784: 2090, 2786: 2091, 2787: 2092, 2788: 2093, 2789: 2094, 2790: 2095, 2791: 2096, 2792: 2097, 2793: 2098, 2794: 2099, 2795: 2100, 2796: 2101, 2797: 2102, 2798: 2103, 2799: 2104, 2800: 2105, 2801: 2106, 2802: 2107, 2803: 2108, 2804: 2109, 2805: 2110, 2806: 2111, 2807: 2112, 2808: 2113, 2810: 2114, 2812: 2115, 2813: 2116, 2815: 2117, 2816: 2118, 2817: 2119, 2818: 2120, 2819: 2121, 2820: 2122, 2822: 2123, 2824: 2124, 2826: 2125, 2827: 2126, 2828: 2127, 2829: 2128, 2835: 2129, 2836: 2130, 2837: 2131, 2839: 2132, 2840: 2133, 2841: 2134, 2843: 2135, 2844: 2136, 2846: 2137, 2847: 2138, 2848: 2139, 2851: 2140, 2852: 2141, 2856: 2142, 2857: 2143, 2858: 2144, 2859: 2145, 2860: 2146, 2861: 2147, 2862: 2148, 2863: 2149, 2865: 2150, 2866: 2151, 2867: 2152, 2868: 2153, 2870: 2154, 2871: 2155, 2872: 2156, 2874: 2157, 2875: 2158, 2876: 2159, 2877: 2160, 2878: 2161, 2879: 2162, 2880: 2163, 2881: 2164, 2882: 2165, 2883: 2166, 2884: 2167, 2885: 2168, 2886: 2169, 2887: 2170, 2888: 2171, 2889: 2172, 2890: 2173, 2891: 2174, 2892: 2175, 2893: 2176, 2894: 2177, 2896: 2178, 2897: 2179, 2898: 2180, 2899: 2181, 2900: 2182, 2901: 2183, 2902: 2184, 2903: 2185, 2905: 2186, 2906: 2187, 2907: 2188, 2908: 2189, 2912: 2190, 2915: 2191, 2916: 2192, 2917: 2193, 2918: 2194, 2919: 2195, 2921: 2196, 2922: 2197, 2924: 2198, 2925: 2199, 2926: 2200, 2927: 2201, 2928: 2202, 2929: 2203, 2930: 2204, 2931: 2205, 2932: 2206, 2935: 2207, 2936: 2208, 2937: 2209, 2940: 2210, 2941: 2211, 2942: 2212, 2943: 2213, 2944: 2214, 2946: 2215, 2947: 2216, 2948: 2217, 2949: 2218, 2950: 2219, 2951: 2220, 2952: 2221, 2953: 2222, 2956: 2223, 2959: 2224, 2961: 2225, 2962: 2226, 2964: 2227, 2965: 2228, 2966: 2229, 2967: 2230, 2968: 2231, 2969: 2232, 2970: 2233, 2971: 2234, 2972: 2235, 2973: 2236, 2974: 2237, 2975: 2238, 2976: 2239, 2977: 2240, 2978: 2241, 2979: 2242, 2982: 2243, 2983: 2244, 2984: 2245, 2985: 2246, 2986: 2247, 2987: 2248, 2988: 2249, 2989: 2250, 2990: 2251, 2991: 2252, 2992: 2253, 2993: 2254, 2995: 2255, 2996: 2256, 2997: 2257, 3000: 2258, 3002: 2259, 3003: 2260, 3004: 2261, 3005: 2262, 3006: 2263, 3007: 2264, 3008: 2265, 3010: 2266, 3011: 2267, 3013: 2268, 3014: 2269, 3015: 2270, 3016: 2271, 3017: 2272, 3018: 2273, 3019: 2274, 3020: 2275, 3021: 2276, 3022: 2277, 3024: 2278, 3028: 2279, 3029: 2280, 3030: 2281, 3031: 2282, 3032: 2283, 3033: 2284, 3034: 2285, 3035: 2286, 3036: 2287, 3037: 2288, 3038: 2289, 3039: 2290, 3040: 2291, 3041: 2292, 3042: 2293, 3043: 2294, 3044: 2295, 3045: 2296, 3046: 2297, 3048: 2298, 3051: 2299, 3052: 2300, 3053: 2301, 3054: 2302, 3055: 2303, 3056: 2304, 3057: 2305, 3060: 2306, 3061: 2307, 3062: 2308, 3063: 2309, 3064: 2310, 3066: 2311, 3067: 2312, 3068: 2313, 3070: 2314, 3071: 2315, 3072: 2316, 3073: 2317, 3074: 2318, 3075: 2319, 3076: 2320, 3077: 2321, 3078: 2322, 3079: 2323, 3081: 2324, 3082: 2325, 3083: 2326, 3086: 2327, 3087: 2328, 3088: 2329, 3089: 2330, 3090: 2331, 3091: 2332, 3093: 2333, 3094: 2334, 3095: 2335, 3096: 2336, 3097: 2337, 3098: 2338, 3099: 2339, 3100: 2340, 3101: 2341, 3102: 2342, 3103: 2343, 3104: 2344, 3105: 2345, 3106: 2346, 3107: 2347, 3108: 2348, 3109: 2349, 3111: 2350, 3112: 2351, 3113: 2352, 3114: 2353, 3115: 2354, 3117: 2355, 3120: 2356, 3125: 2357, 3127: 2358, 3129: 2359, 3130: 2360, 3132: 2361, 3134: 2362, 3135: 2363, 3138: 2364, 3141: 2365, 3142: 2366, 3143: 2367, 3145: 2368, 3146: 2369, 3147: 2370, 3148: 2371, 3150: 2372, 3152: 2373, 3153: 2374, 3155: 2375, 3156: 2376, 3157: 2377, 3158: 2378, 3159: 2379, 3160: 2380, 3161: 2381, 3162: 2382, 3163: 2383, 3165: 2384, 3167: 2385, 3168: 2386, 3169: 2387, 3171: 2388, 3173: 2389, 3174: 2390, 3175: 2391, 3176: 2392, 3177: 2393, 3178: 2394, 3179: 2395, 3181: 2396, 3182: 2397, 3183: 2398, 3185: 2399, 3186: 2400, 3189: 2401, 3190: 2402, 3192: 2403, 3194: 2404, 3196: 2405, 3197: 2406, 3198: 2407, 3200: 2408, 3201: 2409, 3203: 2410, 3204: 2411, 3206: 2412, 3208: 2413, 3210: 2414, 3211: 2415, 3213: 2416, 3214: 2417, 3217: 2418, 3219: 2419, 3221: 2420, 3223: 2421, 3224: 2422, 3225: 2423, 3230: 2424, 3235: 2425, 3238: 2426, 3240: 2427, 3241: 2428, 3243: 2429, 3244: 2430, 3246: 2431, 3247: 2432, 3248: 2433, 3249: 2434, 3250: 2435, 3251: 2436, 3252: 2437, 3253: 2438, 3254: 2439, 3255: 2440, 3256: 2441, 3257: 2442, 3258: 2443, 3259: 2444, 3260: 2445, 3261: 2446, 3262: 2447, 3263: 2448, 3264: 2449, 3265: 2450, 3266: 2451, 3267: 2452, 3268: 2453, 3269: 2454, 3270: 2455, 3271: 2456, 3272: 2457, 3273: 2458, 3274: 2459, 3275: 2460, 3276: 2461, 3280: 2462, 3281: 2463, 3283: 2464, 3284: 2465, 3285: 2466, 3286: 2467, 3287: 2468, 3289: 2469, 3294: 2470, 3295: 2471, 3296: 2472, 3298: 2473, 3299: 2474, 3300: 2475, 3301: 2476, 3302: 2477, 3303: 2478, 3306: 2479, 3307: 2480, 3308: 2481, 3310: 2482, 3313: 2483, 3315: 2484, 3316: 2485, 3317: 2486, 3323: 2487, 3324: 2488, 3325: 2489, 3326: 2490, 3327: 2491, 3328: 2492, 3329: 2493, 3330: 2494, 3331: 2495, 3334: 2496, 3341: 2497, 3342: 2498, 3344: 2499, 3345: 2500, 3347: 2501, 3350: 2502, 3353: 2503, 3354: 2504, 3355: 2505, 3357: 2506, 3358: 2507, 3359: 2508, 3360: 2509, 3361: 2510, 3362: 2511, 3363: 2512, 3364: 2513, 3365: 2514, 3368: 2515, 3370: 2516, 3372: 2517, 3374: 2518, 3378: 2519, 3379: 2520, 3384: 2521, 3385: 2522, 3386: 2523, 3387: 2524, 3388: 2525, 3389: 2526, 3390: 2527, 3391: 2528, 3392: 2529, 3393: 2530, 3394: 2531, 3395: 2532, 3396: 2533, 3397: 2534, 3398: 2535, 3400: 2536, 3401: 2537, 3402: 2538, 3403: 2539, 3404: 2540, 3405: 2541, 3406: 2542, 3408: 2543, 3409: 2544, 3410: 2545, 3412: 2546, 3414: 2547, 3415: 2548, 3417: 2549, 3418: 2550, 3420: 2551, 3421: 2552, 3422: 2553, 3423: 2554, 3424: 2555, 3425: 2556, 3426: 2557, 3428: 2558, 3429: 2559, 3430: 2560, 3431: 2561, 3432: 2562, 3433: 2563, 3434: 2564, 3435: 2565, 3436: 2566, 3438: 2567, 3439: 2568, 3440: 2569, 3441: 2570, 3442: 2571, 3444: 2572, 3445: 2573, 3446: 2574, 3447: 2575, 3448: 2576, 3449: 2577, 3450: 2578, 3451: 2579, 3452: 2580, 3453: 2581, 3454: 2582, 3455: 2583, 3459: 2584, 3461: 2585, 3462: 2586, 3466: 2587, 3467: 2588, 3468: 2589, 3469: 2590, 3470: 2591, 3471: 2592, 3473: 2593, 3474: 2594, 3475: 2595, 3476: 2596, 3477: 2597, 3478: 2598, 3479: 2599, 3480: 2600, 3481: 2601, 3483: 2602, 3484: 2603, 3489: 2604, 3492: 2605, 3494: 2606, 3496: 2607, 3497: 2608, 3498: 2609, 3499: 2610, 3500: 2611, 3501: 2612, 3502: 2613, 3503: 2614, 3504: 2615, 3505: 2616, 3506: 2617, 3507: 2618, 3508: 2619, 3510: 2620, 3511: 2621, 3512: 2622, 3513: 2623, 3514: 2624, 3515: 2625, 3516: 2626, 3519: 2627, 3521: 2628, 3524: 2629, 3525: 2630, 3526: 2631, 3527: 2632, 3528: 2633, 3529: 2634, 3531: 2635, 3534: 2636, 3535: 2637, 3536: 2638, 3537: 2639, 3538: 2640, 3539: 2641, 3543: 2642, 3544: 2643, 3545: 2644, 3546: 2645, 3548: 2646, 3549: 2647, 3550: 2648, 3551: 2649, 3552: 2650, 3553: 2651, 3554: 2652, 3555: 2653, 3556: 2654, 3557: 2655, 3559: 2656, 3563: 2657, 3564: 2658, 3565: 2659, 3566: 2660, 3567: 2661, 3568: 2662, 3569: 2663, 3571: 2664, 3572: 2665, 3573: 2666, 3574: 2667, 3576: 2668, 3577: 2669, 3578: 2670, 3580: 2671, 3581: 2672, 3584: 2673, 3586: 2674, 3587: 2675, 3590: 2676, 3591: 2677, 3592: 2678, 3593: 2679, 3594: 2680, 3596: 2681, 3597: 2682, 3598: 2683, 3599: 2684, 3604: 2685, 3606: 2686, 3608: 2687, 3609: 2688, 3614: 2689, 3615: 2690, 3616: 2691, 3617: 2692, 3618: 2693, 3619: 2694, 3622: 2695, 3623: 2696, 3624: 2697, 3625: 2698, 3626: 2699, 3627: 2700, 3628: 2701, 3629: 2702, 3632: 2703, 3633: 2704, 3634: 2705, 3635: 2706, 3637: 2707, 3638: 2708, 3639: 2709, 3640: 2710, 3641: 2711, 3643: 2712, 3646: 2713, 3648: 2714, 3649: 2715, 3652: 2716, 3653: 2717, 3654: 2718, 3655: 2719, 3658: 2720, 3660: 2721, 3661: 2722, 3662: 2723, 3663: 2724, 3664: 2725, 3667: 2726, 3668: 2727, 3669: 2728, 3671: 2729, 3672: 2730, 3673: 2731, 3674: 2732, 3675: 2733, 3676: 2734, 3677: 2735, 3678: 2736, 3679: 2737, 3680: 2738, 3681: 2739, 3682: 2740, 3683: 2741, 3684: 2742, 3685: 2743, 3686: 2744, 3687: 2745, 3688: 2746, 3689: 2747, 3690: 2748, 3691: 2749, 3692: 2750, 3693: 2751, 3694: 2752, 3695: 2753, 3696: 2754, 3697: 2755, 3698: 2756, 3699: 2757, 3700: 2758, 3701: 2759, 3702: 2760, 3703: 2761, 3704: 2762, 3705: 2763, 3706: 2764, 3707: 2765, 3708: 2766, 3709: 2767, 3710: 2768, 3711: 2769, 3712: 2770, 3713: 2771, 3714: 2772, 3715: 2773, 3716: 2774, 3717: 2775, 3719: 2776, 3720: 2777, 3723: 2778, 3724: 2779, 3725: 2780, 3726: 2781, 3727: 2782, 3728: 2783, 3729: 2784, 3730: 2785, 3731: 2786, 3732: 2787, 3733: 2788, 3735: 2789, 3736: 2790, 3737: 2791, 3738: 2792, 3739: 2793, 3740: 2794, 3741: 2795, 3742: 2796, 3743: 2797, 3744: 2798, 3745: 2799, 3746: 2800, 3747: 2801, 3751: 2802, 3752: 2803, 3753: 2804, 3754: 2805, 3755: 2806, 3756: 2807, 3758: 2808, 3760: 2809, 3761: 2810, 3763: 2811, 3764: 2812, 3765: 2813, 3766: 2814, 3767: 2815, 3768: 2816, 3769: 2817, 3770: 2818, 3771: 2819, 3773: 2820, 3774: 2821, 3783: 2822, 3784: 2823, 3785: 2824, 3786: 2825, 3787: 2826, 3788: 2827, 3789: 2828, 3790: 2829, 3791: 2830, 3792: 2831, 3793: 2832, 3794: 2833, 3795: 2834, 3797: 2835, 3798: 2836, 3799: 2837, 3801: 2838, 3802: 2839, 3806: 2840, 3807: 2841, 3808: 2842, 3809: 2843, 3810: 2844, 3811: 2845, 3812: 2846, 3813: 2847, 3814: 2848, 3816: 2849, 3819: 2850, 3821: 2851, 3822: 2852, 3823: 2853, 3824: 2854, 3825: 2855, 3826: 2856, 3827: 2857, 3830: 2858, 3831: 2859, 3832: 2860, 3833: 2861, 3834: 2862, 3835: 2863, 3836: 2864, 3837: 2865, 3838: 2866, 3839: 2867, 3840: 2868, 3841: 2869, 3843: 2870, 3844: 2871, 3845: 2872, 3846: 2873, 3847: 2874, 3849: 2875, 3851: 2876, 3852: 2877, 3855: 2878, 3857: 2879, 3858: 2880, 3859: 2881, 3861: 2882, 3862: 2883, 3863: 2884, 3864: 2885, 3865: 2886, 3868: 2887, 3869: 2888, 3870: 2889, 3871: 2890, 3872: 2891, 3873: 2892, 3877: 2893, 3879: 2894, 3882: 2895, 3884: 2896, 3888: 2897, 3889: 2898, 3893: 2899, 3894: 2900, 3895: 2901, 3896: 2902, 3897: 2903, 3898: 2904, 3899: 2905, 3900: 2906, 3901: 2907, 3906: 2908, 3908: 2909, 3909: 2910, 3910: 2911, 3911: 2912, 3912: 2913, 3914: 2914, 3915: 2915, 3916: 2916, 3917: 2917, 3918: 2918, 3919: 2919, 3920: 2920, 3922: 2921, 3925: 2922, 3926: 2923, 3927: 2924, 3928: 2925, 3929: 2926, 3930: 2927, 3932: 2928, 3933: 2929, 3937: 2930, 3938: 2931, 3939: 2932, 3940: 2933, 3941: 2934, 3942: 2935, 3943: 2936, 3945: 2937, 3946: 2938, 3947: 2939, 3948: 2940, 3949: 2941, 3950: 2942, 3951: 2943, 3952: 2944, 3953: 2945, 3955: 2946, 3957: 2947, 3958: 2948, 3959: 2949, 3962: 2950, 3963: 2951, 3964: 2952, 3965: 2953, 3966: 2954, 3967: 2955, 3968: 2956, 3969: 2957, 3971: 2958, 3972: 2959, 3973: 2960, 3974: 2961, 3977: 2962, 3978: 2963, 3979: 2964, 3980: 2965, 3981: 2966, 3983: 2967, 3984: 2968, 3985: 2969, 3986: 2970, 3987: 2971, 3988: 2972, 3989: 2973, 3990: 2974, 3991: 2975, 3992: 2976, 3993: 2977, 3994: 2978, 3996: 2979, 3997: 2980, 3998: 2981, 3999: 2982, 4000: 2983, 4002: 2984, 4003: 2985, 4005: 2986, 4006: 2987, 4007: 2988, 4008: 2989, 4009: 2990, 4010: 2991, 4011: 2992, 4012: 2993, 4014: 2994, 4015: 2995, 4016: 2996, 4017: 2997, 4018: 2998, 4019: 2999, 4020: 3000, 4021: 3001, 4022: 3002, 4023: 3003, 4024: 3004, 4025: 3005, 4027: 3006, 4029: 3007, 4030: 3008, 4031: 3009, 4032: 3010, 4033: 3011, 4034: 3012, 4035: 3013, 4036: 3014, 4037: 3015, 4039: 3016, 4040: 3017, 4041: 3018, 4042: 3019, 4043: 3020, 4046: 3021, 4047: 3022, 4051: 3023, 4052: 3024, 4053: 3025, 4054: 3026, 4055: 3027, 4056: 3028, 4061: 3029, 4062: 3030, 4063: 3031, 4064: 3032, 4065: 3033, 4066: 3034, 4067: 3035, 4068: 3036, 4069: 3037, 4074: 3038, 4077: 3039, 4078: 3040, 4079: 3041, 4080: 3042, 4081: 3043, 4082: 3044, 4083: 3045, 4084: 3046, 4085: 3047, 4086: 3048, 4089: 3049, 4090: 3050, 4091: 3051, 4092: 3052, 4093: 3053, 4102: 3054, 4103: 3055, 4104: 3056, 4105: 3057, 4109: 3058, 4110: 3059, 4111: 3060, 4113: 3061, 4115: 3062, 4116: 3063, 4117: 3064, 4121: 3065, 4123: 3066, 4124: 3067, 4125: 3068, 4126: 3069, 4127: 3070, 4128: 3071, 4129: 3072, 4130: 3073, 4131: 3074, 4132: 3075, 4133: 3076, 4135: 3077, 4138: 3078, 4139: 3079, 4141: 3080, 4142: 3081, 4143: 3082, 4144: 3083, 4146: 3084, 4147: 3085, 4148: 3086, 4149: 3087, 4152: 3088, 4153: 3089, 4154: 3090, 4155: 3091, 4156: 3092, 4157: 3093, 4158: 3094, 4159: 3095, 4160: 3096, 4161: 3097, 4164: 3098, 4166: 3099, 4167: 3100, 4168: 3101, 4171: 3102, 4174: 3103, 4175: 3104, 4178: 3105, 4180: 3106, 4181: 3107, 4184: 3108, 4187: 3109, 4189: 3110, 4190: 3111, 4191: 3112, 4193: 3113, 4195: 3114, 4197: 3115, 4198: 3116, 4200: 3117, 4202: 3118, 4203: 3119, 4204: 3120, 4205: 3121, 4207: 3122, 4210: 3123, 4211: 3124, 4212: 3125, 4214: 3126, 4215: 3127, 4217: 3128, 4218: 3129, 4219: 3130, 4220: 3131, 4221: 3132, 4223: 3133, 4224: 3134, 4225: 3135, 4226: 3136, 4228: 3137, 4229: 3138, 4231: 3139, 4232: 3140, 4233: 3141, 4234: 3142, 4235: 3143, 4236: 3144, 4237: 3145, 4238: 3146, 4239: 3147, 4240: 3148, 4241: 3149, 4242: 3150, 4243: 3151, 4246: 3152, 4247: 3153, 4248: 3154, 4251: 3155, 4252: 3156, 4254: 3157, 4255: 3158, 4256: 3159, 4259: 3160, 4260: 3161, 4262: 3162, 4263: 3163, 4265: 3164, 4267: 3165, 4268: 3166, 4270: 3167, 4273: 3168, 4275: 3169, 4276: 3170, 4278: 3171, 4280: 3172, 4282: 3173, 4284: 3174, 4285: 3175, 4289: 3176, 4290: 3177, 4291: 3178, 4292: 3179, 4293: 3180, 4294: 3181, 4296: 3182, 4297: 3183, 4298: 3184, 4299: 3185, 4300: 3186, 4304: 3187, 4305: 3188, 4306: 3189, 4307: 3190, 4308: 3191, 4310: 3192, 4312: 3193, 4313: 3194, 4316: 3195, 4317: 3196, 4321: 3197, 4322: 3198, 4323: 3199, 4325: 3200, 4326: 3201, 4327: 3202, 4329: 3203, 4333: 3204, 4334: 3205, 4337: 3206, 4338: 3207, 4339: 3208, 4340: 3209, 4342: 3210, 4343: 3211, 4344: 3212, 4345: 3213, 4347: 3214, 4349: 3215, 4350: 3216, 4351: 3217, 4353: 3218, 4354: 3219, 4355: 3220, 4356: 3221, 4357: 3222, 4359: 3223, 4361: 3224, 4366: 3225, 4367: 3226, 4368: 3227, 4369: 3228, 4370: 3229, 4371: 3230, 4372: 3231, 4373: 3232, 4374: 3233, 4378: 3234, 4380: 3235, 4381: 3236, 4383: 3237, 4384: 3238, 4386: 3239, 4387: 3240, 4388: 3241, 4389: 3242, 4390: 3243, 4392: 3244, 4393: 3245, 4394: 3246, 4395: 3247, 4396: 3248, 4397: 3249, 4399: 3250, 4402: 3251, 4403: 3252, 4404: 3253, 4406: 3254, 4407: 3255, 4408: 3256, 4409: 3257, 4410: 3258, 4412: 3259, 4419: 3260, 4420: 3261, 4422: 3262, 4424: 3263, 4426: 3264, 4427: 3265, 4428: 3266, 4429: 3267, 4432: 3268, 4433: 3269, 4434: 3270, 4436: 3271, 4437: 3272, 4438: 3273, 4439: 3274, 4440: 3275, 4441: 3276, 4442: 3277, 4443: 3278, 4444: 3279, 4445: 3280, 4446: 3281, 4447: 3282, 4448: 3283, 4449: 3284, 4450: 3285, 4451: 3286, 4452: 3287, 4453: 3288, 4454: 3289, 4458: 3290, 4459: 3291, 4462: 3292, 4463: 3293, 4464: 3294, 4465: 3295, 4466: 3296, 4467: 3297, 4470: 3298, 4471: 3299, 4473: 3300, 4474: 3301, 4475: 3302, 4476: 3303, 4477: 3304, 4478: 3305, 4480: 3306, 4482: 3307, 4483: 3308, 4484: 3309, 4487: 3310, 4488: 3311, 4489: 3312, 4490: 3313, 4492: 3314, 4495: 3315, 4496: 3316, 4497: 3317, 4498: 3318, 4499: 3319, 4500: 3320, 4502: 3321, 4504: 3322, 4505: 3323, 4506: 3324, 4508: 3325, 4509: 3326, 4511: 3327, 4516: 3328, 4517: 3329, 4518: 3330, 4519: 3331, 4520: 3332, 4521: 3333, 4522: 3334, 4523: 3335, 4524: 3336, 4526: 3337, 4527: 3338, 4529: 3339, 4531: 3340, 4533: 3341, 4534: 3342, 4535: 3343, 4537: 3344, 4541: 3345, 4544: 3346, 4545: 3347, 4546: 3348, 4552: 3349, 4553: 3350, 4557: 3351, 4558: 3352, 4562: 3353, 4563: 3354, 4564: 3355, 4565: 3356, 4568: 3357, 4571: 3358, 4572: 3359, 4573: 3360, 4574: 3361, 4577: 3362, 4578: 3363, 4580: 3364, 4581: 3365, 4583: 3366, 4584: 3367, 4585: 3368, 4587: 3369, 4589: 3370, 4591: 3371, 4593: 3372, 4594: 3373, 4595: 3374, 4597: 3375, 4599: 3376, 4600: 3377, 4602: 3378, 4603: 3379, 4605: 3380, 4608: 3381, 4610: 3382, 4611: 3383, 4612: 3384, 4613: 3385, 4614: 3386, 4615: 3387, 4616: 3388, 4617: 3389, 4619: 3390, 4621: 3391, 4622: 3392, 4623: 3393, 4624: 3394, 4625: 3395, 4626: 3396, 4628: 3397, 4629: 3398, 4630: 3399, 4632: 3400, 4634: 3401, 4635: 3402, 4636: 3403, 4638: 3404, 4639: 3405, 4640: 3406, 4641: 3407, 4642: 3408, 4643: 3409, 4644: 3410, 4645: 3411, 4646: 3412, 4649: 3413, 4653: 3414, 4654: 3415, 4658: 3416, 4660: 3417, 4661: 3418, 4662: 3419, 4663: 3420, 4666: 3421, 4670: 3422, 4671: 3423, 4672: 3424, 4673: 3425, 4675: 3426, 4676: 3427, 4677: 3428, 4678: 3429, 4679: 3430, 4681: 3431, 4683: 3432, 4686: 3433, 4687: 3434, 4688: 3435, 4689: 3436, 4690: 3437, 4695: 3438, 4697: 3439, 4699: 3440, 4700: 3441, 4701: 3442, 4703: 3443, 4704: 3444, 4705: 3445, 4708: 3446, 4709: 3447, 4710: 3448, 4711: 3449, 4713: 3450, 4714: 3451, 4715: 3452, 4717: 3453, 4718: 3454, 4719: 3455, 4720: 3456, 4721: 3457, 4722: 3458, 4723: 3459, 4725: 3460, 4727: 3461, 4728: 3462, 4732: 3463, 4733: 3464, 4734: 3465, 4735: 3466, 4736: 3467, 4738: 3468, 4740: 3469, 4741: 3470, 4743: 3471, 4744: 3472, 4745: 3473, 4748: 3474, 4749: 3475, 4750: 3476, 4754: 3477, 4756: 3478, 4757: 3479, 4759: 3480, 4765: 3481, 4766: 3482, 4769: 3483, 4770: 3484, 4771: 3485, 4772: 3486, 4773: 3487, 4774: 3488, 4775: 3489, 4776: 3490, 4777: 3491, 4780: 3492, 4782: 3493, 4783: 3494, 4784: 3495, 4785: 3496, 4786: 3497, 4787: 3498, 4788: 3499, 4789: 3500, 4792: 3501, 4794: 3502, 4795: 3503, 4796: 3504, 4798: 3505, 4799: 3506, 4800: 3507, 4801: 3508, 4802: 3509, 4803: 3510, 4804: 3511, 4808: 3512, 4809: 3513, 4810: 3514, 4811: 3515, 4812: 3516, 4813: 3517, 4814: 3518, 4815: 3519, 4816: 3520, 4818: 3521, 4821: 3522, 4822: 3523, 4823: 3524, 4825: 3525, 4826: 3526, 4827: 3527, 4828: 3528, 4830: 3529, 4831: 3530, 4833: 3531, 4835: 3532, 4836: 3533, 4840: 3534, 4844: 3535, 4845: 3536, 4846: 3537, 4847: 3538, 4848: 3539, 4849: 3540, 4850: 3541, 4852: 3542, 4855: 3543, 4857: 3544, 4860: 3545, 4862: 3546, 4863: 3547, 4864: 3548, 4865: 3549, 4866: 3550, 4867: 3551, 4871: 3552, 4873: 3553, 4874: 3554, 4876: 3555, 4877: 3556, 4878: 3557, 4879: 3558, 4880: 3559, 4881: 3560, 4883: 3561, 4885: 3562, 4886: 3563, 4887: 3564, 4888: 3565, 4889: 3566, 4890: 3567, 4893: 3568, 4896: 3569, 4898: 3570, 4899: 3571, 4900: 3572, 4901: 3573, 4902: 3574, 4903: 3575, 4909: 3576, 4911: 3577, 4912: 3578, 4914: 3579, 4915: 3580, 4916: 3581, 4917: 3582, 4919: 3583, 4920: 3584, 4921: 3585, 4925: 3586, 4926: 3587, 4927: 3588, 4928: 3589, 4929: 3590, 4932: 3591, 4936: 3592, 4939: 3593, 4941: 3594, 4942: 3595, 4945: 3596, 4946: 3597, 4947: 3598, 4951: 3599, 4952: 3600, 4953: 3601, 4954: 3602, 4956: 3603, 4957: 3604, 4958: 3605, 4959: 3606, 4961: 3607, 4962: 3608, 4963: 3609, 4964: 3610, 4965: 3611, 4966: 3612, 4967: 3613, 4969: 3614, 4970: 3615, 4971: 3616, 4973: 3617, 4974: 3618, 4975: 3619, 4976: 3620, 4977: 3621, 4978: 3622, 4979: 3623, 4980: 3624, 4981: 3625, 4985: 3626, 4987: 3627, 4988: 3628, 4989: 3629, 4990: 3630, 4991: 3631, 4992: 3632, 4993: 3633, 4994: 3634, 4995: 3635, 4998: 3636, 5004: 3637, 5007: 3638, 5008: 3639, 5009: 3640, 5010: 3641, 5011: 3642, 5012: 3643, 5013: 3644, 5014: 3645, 5015: 3646, 5016: 3647, 5021: 3648, 5023: 3649, 5025: 3650, 5026: 3651, 5027: 3652, 5028: 3653, 5033: 3654, 5034: 3655, 5039: 3656, 5040: 3657, 5041: 3658, 5046: 3659, 5047: 3660, 5048: 3661, 5049: 3662, 5051: 3663, 5053: 3664, 5054: 3665, 5055: 3666, 5059: 3667, 5060: 3668, 5062: 3669, 5063: 3670, 5064: 3671, 5065: 3672, 5066: 3673, 5068: 3674, 5069: 3675, 5071: 3676, 5072: 3677, 5073: 3678, 5074: 3679, 5075: 3680, 5076: 3681, 5077: 3682, 5080: 3683, 5081: 3684, 5083: 3685, 5088: 3686, 5092: 3687, 5093: 3688, 5094: 3689, 5095: 3690, 5096: 3691, 5099: 3692, 5102: 3693, 5103: 3694, 5105: 3695, 5106: 3696, 5107: 3697, 5108: 3698, 5109: 3699, 5110: 3700, 5111: 3701, 5112: 3702, 5113: 3703, 5114: 3704, 5116: 3705, 5120: 3706, 5121: 3707, 5127: 3708, 5128: 3709, 5131: 3710, 5134: 3711, 5135: 3712, 5136: 3713, 5137: 3714, 5139: 3715, 5146: 3716, 5147: 3717, 5151: 3718, 5152: 3719, 5155: 3720, 5156: 3721, 5159: 3722, 5165: 3723, 5168: 3724, 5170: 3725, 5171: 3726, 5177: 3727, 5178: 3728, 5181: 3729, 5187: 3730, 5189: 3731, 5197: 3732, 5198: 3733, 5202: 3734, 5205: 3735, 5209: 3736, 5212: 3737, 5213: 3738, 5214: 3739, 5218: 3740, 5219: 3741, 5220: 3742, 5221: 3743, 5222: 3744, 5224: 3745, 5225: 3746, 5226: 3747, 5231: 3748, 5237: 3749, 5238: 3750, 5239: 3751, 5240: 3752, 5241: 3753, 5244: 3754, 5246: 3755, 5247: 3756, 5248: 3757, 5250: 3758, 5254: 3759, 5255: 3760, 5256: 3761, 5258: 3762, 5264: 3763, 5265: 3764, 5266: 3765, 5267: 3766, 5268: 3767, 5269: 3768, 5272: 3769, 5275: 3770, 5278: 3771, 5279: 3772, 5282: 3773, 5283: 3774, 5284: 3775, 5285: 3776, 5288: 3777, 5291: 3778, 5292: 3779, 5293: 3780, 5294: 3781, 5296: 3782, 5297: 3783, 5298: 3784, 5299: 3785, 5300: 3786, 5303: 3787, 5304: 3788, 5307: 3789, 5308: 3790, 5309: 3791, 5311: 3792, 5312: 3793, 5313: 3794, 5316: 3795, 5319: 3796, 5321: 3797, 5322: 3798, 5323: 3799, 5324: 3800, 5325: 3801, 5328: 3802, 5329: 3803, 5333: 3804, 5334: 3805, 5337: 3806, 5338: 3807, 5339: 3808, 5341: 3809, 5345: 3810, 5346: 3811, 5347: 3812, 5348: 3813, 5349: 3814, 5353: 3815, 5356: 3816, 5357: 3817, 5358: 3818, 5361: 3819, 5363: 3820, 5364: 3821, 5365: 3822, 5372: 3823, 5373: 3824, 5375: 3825, 5377: 3826, 5378: 3827, 5379: 3828, 5380: 3829, 5382: 3830, 5384: 3831, 5385: 3832, 5387: 3833, 5388: 3834, 5389: 3835, 5390: 3836, 5391: 3837, 5397: 3838, 5398: 3839, 5400: 3840, 5401: 3841, 5404: 3842, 5409: 3843, 5410: 3844, 5414: 3845, 5415: 3846, 5416: 3847, 5417: 3848, 5418: 3849, 5419: 3850, 5420: 3851, 5421: 3852, 5422: 3853, 5423: 3854, 5424: 3855, 5425: 3856, 5427: 3857, 5428: 3858, 5433: 3859, 5434: 3860, 5435: 3861, 5437: 3862, 5438: 3863, 5440: 3864, 5442: 3865, 5443: 3866, 5444: 3867, 5445: 3868, 5446: 3869, 5447: 3870, 5448: 3871, 5449: 3872, 5450: 3873, 5451: 3874, 5452: 3875, 5454: 3876, 5455: 3877, 5456: 3878, 5458: 3879, 5459: 3880, 5460: 3881, 5461: 3882, 5462: 3883, 5463: 3884, 5464: 3885, 5465: 3886, 5466: 3887, 5468: 3888, 5470: 3889, 5471: 3890, 5472: 3891, 5475: 3892, 5476: 3893, 5477: 3894, 5478: 3895, 5479: 3896, 5480: 3897, 5481: 3898, 5483: 3899, 5485: 3900, 5486: 3901, 5489: 3902, 5490: 3903, 5493: 3904, 5497: 3905, 5498: 3906, 5499: 3907, 5500: 3908, 5501: 3909, 5502: 3910, 5503: 3911, 5504: 3912, 5505: 3913, 5506: 3914, 5507: 3915, 5508: 3916, 5512: 3917, 5513: 3918, 5515: 3919, 5521: 3920, 5522: 3921, 5523: 3922, 5524: 3923, 5525: 3924, 5527: 3925, 5528: 3926, 5529: 3927, 5530: 3928, 5531: 3929, 5532: 3930, 5537: 3931, 5538: 3932, 5539: 3933, 5540: 3934, 5541: 3935, 5543: 3936, 5544: 3937, 5548: 3938, 5550: 3939, 5553: 3940, 5556: 3941, 5560: 3942, 5562: 3943, 5563: 3944, 5564: 3945, 5568: 3946, 5569: 3947, 5570: 3948, 5572: 3949, 5573: 3950, 5574: 3951, 5575: 3952, 5577: 3953, 5580: 3954, 5581: 3955, 5582: 3956, 5584: 3957, 5585: 3958, 5588: 3959, 5589: 3960, 5590: 3961, 5591: 3962, 5596: 3963, 5597: 3964, 5601: 3965, 5602: 3966, 5603: 3967, 5604: 3968, 5607: 3969, 5608: 3970, 5609: 3971, 5610: 3972, 5611: 3973, 5612: 3974, 5613: 3975, 5614: 3976, 5615: 3977, 5617: 3978, 5618: 3979, 5619: 3980, 5620: 3981, 5621: 3982, 5625: 3983, 5628: 3984, 5629: 3985, 5630: 3986, 5632: 3987, 5633: 3988, 5635: 3989, 5636: 3990, 5637: 3991, 5638: 3992, 5640: 3993, 5643: 3994, 5644: 3995, 5646: 3996, 5649: 3997, 5650: 3998, 5651: 3999, 5657: 4000, 5663: 4001, 5664: 4002, 5665: 4003, 5666: 4004, 5667: 4005, 5668: 4006, 5669: 4007, 5670: 4008, 5672: 4009, 5673: 4010, 5675: 4011, 5678: 4012, 5679: 4013, 5680: 4014, 5682: 4015, 5684: 4016, 5685: 4017, 5688: 4018, 5689: 4019, 5690: 4020, 5693: 4021, 5694: 4022, 5696: 4023, 5699: 4024, 5700: 4025, 5704: 4026, 5706: 4027, 5707: 4028, 5710: 4029, 5712: 4030, 5720: 4031, 5723: 4032, 5733: 4033, 5735: 4034, 5736: 4035, 5741: 4036, 5742: 4037, 5745: 4038, 5746: 4039, 5747: 4040, 5749: 4041, 5752: 4042, 5755: 4043, 5764: 4044, 5767: 4045, 5768: 4046, 5771: 4047, 5772: 4048, 5773: 4049, 5779: 4050, 5780: 4051, 5782: 4052, 5784: 4053, 5785: 4054, 5786: 4055, 5787: 4056, 5788: 4057, 5791: 4058, 5792: 4059, 5796: 4060, 5797: 4061, 5799: 4062, 5801: 4063, 5802: 4064, 5803: 4065, 5804: 4066, 5809: 4067, 5810: 4068, 5812: 4069, 5816: 4070, 5817: 4071, 5818: 4072, 5820: 4073, 5826: 4074, 5828: 4075, 5829: 4076, 5833: 4077, 5836: 4078, 5838: 4079, 5839: 4080, 5840: 4081, 5841: 4082, 5843: 4083, 5847: 4084, 5849: 4085, 5853: 4086, 5856: 4087, 5863: 4088, 5867: 4089, 5872: 4090, 5873: 4091, 5874: 4092, 5875: 4093, 5876: 4094, 5878: 4095, 5879: 4096, 5880: 4097, 5881: 4098, 5882: 4099, 5883: 4100, 5884: 4101, 5888: 4102, 5889: 4103, 5890: 4104, 5891: 4105, 5893: 4106, 5896: 4107, 5899: 4108, 5900: 4109, 5901: 4110, 5902: 4111, 5903: 4112, 5909: 4113, 5912: 4114, 5915: 4115, 5919: 4116, 5922: 4117, 5925: 4118, 5927: 4119, 5929: 4120, 5932: 4121, 5938: 4122, 5941: 4123, 5942: 4124, 5943: 4125, 5944: 4126, 5945: 4127, 5947: 4128, 5949: 4129, 5951: 4130, 5952: 4131, 5953: 4132, 5954: 4133, 5955: 4134, 5956: 4135, 5957: 4136, 5959: 4137, 5961: 4138, 5962: 4139, 5963: 4140, 5965: 4141, 5968: 4142, 5969: 4143, 5970: 4144, 5971: 4145, 5974: 4146, 5975: 4147, 5979: 4148, 5980: 4149, 5984: 4150, 5986: 4151, 5988: 4152, 5989: 4153, 5990: 4154, 5991: 4155, 5992: 4156, 5993: 4157, 5994: 4158, 5995: 4159, 5999: 4160, 6001: 4161, 6002: 4162, 6003: 4163, 6005: 4164, 6006: 4165, 6009: 4166, 6012: 4167, 6013: 4168, 6014: 4169, 6016: 4170, 6020: 4171, 6021: 4172, 6022: 4173, 6023: 4174, 6025: 4175, 6027: 4176, 6030: 4177, 6031: 4178, 6033: 4179, 6035: 4180, 6036: 4181, 6039: 4182, 6040: 4183, 6041: 4184, 6042: 4185, 6044: 4186, 6049: 4187, 6051: 4188, 6055: 4189, 6057: 4190, 6058: 4191, 6059: 4192, 6060: 4193, 6062: 4194, 6063: 4195, 6064: 4196, 6067: 4197, 6070: 4198, 6078: 4199, 6086: 4200, 6090: 4201, 6093: 4202, 6095: 4203, 6100: 4204, 6101: 4205, 6104: 4206, 6107: 4207, 6111: 4208, 6116: 4209, 6119: 4210, 6122: 4211, 6123: 4212, 6124: 4213, 6125: 4214, 6140: 4215, 6141: 4216, 6143: 4217, 6145: 4218, 6148: 4219, 6153: 4220, 6155: 4221, 6156: 4222, 6157: 4223, 6158: 4224, 6159: 4225, 6162: 4226, 6163: 4227, 6166: 4228, 6169: 4229, 6170: 4230, 6178: 4231, 6181: 4232, 6182: 4233, 6183: 4234, 6184: 4235, 6185: 4236, 6186: 4237, 6187: 4238, 6188: 4239, 6192: 4240, 6193: 4241, 6195: 4242, 6196: 4243, 6197: 4244, 6201: 4245, 6202: 4246, 6203: 4247, 6204: 4248, 6210: 4249, 6212: 4250, 6213: 4251, 6214: 4252, 6215: 4253, 6216: 4254, 6217: 4255, 6218: 4256, 6219: 4257, 6220: 4258, 6222: 4259, 6223: 4260, 6225: 4261, 6228: 4262, 6232: 4263, 6234: 4264, 6235: 4265, 6237: 4266, 6238: 4267, 6239: 4268, 6241: 4269, 6242: 4270, 6244: 4271, 6245: 4272, 6246: 4273, 6249: 4274, 6250: 4275, 6251: 4276, 6252: 4277, 6254: 4278, 6263: 4279, 6264: 4280, 6265: 4281, 6266: 4282, 6267: 4283, 6268: 4284, 6269: 4285, 6270: 4286, 6271: 4287, 6273: 4288, 6279: 4289, 6280: 4290, 6281: 4291, 6283: 4292, 6285: 4293, 6286: 4294, 6287: 4295, 6288: 4296, 6289: 4297, 6290: 4298, 6291: 4299, 6294: 4300, 6295: 4301, 6296: 4302, 6297: 4303, 6298: 4304, 6299: 4305, 6300: 4306, 6301: 4307, 6302: 4308, 6303: 4309, 6305: 4310, 6306: 4311, 6308: 4312, 6310: 4313, 6313: 4314, 6314: 4315, 6315: 4316, 6316: 4317, 6319: 4318, 6320: 4319, 6322: 4320, 6323: 4321, 6324: 4322, 6327: 4323, 6329: 4324, 6330: 4325, 6331: 4326, 6332: 4327, 6333: 4328, 6334: 4329, 6335: 4330, 6336: 4331, 6337: 4332, 6338: 4333, 6339: 4334, 6341: 4335, 6342: 4336, 6344: 4337, 6345: 4338, 6347: 4339, 6348: 4340, 6349: 4341, 6350: 4342, 6357: 4343, 6358: 4344, 6365: 4345, 6367: 4346, 6368: 4347, 6370: 4348, 6371: 4349, 6373: 4350, 6374: 4351, 6375: 4352, 6376: 4353, 6377: 4354, 6378: 4355, 6379: 4356, 6380: 4357, 6382: 4358, 6383: 4359, 6385: 4360, 6386: 4361, 6387: 4362, 6390: 4363, 6395: 4364, 6400: 4365, 6402: 4366, 6405: 4367, 6407: 4368, 6408: 4369, 6410: 4370, 6412: 4371, 6415: 4372, 6417: 4373, 6422: 4374, 6424: 4375, 6425: 4376, 6427: 4377, 6428: 4378, 6429: 4379, 6433: 4380, 6434: 4381, 6436: 4382, 6440: 4383, 6442: 4384, 6448: 4385, 6449: 4386, 6452: 4387, 6453: 4388, 6454: 4389, 6460: 4390, 6461: 4391, 6464: 4392, 6465: 4393, 6466: 4394, 6476: 4395, 6477: 4396, 6480: 4397, 6482: 4398, 6483: 4399, 6484: 4400, 6493: 4401, 6502: 4402, 6503: 4403, 6506: 4404, 6509: 4405, 6510: 4406, 6514: 4407, 6515: 4408, 6516: 4409, 6517: 4410, 6523: 4411, 6527: 4412, 6528: 4413, 6530: 4414, 6533: 4415, 6534: 4416, 6535: 4417, 6536: 4418, 6537: 4419, 6538: 4420, 6539: 4421, 6541: 4422, 6542: 4423, 6545: 4424, 6547: 4425, 6548: 4426, 6549: 4427, 6550: 4428, 6551: 4429, 6552: 4430, 6553: 4431, 6554: 4432, 6557: 4433, 6558: 4434, 6559: 4435, 6560: 4436, 6561: 4437, 6563: 4438, 6564: 4439, 6565: 4440, 6566: 4441, 6567: 4442, 6568: 4443, 6571: 4444, 6572: 4445, 6573: 4446, 6574: 4447, 6577: 4448, 6578: 4449, 6579: 4450, 6581: 4451, 6582: 4452, 6583: 4453, 6584: 4454, 6586: 4455, 6587: 4456, 6588: 4457, 6591: 4458, 6592: 4459, 6593: 4460, 6595: 4461, 6596: 4462, 6597: 4463, 6598: 4464, 6603: 4465, 6604: 4466, 6609: 4467, 6611: 4468, 6612: 4469, 6614: 4470, 6615: 4471, 6616: 4472, 6617: 4473, 6618: 4474, 6619: 4475, 6620: 4476, 6624: 4477, 6625: 4478, 6628: 4479, 6629: 4480, 6631: 4481, 6636: 4482, 6638: 4483, 6639: 4484, 6643: 4485, 6644: 4486, 6645: 4487, 6650: 4488, 6654: 4489, 6656: 4490, 6658: 4491, 6659: 4492, 6660: 4493, 6662: 4494, 6663: 4495, 6664: 4496, 6665: 4497, 6666: 4498, 6667: 4499, 6669: 4500, 6670: 4501, 6671: 4502, 6678: 4503, 6679: 4504, 6684: 4505, 6686: 4506, 6687: 4507, 6688: 4508, 6689: 4509, 6691: 4510, 6692: 4511, 6695: 4512, 6696: 4513, 6699: 4514, 6702: 4515, 6705: 4516, 6706: 4517, 6707: 4518, 6708: 4519, 6709: 4520, 6710: 4521, 6711: 4522, 6713: 4523, 6715: 4524, 6718: 4525, 6720: 4526, 6721: 4527, 6722: 4528, 6723: 4529, 6724: 4530, 6731: 4531, 6732: 4532, 6734: 4533, 6744: 4534, 6746: 4535, 6748: 4536, 6750: 4537, 6751: 4538, 6752: 4539, 6753: 4540, 6754: 4541, 6755: 4542, 6760: 4543, 6763: 4544, 6764: 4545, 6765: 4546, 6768: 4547, 6769: 4548, 6770: 4549, 6772: 4550, 6773: 4551, 6774: 4552, 6775: 4553, 6776: 4554, 6777: 4555, 6780: 4556, 6782: 4557, 6783: 4558, 6785: 4559, 6786: 4560, 6787: 4561, 6788: 4562, 6789: 4563, 6790: 4564, 6791: 4565, 6793: 4566, 6794: 4567, 6796: 4568, 6797: 4569, 6798: 4570, 6800: 4571, 6803: 4572, 6804: 4573, 6807: 4574, 6808: 4575, 6809: 4576, 6810: 4577, 6811: 4578, 6812: 4579, 6814: 4580, 6816: 4581, 6817: 4582, 6818: 4583, 6820: 4584, 6821: 4585, 6827: 4586, 6832: 4587, 6835: 4588, 6836: 4589, 6837: 4590, 6850: 4591, 6851: 4592, 6852: 4593, 6853: 4594, 6856: 4595, 6857: 4596, 6858: 4597, 6860: 4598, 6862: 4599, 6863: 4600, 6867: 4601, 6868: 4602, 6869: 4603, 6870: 4604, 6872: 4605, 6873: 4606, 6874: 4607, 6879: 4608, 6880: 4609, 6881: 4610, 6882: 4611, 6883: 4612, 6884: 4613, 6885: 4614, 6886: 4615, 6887: 4616, 6888: 4617, 6889: 4618, 6890: 4619, 6893: 4620, 6898: 4621, 6899: 4622, 6902: 4623, 6909: 4624, 6911: 4625, 6912: 4626, 6918: 4627, 6920: 4628, 6927: 4629, 6932: 4630, 6934: 4631, 6935: 4632, 6936: 4633, 6938: 4634, 6939: 4635, 6942: 4636, 6944: 4637, 6945: 4638, 6946: 4639, 6947: 4640, 6948: 4641, 6949: 4642, 6950: 4643, 6951: 4644, 6952: 4645, 6953: 4646, 6954: 4647, 6957: 4648, 6958: 4649, 6959: 4650, 6961: 4651, 6962: 4652, 6963: 4653, 6965: 4654, 6966: 4655, 6967: 4656, 6969: 4657, 6970: 4658, 6971: 4659, 6973: 4660, 6974: 4661, 6975: 4662, 6978: 4663, 6979: 4664, 6981: 4665, 6982: 4666, 6983: 4667, 6984: 4668, 6985: 4669, 6986: 4670, 6987: 4671, 6989: 4672, 6990: 4673, 6992: 4674, 6993: 4675, 6994: 4676, 6996: 4677, 6997: 4678, 6998: 4679, 6999: 4680, 7000: 4681, 7001: 4682, 7004: 4683, 7005: 4684, 7007: 4685, 7008: 4686, 7009: 4687, 7010: 4688, 7012: 4689, 7013: 4690, 7015: 4691, 7016: 4692, 7017: 4693, 7018: 4694, 7019: 4695, 7022: 4696, 7023: 4697, 7024: 4698, 7025: 4699, 7026: 4700, 7027: 4701, 7028: 4702, 7030: 4703, 7031: 4704, 7032: 4705, 7033: 4706, 7034: 4707, 7036: 4708, 7037: 4709, 7038: 4710, 7040: 4711, 7041: 4712, 7044: 4713, 7045: 4714, 7046: 4715, 7047: 4716, 7048: 4717, 7049: 4718, 7050: 4719, 7051: 4720, 7052: 4721, 7053: 4722, 7054: 4723, 7055: 4724, 7056: 4725, 7057: 4726, 7058: 4727, 7059: 4728, 7060: 4729, 7061: 4730, 7062: 4731, 7063: 4732, 7064: 4733, 7065: 4734, 7067: 4735, 7069: 4736, 7070: 4737, 7071: 4738, 7072: 4739, 7073: 4740, 7074: 4741, 7075: 4742, 7076: 4743, 7078: 4744, 7079: 4745, 7080: 4746, 7082: 4747, 7083: 4748, 7084: 4749, 7085: 4750, 7086: 4751, 7087: 4752, 7088: 4753, 7089: 4754, 7090: 4755, 7091: 4756, 7092: 4757, 7093: 4758, 7096: 4759, 7099: 4760, 7101: 4761, 7102: 4762, 7103: 4763, 7104: 4764, 7107: 4765, 7108: 4766, 7109: 4767, 7114: 4768, 7115: 4769, 7116: 4770, 7117: 4771, 7118: 4772, 7121: 4773, 7122: 4774, 7123: 4775, 7124: 4776, 7125: 4777, 7127: 4778, 7131: 4779, 7132: 4780, 7134: 4781, 7137: 4782, 7139: 4783, 7141: 4784, 7142: 4785, 7143: 4786, 7147: 4787, 7149: 4788, 7150: 4789, 7151: 4790, 7153: 4791, 7154: 4792, 7155: 4793, 7156: 4794, 7158: 4795, 7160: 4796, 7161: 4797, 7162: 4798, 7163: 4799, 7164: 4800, 7165: 4801, 7167: 4802, 7169: 4803, 7171: 4804, 7173: 4805, 7175: 4806, 7176: 4807, 7177: 4808, 7178: 4809, 7179: 4810, 7181: 4811, 7184: 4812, 7190: 4813, 7191: 4814, 7192: 4815, 7193: 4816, 7202: 4817, 7205: 4818, 7206: 4819, 7208: 4820, 7209: 4821, 7211: 4822, 7212: 4823, 7215: 4824, 7216: 4825, 7217: 4826, 7218: 4827, 7219: 4828, 7222: 4829, 7223: 4830, 7225: 4831, 7228: 4832, 7234: 4833, 7235: 4834, 7236: 4835, 7238: 4836, 7243: 4837, 7245: 4838, 7247: 4839, 7248: 4840, 7251: 4841, 7254: 4842, 7255: 4843, 7256: 4844, 7257: 4845, 7258: 4846, 7259: 4847, 7260: 4848, 7261: 4849, 7262: 4850, 7263: 4851, 7264: 4852, 7265: 4853, 7266: 4854, 7282: 4855, 7285: 4856, 7292: 4857, 7293: 4858, 7294: 4859, 7297: 4860, 7299: 4861, 7301: 4862, 7302: 4863, 7303: 4864, 7304: 4865, 7305: 4866, 7306: 4867, 7307: 4868, 7308: 4869, 7310: 4870, 7311: 4871, 7312: 4872, 7315: 4873, 7316: 4874, 7317: 4875, 7318: 4876, 7319: 4877, 7320: 4878, 7321: 4879, 7323: 4880, 7324: 4881, 7325: 4882, 7326: 4883, 7327: 4884, 7328: 4885, 7333: 4886, 7335: 4887, 7336: 4888, 7340: 4889, 7344: 4890, 7345: 4891, 7346: 4892, 7347: 4893, 7348: 4894, 7349: 4895, 7352: 4896, 7354: 4897, 7357: 4898, 7360: 4899, 7361: 4900, 7362: 4901, 7364: 4902, 7366: 4903, 7367: 4904, 7368: 4905, 7369: 4906, 7371: 4907, 7372: 4908, 7373: 4909, 7375: 4910, 7376: 4911, 7377: 4912, 7379: 4913, 7380: 4914, 7381: 4915, 7382: 4916, 7386: 4917, 7387: 4918, 7390: 4919, 7394: 4920, 7395: 4921, 7396: 4922, 7411: 4923, 7414: 4924, 7419: 4925, 7438: 4926, 7439: 4927, 7440: 4928, 7443: 4929, 7444: 4930, 7445: 4931, 7448: 4932, 7449: 4933, 7450: 4934, 7451: 4935, 7454: 4936, 7455: 4937, 7457: 4938, 7458: 4939, 7459: 4940, 7460: 4941, 7477: 4942, 7479: 4943, 7481: 4944, 7482: 4945, 7486: 4946, 7487: 4947, 7492: 4948, 7493: 4949, 7541: 4950, 7560: 4951, 7561: 4952, 7562: 4953, 7564: 4954, 7566: 4955, 7569: 4956, 7570: 4957, 7572: 4958, 7573: 4959, 7579: 4960, 7581: 4961, 7584: 4962, 7587: 4963, 7614: 4964, 7615: 4965, 7616: 4966, 7618: 4967, 7619: 4968, 7620: 4969, 7624: 4970, 7636: 4971, 7646: 4972, 7647: 4973, 7649: 4974, 7650: 4975, 7657: 4976, 7669: 4977, 7698: 4978, 7700: 4979, 7701: 4980, 7702: 4981, 7704: 4982, 7705: 4983, 7706: 4984, 7707: 4985, 7708: 4986, 7713: 4987, 7714: 4988, 7716: 4989, 7720: 4990, 7727: 4991, 7728: 4992, 7730: 4993, 7742: 4994, 7743: 4995, 7745: 4996, 7748: 4997, 7749: 4998, 7753: 4999, 7756: 5000, 7757: 5001, 7762: 5002, 7766: 5003, 7767: 5004, 7772: 5005, 7773: 5006, 7781: 5007, 7782: 5008, 7786: 5009, 7789: 5010, 7802: 5011, 7810: 5012, 7811: 5013, 7812: 5014, 7815: 5015, 7820: 5016, 7822: 5017, 7826: 5018, 7831: 5019, 7832: 5020, 7833: 5021, 7834: 5022, 7835: 5023, 7839: 5024, 7840: 5025, 7841: 5026, 7842: 5027, 7843: 5028, 7844: 5029, 7845: 5030, 7846: 5031, 7879: 5032, 7882: 5033, 7883: 5034, 7884: 5035, 7888: 5036, 7889: 5037, 7891: 5038, 7894: 5039, 7895: 5040, 7896: 5041, 7899: 5042, 7900: 5043, 7916: 5044, 7920: 5045, 7924: 5046, 7925: 5047, 7926: 5048, 7930: 5049, 7932: 5050, 7934: 5051, 7936: 5052, 7937: 5053, 7938: 5054, 7939: 5055, 7940: 5056, 7943: 5057, 7944: 5058, 7951: 5059, 7976: 5060, 7979: 5061, 7980: 5062, 7981: 5063, 7982: 5064, 7983: 5065, 7984: 5066, 7986: 5067, 7987: 5068, 7988: 5069, 7991: 5070, 7993: 5071, 8008: 5072, 8010: 5073, 8011: 5074, 8012: 5075, 8014: 5076, 8015: 5077, 8016: 5078, 8019: 5079, 8024: 5080, 8025: 5081, 8033: 5082, 8035: 5083, 8042: 5084, 8043: 5085, 8044: 5086, 8045: 5087, 8057: 5088, 8092: 5089, 8093: 5090, 8094: 5091, 8117: 5092, 8118: 5093, 8119: 5094, 8121: 5095, 8125: 5096, 8126: 5097, 8128: 5098, 8131: 5099, 8132: 5100, 8136: 5101, 8137: 5102, 8138: 5103, 8142: 5104, 8143: 5105, 8147: 5106, 8153: 5107, 8154: 5108, 8157: 5109, 8158: 5110, 8167: 5111, 8169: 5112, 8183: 5113, 8188: 5114, 8189: 5115, 8190: 5116, 8191: 5117, 8195: 5118, 8196: 5119, 8197: 5120, 8199: 5121, 8207: 5122, 8225: 5123, 8228: 5124, 8232: 5125, 8235: 5126, 8236: 5127, 8238: 5128, 8239: 5129, 8241: 5130, 8253: 5131, 8254: 5132, 8261: 5133, 8264: 5134, 8266: 5135, 8268: 5136, 8270: 5137, 8275: 5138, 8290: 5139, 8293: 5140, 8302: 5141, 8327: 5142, 8331: 5143, 8335: 5144, 8336: 5145, 8337: 5146, 8338: 5147, 8340: 5148, 8341: 5149, 8360: 5150, 8361: 5151, 8362: 5152, 8363: 5153, 8364: 5154, 8366: 5155, 8368: 5156, 8369: 5157, 8370: 5158, 8371: 5159, 8372: 5160, 8373: 5161, 8375: 5162, 8376: 5163, 8378: 5164, 8379: 5165, 8380: 5166, 8382: 5167, 8383: 5168, 8385: 5169, 8387: 5170, 8391: 5171, 8402: 5172, 8405: 5173, 8410: 5174, 8424: 5175, 8425: 5176, 8426: 5177, 8427: 5178, 8446: 5179, 8447: 5180, 8450: 5181, 8451: 5182, 8454: 5183, 8456: 5184, 8458: 5185, 8459: 5186, 8461: 5187, 8462: 5188, 8463: 5189, 8464: 5190, 8465: 5191, 8477: 5192, 8481: 5193, 8482: 5194, 8484: 5195, 8487: 5196, 8491: 5197, 8492: 5198, 8493: 5199, 8494: 5200, 8495: 5201, 8500: 5202, 8501: 5203, 8502: 5204, 8506: 5205, 8507: 5206, 8511: 5207, 8512: 5208, 8518: 5209, 8521: 5210, 8526: 5211, 8528: 5212, 8529: 5213, 8530: 5214, 8531: 5215, 8532: 5216, 8533: 5217, 8534: 5218, 8535: 5219, 8542: 5220, 8571: 5221, 8574: 5222, 8575: 5223, 8577: 5224, 8578: 5225, 8580: 5226, 8581: 5227, 8582: 5228, 8587: 5229, 8588: 5230, 8591: 5231, 8593: 5232, 8596: 5233, 8600: 5234, 8601: 5235, 8604: 5236, 8605: 5237, 8607: 5238, 8609: 5239, 8610: 5240, 8611: 5241, 8614: 5242, 8617: 5243, 8620: 5244, 8622: 5245, 8623: 5246, 8626: 5247, 8632: 5248, 8633: 5249, 8636: 5250, 8638: 5251, 8640: 5252, 8641: 5253, 8643: 5254, 8644: 5255, 8645: 5256, 8650: 5257, 8656: 5258, 8665: 5259, 8666: 5260, 8667: 5261, 8670: 5262, 8677: 5263, 8684: 5264, 8685: 5265, 8690: 5266, 8695: 5267, 8711: 5268, 8712: 5269, 8713: 5270, 8714: 5271, 8718: 5272, 8720: 5273, 8724: 5274, 8727: 5275, 8730: 5276, 8738: 5277, 8743: 5278, 8748: 5279, 8753: 5280, 8754: 5281, 8755: 5282, 8771: 5283, 8772: 5284, 8773: 5285, 8774: 5286, 8778: 5287, 8781: 5288, 8782: 5289, 8783: 5290, 8784: 5291, 8795: 5292, 8796: 5293, 8798: 5294, 8799: 5295, 8800: 5296, 8804: 5297, 8807: 5298, 8808: 5299, 8809: 5300, 8810: 5301, 8813: 5302, 8814: 5303, 8815: 5304, 8827: 5305, 8830: 5306, 8831: 5307, 8832: 5308, 8833: 5309, 8835: 5310, 8836: 5311, 8838: 5312, 8840: 5313, 8844: 5314, 8848: 5315, 8860: 5316, 8861: 5317, 8864: 5318, 8865: 5319, 8866: 5320, 8869: 5321, 8870: 5322, 8873: 5323, 8874: 5324, 8875: 5325, 8879: 5326, 8880: 5327, 8894: 5328, 8905: 5329, 8906: 5330, 8907: 5331, 8908: 5332, 8910: 5333, 8911: 5334, 8912: 5335, 8914: 5336, 8915: 5337, 8916: 5338, 8917: 5339, 8918: 5340, 8919: 5341, 8920: 5342, 8921: 5343, 8928: 5344, 8933: 5345, 8934: 5346, 8937: 5347, 8938: 5348, 8939: 5349, 8943: 5350, 8946: 5351, 8947: 5352, 8948: 5353, 8949: 5354, 8950: 5355, 8951: 5356, 8952: 5357, 8954: 5358, 8955: 5359, 8957: 5360, 8958: 5361, 8959: 5362, 8961: 5363, 8964: 5364, 8965: 5365, 8966: 5366, 8967: 5367, 8968: 5368, 8969: 5369, 8970: 5370, 8972: 5371, 8973: 5372, 8974: 5373, 8977: 5374, 8978: 5375, 8979: 5376, 8981: 5377, 8982: 5378, 8983: 5379, 8984: 5380, 8985: 5381, 8987: 5382, 8989: 5383, 8998: 5384, 9004: 5385, 9005: 5386, 9008: 5387, 9010: 5388, 9018: 5389, 25746: 5390, 25750: 5391, 25752: 5392, 25753: 5393, 25757: 5394, 25769: 5395, 25771: 5396, 25773: 5397, 25782: 5398, 25788: 5399, 25795: 5400, 25797: 5401, 25805: 5402, 25825: 5403, 25826: 5404, 25827: 5405, 25833: 5406, 25834: 5407, 25841: 5408, 25850: 5409, 25856: 5410, 25865: 5411, 25870: 5412, 25886: 5413, 25887: 5414, 25898: 5415, 25905: 5416, 25906: 5417, 25923: 5418, 25927: 5419, 25937: 5420, 25940: 5421, 25946: 5422, 25947: 5423, 25952: 5424, 25959: 5425, 25962: 5426, 25963: 5427, 25996: 5428, 25999: 5429, 26002: 5430, 26003: 5431, 26038: 5432, 26048: 5433, 26052: 5434, 26059: 5435, 26073: 5436, 26078: 5437, 26082: 5438, 26084: 5439, 26095: 5440, 26116: 5441, 26122: 5442, 26124: 5443, 26131: 5444, 26133: 5445, 26142: 5446, 26147: 5447, 26150: 5448, 26151: 5449, 26152: 5450, 26158: 5451, 26159: 5452, 26169: 5453, 26171: 5454, 26172: 5455, 26176: 5456, 26183: 5457, 26184: 5458, 26195: 5459, 26198: 5460, 26225: 5461, 26231: 5462, 26236: 5463, 26237: 5464, 26242: 5465, 26249: 5466, 26258: 5467, 26265: 5468, 26283: 5469, 26285: 5470, 26303: 5471, 26308: 5472, 26313: 5473, 26317: 5474, 26322: 5475, 26326: 5476, 26340: 5477, 26344: 5478, 26347: 5479, 26350: 5480, 26357: 5481, 26359: 5482, 26365: 5483, 26366: 5484, 26375: 5485, 26386: 5486, 26391: 5487, 26394: 5488, 26399: 5489, 26401: 5490, 26409: 5491, 26413: 5492, 26422: 5493, 26429: 5494, 26444: 5495, 26453: 5496, 26464: 5497, 26467: 5498, 26471: 5499, 26472: 5500, 26492: 5501, 26498: 5502, 26504: 5503, 26510: 5504, 26523: 5505, 26524: 5506, 26527: 5507, 26528: 5508, 26539: 5509, 26542: 5510, 26547: 5511, 26554: 5512, 26555: 5513, 26562: 5514, 26564: 5515, 26567: 5516, 26578: 5517, 26585: 5518, 26587: 5519, 26590: 5520, 26593: 5521, 26599: 5522, 26603: 5523, 26606: 5524, 26612: 5525, 26614: 5526, 26622: 5527, 26629: 5528, 26630: 5529, 26631: 5530, 26645: 5531, 26649: 5532, 26662: 5533, 26676: 5534, 26680: 5535, 26681: 5536, 26686: 5537, 26693: 5538, 26694: 5539, 26695: 5540, 26696: 5541, 26700: 5542, 26701: 5543, 26704: 5544, 26712: 5545, 26713: 5546, 26717: 5547, 26726: 5548, 26729: 5549, 26732: 5550, 26736: 5551, 26741: 5552, 26743: 5553, 26745: 5554, 26750: 5555, 26761: 5556, 26764: 5557, 26765: 5558, 26776: 5559, 26777: 5560, 26778: 5561, 26782: 5562, 26791: 5563, 26792: 5564, 26796: 5565, 26797: 5566, 26810: 5567, 26812: 5568, 26819: 5569, 26828: 5570, 26838: 5571, 26840: 5572, 26849: 5573, 26854: 5574, 26861: 5575, 26865: 5576, 26870: 5577, 26871: 5578, 26875: 5579, 26887: 5580, 26900: 5581, 26901: 5582, 26903: 5583, 26913: 5584, 26928: 5585, 26940: 5586, 26947: 5587, 26958: 5588, 26965: 5589, 26974: 5590, 26985: 5591, 26999: 5592, 27002: 5593, 27003: 5594, 27006: 5595, 27008: 5596, 27020: 5597, 27022: 5598, 27032: 5599, 27036: 5600, 27074: 5601, 27075: 5602, 27105: 5603, 27124: 5604, 27134: 5605, 27140: 5606, 27155: 5607, 27156: 5608, 27176: 5609, 27178: 5610, 27186: 5611, 27193: 5612, 27246: 5613, 27251: 5614, 27255: 5615, 27266: 5616, 27306: 5617, 27311: 5618, 27317: 5619, 27320: 5620, 27328: 5621, 27329: 5622, 27368: 5623, 27369: 5624, 27370: 5625, 27373: 5626, 27397: 5627, 27408: 5628, 27416: 5629, 27420: 5630, 27426: 5631, 27434: 5632, 27441: 5633, 27450: 5634, 27473: 5635, 27478: 5636, 27480: 5637, 27482: 5638, 27491: 5639, 27513: 5640, 27523: 5641, 27537: 5642, 27539: 5643, 27549: 5644, 27555: 5645, 27563: 5646, 27584: 5647, 27592: 5648, 27595: 5649, 27604: 5650, 27611: 5651, 27618: 5652, 27619: 5653, 27627: 5654, 27644: 5655, 27660: 5656, 27664: 5657, 27667: 5658, 27674: 5659, 27683: 5660, 27685: 5661, 27689: 5662, 27692: 5663, 27695: 5664, 27704: 5665, 27705: 5666, 27706: 5667, 27708: 5668, 27716: 5669, 27721: 5670, 27722: 5671, 27728: 5672, 27731: 5673, 27741: 5674, 27744: 5675, 27746: 5676, 27751: 5677, 27762: 5678, 27768: 5679, 27769: 5680, 27772: 5681, 27773: 5682, 27776: 5683, 27778: 5684, 27784: 5685, 27788: 5686, 27790: 5687, 27793: 5688, 27801: 5689, 27802: 5690, 27803: 5691, 27808: 5692, 27815: 5693, 27816: 5694, 27820: 5695, 27821: 5696, 27822: 5697, 27826: 5698, 27829: 5699, 27830: 5700, 27831: 5701, 27834: 5702, 27837: 5703, 27838: 5704, 27839: 5705, 27846: 5706, 27850: 5707, 27865: 5708, 27866: 5709, 27869: 5710, 27873: 5711, 27878: 5712, 27879: 5713, 27882: 5714, 27899: 5715, 27904: 5716, 27905: 5717, 27912: 5718, 30707: 5719, 30745: 5720, 30749: 5721, 30793: 5722, 30803: 5723, 30810: 5724, 30812: 5725, 30816: 5726, 30818: 5727, 30820: 5728, 30822: 5729, 30825: 5730, 30846: 5731, 30848: 5732, 30850: 5733, 30883: 5734, 30890: 5735, 30894: 5736, 30898: 5737, 30994: 5738, 31000: 5739, 31030: 5740, 31038: 5741, 31049: 5742, 31083: 5743, 31086: 5744, 31101: 5745, 31114: 5746, 31116: 5747, 31123: 5748, 31150: 5749, 31162: 5750, 31184: 5751, 31193: 5752, 31221: 5753, 31223: 5754, 31225: 5755, 31260: 5756, 31297: 5757, 31309: 5758, 31364: 5759, 31367: 5760, 31410: 5761, 31420: 5762, 31422: 5763, 31424: 5764, 31427: 5765, 31431: 5766, 31433: 5767, 31435: 5768, 31437: 5769, 31445: 5770, 31522: 5771, 31545: 5772, 31553: 5773, 31590: 5774, 31610: 5775, 31617: 5776, 31658: 5777, 31660: 5778, 31664: 5779, 31685: 5780, 31692: 5781, 31694: 5782, 31696: 5783, 31698: 5784, 31700: 5785, 31702: 5786, 31737: 5787, 31804: 5788, 31851: 5789, 31867: 5790, 31878: 5791, 31903: 5792, 31909: 5793, 31921: 5794, 31923: 5795, 31925: 5796, 31952: 5797, 31973: 5798, 32009: 5799, 32011: 5800, 32017: 5801, 32019: 5802, 32022: 5803, 32029: 5804, 32031: 5805, 32058: 5806, 32060: 5807, 32116: 5808, 32139: 5809, 32179: 5810, 32213: 5811, 32234: 5812, 32243: 5813, 32289: 5814, 32291: 5815, 32294: 5816, 32296: 5817, 32298: 5818, 32300: 5819, 32302: 5820, 32314: 5821, 32387: 5822, 32392: 5823, 32440: 5824, 32442: 5825, 32456: 5826, 32460: 5827, 32469: 5828, 32511: 5829, 32515: 5830, 32554: 5831, 32582: 5832, 32584: 5833, 32587: 5834, 32589: 5835, 32596: 5836, 32598: 5837, 32600: 5838, 32620: 5839, 32632: 5840, 32649: 5841, 32657: 5842, 32659: 5843, 32666: 5844, 32728: 5845, 32743: 5846, 32770: 5847, 32799: 5848, 32862: 5849, 32875: 5850, 32892: 5851, 32898: 5852, 32906: 5853, 32914: 5854, 32917: 5855, 33004: 5856, 33085: 5857, 33090: 5858, 33124: 5859, 33126: 5860, 33132: 5861, 33138: 5862, 33145: 5863, 33148: 5864, 33154: 5865, 33158: 5866, 33162: 5867, 33164: 5868, 33166: 5869, 33171: 5870, 33188: 5871, 33201: 5872, 33237: 5873, 33294: 5874, 33310: 5875, 33312: 5876, 33421: 5877, 33435: 5878, 33437: 5879, 33493: 5880, 33495: 5881, 33499: 5882, 33558: 5883, 33564: 5884, 33615: 5885, 33629: 5886, 33639: 5887, 33644: 5888, 33646: 5889, 33649: 5890, 33660: 5891, 33669: 5892, 33672: 5893, 33677: 5894, 33679: 5895, 33681: 5896, 33683: 5897, 33725: 5898, 33779: 5899, 33781: 5900, 33794: 5901, 33801: 5902, 33815: 5903, 33826: 5904, 33830: 5905, 33834: 5906, 33836: 5907, 33838: 5908, 33880: 5909, 33893: 5910, 33896: 5911, 33903: 5912, 33966: 5913, 34018: 5914, 34048: 5915, 34072: 5916, 34129: 5917, 34143: 5918, 34148: 5919, 34150: 5920, 34153: 5921, 34162: 5922, 34164: 5923, 34271: 5924, 34292: 5925, 34312: 5926, 34319: 5927, 34321: 5928, 34323: 5929, 34326: 5930, 34330: 5931, 34332: 5932, 34334: 5933, 34336: 5934, 34338: 5935, 34359: 5936, 34397: 5937, 34405: 5938, 34437: 5939, 34450: 5940, 34520: 5941, 34523: 5942, 34528: 5943, 34530: 5944, 34532: 5945, 34534: 5946, 34536: 5947, 34540: 5948, 34542: 5949, 34800: 5950, 34811: 5951, 35015: 5952, 35347: 5953, 35807: 5954, 35836: 5955, 35957: 5956, 36276: 5957, 36289: 5958, 36363: 5959, 36397: 5960, 36401: 5961, 36477: 5962, 36509: 5963, 36517: 5964, 36519: 5965, 36525: 5966, 36527: 5967, 36529: 5968, 36533: 5969, 36535: 5970, 36537: 5971, 36708: 5972, 36850: 5973, 36931: 5974, 37211: 5975, 37240: 5976, 37380: 5977, 37382: 5978, 37384: 5979, 37386: 5980, 37444: 5981, 37475: 5982, 37477: 5983, 37495: 5984, 37545: 5985, 37720: 5986, 37727: 5987, 37729: 5988, 37731: 5989, 37733: 5990, 37736: 5991, 37739: 5992, 37741: 5993, 37830: 5994, 37844: 5995, 37853: 5996, 37857: 5997, 38038: 5998, 38061: 5999, 38095: 6000, 38159: 6001, 38164: 6002, 38198: 6003, 38294: 6004, 38304: 6005, 38388: 6006, 38583: 6007, 38798: 6008, 38886: 6009, 38992: 6010, 39183: 6011, 39231: 6012, 39234: 6013, 39292: 6014, 39307: 6015, 39381: 6016, 39400: 6017, 39414: 6018, 39427: 6019, 39435: 6020, 39444: 6021, 39446: 6022, 39449: 6023, 39516: 6024, 39715: 6025, 39801: 6026, 39869: 6027, 40148: 6028, 40278: 6029, 40339: 6030, 40412: 6031, 40414: 6032, 40478: 6033, 40491: 6034, 40578: 6035, 40581: 6036, 40583: 6037, 40597: 6038, 40614: 6039, 40617: 6040, 40629: 6041, 40697: 6042, 40723: 6043, 40732: 6044, 40815: 6045, 40819: 6046, 40826: 6047, 40851: 6048, 40870: 6049, 40946: 6050, 40955: 6051, 40959: 6052, 40962: 6053, 40966: 6054, 41014: 6055, 41285: 6056, 41527: 6057, 41566: 6058, 41569: 6059, 41571: 6060, 41573: 6061, 41617: 6062, 41627: 6063, 41712: 6064, 41716: 6065, 41724: 6066, 41769: 6067, 41828: 6068, 41863: 6069, 41997: 6070, 42002: 6071, 42004: 6072, 42007: 6073, 42009: 6074, 42011: 6075, 42013: 6076, 42015: 6077, 42018: 6078, 42176: 6079, 42191: 6080, 42285: 6081, 42418: 6082, 42422: 6083, 42556: 6084, 42559: 6085, 42602: 6086, 42632: 6087, 42638: 6088, 42718: 6089, 42723: 6090, 42725: 6091, 42728: 6092, 42730: 6093, 42732: 6094, 42734: 6095, 42738: 6096, 42740: 6097, 42761: 6098, 42943: 6099, 42946: 6100, 43289: 6101, 43333: 6102, 43376: 6103, 43396: 6104, 43419: 6105, 43460: 6106, 43549: 6107, 43556: 6108, 43558: 6109, 43560: 6110, 43677: 6111, 43679: 6112, 43684: 6113, 43708: 6114, 43744: 6115, 43836: 6116, 43869: 6117, 43871: 6118, 43904: 6119, 43908: 6120, 43912: 6121, 43914: 6122, 43917: 6123, 43919: 6124, 43921: 6125, 43928: 6126, 43930: 6127, 43932: 6128, 43936: 6129, 44004: 6130, 44020: 6131, 44022: 6132, 44189: 6133, 44191: 6134, 44193: 6135, 44195: 6136, 44197: 6137, 44199: 6138, 44204: 6139, 44225: 6140, 44238: 6141, 44241: 6142, 44243: 6143, 44301: 6144, 44397: 6145, 44399: 6146, 44511: 6147, 44555: 6148, 44597: 6149, 44613: 6150, 44633: 6151, 44657: 6152, 44665: 6153, 44694: 6154, 44709: 6155, 44719: 6156, 44731: 6157, 44759: 6158, 44761: 6159, 44773: 6160, 44777: 6161, 44788: 6162, 44828: 6163, 44840: 6164, 44849: 6165, 44851: 6166, 44864: 6167, 44889: 6168, 44929: 6169, 44931: 6170, 44937: 6171, 44943: 6172, 44972: 6173, 44974: 6174, 45028: 6175, 45062: 6176, 45074: 6177, 45081: 6178, 45106: 6179, 45175: 6180, 45183: 6181, 45186: 6182, 45208: 6183, 45210: 6184, 45221: 6185, 45361: 6186, 45382: 6187, 45431: 6188, 45440: 6189, 45442: 6190, 45447: 6191, 45499: 6192, 45501: 6193, 45503: 6194, 45517: 6195, 45635: 6196, 45648: 6197, 45658: 6198, 45662: 6199, 45666: 6200, 45668: 6201, 45672: 6202, 45720: 6203, 45722: 6204, 45726: 6205, 45728: 6206, 45730: 6207, 45732: 6208, 45880: 6209, 45928: 6210, 45950: 6211, 45969: 6212, 46062: 6213, 46105: 6214, 46231: 6215, 46322: 6216, 46335: 6217, 46337: 6218, 46347: 6219, 46367: 6220, 46530: 6221, 46559: 6222, 46572: 6223, 46574: 6224, 46578: 6225, 46664: 6226, 46723: 6227, 46772: 6228, 46850: 6229, 46855: 6230, 46862: 6231, 46865: 6232, 46948: 6233, 46965: 6234, 46967: 6235, 46970: 6236, 46972: 6237, 46974: 6238, 46976: 6239, 47044: 6240, 47099: 6241, 47122: 6242, 47124: 6243, 47200: 6244, 47202: 6245, 47254: 6246, 47261: 6247, 47382: 6248, 47384: 6249, 47404: 6250, 47423: 6251, 47446: 6252, 47465: 6253, 47491: 6254, 47516: 6255, 47518: 6256, 47538: 6257, 47566: 6258, 47610: 6259, 47629: 6260, 47640: 6261, 47644: 6262, 47646: 6263, 47721: 6264, 47725: 6265, 47736: 6266, 47774: 6267, 47793: 6268, 47810: 6269, 47894: 6270, 47937: 6271, 47950: 6272, 47952: 6273, 47970: 6274, 47978: 6275, 47997: 6276, 47999: 6277, 48001: 6278, 48032: 6279, 48043: 6280, 48045: 6281, 48082: 6282, 48142: 6283, 48150: 6284, 48161: 6285, 48214: 6286, 48262: 6287, 48304: 6288, 48319: 6289, 48322: 6290, 48326: 6291, 48342: 6292, 48385: 6293, 48394: 6294, 48412: 6295, 48414: 6296, 48416: 6297, 48516: 6298, 48518: 6299, 48520: 6300, 48560: 6301, 48593: 6302, 48596: 6303, 48598: 6304, 48638: 6305, 48649: 6306, 48678: 6307, 48696: 6308, 48698: 6309, 48738: 6310, 48741: 6311, 48744: 6312, 48774: 6313, 48780: 6314, 48783: 6315, 48872: 6316, 48877: 6317, 48879: 6318, 48883: 6319, 48982: 6320, 48997: 6321, 49013: 6322, 49110: 6323, 49130: 6324, 49132: 6325, 49220: 6326, 49263: 6327, 49265: 6328, 49272: 6329, 49274: 6330, 49276: 6331, 49278: 6332, 49280: 6333, 49284: 6334, 49286: 6335, 49314: 6336, 49347: 6337, 49389: 6338, 49396: 6339, 49524: 6340, 49530: 6341, 49647: 6342, 49649: 6343, 49651: 6344, 49666: 6345, 49688: 6346, 49735: 6347, 49772: 6348, 49793: 6349, 49822: 6350, 49824: 6351, 49910: 6352, 49917: 6353, 49932: 6354, 49957: 6355, 49961: 6356, 50003: 6357, 50005: 6358, 50064: 6359, 50068: 6360, 50147: 6361, 50158: 6362, 50160: 6363, 50189: 6364, 50274: 6365, 50354: 6366, 50356: 6367, 50440: 6368, 50442: 6369, 50445: 6370, 50514: 6371, 50601: 6372, 50610: 6373, 50613: 6374, 50658: 6375, 50685: 6376, 50740: 6377, 50792: 6378, 50794: 6379, 50796: 6380, 50798: 6381, 50800: 6382, 50802: 6383, 50804: 6384, 50806: 6385, 50842: 6386, 50851: 6387, 50872: 6388, 50912: 6389, 50923: 6390, 50942: 6391, 50954: 6392, 50999: 6393, 51024: 6394, 51037: 6395, 51077: 6396, 51080: 6397, 51082: 6398, 51084: 6399, 51086: 6400, 51088: 6401, 51091: 6402, 51167: 6403, 51174: 6404, 51255: 6405, 51314: 6406, 51357: 6407, 51412: 6408, 51471: 6409, 51498: 6410, 51540: 6411, 51545: 6412, 51562: 6413, 51573: 6414, 51575: 6415, 51662: 6416, 51666: 6417, 51694: 6418, 51698: 6419, 51705: 6420, 51709: 6421, 51834: 6422, 51884: 6423, 51903: 6424, 51925: 6425, 51927: 6426, 51931: 6427, 51933: 6428, 51935: 6429, 51937: 6430, 51939: 6431, 52042: 6432, 52241: 6433, 52245: 6434, 52279: 6435, 52281: 6436, 52283: 6437, 52287: 6438, 52299: 6439, 52319: 6440, 52328: 6441, 52375: 6442, 52435: 6443, 52458: 6444, 52462: 6445, 52579: 6446, 52604: 6447, 52644: 6448, 52668: 6449, 52694: 6450, 52712: 6451, 52715: 6452, 52722: 6453, 52724: 6454, 52730: 6455, 52767: 6456, 52784: 6457, 52831: 6458, 52867: 6459, 52885: 6460, 52950: 6461, 52952: 6462, 52967: 6463, 52973: 6464, 52975: 6465, 53000: 6466, 53022: 6467, 53024: 6468, 53121: 6469, 53123: 6470, 53125: 6471, 53127: 6472, 53129: 6473, 53138: 6474, 53140: 6475, 53143: 6476, 53161: 6477, 53280: 6478, 53318: 6479, 53322: 6480, 53326: 6481, 53355: 6482, 53435: 6483, 53447: 6484, 53450: 6485, 53453: 6486, 53460: 6487, 53464: 6488, 53466: 6489, 53468: 6490, 53519: 6491, 53550: 6492, 53574: 6493, 53578: 6494, 53808: 6495, 53883: 6496, 53894: 6497, 53921: 6498, 53953: 6499, 53956: 6500, 53972: 6501, 53974: 6502, 53993: 6503, 53996: 6504, 54001: 6505, 54004: 6506, 54116: 6507, 54121: 6508, 54185: 6509, 54190: 6510, 54256: 6511, 54259: 6512, 54272: 6513, 54274: 6514, 54276: 6515, 54281: 6516, 54286: 6517, 54354: 6518, 54372: 6519, 54503: 6520, 54617: 6521, 54648: 6522, 54686: 6523, 54732: 6524, 54734: 6525, 54736: 6526, 54745: 6527, 54768: 6528, 54771: 6529, 54780: 6530, 54785: 6531, 54787: 6532, 54796: 6533, 54881: 6534, 54908: 6535, 54910: 6536, 54934: 6537, 54962: 6538, 54995: 6539, 54997: 6540, 54999: 6541, 55020: 6542, 55036: 6543, 55052: 6544, 55061: 6545, 55067: 6546, 55069: 6547, 55071: 6548, 55080: 6549, 55094: 6550, 55110: 6551, 55112: 6552, 55116: 6553, 55118: 6554, 55156: 6555, 55167: 6556, 55190: 6557, 55205: 6558, 55207: 6559, 55232: 6560, 55241: 6561, 55245: 6562, 55247: 6563, 55250: 6564, 55253: 6565, 55259: 6566, 55261: 6567, 55267: 6568, 55269: 6569, 55272: 6570, 55274: 6571, 55276: 6572, 55278: 6573, 55280: 6574, 55282: 6575, 55290: 6576, 55292: 6577, 55294: 6578, 55363: 6579, 55391: 6580, 55442: 6581, 55444: 6582, 55451: 6583, 55492: 6584, 55553: 6585, 55555: 6586, 55577: 6587, 55620: 6588, 55687: 6589, 55721: 6590, 55729: 6591, 55765: 6592, 55768: 6593, 55805: 6594, 55814: 6595, 55820: 6596, 55830: 6597, 55844: 6598, 55854: 6599, 55872: 6600, 55908: 6601, 55946: 6602, 55995: 6603, 56003: 6604, 56012: 6605, 56022: 6606, 56060: 6607, 56145: 6608, 56152: 6609, 56156: 6610, 56169: 6611, 56171: 6612, 56174: 6613, 56176: 6614, 56251: 6615, 56274: 6616, 56286: 6617, 56333: 6618, 56336: 6619, 56339: 6620, 56367: 6621, 56379: 6622, 56389: 6623, 56563: 6624, 56587: 6625, 56607: 6626, 56620: 6627, 56715: 6628, 56757: 6629, 56775: 6630, 56782: 6631, 56788: 6632, 56801: 6633, 56805: 6634, 56837: 6635, 56869: 6636, 56908: 6637, 56915: 6638, 56921: 6639, 56941: 6640, 56949: 6641, 57147: 6642, 57183: 6643, 57243: 6644, 57274: 6645, 57326: 6646, 57368: 6647, 57421: 6648, 57499: 6649, 57502: 6650, 57504: 6651, 57522: 6652, 57526: 6653, 57528: 6654, 57532: 6655, 57536: 6656, 57637: 6657, 57640: 6658, 57669: 6659, 57772: 6660, 57843: 6661, 57910: 6662, 57951: 6663, 58025: 6664, 58047: 6665, 58078: 6666, 58103: 6667, 58105: 6668, 58107: 6669, 58154: 6670, 58156: 6671, 58162: 6672, 58191: 6673, 58287: 6674, 58291: 6675, 58293: 6676, 58295: 6677, 58297: 6678, 58299: 6679, 58301: 6680, 58303: 6681, 58306: 6682, 58309: 6683, 58315: 6684, 58332: 6685, 58347: 6686, 58351: 6687, 58376: 6688, 58404: 6689, 58425: 6690, 58492: 6691, 58554: 6692, 58559: 6693, 58627: 6694, 58655: 6695, 58783: 6696, 58803: 6697, 58806: 6698, 58826: 6699, 58839: 6700, 58842: 6701, 58870: 6702, 58876: 6703, 58879: 6704, 58964: 6705, 58972: 6706, 58975: 6707, 58998: 6708, 59014: 6709, 59016: 6710, 59018: 6711, 59022: 6712, 59026: 6713, 59037: 6714, 59103: 6715, 59118: 6716, 59126: 6717, 59129: 6718, 59131: 6719, 59141: 6720, 59143: 6721, 59220: 6722, 59258: 6723, 59295: 6724, 59306: 6725, 59315: 6726, 59333: 6727, 59336: 6728, 59369: 6729, 59387: 6730, 59421: 6731, 59429: 6732, 59440: 6733, 59501: 6734, 59549: 6735, 59604: 6736, 59615: 6737, 59667: 6738, 59725: 6739, 59727: 6740, 59731: 6741, 59738: 6742, 59784: 6743, 59810: 6744, 59814: 6745, 59900: 6746, 59915: 6747, 59947: 6748, 59985: 6749, 59995: 6750, 60030: 6751, 60037: 6752, 60040: 6753, 60046: 6754, 60069: 6755, 60072: 6756, 60074: 6757, 60126: 6758, 60128: 6759, 60141: 6760, 60161: 6761, 60289: 6762, 60291: 6763, 60293: 6764, 60303: 6765, 60333: 6766, 60363: 6767, 60365: 6768, 60389: 6769, 60397: 6770, 60408: 6771, 60471: 6772, 60487: 6773, 60514: 6774, 60516: 6775, 60522: 6776, 60538: 6777, 60647: 6778, 60674: 6779, 60684: 6780, 60735: 6781, 60737: 6782, 60753: 6783, 60756: 6784, 60760: 6785, 60766: 6786, 60803: 6787, 60818: 6788, 60832: 6789, 60857: 6790, 60885: 6791, 60894: 6792, 60904: 6793, 60937: 6794, 60941: 6795, 60943: 6796, 60950: 6797, 60979: 6798, 61011: 6799, 61024: 6800, 61026: 6801, 61071: 6802, 61073: 6803, 61123: 6804, 61132: 6805, 61160: 6806, 61167: 6807, 61210: 6808, 61236: 6809, 61240: 6810, 61246: 6811, 61248: 6812, 61250: 6813, 61255: 6814, 61257: 6815, 61262: 6816, 61289: 6817, 61319: 6818, 61323: 6819, 61348: 6820, 61350: 6821, 61352: 6822, 61394: 6823, 61401: 6824, 61406: 6825, 61465: 6826, 61628: 6827, 61692: 6828, 61697: 6829, 61705: 6830, 61729: 6831, 61818: 6832, 61986: 6833, 62008: 6834, 62081: 6835, 62113: 6836, 62155: 6837, 62208: 6838, 62250: 6839, 62293: 6840, 62299: 6841, 62336: 6842, 62344: 6843, 62374: 6844, 62376: 6845, 62383: 6846, 62394: 6847, 62434: 6848, 62437: 6849, 62439: 6850, 62511: 6851, 62553: 6852, 62586: 6853, 62644: 6854, 62662: 6855, 62718: 6856, 62792: 6857, 62799: 6858, 62834: 6859, 62836: 6860, 62849: 6861, 62956: 6862, 62970: 6863, 62999: 6864, 63033: 6865, 63062: 6866, 63072: 6867, 63082: 6868, 63113: 6869, 63131: 6870, 63179: 6871, 63222: 6872, 63239: 6873, 63276: 6874, 63312: 6875, 63393: 6876, 63433: 6877, 63436: 6878, 63479: 6879, 63515: 6880, 63540: 6881, 63768: 6882, 63808: 6883, 63826: 6884, 63853: 6885, 63859: 6886, 63876: 6887, 63992: 6888, 64010: 6889, 64030: 6890, 64032: 6891, 64034: 6892, 64114: 6893, 64116: 6894, 64167: 6895, 64197: 6896, 64231: 6897, 64249: 6898, 64278: 6899, 64285: 6900, 64497: 6901, 64499: 6902, 64501: 6903, 64575: 6904, 64614: 6905, 64620: 6906, 64622: 6907, 64695: 6908, 64716: 6909, 64839: 6910, 64957: 6911, 64969: 6912, 64983: 6913, 64993: 6914, 64997: 6915, 65037: 6916, 65088: 6917, 65126: 6918, 65130: 6919, 65133: 6920, 65135: 6921, 65188: 6922, 65193: 6923, 65216: 6924, 65225: 6925, 65230: 6926, 65261: 6927, 65350: 6928, 65359: 6929, 65514: 6930, 65577: 6931, 65585: 6932, 65588: 6933, 65596: 6934, 65601: 6935, 65631: 6936, 65642: 6937, 65651: 6938, 65682: 6939, 65685: 6940, 65738: 6941, 65740: 6942, 65802: 6943, 65810: 6944, 65882: 6945, 65982: 6946, 66090: 6947, 66097: 6948, 66171: 6949, 66198: 6950, 66203: 6951, 66240: 6952, 66297: 6953, 66310: 6954, 66320: 6955, 66335: 6956, 66371: 6957, 66427: 6958, 66509: 6959, 66511: 6960, 66544: 6961, 66665: 6962, 66744: 6963, 66783: 6964, 66785: 6965, 66798: 6966, 66915: 6967, 66934: 6968, 66943: 6969, 67087: 6970, 67168: 6971, 67186: 6972, 67193: 6973, 67197: 6974, 67255: 6975, 67267: 6976, 67295: 6977, 67361: 6978, 67408: 6979, 67508: 6980, 67534: 6981, 67618: 6982, 67665: 6983, 67695: 6984, 67734: 6985, 67788: 6986, 67799: 6987, 67888: 6988, 67923: 6989, 67997: 6990, 68073: 6991, 68135: 6992, 68157: 6993, 68159: 6994, 68194: 6995, 68205: 6996, 68237: 6997, 68269: 6998, 68319: 6999, 68347: 7000, 68358: 7001, 68444: 7002, 68480: 7003, 68486: 7004, 68522: 7005, 68536: 7006, 68552: 7007, 68554: 7008, 68597: 7009, 68600: 7010, 68650: 7011, 68659: 7012, 68791: 7013, 68793: 7014, 68835: 7015, 68848: 7016, 68872: 7017, 68886: 7018, 68932: 7019, 68945: 7020, 68952: 7021, 68954: 7022, 68959: 7023, 69069: 7024, 69118: 7025, 69122: 7026, 69131: 7027, 69134: 7028, 69140: 7029, 69211: 7030, 69224: 7031, 69227: 7032, 69251: 7033, 69275: 7034, 69278: 7035, 69304: 7036, 69306: 7037, 69394: 7038, 69406: 7039, 69436: 7040, 69453: 7041, 69469: 7042, 69481: 7043, 69495: 7044, 69516: 7045, 69524: 7046, 69526: 7047, 69529: 7048, 69604: 7049, 69606: 7050, 69640: 7051, 69644: 7052, 69654: 7053, 69685: 7054, 69712: 7055, 69720: 7056, 69746: 7057, 69757: 7058, 69784: 7059, 69805: 7060, 69844: 7061, 69849: 7062, 69860: 7063, 69904: 7064, 69951: 7065, 69953: 7066, 69988: 7067, 70015: 7068, 70159: 7069, 70183: 7070, 70206: 7071, 70208: 7072, 70286: 7073, 70293: 7074, 70301: 7075, 70305: 7076, 70334: 7077, 70336: 7078, 70361: 7079, 70451: 7080, 70492: 7081, 70521: 7082, 70533: 7083, 70545: 7084, 70565: 7085, 70599: 7086, 70637: 7087, 70641: 7088, 70663: 7089, 70687: 7090, 70697: 7091, 70703: 7092, 70708: 7093, 70728: 7094, 70862: 7095, 70932: 7096, 70946: 7097, 70984: 7098, 70990: 7099, 70994: 7100, 71033: 7101, 71057: 7102, 71106: 7103, 71108: 7104, 71129: 7105, 71131: 7106, 71135: 7107, 71147: 7108, 71156: 7109, 71160: 7110, 71205: 7111, 71211: 7112, 71248: 7113, 71252: 7114, 71254: 7115, 71264: 7116, 71268: 7117, 71282: 7118, 71302: 7119, 71304: 7120, 71327: 7121, 71341: 7122, 71379: 7123, 71429: 7124, 71438: 7125, 71453: 7126, 71462: 7127, 71464: 7128, 71466: 7129, 71468: 7130, 71484: 7131, 71494: 7132, 71500: 7133, 71518: 7134, 71520: 7135, 71530: 7136, 71535: 7137, 71550: 7138, 71579: 7139, 71619: 7140, 71640: 7141, 71668: 7142, 71732: 7143, 71745: 7144, 71810: 7145, 71823: 7146, 71838: 7147, 71867: 7148, 71899: 7149, 71902: 7150, 71910: 7151, 71970: 7152, 71999: 7153, 72011: 7154, 72104: 7155, 72129: 7156, 72142: 7157, 72165: 7158, 72167: 7159, 72171: 7160, 72178: 7161, 72224: 7162, 72226: 7163, 72294: 7164, 72308: 7165, 72330: 7166, 72356: 7167, 72378: 7168, 72395: 7169, 72405: 7170, 72407: 7171, 72424: 7172, 72479: 7173, 72489: 7174, 72554: 7175, 72591: 7176, 72601: 7177, 72603: 7178, 72605: 7179, 72624: 7180, 72641: 7181, 72692: 7182, 72694: 7183, 72696: 7184, 72701: 7185, 72714: 7186, 72720: 7187, 72731: 7188, 72733: 7189, 72737: 7190, 72874: 7191, 72919: 7192, 72921: 7193, 72982: 7194, 72998: 7195, 73015: 7196, 73017: 7197, 73023: 7198, 73042: 7199, 73106: 7200, 73160: 7201, 73211: 7202, 73266: 7203, 73268: 7204, 73290: 7205, 73319: 7206, 73321: 7207, 73323: 7208, 73344: 7209, 73386: 7210, 73431: 7211, 73488: 7212, 73499: 7213, 73501: 7214, 73515: 7215, 73569: 7216, 73676: 7217, 73681: 7218, 73741: 7219, 73804: 7220, 73808: 7221, 73822: 7222, 73854: 7223, 73858: 7224, 73876: 7225, 73881: 7226, 73929: 7227, 74075: 7228, 74089: 7229, 74095: 7230, 74154: 7231, 74226: 7232, 74228: 7233, 74275: 7234, 74282: 7235, 74324: 7236, 74342: 7237, 74370: 7238, 74450: 7239, 74452: 7240, 74458: 7241, 74508: 7242, 74510: 7243, 74530: 7244, 74532: 7245, 74545: 7246, 74553: 7247, 74580: 7248, 74624: 7249, 74647: 7250, 74668: 7251, 74677: 7252, 74683: 7253, 74685: 7254, 74688: 7255, 74696: 7256, 74698: 7257, 74727: 7258, 74750: 7259, 74754: 7260, 74789: 7261, 74791: 7262, 74795: 7263, 74851: 7264, 74868: 7265, 74916: 7266, 74946: 7267, 74948: 7268, 75341: 7269, 75389: 7270, 75395: 7271, 75416: 7272, 75446: 7273, 75803: 7274, 75805: 7275, 75813: 7276, 75816: 7277, 75947: 7278, 75985: 7279, 76030: 7280, 76054: 7281, 76060: 7282, 76077: 7283, 76091: 7284, 76093: 7285, 76143: 7286, 76173: 7287, 76175: 7288, 76251: 7289, 76293: 7290, 76301: 7291, 76738: 7292, 76743: 7293, 76751: 7294, 76763: 7295, 77177: 7296, 77191: 7297, 77201: 7298, 77206: 7299, 77233: 7300, 77266: 7301, 77364: 7302, 77414: 7303, 77421: 7304, 77427: 7305, 77455: 7306, 77561: 7307, 77667: 7308, 77688: 7309, 77709: 7310, 77795: 7311, 77798: 7312, 77800: 7313, 77841: 7314, 77846: 7315, 77866: 7316, 77881: 7317, 77893: 7318, 77931: 7319, 78034: 7320, 78039: 7321, 78041: 7322, 78088: 7323, 78103: 7324, 78105: 7325, 78116: 7326, 78142: 7327, 78160: 7328, 78174: 7329, 78209: 7330, 78218: 7331, 78264: 7332, 78266: 7333, 78316: 7334, 78349: 7335, 78467: 7336, 78469: 7337, 78499: 7338, 78544: 7339, 78574: 7340, 78620: 7341, 78626: 7342, 78637: 7343, 78703: 7344, 78746: 7345, 78772: 7346, 78836: 7347, 78893: 7348, 78959: 7349, 79006: 7350, 79008: 7351, 79057: 7352, 79073: 7353, 79091: 7354, 79132: 7355, 79134: 7356, 79139: 7357, 79185: 7358, 79224: 7359, 79242: 7360, 79251: 7361, 79259: 7362, 79274: 7363, 79293: 7364, 79299: 7365, 79333: 7366, 79357: 7367, 79428: 7368, 79501: 7369, 79536: 7370, 79553: 7371, 79572: 7372, 79590: 7373, 79592: 7374, 79677: 7375, 79684: 7376, 79695: 7377, 79702: 7378, 79798: 7379, 79868: 7380, 79879: 7381, 79895: 7382, 79897: 7383, 79946: 7384, 80083: 7385, 80094: 7386, 80124: 7387, 80126: 7388, 80139: 7389, 80162: 7390, 80166: 7391, 80219: 7392, 80241: 7393, 80363: 7394, 80454: 7395, 80463: 7396, 80478: 7397, 80489: 7398, 80549: 7399, 80551: 7400, 80553: 7401, 80572: 7402, 80584: 7403, 80586: 7404, 80590: 7405, 80615: 7406, 80693: 7407, 80727: 7408, 80748: 7409, 80831: 7410, 80834: 7411, 80839: 7412, 80846: 7413, 80858: 7414, 80860: 7415, 80862: 7416, 80864: 7417, 80880: 7418, 80906: 7419, 80917: 7420, 80969: 7421, 81018: 7422, 81087: 7423, 81132: 7424, 81156: 7425, 81158: 7426, 81191: 7427, 81229: 7428, 81257: 7429, 81383: 7430, 81417: 7431, 81456: 7432, 81512: 7433, 81520: 7434, 81535: 7435, 81537: 7436, 81562: 7437, 81564: 7438, 81591: 7439, 81681: 7440, 81782: 7441, 81784: 7442, 81786: 7443, 81788: 7444, 81791: 7445, 81819: 7446, 81831: 7447, 81834: 7448, 81845: 7449, 81847: 7450, 81910: 7451, 81932: 7452, 81949: 7453, 82041: 7454, 82053: 7455, 82088: 7456, 82093: 7457, 82095: 7458, 82152: 7459, 82167: 7460, 82169: 7461, 82202: 7462, 82242: 7463, 82366: 7464, 82378: 7465, 82459: 7466, 82461: 7467, 82499: 7468, 82527: 7469, 82534: 7470, 82641: 7471, 82667: 7472, 82684: 7473, 82744: 7474, 82765: 7475, 82767: 7476, 82848: 7477, 82852: 7478, 82854: 7479, 82857: 7480, 83086: 7481, 83132: 7482, 83134: 7483, 83177: 7484, 83270: 7485, 83349: 7486, 83369: 7487, 83374: 7488, 83480: 7489, 83601: 7490, 83613: 7491, 83796: 7492, 83803: 7493, 83827: 7494, 83910: 7495, 83969: 7496, 83976: 7497, 84152: 7498, 84156: 7499, 84187: 7500, 84189: 7501, 84240: 7502, 84246: 7503, 84273: 7504, 84374: 7505, 84392: 7506, 84414: 7507, 84512: 7508, 84523: 7509, 84553: 7510, 84601: 7511, 84615: 7512, 84637: 7513, 84696: 7514, 84716: 7515, 84772: 7516, 84799: 7517, 84844: 7518, 84847: 7519, 84942: 7520, 84944: 7521, 84950: 7522, 84952: 7523, 84954: 7524, 85020: 7525, 85022: 7526, 85025: 7527, 85056: 7528, 85131: 7529, 85179: 7530, 85213: 7531, 85259: 7532, 85261: 7533, 85295: 7534, 85316: 7535, 85334: 7536, 85342: 7537, 85354: 7538, 85367: 7539, 85394: 7540, 85397: 7541, 85399: 7542, 85401: 7543, 85412: 7544, 85414: 7545, 85438: 7546, 85510: 7547, 85736: 7548, 85774: 7549, 85780: 7550, 85788: 7551, 85796: 7552, 85881: 7553, 85885: 7554, 86000: 7555, 86014: 7556, 86028: 7557, 86059: 7558, 86066: 7559, 86068: 7560, 86142: 7561, 86190: 7562, 86237: 7563, 86279: 7564, 86286: 7565, 86290: 7566, 86293: 7567, 86295: 7568, 86298: 7569, 86320: 7570, 86332: 7571, 86345: 7572, 86347: 7573, 86355: 7574, 86377: 7575, 86487: 7576, 86504: 7577, 86548: 7578, 86593: 7579, 86628: 7580, 86644: 7581, 86668: 7582, 86721: 7583, 86781: 7584, 86815: 7585, 86817: 7586, 86833: 7587, 86835: 7588, 86864: 7589, 86880: 7590, 86882: 7591, 86892: 7592, 86898: 7593, 86911: 7594, 86922: 7595, 86960: 7596, 87028: 7597, 87192: 7598, 87194: 7599, 87197: 7600, 87222: 7601, 87232: 7602, 87234: 7603, 87287: 7604, 87298: 7605, 87304: 7606, 87306: 7607, 87413: 7608, 87430: 7609, 87444: 7610, 87483: 7611, 87485: 7612, 87520: 7613, 87522: 7614, 87529: 7615, 87660: 7616, 87785: 7617, 87834: 7618, 87867: 7619, 87869: 7620, 87876: 7621, 87960: 7622, 88069: 7623, 88094: 7624, 88108: 7625, 88125: 7626, 88129: 7627, 88140: 7628, 88163: 7629, 88179: 7630, 88235: 7631, 88267: 7632, 88272: 7633, 88327: 7634, 88345: 7635, 88356: 7636, 88405: 7637, 88448: 7638, 88515: 7639, 88593: 7640, 88672: 7641, 88697: 7642, 88699: 7643, 88744: 7644, 88746: 7645, 88785: 7646, 88810: 7647, 88812: 7648, 88911: 7649, 88932: 7650, 88954: 7651, 89028: 7652, 89030: 7653, 89039: 7654, 89047: 7655, 89072: 7656, 89085: 7657, 89087: 7658, 89090: 7659, 89118: 7660, 89190: 7661, 89208: 7662, 89281: 7663, 89305: 7664, 89343: 7665, 89386: 7666, 89388: 7667, 89427: 7668, 89470: 7669, 89492: 7670, 89580: 7671, 89582: 7672, 89586: 7673, 89678: 7674, 89745: 7675, 89753: 7676, 89759: 7677, 89761: 7678, 89774: 7679, 89804: 7680, 89837: 7681, 89840: 7682, 89862: 7683, 89864: 7684, 89898: 7685, 89904: 7686, 89939: 7687, 89945: 7688, 90057: 7689, 90243: 7690, 90245: 7691, 90249: 7692, 90343: 7693, 90345: 7694, 90353: 7695, 90357: 7696, 90374: 7697, 90376: 7698, 90384: 7699, 90403: 7700, 90405: 7701, 90428: 7702, 90430: 7703, 90439: 7704, 90469: 7705, 90471: 7706, 90522: 7707, 90524: 7708, 90528: 7709, 90531: 7710, 90576: 7711, 90600: 7712, 90603: 7713, 90630: 7714, 90647: 7715, 90717: 7716, 90719: 7717, 90738: 7718, 90746: 7719, 90769: 7720, 90809: 7721, 90863: 7722, 90866: 7723, 90888: 7724, 90890: 7725, 90943: 7726, 90945: 7727, 91077: 7728, 91079: 7729, 91094: 7730, 91104: 7731, 91126: 7732, 91128: 7733, 91233: 7734, 91261: 7735, 91266: 7736, 91273: 7737, 91323: 7738, 91325: 7739, 91337: 7740, 91353: 7741, 91355: 7742, 91386: 7743, 91414: 7744, 91470: 7745, 91483: 7746, 91485: 7747, 91488: 7748, 91500: 7749, 91529: 7750, 91535: 7751, 91542: 7752, 91571: 7753, 91622: 7754, 91628: 7755, 91630: 7756, 91653: 7757, 91658: 7758, 91660: 7759, 91666: 7760, 91671: 7761, 91688: 7762, 91690: 7763, 91784: 7764, 91842: 7765, 91860: 7766, 91869: 7767, 91873: 7768, 91890: 7769, 91935: 7770, 91947: 7771, 91974: 7772, 91976: 7773, 91978: 7774, 91981: 7775, 92008: 7776, 92046: 7777, 92048: 7778, 92094: 7779, 92192: 7780, 92198: 7781, 92234: 7782, 92243: 7783, 92259: 7784, 92264: 7785, 92309: 7786, 92348: 7787, 92391: 7788, 92420: 7789, 92422: 7790, 92427: 7791, 92439: 7792, 92475: 7793, 92494: 7794, 92507: 7795, 92509: 7796, 92535: 7797, 92637: 7798, 92643: 7799, 92665: 7800, 92674: 7801, 92681: 7802, 92694: 7803, 92730: 7804, 92760: 7805, 92938: 7806, 92954: 7807, 93006: 7808, 93008: 7809, 93022: 7810, 93040: 7811, 93114: 7812, 93134: 7813, 93139: 7814, 93193: 7815, 93208: 7816, 93242: 7817, 93270: 7818, 93272: 7819, 93287: 7820, 93297: 7821, 93320: 7822, 93326: 7823, 93363: 7824, 93443: 7825, 93502: 7826, 93510: 7827, 93512: 7828, 93563: 7829, 93598: 7830, 93610: 7831, 93721: 7832, 93723: 7833, 93740: 7834, 93766: 7835, 93790: 7836, 93805: 7837, 93819: 7838, 93831: 7839, 93838: 7840, 93840: 7841, 93855: 7842, 93980: 7843, 93982: 7844, 93988: 7845, 94011: 7846, 94015: 7847, 94018: 7848, 94070: 7849, 94122: 7850, 94130: 7851, 94150: 7852, 94160: 7853, 94262: 7854, 94266: 7855, 94323: 7856, 94325: 7857, 94405: 7858, 94478: 7859, 94494: 7860, 94503: 7861, 94661: 7862, 94677: 7863, 94735: 7864, 94777: 7865, 94780: 7866, 94799: 7867, 94810: 7868, 94833: 7869, 94864: 7870, 94867: 7871, 94896: 7872, 94919: 7873, 94931: 7874, 94953: 7875, 94959: 7876, 94985: 7877, 95004: 7878, 95067: 7879, 95088: 7880, 95105: 7881, 95135: 7882, 95145: 7883, 95147: 7884, 95149: 7885, 95163: 7886, 95165: 7887, 95167: 7888, 95170: 7889, 95175: 7890, 95182: 7891, 95193: 7892, 95199: 7893, 95201: 7894, 95207: 7895, 95218: 7896, 95307: 7897, 95309: 7898, 95311: 7899, 95313: 7900, 95377: 7901, 95441: 7902, 95449: 7903, 95473: 7904, 95475: 7905, 95497: 7906, 95499: 7907, 95508: 7908, 95510: 7909, 95519: 7910, 95543: 7911, 95558: 7912, 95583: 7913, 95624: 7914, 95633: 7915, 95654: 7916, 95690: 7917, 95717: 7918, 95720: 7919, 95738: 7920, 95744: 7921, 95761: 7922, 95771: 7923, 95780: 7924, 95796: 7925, 95839: 7926, 95843: 7927, 95858: 7928, 95873: 7929, 95875: 7930, 95939: 7931, 95949: 7932, 95965: 7933, 96004: 7934, 96007: 7935, 96020: 7936, 96079: 7937, 96084: 7938, 96110: 7939, 96114: 7940, 96121: 7941, 96150: 7942, 96281: 7943, 96283: 7944, 96373: 7945, 96411: 7946, 96417: 7947, 96430: 7948, 96432: 7949, 96448: 7950, 96471: 7951, 96488: 7952, 96518: 7953, 96520: 7954, 96530: 7955, 96563: 7956, 96567: 7957, 96588: 7958, 96606: 7959, 96608: 7960, 96610: 7961, 96616: 7962, 96655: 7963, 96691: 7964, 96726: 7965, 96728: 7966, 96737: 7967, 96811: 7968, 96815: 7969, 96821: 7970, 96829: 7971, 96832: 7972, 96861: 7973, 96917: 7974, 96935: 7975, 96945: 7976, 96964: 7977, 96975: 7978, 97024: 7979, 97168: 7980, 97172: 7981, 97188: 7982, 97194: 7983, 97225: 7984, 97230: 7985, 97285: 7986, 97304: 7987, 97306: 7988, 97328: 7989, 97470: 7990, 97643: 7991, 97665: 7992, 97701: 7993, 97742: 7994, 97752: 7995, 97757: 7996, 97785: 7997, 97836: 7998, 97858: 7999, 97860: 8000, 97866: 8001, 97870: 8002, 97904: 8003, 97913: 8004, 97921: 8005, 97923: 8006, 97936: 8007, 97938: 8008, 97950: 8009, 97988: 8010, 98061: 8011, 98083: 8012, 98122: 8013, 98124: 8014, 98154: 8015, 98160: 8016, 98175: 8017, 98203: 8018, 98230: 8019, 98239: 8020, 98243: 8021, 98279: 8022, 98296: 8023, 98361: 8024, 98491: 8025, 98499: 8026, 98503: 8027, 98585: 8028, 98604: 8029, 98607: 8030, 98623: 8031, 98633: 8032, 98697: 8033, 98799: 8034, 98809: 8035, 98836: 8036, 98908: 8037, 98961: 8038, 99005: 8039, 99007: 8040, 99030: 8041, 99087: 8042, 99106: 8043, 99112: 8044, 99114: 8045, 99117: 8046, 99122: 8047, 99130: 8048, 99145: 8049, 99149: 8050, 99191: 8051, 99415: 8052, 99437: 8053, 99532: 8054, 99574: 8055, 99636: 8056, 99638: 8057, 99721: 8058, 99728: 8059, 99750: 8060, 99764: 8061, 99813: 8062, 99846: 8063, 99853: 8064, 99910: 8065, 99917: 8066, 99992: 8067, 100044: 8068, 100068: 8069, 100083: 8070, 100106: 8071, 100159: 8072, 100163: 8073, 100194: 8074, 100226: 8075, 100277: 8076, 100302: 8077, 100304: 8078, 100306: 8079, 100326: 8080, 100383: 8081, 100390: 8082, 100397: 8083, 100487: 8084, 100498: 8085, 100507: 8086, 100527: 8087, 100553: 8088, 100556: 8089, 100579: 8090, 100611: 8091, 100714: 8092, 100737: 8093, 100810: 8094, 100843: 8095, 100882: 8096, 100906: 8097, 101025: 8098, 101070: 8099, 101072: 8100, 101074: 8101, 101076: 8102, 101088: 8103, 101112: 8104, 101142: 8105, 101283: 8106, 101360: 8107, 101362: 8108, 101415: 8109, 101423: 8110, 101525: 8111, 101529: 8112, 101531: 8113, 101577: 8114, 101612: 8115, 101739: 8116, 101741: 8117, 101765: 8118, 101864: 8119, 101884: 8120, 101895: 8121, 101962: 8122, 101973: 8123, 102007: 8124, 102025: 8125, 102033: 8126, 102058: 8127, 102066: 8128, 102070: 8129, 102084: 8130, 102088: 8131, 102123: 8132, 102125: 8133, 102165: 8134, 102194: 8135, 102217: 8136, 102278: 8137, 102338: 8138, 102378: 8139, 102407: 8140, 102445: 8141, 102481: 8142, 102590: 8143, 102602: 8144, 102666: 8145, 102684: 8146, 102686: 8147, 102716: 8148, 102720: 8149, 102735: 8150, 102742: 8151, 102747: 8152, 102749: 8153, 102760: 8154, 102800: 8155, 102802: 8156, 102819: 8157, 102823: 8158, 102852: 8159, 102880: 8160, 102903: 8161, 102984: 8162, 102993: 8163, 103027: 8164, 103042: 8165, 103048: 8166, 103075: 8167, 103085: 8168, 103107: 8169, 103137: 8170, 103141: 8171, 103171: 8172, 103210: 8173, 103219: 8174, 103221: 8175, 103228: 8176, 103233: 8177, 103235: 8178, 103245: 8179, 103249: 8180, 103253: 8181, 103335: 8182, 103339: 8183, 103341: 8184, 103366: 8185, 103372: 8186, 103384: 8187, 103449: 8188, 103483: 8189, 103502: 8190, 103539: 8191, 103543: 8192, 103596: 8193, 103602: 8194, 103606: 8195, 103609: 8196, 103624: 8197, 103655: 8198, 103685: 8199, 103688: 8200, 103755: 8201, 103772: 8202, 103801: 8203, 103810: 8204, 103819: 8205, 103865: 8206, 103883: 8207, 103980: 8208, 103984: 8209, 104017: 8210, 104069: 8211, 104074: 8212, 104076: 8213, 104078: 8214, 104129: 8215, 104141: 8216, 104211: 8217, 104218: 8218, 104241: 8219, 104243: 8220, 104245: 8221, 104272: 8222, 104283: 8223, 104303: 8224, 104337: 8225, 104339: 8226, 104374: 8227, 104419: 8228, 104457: 8229, 104644: 8230, 104760: 8231, 104780: 8232, 104837: 8233, 104841: 8234, 104863: 8235, 104875: 8236, 104879: 8237, 104906: 8238, 104908: 8239, 104913: 8240, 104925: 8241, 104944: 8242, 105020: 8243, 105037: 8244, 105121: 8245, 105197: 8246, 105211: 8247, 105213: 8248, 105246: 8249, 105250: 8250, 105254: 8251, 105325: 8252, 105351: 8253, 105355: 8254, 105468: 8255, 105504: 8256, 105540: 8257, 105585: 8258, 105593: 8259, 105653: 8260, 105720: 8261, 105731: 8262, 105746: 8263, 105755: 8264, 105801: 8265, 105835: 8266, 105844: 8267, 105954: 8268, 106002: 8269, 106062: 8270, 106072: 8271, 106100: 8272, 106144: 8273, 106330: 8274, 106438: 8275, 106441: 8276, 106487: 8277, 106489: 8278, 106491: 8279, 106540: 8280, 106542: 8281, 106594: 8282, 106642: 8283, 106648: 8284, 106696: 8285, 106766: 8286, 106782: 8287, 106785: 8288, 106839: 8289, 106873: 8290, 106883: 8291, 106889: 8292, 106916: 8293, 106918: 8294, 106920: 8295, 106927: 8296, 107013: 8297, 107069: 8298, 107141: 8299, 107159: 8300, 107314: 8301, 107338: 8302, 107348: 8303, 107406: 8304, 107408: 8305, 107410: 8306, 107412: 8307, 107436: 8308, 107447: 8309, 107449: 8310, 107462: 8311, 107565: 8312, 107630: 8313, 107702: 8314, 107723: 8315, 107771: 8316, 107780: 8317, 107846: 8318, 107945: 8319, 107951: 8320, 107953: 8321, 107962: 8322, 107997: 8323, 107999: 8324, 108078: 8325, 108090: 8326, 108156: 8327, 108188: 8328, 108190: 8329, 108192: 8330, 108540: 8331, 108601: 8332, 108689: 8333, 108715: 8334, 108727: 8335, 108729: 8336, 108795: 8337, 108928: 8338, 108932: 8339, 108945: 8340, 108949: 8341, 108981: 8342, 109042: 8343, 109161: 8344, 109183: 8345, 109187: 8346, 109191: 8347, 109241: 8348, 109282: 8349, 109295: 8350, 109313: 8351, 109317: 8352, 109372: 8353, 109374: 8354, 109383: 8355, 109416: 8356, 109483: 8357, 109487: 8358, 109569: 8359, 109576: 8360, 109578: 8361, 109596: 8362, 109633: 8363, 109673: 8364, 109687: 8365, 109723: 8366, 109846: 8367, 109848: 8368, 109850: 8369, 109853: 8370, 109864: 8371, 109895: 8372, 109897: 8373, 109941: 8374, 109968: 8375, 109971: 8376, 110102: 8377, 110127: 8378, 110130: 8379, 110281: 8380, 110286: 8381, 110297: 8382, 110330: 8383, 110350: 8384, 110387: 8385, 110501: 8386, 110541: 8387, 110553: 8388, 110586: 8389, 110591: 8390, 110603: 8391, 110611: 8392, 110655: 8393, 110669: 8394, 110718: 8395, 110730: 8396, 110746: 8397, 110771: 8398, 110773: 8399, 110781: 8400, 110826: 8401, 110882: 8402, 111113: 8403, 111146: 8404, 111320: 8405, 111360: 8406, 111362: 8407, 111364: 8408, 111375: 8409, 111384: 8410, 111443: 8411, 111551: 8412, 111617: 8413, 111622: 8414, 111659: 8415, 111663: 8416, 111680: 8417, 111732: 8418, 111743: 8419, 111759: 8420, 111781: 8421, 111785: 8422, 111795: 8423, 111800: 8424, 111817: 8425, 111844: 8426, 111913: 8427, 111921: 8428, 112006: 8429, 112070: 8430, 112138: 8431, 112171: 8432, 112175: 8433, 112183: 8434, 112290: 8435, 112303: 8436, 112316: 8437, 112326: 8438, 112334: 8439, 112370: 8440, 112421: 8441, 112450: 8442, 112454: 8443, 112460: 8444, 112497: 8445, 112512: 8446, 112515: 8447, 112552: 8448, 112556: 8449, 112580: 8450, 112623: 8451, 112727: 8452, 112749: 8453, 112788: 8454, 112804: 8455, 112818: 8456, 112852: 8457, 112868: 8458, 112897: 8459, 112911: 8460, 112940: 8461, 113159: 8462, 113186: 8463, 113207: 8464, 113225: 8465, 113252: 8466, 113275: 8467, 113278: 8468, 113280: 8469, 113313: 8470, 113345: 8471, 113348: 8472, 113350: 8473, 113374: 8474, 113378: 8475, 113394: 8476, 113416: 8477, 113453: 8478, 113532: 8479, 113565: 8480, 113573: 8481, 113604: 8482, 113705: 8483, 113741: 8484, 113780: 8485, 113829: 8486, 113849: 8487, 113862: 8488, 114028: 8489, 114044: 8490, 114060: 8491, 114066: 8492, 114074: 8493, 114126: 8494, 114180: 8495, 114184: 8496, 114246: 8497, 114265: 8498, 114335: 8499, 114396: 8500, 114494: 8501, 114554: 8502, 114601: 8503, 114627: 8504, 114662: 8505, 114670: 8506, 114678: 8507, 114707: 8508, 114713: 8509, 114762: 8510, 114795: 8511, 114818: 8512, 114847: 8513, 114925: 8514, 114935: 8515, 115065: 8516, 115111: 8517, 115122: 8518, 115149: 8519, 115151: 8520, 115170: 8521, 115203: 8522, 115210: 8523, 115216: 8524, 115231: 8525, 115502: 8526, 115569: 8527, 115617: 8528, 115664: 8529, 115667: 8530, 115680: 8531, 115713: 8532, 115727: 8533, 115819: 8534, 115828: 8535, 115877: 8536, 115969: 8537, 116044: 8538, 116138: 8539, 116169: 8540, 116207: 8541, 116411: 8542, 116413: 8543, 116419: 8544, 116505: 8545, 116529: 8546, 116668: 8547, 116718: 8548, 116724: 8549, 116738: 8550, 116797: 8551, 116799: 8552, 116817: 8553, 116823: 8554, 116849: 8555, 116887: 8556, 116897: 8557, 116941: 8558, 116963: 8559, 116977: 8560, 116985: 8561, 117107: 8562, 117109: 8563, 117133: 8564, 117176: 8565, 117192: 8566, 117364: 8567, 117368: 8568, 117444: 8569, 117466: 8570, 117511: 8571, 117529: 8572, 117531: 8573, 117533: 8574, 117545: 8575, 117572: 8576, 117590: 8577, 117630: 8578, 117646: 8579, 117849: 8580, 117851: 8581, 117867: 8582, 117877: 8583, 117881: 8584, 117887: 8585, 117895: 8586, 117922: 8587, 118082: 8588, 118166: 8589, 118198: 8590, 118248: 8591, 118270: 8592, 118290: 8593, 118326: 8594, 118354: 8595, 118512: 8596, 118530: 8597, 118572: 8598, 118696: 8599, 118700: 8600, 118702: 8601, 118706: 8602, 118784: 8603, 118814: 8604, 118834: 8605, 118862: 8606, 118880: 8607, 118888: 8608, 118894: 8609, 118896: 8610, 118900: 8611, 118924: 8612, 118930: 8613, 118985: 8614, 118997: 8615, 119068: 8616, 119141: 8617, 119145: 8618, 119153: 8619, 119155: 8620, 119167: 8621, 119218: 8622, 119655: 8623, 119714: 8624, 119828: 8625, 119964: 8626, 120130: 8627, 120138: 8628, 120466: 8629, 120478: 8630, 120625: 8631, 120635: 8632, 120637: 8633, 120761: 8634, 120783: 8635, 120799: 8636, 120807: 8637, 120813: 8638, 120827: 8639, 120919: 8640, 121007: 8641, 121035: 8642, 121097: 8643, 121099: 8644, 121129: 8645, 121169: 8646, 121171: 8647, 121231: 8648, 121253: 8649, 121338: 8650, 121342: 8651, 121372: 8652, 121374: 8653, 121469: 8654, 121715: 8655, 121781: 8656, 122092: 8657, 122246: 8658, 122260: 8659, 122433: 8660, 122490: 8661, 122627: 8662, 122882: 8663, 122884: 8664, 122886: 8665, 122888: 8666, 122890: 8667, 122892: 8668, 122896: 8669, 122898: 8670, 122900: 8671, 122902: 8672, 122904: 8673, 122906: 8674, 122912: 8675, 122916: 8676, 122918: 8677, 122920: 8678, 122922: 8679, 122924: 8680, 122926: 8681, 122932: 8682, 123200: 8683, 123310: 8684, 123545: 8685, 123553: 8686, 123947: 8687, 124273: 8688, 124404: 8689, 124484: 8690, 124851: 8691, 124853: 8692, 124859: 8693, 125221: 8694, 125914: 8695, 125916: 8696, 125970: 8697, 125974: 8698, 126088: 8699, 126090: 8700, 126142: 8701, 126420: 8702, 126426: 8703, 126430: 8704, 126482: 8705, 126548: 8706, 126577: 8707, 126921: 8708, 127052: 8709, 127096: 8710, 127098: 8711, 127108: 8712, 127114: 8713, 127116: 8714, 127130: 8715, 127132: 8716, 127134: 8717, 127136: 8718, 127146: 8719, 127152: 8720, 127164: 8721, 127172: 8722, 127180: 8723, 127184: 8724, 127194: 8725, 127198: 8726, 127202: 8727, 127204: 8728, 127212: 8729, 127298: 8730, 127319: 8731, 127323: 8732, 127390: 8733, 128087: 8734, 128089: 8735, 128097: 8736, 128099: 8737, 128197: 8738, 128360: 8739, 128366: 8740, 128488: 8741, 128512: 8742, 128520: 8743, 128542: 8744, 128592: 8745, 128594: 8746, 128620: 8747, 128695: 8748, 128736: 8749, 128832: 8750, 128838: 8751, 128842: 8752, 128852: 8753, 128900: 8754, 128902: 8755, 128908: 8756, 128914: 8757, 128944: 8758, 128968: 8759, 128975: 8760, 128991: 8761, 129011: 8762, 129229: 8763, 129250: 8764, 129313: 8765, 129333: 8766, 129354: 8767, 129397: 8768, 129428: 8769, 129514: 8770, 129657: 8771, 129659: 8772, 129737: 8773, 129779: 8774, 129937: 8775, 130050: 8776, 130052: 8777, 130073: 8778, 130083: 8779, 130087: 8780, 130444: 8781, 130450: 8782, 130452: 8783, 130482: 8784, 130490: 8785, 130498: 8786, 130518: 8787, 130520: 8788, 130576: 8789, 130578: 8790, 130634: 8791, 130686: 8792, 130840: 8793, 130842: 8794, 130970: 8795, 130976: 8796, 130978: 8797, 131013: 8798, 131023: 8799, 131098: 8800, 131104: 8801, 131130: 8802, 131237: 8803, 131439: 8804, 131480: 8805, 131578: 8806, 131610: 8807, 131656: 8808, 131714: 8809, 131724: 8810, 131739: 8811, 131749: 8812, 131796: 8813, 131826: 8814, 131920: 8815, 131934: 8816, 132046: 8817, 132084: 8818, 132153: 8819, 132157: 8820, 132333: 8821, 132335: 8822, 132362: 8823, 132422: 8824, 132424: 8825, 132454: 8826, 132462: 8827, 132488: 8828, 132496: 8829, 132584: 8830, 132618: 8831, 132660: 8832, 132796: 8833, 132800: 8834, 132888: 8835, 133115: 8836, 133195: 8837, 133217: 8838, 133281: 8839, 133365: 8840, 133377: 8841, 133419: 8842, 133545: 8843, 133645: 8844, 133712: 8845, 133716: 8846, 133771: 8847, 133780: 8848, 133782: 8849, 133798: 8850, 133802: 8851, 133832: 8852, 133867: 8853, 133879: 8854, 134004: 8855, 134019: 8856, 134021: 8857, 134041: 8858, 134095: 8859, 134109: 8860, 134130: 8861, 134158: 8862, 134170: 8863, 134184: 8864, 134214: 8865, 134246: 8866, 134248: 8867, 134252: 8868, 134326: 8869, 134334: 8870, 134368: 8871, 134393: 8872, 134515: 8873, 134524: 8874, 134528: 8875, 134775: 8876, 134783: 8877, 134796: 8878, 134808: 8879, 134847: 8880, 134849: 8881, 134853: 8882, 134859: 8883, 134861: 8884, 134881: 8885, 135133: 8886, 135137: 8887, 135143: 8888, 135198: 8889, 135216: 8890, 135288: 8891, 135436: 8892, 135456: 8893, 135518: 8894, 135532: 8895, 135534: 8896, 135536: 8897, 135567: 8898, 135569: 8899, 135777: 8900, 135787: 8901, 135803: 8902, 135815: 8903, 135861: 8904, 135885: 8905, 135887: 8906, 135937: 8907, 136012: 8908, 136016: 8909, 136018: 8910, 136020: 8911, 136024: 8912, 136297: 8913, 136305: 8914, 136341: 8915, 136353: 8916, 136355: 8917, 136359: 8918, 136443: 8919, 136445: 8920, 136447: 8921, 136449: 8922, 136469: 8923, 136471: 8924, 136503: 8925, 136511: 8926, 136540: 8927, 136556: 8928, 136562: 8929, 136564: 8930, 136598: 8931, 136602: 8932, 136654: 8933, 136664: 8934, 136666: 8935, 136778: 8936, 136786: 8937, 136800: 8938, 136816: 8939, 136834: 8940, 136838: 8941, 136840: 8942, 136850: 8943, 136859: 8944, 136864: 8945, 136912: 8946, 136958: 8947, 137218: 8948, 137337: 8949, 137345: 8950, 137517: 8951, 137595: 8952, 137857: 8953, 137859: 8954, 137863: 8955, 138036: 8956, 138186: 8957, 138204: 8958, 138208: 8959, 138210: 8960, 138396: 8961, 138546: 8962, 138610: 8963, 138632: 8964, 138702: 8965, 138798: 8966, 138835: 8967, 138966: 8968, 139052: 8969, 139130: 8970, 139157: 8971, 139385: 8972, 139415: 8973, 139511: 8974, 139640: 8975, 139642: 8976, 139644: 8977, 139655: 8978, 139717: 8979, 139747: 8980, 139855: 8981, 139857: 8982, 139859: 8983, 139915: 8984, 139994: 8985, 140016: 8986, 140038: 8987, 140110: 8988, 140133: 8989, 140162: 8990, 140174: 8991, 140237: 8992, 140247: 8993, 140265: 8994, 140267: 8995, 140289: 8996, 140301: 8997, 140359: 8998, 140481: 8999, 140523: 9000, 140525: 9001, 140541: 9002, 140561: 9003, 140627: 9004, 140711: 9005, 140715: 9006, 140725: 9007, 140737: 9008, 140816: 9009, 140850: 9010, 140852: 9011, 140928: 9012, 140956: 9013, 141004: 9014, 141131: 9015, 141400: 9016, 141408: 9017, 141422: 9018, 141513: 9019, 141544: 9020, 141646: 9021, 141668: 9022, 141688: 9023, 141718: 9024, 141749: 9025, 141799: 9026, 141810: 9027, 141816: 9028, 141818: 9029, 141820: 9030, 141830: 9031, 141836: 9032, 141844: 9033, 141846: 9034, 141866: 9035, 141890: 9036, 141928: 9037, 141994: 9038, 142020: 9039, 142056: 9040, 142074: 9041, 142115: 9042, 142196: 9043, 142222: 9044, 142366: 9045, 142372: 9046, 142420: 9047, 142422: 9048, 142424: 9049, 142444: 9050, 142448: 9051, 142456: 9052, 142488: 9053, 142507: 9054, 142509: 9055, 142536: 9056, 142550: 9057, 142558: 9058, 142598: 9059, 142602: 9060, 142831: 9061, 142961: 9062, 142997: 9063, 143001: 9064, 143031: 9065, 143245: 9066, 143255: 9067, 143257: 9068, 143355: 9069, 143365: 9070, 143367: 9071, 143385: 9072, 143410: 9073, 143458: 9074, 143472: 9075, 143511: 9076, 143525: 9077, 143559: 9078, 143859: 9079, 143896: 9080, 143969: 9081, 144210: 9082, 144222: 9083, 144262: 9084, 144352: 9085, 144478: 9086, 144522: 9087, 144606: 9088, 144620: 9089, 144714: 9090, 144716: 9091, 144734: 9092, 144976: 9093, 145080: 9094, 145150: 9095, 145283: 9096, 145418: 9097, 145491: 9098, 145724: 9099, 145745: 9100, 145839: 9101, 145935: 9102, 145951: 9103, 145994: 9104, 146024: 9105, 146028: 9106, 146210: 9107, 146244: 9108, 146309: 9109, 146656: 9110, 146662: 9111, 146682: 9112, 146684: 9113, 146688: 9114, 146730: 9115, 146986: 9116, 147002: 9117, 147142: 9118, 147196: 9119, 147250: 9120, 147282: 9121, 147286: 9122, 147300: 9123, 147326: 9124, 147328: 9125, 147330: 9126, 147372: 9127, 147374: 9128, 147376: 9129, 147378: 9130, 147380: 9131, 147382: 9132, 147384: 9133, 147410: 9134, 147657: 9135, 147662: 9136, 147936: 9137, 148166: 9138, 148172: 9139, 148238: 9140, 148424: 9141, 148482: 9142, 148592: 9143, 148626: 9144, 148632: 9145, 148652: 9146, 148667: 9147, 148671: 9148, 148675: 9149, 148709: 9150, 148775: 9151, 148881: 9152, 148888: 9153, 148956: 9154, 148978: 9155, 148982: 9156, 149011: 9157, 149144: 9158, 149146: 9159, 149330: 9160, 149334: 9161, 149350: 9162, 149352: 9163, 149354: 9164, 149380: 9165, 149406: 9166, 149508: 9167, 149566: 9168, 149590: 9169, 149612: 9170, 149830: 9171, 149902: 9172, 150254: 9173, 150401: 9174, 150548: 9175, 150554: 9176, 150596: 9177, 150604: 9178, 150696: 9179, 150993: 9180, 151311: 9181, 151315: 9182, 151317: 9183, 151455: 9184, 151479: 9185, 151501: 9186, 151557: 9187, 151559: 9188, 151653: 9189, 151687: 9190, 151695: 9191, 151739: 9192, 151745: 9193, 151759: 9194, 151763: 9195, 151769: 9196, 151777: 9197, 151781: 9198, 152037: 9199, 152063: 9200, 152065: 9201, 152071: 9202, 152077: 9203, 152079: 9204, 152081: 9205, 152083: 9206, 152085: 9207, 152091: 9208, 152105: 9209, 152173: 9210, 152270: 9211, 152284: 9212, 152372: 9213, 152591: 9214, 152658: 9215, 152711: 9216, 152970: 9217, 153070: 9218, 153236: 9219, 153386: 9220, 153408: 9221, 154065: 9222, 154358: 9223, 154975: 9224, 155064: 9225, 155168: 9226, 155288: 9227, 155358: 9228, 155509: 9229, 155589: 9230, 155659: 9231, 155743: 9232, 155774: 9233, 155812: 9234, 155820: 9235, 155892: 9236, 156025: 9237, 156371: 9238, 156387: 9239, 156553: 9240, 156605: 9241, 156607: 9242, 156609: 9243, 156675: 9244, 156706: 9245, 156726: 9246, 156781: 9247, 156783: 9248, 157108: 9249, 157110: 9250, 157122: 9251, 157130: 9252, 157172: 9253, 157200: 9254, 157270: 9255, 157296: 9256, 157312: 9257, 157340: 9258, 157369: 9259, 157407: 9260, 157432: 9261, 157699: 9262, 157775: 9263, 157865: 9264, 158022: 9265, 158027: 9266, 158035: 9267, 158238: 9268, 158254: 9269, 158388: 9270, 158398: 9271, 158402: 9272, 158528: 9273, 158721: 9274, 158783: 9275, 158813: 9276, 158830: 9277, 158842: 9278, 158872: 9279, 158874: 9280, 158882: 9281, 158956: 9282, 158966: 9283, 158972: 9284, 159061: 9285, 159069: 9286, 159077: 9287, 159093: 9288, 159161: 9289, 159193: 9290, 159403: 9291, 159415: 9292, 159441: 9293, 159510: 9294, 159690: 9295, 159717: 9296, 159755: 9297, 159779: 9298, 159811: 9299, 159817: 9300, 159849: 9301, 159858: 9302, 159976: 9303, 160080: 9304, 160271: 9305, 160289: 9306, 160341: 9307, 160400: 9308, 160422: 9309, 160438: 9310, 160440: 9311, 160527: 9312, 160563: 9313, 160565: 9314, 160567: 9315, 160569: 9316, 160571: 9317, 160573: 9318, 160644: 9319, 160646: 9320, 160684: 9321, 160718: 9322, 160730: 9323, 160836: 9324, 160848: 9325, 160872: 9326, 160954: 9327, 160978: 9328, 160980: 9329, 161008: 9330, 161024: 9331, 161032: 9332, 161044: 9333, 161127: 9334, 161131: 9335, 161290: 9336, 161354: 9337, 161580: 9338, 161582: 9339, 161594: 9340, 161634: 9341, 161830: 9342, 161918: 9343, 161922: 9344, 161966: 9345, 162082: 9346, 162344: 9347, 162350: 9348, 162414: 9349, 162478: 9350, 162578: 9351, 162590: 9352, 162598: 9353, 162600: 9354, 162602: 9355, 162606: 9356, 162828: 9357, 162968: 9358, 162982: 9359, 163056: 9360, 163072: 9361, 163112: 9362, 163134: 9363, 163386: 9364, 163527: 9365, 163639: 9366, 163645: 9367, 163653: 9368, 163809: 9369, 163925: 9370, 163937: 9371, 163981: 9372, 163985: 9373, 164179: 9374, 164200: 9375, 164226: 9376, 164280: 9377, 164367: 9378, 164375: 9379, 164540: 9380, 164647: 9381, 164655: 9382, 164707: 9383, 164753: 9384, 164881: 9385, 164909: 9386, 164917: 9387, 165075: 9388, 165101: 9389, 165103: 9390, 165139: 9391, 165343: 9392, 165347: 9393, 165483: 9394, 165489: 9395, 165529: 9396, 165549: 9397, 165551: 9398, 165635: 9399, 165639: 9400, 165645: 9401, 165671: 9402, 165843: 9403, 165947: 9404, 165959: 9405, 165969: 9406, 166015: 9407, 166024: 9408, 166183: 9409, 166203: 9410, 166291: 9411, 166461: 9412, 166492: 9413, 166526: 9414, 166528: 9415, 166534: 9416, 166558: 9417, 166568: 9418, 166635: 9419, 166643: 9420, 166705: 9421, 166946: 9422, 167018: 9423, 167036: 9424, 167064: 9425, 167296: 9426, 167370: 9427, 167380: 9428, 167538: 9429, 167570: 9430, 167634: 9431, 167706: 9432, 167732: 9433, 167746: 9434, 167772: 9435, 167790: 9436, 167854: 9437, 168026: 9438, 168090: 9439, 168144: 9440, 168174: 9441, 168218: 9442, 168248: 9443, 168250: 9444, 168252: 9445, 168254: 9446, 168266: 9447, 168326: 9448, 168350: 9449, 168358: 9450, 168366: 9451, 168418: 9452, 168456: 9453, 168492: 9454, 168608: 9455, 168612: 9456, 168632: 9457, 168712: 9458, 168846: 9459, 169034: 9460, 169180: 9461, 169670: 9462, 169904: 9463, 169912: 9464, 169958: 9465, 169982: 9466, 169984: 9467, 169992: 9468, 170289: 9469, 170297: 9470, 170355: 9471, 170357: 9472, 170399: 9473, 170401: 9474, 170411: 9475, 170551: 9476, 170597: 9477, 170697: 9478, 170705: 9479, 170777: 9480, 170813: 9481, 170817: 9482, 170827: 9483, 170837: 9484, 170875: 9485, 170897: 9486, 170907: 9487, 170937: 9488, 170939: 9489, 170945: 9490, 170957: 9491, 170993: 9492, 171011: 9493, 171023: 9494, 171251: 9495, 171495: 9496, 171631: 9497, 171695: 9498, 171701: 9499, 171749: 9500, 171751: 9501, 171759: 9502, 171763: 9503, 171765: 9504, 171811: 9505, 171867: 9506, 171891: 9507, 171917: 9508, 172013: 9509, 172215: 9510, 172229: 9511, 172233: 9512, 172253: 9513, 172321: 9514, 172461: 9515, 172497: 9516, 172547: 9517, 172577: 9518, 172583: 9519, 172585: 9520, 172587: 9521, 172589: 9522, 172591: 9523, 172637: 9524, 172705: 9525, 172793: 9526, 172825: 9527, 172875: 9528, 172881: 9529, 172887: 9530, 172909: 9531, 173145: 9532, 173197: 9533, 173205: 9534, 173209: 9535, 173235: 9536, 173253: 9537, 173255: 9538, 173291: 9539, 173307: 9540, 173317: 9541, 173351: 9542, 173355: 9543, 173535: 9544, 173619: 9545, 173751: 9546, 173873: 9547, 173925: 9548, 173941: 9549, 173963: 9550, 174045: 9551, 174053: 9552, 174055: 9553, 174141: 9554, 174403: 9555, 174479: 9556, 174551: 9557, 174681: 9558, 174727: 9559, 174737: 9560, 174815: 9561, 174909: 9562, 175197: 9563, 175199: 9564, 175293: 9565, 175303: 9566, 175387: 9567, 175397: 9568, 175401: 9569, 175431: 9570, 175435: 9571, 175475: 9572, 175485: 9573, 175569: 9574, 175577: 9575, 175585: 9576, 175661: 9577, 175693: 9578, 175705: 9579, 175707: 9580, 175743: 9581, 175781: 9582, 176051: 9583, 176101: 9584, 176329: 9585, 176371: 9586, 176389: 9587, 176413: 9588, 176415: 9589, 176419: 9590, 176423: 9591, 176579: 9592, 176601: 9593, 176621: 9594, 176751: 9595, 176805: 9596, 176935: 9597, 177185: 9598, 177285: 9599, 177593: 9600, 177615: 9601, 177763: 9602, 177765: 9603, 177939: 9604, 178061: 9605, 178111: 9606, 178129: 9607, 178323: 9608, 178613: 9609, 178615: 9610, 178827: 9611, 179053: 9612, 179073: 9613, 179119: 9614, 179133: 9615, 179135: 9616, 179211: 9617, 179401: 9618, 179427: 9619, 179491: 9620, 179511: 9621, 179709: 9622, 179749: 9623, 179813: 9624, 179815: 9625, 179817: 9626, 179819: 9627, 179953: 9628, 180031: 9629, 180045: 9630, 180095: 9631, 180231: 9632, 180263: 9633, 180265: 9634, 180297: 9635, 180497: 9636, 180777: 9637, 180985: 9638, 180987: 9639, 181065: 9640, 181139: 9641, 181315: 9642, 181413: 9643, 181659: 9644, 181719: 9645, 182293: 9646, 182297: 9647, 182299: 9648, 182639: 9649, 182715: 9650, 182727: 9651, 182731: 9652, 182749: 9653, 182793: 9654, 182823: 9655, 183011: 9656, 183197: 9657, 183199: 9658, 183227: 9659, 183295: 9660, 183301: 9661, 183317: 9662, 183611: 9663, 183635: 9664, 183897: 9665, 183911: 9666, 183959: 9667, 184015: 9668, 184053: 9669, 184245: 9670, 184253: 9671, 184257: 9672, 184349: 9673, 184471: 9674, 184641: 9675, 184721: 9676, 184791: 9677, 184931: 9678, 184987: 9679, 184997: 9680, 185029: 9681, 185031: 9682, 185033: 9683, 185135: 9684, 185435: 9685, 185473: 9686, 185585: 9687, 186587: 9688, 187031: 9689, 187541: 9690, 187593: 9691, 187595: 9692, 187717: 9693, 188189: 9694, 188301: 9695, 188675: 9696, 188751: 9697, 188797: 9698, 188833: 9699, 189043: 9700, 189111: 9701, 189333: 9702, 189381: 9703, 189547: 9704, 189713: 9705, 190183: 9706, 190207: 9707, 190209: 9708, 190213: 9709, 190215: 9710, 190219: 9711, 190221: 9712, 191005: 9713, 193565: 9714, 193567: 9715, 193571: 9716, 193573: 9717, 193579: 9718, 193581: 9719, 193583: 9720, 193585: 9721, 193587: 9722, 193609: 9723}\n",
      "decode movieId: {0: 1, 1: 2, 2: 3, 3: 4, 4: 5, 5: 6, 6: 7, 7: 8, 8: 9, 9: 10, 10: 11, 11: 12, 12: 13, 13: 14, 14: 15, 15: 16, 16: 17, 17: 18, 18: 19, 19: 20, 20: 21, 21: 22, 22: 23, 23: 24, 24: 25, 25: 26, 26: 27, 27: 28, 28: 29, 29: 30, 30: 31, 31: 32, 32: 34, 33: 36, 34: 38, 35: 39, 36: 40, 37: 41, 38: 42, 39: 43, 40: 44, 41: 45, 42: 46, 43: 47, 44: 48, 45: 49, 46: 50, 47: 52, 48: 53, 49: 54, 50: 55, 51: 57, 52: 58, 53: 60, 54: 61, 55: 62, 56: 63, 57: 64, 58: 65, 59: 66, 60: 68, 61: 69, 62: 70, 63: 71, 64: 72, 65: 73, 66: 74, 67: 75, 68: 76, 69: 77, 70: 78, 71: 79, 72: 80, 73: 81, 74: 82, 75: 83, 76: 85, 77: 86, 78: 87, 79: 88, 80: 89, 81: 92, 82: 93, 83: 94, 84: 95, 85: 96, 86: 97, 87: 99, 88: 100, 89: 101, 90: 102, 91: 103, 92: 104, 93: 105, 94: 106, 95: 107, 96: 108, 97: 110, 98: 111, 99: 112, 100: 113, 101: 116, 102: 117, 103: 118, 104: 119, 105: 121, 106: 122, 107: 123, 108: 125, 109: 126, 110: 128, 111: 129, 112: 132, 113: 135, 114: 137, 115: 140, 116: 141, 117: 144, 118: 145, 119: 146, 120: 147, 121: 148, 122: 149, 123: 150, 124: 151, 125: 152, 126: 153, 127: 154, 128: 155, 129: 156, 130: 157, 131: 158, 132: 159, 133: 160, 134: 161, 135: 162, 136: 163, 137: 164, 138: 165, 139: 166, 140: 168, 141: 169, 142: 170, 143: 171, 144: 172, 145: 173, 146: 174, 147: 175, 148: 176, 149: 177, 150: 178, 151: 179, 152: 180, 153: 181, 154: 183, 155: 184, 156: 185, 157: 186, 158: 187, 159: 188, 160: 189, 161: 190, 162: 191, 163: 193, 164: 194, 165: 195, 166: 196, 167: 198, 168: 199, 169: 201, 170: 202, 171: 203, 172: 204, 173: 205, 174: 206, 175: 207, 176: 208, 177: 209, 178: 210, 179: 211, 180: 212, 181: 213, 182: 214, 183: 215, 184: 216, 185: 217, 186: 218, 187: 219, 188: 220, 189: 222, 190: 223, 191: 224, 192: 225, 193: 227, 194: 228, 195: 229, 196: 230, 197: 231, 198: 232, 199: 233, 200: 234, 201: 235, 202: 236, 203: 237, 204: 238, 205: 239, 206: 240, 207: 241, 208: 242, 209: 243, 210: 246, 211: 247, 212: 248, 213: 249, 214: 250, 215: 251, 216: 252, 217: 253, 218: 254, 219: 255, 220: 256, 221: 257, 222: 258, 223: 259, 224: 260, 225: 261, 226: 262, 227: 263, 228: 265, 229: 266, 230: 267, 231: 269, 232: 270, 233: 271, 234: 272, 235: 273, 236: 274, 237: 275, 238: 276, 239: 277, 240: 278, 241: 279, 242: 280, 243: 281, 244: 282, 245: 283, 246: 284, 247: 285, 248: 287, 249: 288, 250: 289, 251: 290, 252: 291, 253: 292, 254: 293, 255: 294, 256: 295, 257: 296, 258: 298, 259: 299, 260: 300, 261: 301, 262: 302, 263: 303, 264: 304, 265: 305, 266: 306, 267: 307, 268: 308, 269: 310, 270: 311, 271: 312, 272: 313, 273: 314, 274: 315, 275: 316, 276: 317, 277: 318, 278: 319, 279: 320, 280: 321, 281: 322, 282: 324, 283: 325, 284: 326, 285: 327, 286: 328, 287: 329, 288: 330, 289: 331, 290: 332, 291: 333, 292: 334, 293: 335, 294: 336, 295: 337, 296: 338, 297: 339, 298: 340, 299: 341, 300: 342, 301: 343, 302: 344, 303: 345, 304: 346, 305: 347, 306: 348, 307: 349, 308: 350, 309: 351, 310: 352, 311: 353, 312: 354, 313: 355, 314: 356, 315: 357, 316: 358, 317: 359, 318: 360, 319: 361, 320: 362, 321: 363, 322: 364, 323: 365, 324: 366, 325: 367, 326: 368, 327: 369, 328: 370, 329: 371, 330: 372, 331: 373, 332: 374, 333: 376, 334: 377, 335: 378, 336: 379, 337: 380, 338: 381, 339: 382, 340: 383, 341: 384, 342: 385, 343: 386, 344: 387, 345: 388, 346: 389, 347: 390, 348: 391, 349: 393, 350: 405, 351: 406, 352: 407, 353: 408, 354: 409, 355: 410, 356: 412, 357: 413, 358: 414, 359: 415, 360: 416, 361: 417, 362: 418, 363: 419, 364: 420, 365: 421, 366: 422, 367: 423, 368: 424, 369: 425, 370: 426, 371: 427, 372: 428, 373: 429, 374: 430, 375: 431, 376: 432, 377: 433, 378: 434, 379: 435, 380: 436, 381: 437, 382: 438, 383: 440, 384: 441, 385: 442, 386: 444, 387: 445, 388: 446, 389: 448, 390: 449, 391: 450, 392: 451, 393: 452, 394: 453, 395: 454, 396: 455, 397: 456, 398: 457, 399: 458, 400: 459, 401: 460, 402: 461, 403: 464, 404: 466, 405: 467, 406: 468, 407: 469, 408: 470, 409: 471, 410: 472, 411: 473, 412: 474, 413: 475, 414: 476, 415: 477, 416: 478, 417: 479, 418: 480, 419: 481, 420: 482, 421: 484, 422: 485, 423: 486, 424: 487, 425: 488, 426: 489, 427: 490, 428: 491, 429: 492, 430: 493, 431: 494, 432: 495, 433: 496, 434: 497, 435: 499, 436: 500, 437: 501, 438: 502, 439: 504, 440: 505, 441: 506, 442: 507, 443: 508, 444: 509, 445: 510, 446: 511, 447: 512, 448: 513, 449: 514, 450: 515, 451: 516, 452: 517, 453: 518, 454: 519, 455: 520, 456: 521, 457: 522, 458: 523, 459: 524, 460: 526, 461: 527, 462: 528, 463: 529, 464: 531, 465: 532, 466: 533, 467: 534, 468: 535, 469: 536, 470: 537, 471: 538, 472: 539, 473: 540, 474: 541, 475: 542, 476: 543, 477: 544, 478: 546, 479: 547, 480: 548, 481: 549, 482: 550, 483: 551, 484: 552, 485: 553, 486: 555, 487: 556, 488: 558, 489: 562, 490: 563, 491: 564, 492: 567, 493: 568, 494: 569, 495: 573, 496: 574, 497: 575, 498: 577, 499: 579, 500: 580, 501: 581, 502: 583, 503: 585, 504: 586, 505: 587, 506: 588, 507: 589, 508: 590, 509: 592, 510: 593, 511: 594, 512: 595, 513: 596, 514: 597, 515: 599, 516: 600, 517: 602, 518: 605, 519: 606, 520: 608, 521: 609, 522: 610, 523: 611, 524: 612, 525: 613, 526: 615, 527: 616, 528: 617, 529: 618, 530: 619, 531: 626, 532: 627, 533: 628, 534: 631, 535: 632, 536: 633, 537: 634, 538: 635, 539: 636, 540: 637, 541: 638, 542: 639, 543: 640, 544: 645, 545: 647, 546: 648, 547: 649, 548: 650, 549: 653, 550: 656, 551: 661, 552: 662, 553: 663, 554: 665, 555: 667, 556: 668, 557: 670, 558: 671, 559: 673, 560: 674, 561: 678, 562: 679, 563: 680, 564: 685, 565: 688, 566: 691, 567: 692, 568: 694, 569: 695, 570: 697, 571: 698, 572: 700, 573: 703, 574: 704, 575: 706, 576: 707, 577: 708, 578: 709, 579: 710, 580: 711, 581: 714, 582: 715, 583: 718, 584: 719, 585: 720, 586: 722, 587: 724, 588: 725, 589: 726, 590: 728, 591: 731, 592: 733, 593: 735, 594: 736, 595: 737, 596: 741, 597: 742, 598: 743, 599: 745, 600: 747, 601: 748, 602: 750, 603: 757, 604: 759, 605: 760, 606: 761, 607: 762, 608: 764, 609: 765, 610: 766, 611: 773, 612: 775, 613: 778, 614: 779, 615: 780, 616: 781, 617: 782, 618: 783, 619: 784, 620: 785, 621: 786, 622: 788, 623: 790, 624: 791, 625: 795, 626: 798, 627: 799, 628: 800, 629: 801, 630: 802, 631: 803, 632: 804, 633: 805, 634: 806, 635: 808, 636: 809, 637: 810, 638: 813, 639: 818, 640: 823, 641: 824, 642: 828, 643: 829, 644: 830, 645: 832, 646: 833, 647: 835, 648: 836, 649: 837, 650: 838, 651: 839, 652: 840, 653: 841, 654: 842, 655: 848, 656: 849, 657: 851, 658: 852, 659: 858, 660: 861, 661: 866, 662: 867, 663: 869, 664: 870, 665: 875, 666: 876, 667: 879, 668: 880, 669: 881, 670: 882, 671: 885, 672: 886, 673: 888, 674: 889, 675: 891, 676: 892, 677: 893, 678: 896, 679: 897, 680: 898, 681: 899, 682: 900, 683: 901, 684: 902, 685: 903, 686: 904, 687: 905, 688: 906, 689: 907, 690: 908, 691: 909, 692: 910, 693: 911, 694: 912, 695: 913, 696: 914, 697: 915, 698: 916, 699: 917, 700: 918, 701: 919, 702: 920, 703: 921, 704: 922, 705: 923, 706: 924, 707: 926, 708: 927, 709: 928, 710: 929, 711: 930, 712: 931, 713: 932, 714: 933, 715: 934, 716: 935, 717: 936, 718: 937, 719: 938, 720: 940, 721: 941, 722: 942, 723: 943, 724: 944, 725: 945, 726: 946, 727: 947, 728: 948, 729: 949, 730: 950, 731: 951, 732: 952, 733: 953, 734: 954, 735: 955, 736: 956, 737: 959, 738: 961, 739: 963, 740: 965, 741: 968, 742: 969, 743: 970, 744: 971, 745: 973, 746: 976, 747: 979, 748: 981, 749: 982, 750: 984, 751: 986, 752: 987, 753: 988, 754: 990, 755: 991, 756: 993, 757: 994, 758: 996, 759: 998, 760: 999, 761: 1003, 762: 1004, 763: 1005, 764: 1006, 765: 1007, 766: 1008, 767: 1009, 768: 1010, 769: 1011, 770: 1012, 771: 1013, 772: 1014, 773: 1015, 774: 1016, 775: 1017, 776: 1018, 777: 1019, 778: 1020, 779: 1021, 780: 1022, 781: 1023, 782: 1024, 783: 1025, 784: 1027, 785: 1028, 786: 1029, 787: 1030, 788: 1031, 789: 1032, 790: 1033, 791: 1034, 792: 1035, 793: 1036, 794: 1037, 795: 1040, 796: 1041, 797: 1042, 798: 1043, 799: 1046, 800: 1047, 801: 1049, 802: 1050, 803: 1051, 804: 1053, 805: 1054, 806: 1055, 807: 1056, 808: 1057, 809: 1059, 810: 1060, 811: 1061, 812: 1064, 813: 1066, 814: 1068, 815: 1073, 816: 1077, 817: 1078, 818: 1079, 819: 1080, 820: 1081, 821: 1082, 822: 1083, 823: 1084, 824: 1085, 825: 1086, 826: 1088, 827: 1089, 828: 1090, 829: 1091, 830: 1092, 831: 1093, 832: 1094, 833: 1095, 834: 1096, 835: 1097, 836: 1099, 837: 1100, 838: 1101, 839: 1103, 840: 1104, 841: 1105, 842: 1107, 843: 1111, 844: 1112, 845: 1114, 846: 1116, 847: 1117, 848: 1119, 849: 1120, 850: 1121, 851: 1123, 852: 1124, 853: 1125, 854: 1126, 855: 1127, 856: 1128, 857: 1129, 858: 1130, 859: 1131, 860: 1132, 861: 1135, 862: 1136, 863: 1137, 864: 1140, 865: 1144, 866: 1147, 867: 1148, 868: 1150, 869: 1151, 870: 1156, 871: 1161, 872: 1162, 873: 1163, 874: 1167, 875: 1170, 876: 1171, 877: 1172, 878: 1173, 879: 1175, 880: 1176, 881: 1177, 882: 1178, 883: 1179, 884: 1180, 885: 1183, 886: 1184, 887: 1185, 888: 1186, 889: 1187, 890: 1188, 891: 1189, 892: 1190, 893: 1191, 894: 1192, 895: 1193, 896: 1194, 897: 1196, 898: 1197, 899: 1198, 900: 1199, 901: 1200, 902: 1201, 903: 1202, 904: 1203, 905: 1204, 906: 1206, 907: 1207, 908: 1208, 909: 1209, 910: 1210, 911: 1211, 912: 1212, 913: 1213, 914: 1214, 915: 1215, 916: 1216, 917: 1217, 918: 1218, 919: 1219, 920: 1220, 921: 1221, 922: 1222, 923: 1223, 924: 1224, 925: 1225, 926: 1226, 927: 1227, 928: 1228, 929: 1230, 930: 1231, 931: 1232, 932: 1233, 933: 1234, 934: 1235, 935: 1236, 936: 1237, 937: 1238, 938: 1240, 939: 1241, 940: 1242, 941: 1243, 942: 1244, 943: 1245, 944: 1246, 945: 1247, 946: 1248, 947: 1249, 948: 1250, 949: 1251, 950: 1252, 951: 1253, 952: 1254, 953: 1255, 954: 1256, 955: 1257, 956: 1258, 957: 1259, 958: 1260, 959: 1261, 960: 1262, 961: 1263, 962: 1264, 963: 1265, 964: 1266, 965: 1267, 966: 1268, 967: 1269, 968: 1270, 969: 1271, 970: 1272, 971: 1273, 972: 1274, 973: 1275, 974: 1276, 975: 1277, 976: 1278, 977: 1279, 978: 1280, 979: 1281, 980: 1282, 981: 1283, 982: 1284, 983: 1285, 984: 1286, 985: 1287, 986: 1288, 987: 1289, 988: 1290, 989: 1291, 990: 1292, 991: 1293, 992: 1295, 993: 1296, 994: 1297, 995: 1298, 996: 1299, 997: 1300, 998: 1301, 999: 1302, 1000: 1303, 1001: 1304, 1002: 1305, 1003: 1306, 1004: 1307, 1005: 1310, 1006: 1312, 1007: 1318, 1008: 1320, 1009: 1321, 1010: 1322, 1011: 1323, 1012: 1324, 1013: 1325, 1014: 1326, 1015: 1327, 1016: 1328, 1017: 1329, 1018: 1330, 1019: 1331, 1020: 1332, 1021: 1333, 1022: 1334, 1023: 1335, 1024: 1336, 1025: 1337, 1026: 1339, 1027: 1340, 1028: 1341, 1029: 1342, 1030: 1343, 1031: 1344, 1032: 1345, 1033: 1346, 1034: 1347, 1035: 1348, 1036: 1349, 1037: 1350, 1038: 1351, 1039: 1352, 1040: 1353, 1041: 1354, 1042: 1355, 1043: 1356, 1044: 1357, 1045: 1358, 1046: 1359, 1047: 1361, 1048: 1363, 1049: 1365, 1050: 1366, 1051: 1367, 1052: 1370, 1053: 1371, 1054: 1372, 1055: 1373, 1056: 1374, 1057: 1375, 1058: 1376, 1059: 1377, 1060: 1378, 1061: 1379, 1062: 1380, 1063: 1381, 1064: 1382, 1065: 1385, 1066: 1387, 1067: 1388, 1068: 1389, 1069: 1390, 1070: 1391, 1071: 1392, 1072: 1393, 1073: 1394, 1074: 1395, 1075: 1396, 1076: 1397, 1077: 1398, 1078: 1399, 1079: 1401, 1080: 1405, 1081: 1406, 1082: 1407, 1083: 1408, 1084: 1409, 1085: 1411, 1086: 1412, 1087: 1413, 1088: 1414, 1089: 1415, 1090: 1416, 1091: 1417, 1092: 1419, 1093: 1422, 1094: 1423, 1095: 1425, 1096: 1426, 1097: 1427, 1098: 1428, 1099: 1429, 1100: 1430, 1101: 1431, 1102: 1432, 1103: 1437, 1104: 1438, 1105: 1439, 1106: 1440, 1107: 1441, 1108: 1442, 1109: 1445, 1110: 1446, 1111: 1447, 1112: 1449, 1113: 1453, 1114: 1454, 1115: 1456, 1116: 1457, 1117: 1458, 1118: 1459, 1119: 1460, 1120: 1461, 1121: 1464, 1122: 1465, 1123: 1466, 1124: 1468, 1125: 1473, 1126: 1474, 1127: 1475, 1128: 1476, 1129: 1477, 1130: 1479, 1131: 1480, 1132: 1483, 1133: 1484, 1134: 1485, 1135: 1487, 1136: 1488, 1137: 1489, 1138: 1490, 1139: 1493, 1140: 1495, 1141: 1496, 1142: 1497, 1143: 1498, 1144: 1499, 1145: 1500, 1146: 1502, 1147: 1503, 1148: 1507, 1149: 1513, 1150: 1514, 1151: 1515, 1152: 1516, 1153: 1517, 1154: 1518, 1155: 1519, 1156: 1526, 1157: 1527, 1158: 1529, 1159: 1533, 1160: 1537, 1161: 1541, 1162: 1542, 1163: 1544, 1164: 1545, 1165: 1546, 1166: 1547, 1167: 1549, 1168: 1550, 1169: 1551, 1170: 1552, 1171: 1554, 1172: 1556, 1173: 1562, 1174: 1564, 1175: 1565, 1176: 1566, 1177: 1569, 1178: 1571, 1179: 1572, 1180: 1573, 1181: 1574, 1182: 1580, 1183: 1581, 1184: 1582, 1185: 1583, 1186: 1584, 1187: 1585, 1188: 1586, 1189: 1587, 1190: 1588, 1191: 1589, 1192: 1590, 1193: 1591, 1194: 1592, 1195: 1593, 1196: 1594, 1197: 1596, 1198: 1597, 1199: 1598, 1200: 1599, 1201: 1600, 1202: 1601, 1203: 1602, 1204: 1603, 1205: 1604, 1206: 1605, 1207: 1606, 1208: 1608, 1209: 1609, 1210: 1610, 1211: 1611, 1212: 1612, 1213: 1613, 1214: 1614, 1215: 1615, 1216: 1616, 1217: 1617, 1218: 1619, 1219: 1620, 1220: 1621, 1221: 1623, 1222: 1624, 1223: 1625, 1224: 1626, 1225: 1627, 1226: 1629, 1227: 1631, 1228: 1633, 1229: 1635, 1230: 1639, 1231: 1641, 1232: 1642, 1233: 1643, 1234: 1644, 1235: 1645, 1236: 1646, 1237: 1647, 1238: 1648, 1239: 1649, 1240: 1650, 1241: 1652, 1242: 1653, 1243: 1654, 1244: 1655, 1245: 1656, 1246: 1658, 1247: 1659, 1248: 1660, 1249: 1661, 1250: 1662, 1251: 1663, 1252: 1665, 1253: 1667, 1254: 1670, 1255: 1671, 1256: 1672, 1257: 1673, 1258: 1674, 1259: 1675, 1260: 1676, 1261: 1677, 1262: 1678, 1263: 1679, 1264: 1680, 1265: 1681, 1266: 1682, 1267: 1683, 1268: 1684, 1269: 1685, 1270: 1686, 1271: 1687, 1272: 1688, 1273: 1689, 1274: 1690, 1275: 1693, 1276: 1694, 1277: 1695, 1278: 1696, 1279: 1699, 1280: 1701, 1281: 1702, 1282: 1703, 1283: 1704, 1284: 1707, 1285: 1711, 1286: 1713, 1287: 1717, 1288: 1718, 1289: 1719, 1290: 1721, 1291: 1722, 1292: 1726, 1293: 1727, 1294: 1729, 1295: 1730, 1296: 1731, 1297: 1732, 1298: 1733, 1299: 1734, 1300: 1735, 1301: 1739, 1302: 1746, 1303: 1747, 1304: 1748, 1305: 1752, 1306: 1753, 1307: 1754, 1308: 1755, 1309: 1757, 1310: 1759, 1311: 1760, 1312: 1762, 1313: 1767, 1314: 1769, 1315: 1770, 1316: 1771, 1317: 1772, 1318: 1777, 1319: 1779, 1320: 1783, 1321: 1784, 1322: 1785, 1323: 1791, 1324: 1792, 1325: 1793, 1326: 1794, 1327: 1797, 1328: 1798, 1329: 1799, 1330: 1801, 1331: 1804, 1332: 1805, 1333: 1806, 1334: 1807, 1335: 1809, 1336: 1810, 1337: 1812, 1338: 1816, 1339: 1821, 1340: 1824, 1341: 1825, 1342: 1826, 1343: 1827, 1344: 1829, 1345: 1831, 1346: 1833, 1347: 1834, 1348: 1835, 1349: 1836, 1350: 1837, 1351: 1839, 1352: 1840, 1353: 1841, 1354: 1844, 1355: 1845, 1356: 1848, 1357: 1855, 1358: 1856, 1359: 1857, 1360: 1858, 1361: 1859, 1362: 1860, 1363: 1862, 1364: 1863, 1365: 1866, 1366: 1867, 1367: 1870, 1368: 1873, 1369: 1875, 1370: 1876, 1371: 1881, 1372: 1882, 1373: 1883, 1374: 1884, 1375: 1885, 1376: 1887, 1377: 1888, 1378: 1889, 1379: 1891, 1380: 1892, 1381: 1893, 1382: 1894, 1383: 1895, 1384: 1897, 1385: 1900, 1386: 1902, 1387: 1904, 1388: 1906, 1389: 1907, 1390: 1909, 1391: 1910, 1392: 1911, 1393: 1912, 1394: 1913, 1395: 1914, 1396: 1916, 1397: 1917, 1398: 1918, 1399: 1919, 1400: 1920, 1401: 1921, 1402: 1922, 1403: 1923, 1404: 1924, 1405: 1926, 1406: 1927, 1407: 1928, 1408: 1929, 1409: 1931, 1410: 1932, 1411: 1933, 1412: 1934, 1413: 1936, 1414: 1937, 1415: 1938, 1416: 1939, 1417: 1940, 1418: 1941, 1419: 1942, 1420: 1944, 1421: 1945, 1422: 1946, 1423: 1947, 1424: 1948, 1425: 1949, 1426: 1950, 1427: 1951, 1428: 1952, 1429: 1953, 1430: 1954, 1431: 1955, 1432: 1956, 1433: 1957, 1434: 1958, 1435: 1959, 1436: 1960, 1437: 1961, 1438: 1962, 1439: 1963, 1440: 1964, 1441: 1965, 1442: 1966, 1443: 1967, 1444: 1968, 1445: 1969, 1446: 1970, 1447: 1971, 1448: 1972, 1449: 1973, 1450: 1974, 1451: 1975, 1452: 1976, 1453: 1977, 1454: 1978, 1455: 1979, 1456: 1980, 1457: 1981, 1458: 1982, 1459: 1983, 1460: 1984, 1461: 1985, 1462: 1986, 1463: 1987, 1464: 1990, 1465: 1991, 1466: 1992, 1467: 1993, 1468: 1994, 1469: 1995, 1470: 1996, 1471: 1997, 1472: 1998, 1473: 1999, 1474: 2000, 1475: 2001, 1476: 2002, 1477: 2003, 1478: 2004, 1479: 2005, 1480: 2006, 1481: 2007, 1482: 2008, 1483: 2009, 1484: 2010, 1485: 2011, 1486: 2012, 1487: 2013, 1488: 2014, 1489: 2015, 1490: 2016, 1491: 2017, 1492: 2018, 1493: 2019, 1494: 2020, 1495: 2021, 1496: 2022, 1497: 2023, 1498: 2024, 1499: 2025, 1500: 2026, 1501: 2027, 1502: 2028, 1503: 2032, 1504: 2033, 1505: 2034, 1506: 2035, 1507: 2036, 1508: 2037, 1509: 2038, 1510: 2040, 1511: 2041, 1512: 2042, 1513: 2043, 1514: 2044, 1515: 2046, 1516: 2048, 1517: 2050, 1518: 2051, 1519: 2052, 1520: 2053, 1521: 2054, 1522: 2055, 1523: 2056, 1524: 2057, 1525: 2058, 1526: 2059, 1527: 2060, 1528: 2064, 1529: 2065, 1530: 2066, 1531: 2067, 1532: 2068, 1533: 2069, 1534: 2070, 1535: 2071, 1536: 2072, 1537: 2073, 1538: 2074, 1539: 2075, 1540: 2076, 1541: 2077, 1542: 2078, 1543: 2080, 1544: 2081, 1545: 2082, 1546: 2083, 1547: 2084, 1548: 2085, 1549: 2087, 1550: 2088, 1551: 2089, 1552: 2090, 1553: 2091, 1554: 2092, 1555: 2093, 1556: 2094, 1557: 2095, 1558: 2096, 1559: 2097, 1560: 2098, 1561: 2099, 1562: 2100, 1563: 2102, 1564: 2103, 1565: 2104, 1566: 2105, 1567: 2106, 1568: 2107, 1569: 2108, 1570: 2109, 1571: 2110, 1572: 2111, 1573: 2112, 1574: 2114, 1575: 2115, 1576: 2116, 1577: 2117, 1578: 2118, 1579: 2119, 1580: 2120, 1581: 2121, 1582: 2122, 1583: 2123, 1584: 2124, 1585: 2125, 1586: 2126, 1587: 2130, 1588: 2131, 1589: 2132, 1590: 2133, 1591: 2134, 1592: 2135, 1593: 2136, 1594: 2137, 1595: 2138, 1596: 2139, 1597: 2140, 1598: 2141, 1599: 2142, 1600: 2143, 1601: 2144, 1602: 2145, 1603: 2146, 1604: 2147, 1605: 2148, 1606: 2149, 1607: 2150, 1608: 2151, 1609: 2152, 1610: 2153, 1611: 2154, 1612: 2155, 1613: 2156, 1614: 2159, 1615: 2160, 1616: 2161, 1617: 2162, 1618: 2163, 1619: 2164, 1620: 2165, 1621: 2166, 1622: 2167, 1623: 2169, 1624: 2170, 1625: 2171, 1626: 2172, 1627: 2174, 1628: 2175, 1629: 2176, 1630: 2177, 1631: 2178, 1632: 2179, 1633: 2180, 1634: 2181, 1635: 2182, 1636: 2183, 1637: 2184, 1638: 2185, 1639: 2186, 1640: 2187, 1641: 2188, 1642: 2190, 1643: 2193, 1644: 2194, 1645: 2195, 1646: 2196, 1647: 2201, 1648: 2202, 1649: 2203, 1650: 2204, 1651: 2205, 1652: 2206, 1653: 2207, 1654: 2208, 1655: 2210, 1656: 2211, 1657: 2212, 1658: 2226, 1659: 2227, 1660: 2231, 1661: 2232, 1662: 2236, 1663: 2239, 1664: 2240, 1665: 2241, 1666: 2243, 1667: 2244, 1668: 2245, 1669: 2247, 1670: 2248, 1671: 2249, 1672: 2252, 1673: 2253, 1674: 2255, 1675: 2256, 1676: 2257, 1677: 2259, 1678: 2260, 1679: 2261, 1680: 2262, 1681: 2263, 1682: 2264, 1683: 2265, 1684: 2266, 1685: 2267, 1686: 2268, 1687: 2269, 1688: 2271, 1689: 2272, 1690: 2273, 1691: 2275, 1692: 2278, 1693: 2279, 1694: 2280, 1695: 2281, 1696: 2282, 1697: 2283, 1698: 2286, 1699: 2287, 1700: 2288, 1701: 2289, 1702: 2290, 1703: 2291, 1704: 2292, 1705: 2294, 1706: 2295, 1707: 2296, 1708: 2297, 1709: 2298, 1710: 2300, 1711: 2301, 1712: 2302, 1713: 2303, 1714: 2304, 1715: 2306, 1716: 2307, 1717: 2310, 1718: 2311, 1719: 2312, 1720: 2313, 1721: 2314, 1722: 2315, 1723: 2316, 1724: 2318, 1725: 2320, 1726: 2321, 1727: 2322, 1728: 2323, 1729: 2324, 1730: 2325, 1731: 2327, 1732: 2328, 1733: 2329, 1734: 2330, 1735: 2331, 1736: 2332, 1737: 2333, 1738: 2334, 1739: 2335, 1740: 2336, 1741: 2337, 1742: 2338, 1743: 2339, 1744: 2340, 1745: 2342, 1746: 2344, 1747: 2346, 1748: 2347, 1749: 2348, 1750: 2349, 1751: 2350, 1752: 2351, 1753: 2352, 1754: 2353, 1755: 2354, 1756: 2355, 1757: 2356, 1758: 2357, 1759: 2358, 1760: 2359, 1761: 2360, 1762: 2361, 1763: 2362, 1764: 2363, 1765: 2364, 1766: 2365, 1767: 2366, 1768: 2367, 1769: 2368, 1770: 2369, 1771: 2370, 1772: 2371, 1773: 2372, 1774: 2373, 1775: 2374, 1776: 2375, 1777: 2376, 1778: 2377, 1779: 2378, 1780: 2379, 1781: 2380, 1782: 2381, 1783: 2382, 1784: 2383, 1785: 2384, 1786: 2385, 1787: 2387, 1788: 2388, 1789: 2389, 1790: 2390, 1791: 2391, 1792: 2392, 1793: 2393, 1794: 2394, 1795: 2395, 1796: 2396, 1797: 2398, 1798: 2399, 1799: 2400, 1800: 2401, 1801: 2402, 1802: 2403, 1803: 2404, 1804: 2405, 1805: 2406, 1806: 2407, 1807: 2408, 1808: 2409, 1809: 2410, 1810: 2411, 1811: 2412, 1812: 2413, 1813: 2414, 1814: 2415, 1815: 2416, 1816: 2417, 1817: 2418, 1818: 2419, 1819: 2420, 1820: 2421, 1821: 2422, 1822: 2423, 1823: 2424, 1824: 2425, 1825: 2427, 1826: 2428, 1827: 2429, 1828: 2430, 1829: 2431, 1830: 2432, 1831: 2433, 1832: 2435, 1833: 2436, 1834: 2439, 1835: 2442, 1836: 2443, 1837: 2445, 1838: 2446, 1839: 2447, 1840: 2448, 1841: 2450, 1842: 2451, 1843: 2453, 1844: 2454, 1845: 2455, 1846: 2456, 1847: 2457, 1848: 2458, 1849: 2459, 1850: 2460, 1851: 2462, 1852: 2463, 1853: 2465, 1854: 2467, 1855: 2468, 1856: 2469, 1857: 2470, 1858: 2471, 1859: 2472, 1860: 2473, 1861: 2474, 1862: 2475, 1863: 2476, 1864: 2477, 1865: 2478, 1866: 2481, 1867: 2482, 1868: 2483, 1869: 2485, 1870: 2488, 1871: 2490, 1872: 2491, 1873: 2492, 1874: 2493, 1875: 2494, 1876: 2495, 1877: 2496, 1878: 2497, 1879: 2498, 1880: 2500, 1881: 2501, 1882: 2502, 1883: 2503, 1884: 2504, 1885: 2505, 1886: 2506, 1887: 2511, 1888: 2512, 1889: 2513, 1890: 2514, 1891: 2515, 1892: 2516, 1893: 2517, 1894: 2518, 1895: 2520, 1896: 2521, 1897: 2522, 1898: 2523, 1899: 2524, 1900: 2525, 1901: 2526, 1902: 2527, 1903: 2528, 1904: 2529, 1905: 2530, 1906: 2531, 1907: 2532, 1908: 2533, 1909: 2534, 1910: 2535, 1911: 2537, 1912: 2538, 1913: 2539, 1914: 2540, 1915: 2541, 1916: 2542, 1917: 2544, 1918: 2546, 1919: 2548, 1920: 2549, 1921: 2550, 1922: 2551, 1923: 2552, 1924: 2553, 1925: 2554, 1926: 2555, 1927: 2557, 1928: 2558, 1929: 2559, 1930: 2560, 1931: 2561, 1932: 2563, 1933: 2565, 1934: 2566, 1935: 2567, 1936: 2568, 1937: 2570, 1938: 2571, 1939: 2572, 1940: 2573, 1941: 2574, 1942: 2575, 1943: 2577, 1944: 2579, 1945: 2580, 1946: 2581, 1947: 2582, 1948: 2583, 1949: 2585, 1950: 2586, 1951: 2587, 1952: 2589, 1953: 2590, 1954: 2593, 1955: 2594, 1956: 2596, 1957: 2597, 1958: 2598, 1959: 2599, 1960: 2600, 1961: 2605, 1962: 2606, 1963: 2607, 1964: 2609, 1965: 2611, 1966: 2612, 1967: 2613, 1968: 2614, 1969: 2615, 1970: 2616, 1971: 2617, 1972: 2618, 1973: 2620, 1974: 2622, 1975: 2623, 1976: 2624, 1977: 2625, 1978: 2628, 1979: 2629, 1980: 2630, 1981: 2632, 1982: 2633, 1983: 2634, 1984: 2639, 1985: 2640, 1986: 2641, 1987: 2642, 1988: 2643, 1989: 2644, 1990: 2648, 1991: 2651, 1992: 2652, 1993: 2654, 1994: 2655, 1995: 2656, 1996: 2657, 1997: 2659, 1998: 2660, 1999: 2661, 2000: 2662, 2001: 2664, 2002: 2665, 2003: 2668, 2004: 2669, 2005: 2670, 2006: 2671, 2007: 2672, 2008: 2674, 2009: 2676, 2010: 2677, 2011: 2681, 2012: 2682, 2013: 2683, 2014: 2686, 2015: 2687, 2016: 2688, 2017: 2690, 2018: 2691, 2019: 2692, 2020: 2693, 2021: 2694, 2022: 2695, 2023: 2696, 2024: 2697, 2025: 2698, 2026: 2699, 2027: 2700, 2028: 2701, 2029: 2702, 2030: 2706, 2031: 2707, 2032: 2708, 2033: 2709, 2034: 2710, 2035: 2712, 2036: 2713, 2037: 2716, 2038: 2717, 2039: 2718, 2040: 2719, 2041: 2720, 2042: 2722, 2043: 2723, 2044: 2724, 2045: 2725, 2046: 2726, 2047: 2727, 2048: 2728, 2049: 2729, 2050: 2730, 2051: 2731, 2052: 2732, 2053: 2733, 2054: 2734, 2055: 2735, 2056: 2736, 2057: 2737, 2058: 2738, 2059: 2739, 2060: 2740, 2061: 2741, 2062: 2742, 2063: 2743, 2064: 2744, 2065: 2745, 2066: 2746, 2067: 2747, 2068: 2748, 2069: 2749, 2070: 2750, 2071: 2751, 2072: 2752, 2073: 2754, 2074: 2757, 2075: 2759, 2076: 2761, 2077: 2762, 2078: 2763, 2079: 2764, 2080: 2765, 2081: 2766, 2082: 2769, 2083: 2770, 2084: 2771, 2085: 2772, 2086: 2774, 2087: 2775, 2088: 2779, 2089: 2782, 2090: 2784, 2091: 2786, 2092: 2787, 2093: 2788, 2094: 2789, 2095: 2790, 2096: 2791, 2097: 2792, 2098: 2793, 2099: 2794, 2100: 2795, 2101: 2796, 2102: 2797, 2103: 2798, 2104: 2799, 2105: 2800, 2106: 2801, 2107: 2802, 2108: 2803, 2109: 2804, 2110: 2805, 2111: 2806, 2112: 2807, 2113: 2808, 2114: 2810, 2115: 2812, 2116: 2813, 2117: 2815, 2118: 2816, 2119: 2817, 2120: 2818, 2121: 2819, 2122: 2820, 2123: 2822, 2124: 2824, 2125: 2826, 2126: 2827, 2127: 2828, 2128: 2829, 2129: 2835, 2130: 2836, 2131: 2837, 2132: 2839, 2133: 2840, 2134: 2841, 2135: 2843, 2136: 2844, 2137: 2846, 2138: 2847, 2139: 2848, 2140: 2851, 2141: 2852, 2142: 2856, 2143: 2857, 2144: 2858, 2145: 2859, 2146: 2860, 2147: 2861, 2148: 2862, 2149: 2863, 2150: 2865, 2151: 2866, 2152: 2867, 2153: 2868, 2154: 2870, 2155: 2871, 2156: 2872, 2157: 2874, 2158: 2875, 2159: 2876, 2160: 2877, 2161: 2878, 2162: 2879, 2163: 2880, 2164: 2881, 2165: 2882, 2166: 2883, 2167: 2884, 2168: 2885, 2169: 2886, 2170: 2887, 2171: 2888, 2172: 2889, 2173: 2890, 2174: 2891, 2175: 2892, 2176: 2893, 2177: 2894, 2178: 2896, 2179: 2897, 2180: 2898, 2181: 2899, 2182: 2900, 2183: 2901, 2184: 2902, 2185: 2903, 2186: 2905, 2187: 2906, 2188: 2907, 2189: 2908, 2190: 2912, 2191: 2915, 2192: 2916, 2193: 2917, 2194: 2918, 2195: 2919, 2196: 2921, 2197: 2922, 2198: 2924, 2199: 2925, 2200: 2926, 2201: 2927, 2202: 2928, 2203: 2929, 2204: 2930, 2205: 2931, 2206: 2932, 2207: 2935, 2208: 2936, 2209: 2937, 2210: 2940, 2211: 2941, 2212: 2942, 2213: 2943, 2214: 2944, 2215: 2946, 2216: 2947, 2217: 2948, 2218: 2949, 2219: 2950, 2220: 2951, 2221: 2952, 2222: 2953, 2223: 2956, 2224: 2959, 2225: 2961, 2226: 2962, 2227: 2964, 2228: 2965, 2229: 2966, 2230: 2967, 2231: 2968, 2232: 2969, 2233: 2970, 2234: 2971, 2235: 2972, 2236: 2973, 2237: 2974, 2238: 2975, 2239: 2976, 2240: 2977, 2241: 2978, 2242: 2979, 2243: 2982, 2244: 2983, 2245: 2984, 2246: 2985, 2247: 2986, 2248: 2987, 2249: 2988, 2250: 2989, 2251: 2990, 2252: 2991, 2253: 2992, 2254: 2993, 2255: 2995, 2256: 2996, 2257: 2997, 2258: 3000, 2259: 3002, 2260: 3003, 2261: 3004, 2262: 3005, 2263: 3006, 2264: 3007, 2265: 3008, 2266: 3010, 2267: 3011, 2268: 3013, 2269: 3014, 2270: 3015, 2271: 3016, 2272: 3017, 2273: 3018, 2274: 3019, 2275: 3020, 2276: 3021, 2277: 3022, 2278: 3024, 2279: 3028, 2280: 3029, 2281: 3030, 2282: 3031, 2283: 3032, 2284: 3033, 2285: 3034, 2286: 3035, 2287: 3036, 2288: 3037, 2289: 3038, 2290: 3039, 2291: 3040, 2292: 3041, 2293: 3042, 2294: 3043, 2295: 3044, 2296: 3045, 2297: 3046, 2298: 3048, 2299: 3051, 2300: 3052, 2301: 3053, 2302: 3054, 2303: 3055, 2304: 3056, 2305: 3057, 2306: 3060, 2307: 3061, 2308: 3062, 2309: 3063, 2310: 3064, 2311: 3066, 2312: 3067, 2313: 3068, 2314: 3070, 2315: 3071, 2316: 3072, 2317: 3073, 2318: 3074, 2319: 3075, 2320: 3076, 2321: 3077, 2322: 3078, 2323: 3079, 2324: 3081, 2325: 3082, 2326: 3083, 2327: 3086, 2328: 3087, 2329: 3088, 2330: 3089, 2331: 3090, 2332: 3091, 2333: 3093, 2334: 3094, 2335: 3095, 2336: 3096, 2337: 3097, 2338: 3098, 2339: 3099, 2340: 3100, 2341: 3101, 2342: 3102, 2343: 3103, 2344: 3104, 2345: 3105, 2346: 3106, 2347: 3107, 2348: 3108, 2349: 3109, 2350: 3111, 2351: 3112, 2352: 3113, 2353: 3114, 2354: 3115, 2355: 3117, 2356: 3120, 2357: 3125, 2358: 3127, 2359: 3129, 2360: 3130, 2361: 3132, 2362: 3134, 2363: 3135, 2364: 3138, 2365: 3141, 2366: 3142, 2367: 3143, 2368: 3145, 2369: 3146, 2370: 3147, 2371: 3148, 2372: 3150, 2373: 3152, 2374: 3153, 2375: 3155, 2376: 3156, 2377: 3157, 2378: 3158, 2379: 3159, 2380: 3160, 2381: 3161, 2382: 3162, 2383: 3163, 2384: 3165, 2385: 3167, 2386: 3168, 2387: 3169, 2388: 3171, 2389: 3173, 2390: 3174, 2391: 3175, 2392: 3176, 2393: 3177, 2394: 3178, 2395: 3179, 2396: 3181, 2397: 3182, 2398: 3183, 2399: 3185, 2400: 3186, 2401: 3189, 2402: 3190, 2403: 3192, 2404: 3194, 2405: 3196, 2406: 3197, 2407: 3198, 2408: 3200, 2409: 3201, 2410: 3203, 2411: 3204, 2412: 3206, 2413: 3208, 2414: 3210, 2415: 3211, 2416: 3213, 2417: 3214, 2418: 3217, 2419: 3219, 2420: 3221, 2421: 3223, 2422: 3224, 2423: 3225, 2424: 3230, 2425: 3235, 2426: 3238, 2427: 3240, 2428: 3241, 2429: 3243, 2430: 3244, 2431: 3246, 2432: 3247, 2433: 3248, 2434: 3249, 2435: 3250, 2436: 3251, 2437: 3252, 2438: 3253, 2439: 3254, 2440: 3255, 2441: 3256, 2442: 3257, 2443: 3258, 2444: 3259, 2445: 3260, 2446: 3261, 2447: 3262, 2448: 3263, 2449: 3264, 2450: 3265, 2451: 3266, 2452: 3267, 2453: 3268, 2454: 3269, 2455: 3270, 2456: 3271, 2457: 3272, 2458: 3273, 2459: 3274, 2460: 3275, 2461: 3276, 2462: 3280, 2463: 3281, 2464: 3283, 2465: 3284, 2466: 3285, 2467: 3286, 2468: 3287, 2469: 3289, 2470: 3294, 2471: 3295, 2472: 3296, 2473: 3298, 2474: 3299, 2475: 3300, 2476: 3301, 2477: 3302, 2478: 3303, 2479: 3306, 2480: 3307, 2481: 3308, 2482: 3310, 2483: 3313, 2484: 3315, 2485: 3316, 2486: 3317, 2487: 3323, 2488: 3324, 2489: 3325, 2490: 3326, 2491: 3327, 2492: 3328, 2493: 3329, 2494: 3330, 2495: 3331, 2496: 3334, 2497: 3341, 2498: 3342, 2499: 3344, 2500: 3345, 2501: 3347, 2502: 3350, 2503: 3353, 2504: 3354, 2505: 3355, 2506: 3357, 2507: 3358, 2508: 3359, 2509: 3360, 2510: 3361, 2511: 3362, 2512: 3363, 2513: 3364, 2514: 3365, 2515: 3368, 2516: 3370, 2517: 3372, 2518: 3374, 2519: 3378, 2520: 3379, 2521: 3384, 2522: 3385, 2523: 3386, 2524: 3387, 2525: 3388, 2526: 3389, 2527: 3390, 2528: 3391, 2529: 3392, 2530: 3393, 2531: 3394, 2532: 3395, 2533: 3396, 2534: 3397, 2535: 3398, 2536: 3400, 2537: 3401, 2538: 3402, 2539: 3403, 2540: 3404, 2541: 3405, 2542: 3406, 2543: 3408, 2544: 3409, 2545: 3410, 2546: 3412, 2547: 3414, 2548: 3415, 2549: 3417, 2550: 3418, 2551: 3420, 2552: 3421, 2553: 3422, 2554: 3423, 2555: 3424, 2556: 3425, 2557: 3426, 2558: 3428, 2559: 3429, 2560: 3430, 2561: 3431, 2562: 3432, 2563: 3433, 2564: 3434, 2565: 3435, 2566: 3436, 2567: 3438, 2568: 3439, 2569: 3440, 2570: 3441, 2571: 3442, 2572: 3444, 2573: 3445, 2574: 3446, 2575: 3447, 2576: 3448, 2577: 3449, 2578: 3450, 2579: 3451, 2580: 3452, 2581: 3453, 2582: 3454, 2583: 3455, 2584: 3459, 2585: 3461, 2586: 3462, 2587: 3466, 2588: 3467, 2589: 3468, 2590: 3469, 2591: 3470, 2592: 3471, 2593: 3473, 2594: 3474, 2595: 3475, 2596: 3476, 2597: 3477, 2598: 3478, 2599: 3479, 2600: 3480, 2601: 3481, 2602: 3483, 2603: 3484, 2604: 3489, 2605: 3492, 2606: 3494, 2607: 3496, 2608: 3497, 2609: 3498, 2610: 3499, 2611: 3500, 2612: 3501, 2613: 3502, 2614: 3503, 2615: 3504, 2616: 3505, 2617: 3506, 2618: 3507, 2619: 3508, 2620: 3510, 2621: 3511, 2622: 3512, 2623: 3513, 2624: 3514, 2625: 3515, 2626: 3516, 2627: 3519, 2628: 3521, 2629: 3524, 2630: 3525, 2631: 3526, 2632: 3527, 2633: 3528, 2634: 3529, 2635: 3531, 2636: 3534, 2637: 3535, 2638: 3536, 2639: 3537, 2640: 3538, 2641: 3539, 2642: 3543, 2643: 3544, 2644: 3545, 2645: 3546, 2646: 3548, 2647: 3549, 2648: 3550, 2649: 3551, 2650: 3552, 2651: 3553, 2652: 3554, 2653: 3555, 2654: 3556, 2655: 3557, 2656: 3559, 2657: 3563, 2658: 3564, 2659: 3565, 2660: 3566, 2661: 3567, 2662: 3568, 2663: 3569, 2664: 3571, 2665: 3572, 2666: 3573, 2667: 3574, 2668: 3576, 2669: 3577, 2670: 3578, 2671: 3580, 2672: 3581, 2673: 3584, 2674: 3586, 2675: 3587, 2676: 3590, 2677: 3591, 2678: 3592, 2679: 3593, 2680: 3594, 2681: 3596, 2682: 3597, 2683: 3598, 2684: 3599, 2685: 3604, 2686: 3606, 2687: 3608, 2688: 3609, 2689: 3614, 2690: 3615, 2691: 3616, 2692: 3617, 2693: 3618, 2694: 3619, 2695: 3622, 2696: 3623, 2697: 3624, 2698: 3625, 2699: 3626, 2700: 3627, 2701: 3628, 2702: 3629, 2703: 3632, 2704: 3633, 2705: 3634, 2706: 3635, 2707: 3637, 2708: 3638, 2709: 3639, 2710: 3640, 2711: 3641, 2712: 3643, 2713: 3646, 2714: 3648, 2715: 3649, 2716: 3652, 2717: 3653, 2718: 3654, 2719: 3655, 2720: 3658, 2721: 3660, 2722: 3661, 2723: 3662, 2724: 3663, 2725: 3664, 2726: 3667, 2727: 3668, 2728: 3669, 2729: 3671, 2730: 3672, 2731: 3673, 2732: 3674, 2733: 3675, 2734: 3676, 2735: 3677, 2736: 3678, 2737: 3679, 2738: 3680, 2739: 3681, 2740: 3682, 2741: 3683, 2742: 3684, 2743: 3685, 2744: 3686, 2745: 3687, 2746: 3688, 2747: 3689, 2748: 3690, 2749: 3691, 2750: 3692, 2751: 3693, 2752: 3694, 2753: 3695, 2754: 3696, 2755: 3697, 2756: 3698, 2757: 3699, 2758: 3700, 2759: 3701, 2760: 3702, 2761: 3703, 2762: 3704, 2763: 3705, 2764: 3706, 2765: 3707, 2766: 3708, 2767: 3709, 2768: 3710, 2769: 3711, 2770: 3712, 2771: 3713, 2772: 3714, 2773: 3715, 2774: 3716, 2775: 3717, 2776: 3719, 2777: 3720, 2778: 3723, 2779: 3724, 2780: 3725, 2781: 3726, 2782: 3727, 2783: 3728, 2784: 3729, 2785: 3730, 2786: 3731, 2787: 3732, 2788: 3733, 2789: 3735, 2790: 3736, 2791: 3737, 2792: 3738, 2793: 3739, 2794: 3740, 2795: 3741, 2796: 3742, 2797: 3743, 2798: 3744, 2799: 3745, 2800: 3746, 2801: 3747, 2802: 3751, 2803: 3752, 2804: 3753, 2805: 3754, 2806: 3755, 2807: 3756, 2808: 3758, 2809: 3760, 2810: 3761, 2811: 3763, 2812: 3764, 2813: 3765, 2814: 3766, 2815: 3767, 2816: 3768, 2817: 3769, 2818: 3770, 2819: 3771, 2820: 3773, 2821: 3774, 2822: 3783, 2823: 3784, 2824: 3785, 2825: 3786, 2826: 3787, 2827: 3788, 2828: 3789, 2829: 3790, 2830: 3791, 2831: 3792, 2832: 3793, 2833: 3794, 2834: 3795, 2835: 3797, 2836: 3798, 2837: 3799, 2838: 3801, 2839: 3802, 2840: 3806, 2841: 3807, 2842: 3808, 2843: 3809, 2844: 3810, 2845: 3811, 2846: 3812, 2847: 3813, 2848: 3814, 2849: 3816, 2850: 3819, 2851: 3821, 2852: 3822, 2853: 3823, 2854: 3824, 2855: 3825, 2856: 3826, 2857: 3827, 2858: 3830, 2859: 3831, 2860: 3832, 2861: 3833, 2862: 3834, 2863: 3835, 2864: 3836, 2865: 3837, 2866: 3838, 2867: 3839, 2868: 3840, 2869: 3841, 2870: 3843, 2871: 3844, 2872: 3845, 2873: 3846, 2874: 3847, 2875: 3849, 2876: 3851, 2877: 3852, 2878: 3855, 2879: 3857, 2880: 3858, 2881: 3859, 2882: 3861, 2883: 3862, 2884: 3863, 2885: 3864, 2886: 3865, 2887: 3868, 2888: 3869, 2889: 3870, 2890: 3871, 2891: 3872, 2892: 3873, 2893: 3877, 2894: 3879, 2895: 3882, 2896: 3884, 2897: 3888, 2898: 3889, 2899: 3893, 2900: 3894, 2901: 3895, 2902: 3896, 2903: 3897, 2904: 3898, 2905: 3899, 2906: 3900, 2907: 3901, 2908: 3906, 2909: 3908, 2910: 3909, 2911: 3910, 2912: 3911, 2913: 3912, 2914: 3914, 2915: 3915, 2916: 3916, 2917: 3917, 2918: 3918, 2919: 3919, 2920: 3920, 2921: 3922, 2922: 3925, 2923: 3926, 2924: 3927, 2925: 3928, 2926: 3929, 2927: 3930, 2928: 3932, 2929: 3933, 2930: 3937, 2931: 3938, 2932: 3939, 2933: 3940, 2934: 3941, 2935: 3942, 2936: 3943, 2937: 3945, 2938: 3946, 2939: 3947, 2940: 3948, 2941: 3949, 2942: 3950, 2943: 3951, 2944: 3952, 2945: 3953, 2946: 3955, 2947: 3957, 2948: 3958, 2949: 3959, 2950: 3962, 2951: 3963, 2952: 3964, 2953: 3965, 2954: 3966, 2955: 3967, 2956: 3968, 2957: 3969, 2958: 3971, 2959: 3972, 2960: 3973, 2961: 3974, 2962: 3977, 2963: 3978, 2964: 3979, 2965: 3980, 2966: 3981, 2967: 3983, 2968: 3984, 2969: 3985, 2970: 3986, 2971: 3987, 2972: 3988, 2973: 3989, 2974: 3990, 2975: 3991, 2976: 3992, 2977: 3993, 2978: 3994, 2979: 3996, 2980: 3997, 2981: 3998, 2982: 3999, 2983: 4000, 2984: 4002, 2985: 4003, 2986: 4005, 2987: 4006, 2988: 4007, 2989: 4008, 2990: 4009, 2991: 4010, 2992: 4011, 2993: 4012, 2994: 4014, 2995: 4015, 2996: 4016, 2997: 4017, 2998: 4018, 2999: 4019, 3000: 4020, 3001: 4021, 3002: 4022, 3003: 4023, 3004: 4024, 3005: 4025, 3006: 4027, 3007: 4029, 3008: 4030, 3009: 4031, 3010: 4032, 3011: 4033, 3012: 4034, 3013: 4035, 3014: 4036, 3015: 4037, 3016: 4039, 3017: 4040, 3018: 4041, 3019: 4042, 3020: 4043, 3021: 4046, 3022: 4047, 3023: 4051, 3024: 4052, 3025: 4053, 3026: 4054, 3027: 4055, 3028: 4056, 3029: 4061, 3030: 4062, 3031: 4063, 3032: 4064, 3033: 4065, 3034: 4066, 3035: 4067, 3036: 4068, 3037: 4069, 3038: 4074, 3039: 4077, 3040: 4078, 3041: 4079, 3042: 4080, 3043: 4081, 3044: 4082, 3045: 4083, 3046: 4084, 3047: 4085, 3048: 4086, 3049: 4089, 3050: 4090, 3051: 4091, 3052: 4092, 3053: 4093, 3054: 4102, 3055: 4103, 3056: 4104, 3057: 4105, 3058: 4109, 3059: 4110, 3060: 4111, 3061: 4113, 3062: 4115, 3063: 4116, 3064: 4117, 3065: 4121, 3066: 4123, 3067: 4124, 3068: 4125, 3069: 4126, 3070: 4127, 3071: 4128, 3072: 4129, 3073: 4130, 3074: 4131, 3075: 4132, 3076: 4133, 3077: 4135, 3078: 4138, 3079: 4139, 3080: 4141, 3081: 4142, 3082: 4143, 3083: 4144, 3084: 4146, 3085: 4147, 3086: 4148, 3087: 4149, 3088: 4152, 3089: 4153, 3090: 4154, 3091: 4155, 3092: 4156, 3093: 4157, 3094: 4158, 3095: 4159, 3096: 4160, 3097: 4161, 3098: 4164, 3099: 4166, 3100: 4167, 3101: 4168, 3102: 4171, 3103: 4174, 3104: 4175, 3105: 4178, 3106: 4180, 3107: 4181, 3108: 4184, 3109: 4187, 3110: 4189, 3111: 4190, 3112: 4191, 3113: 4193, 3114: 4195, 3115: 4197, 3116: 4198, 3117: 4200, 3118: 4202, 3119: 4203, 3120: 4204, 3121: 4205, 3122: 4207, 3123: 4210, 3124: 4211, 3125: 4212, 3126: 4214, 3127: 4215, 3128: 4217, 3129: 4218, 3130: 4219, 3131: 4220, 3132: 4221, 3133: 4223, 3134: 4224, 3135: 4225, 3136: 4226, 3137: 4228, 3138: 4229, 3139: 4231, 3140: 4232, 3141: 4233, 3142: 4234, 3143: 4235, 3144: 4236, 3145: 4237, 3146: 4238, 3147: 4239, 3148: 4240, 3149: 4241, 3150: 4242, 3151: 4243, 3152: 4246, 3153: 4247, 3154: 4248, 3155: 4251, 3156: 4252, 3157: 4254, 3158: 4255, 3159: 4256, 3160: 4259, 3161: 4260, 3162: 4262, 3163: 4263, 3164: 4265, 3165: 4267, 3166: 4268, 3167: 4270, 3168: 4273, 3169: 4275, 3170: 4276, 3171: 4278, 3172: 4280, 3173: 4282, 3174: 4284, 3175: 4285, 3176: 4289, 3177: 4290, 3178: 4291, 3179: 4292, 3180: 4293, 3181: 4294, 3182: 4296, 3183: 4297, 3184: 4298, 3185: 4299, 3186: 4300, 3187: 4304, 3188: 4305, 3189: 4306, 3190: 4307, 3191: 4308, 3192: 4310, 3193: 4312, 3194: 4313, 3195: 4316, 3196: 4317, 3197: 4321, 3198: 4322, 3199: 4323, 3200: 4325, 3201: 4326, 3202: 4327, 3203: 4329, 3204: 4333, 3205: 4334, 3206: 4337, 3207: 4338, 3208: 4339, 3209: 4340, 3210: 4342, 3211: 4343, 3212: 4344, 3213: 4345, 3214: 4347, 3215: 4349, 3216: 4350, 3217: 4351, 3218: 4353, 3219: 4354, 3220: 4355, 3221: 4356, 3222: 4357, 3223: 4359, 3224: 4361, 3225: 4366, 3226: 4367, 3227: 4368, 3228: 4369, 3229: 4370, 3230: 4371, 3231: 4372, 3232: 4373, 3233: 4374, 3234: 4378, 3235: 4380, 3236: 4381, 3237: 4383, 3238: 4384, 3239: 4386, 3240: 4387, 3241: 4388, 3242: 4389, 3243: 4390, 3244: 4392, 3245: 4393, 3246: 4394, 3247: 4395, 3248: 4396, 3249: 4397, 3250: 4399, 3251: 4402, 3252: 4403, 3253: 4404, 3254: 4406, 3255: 4407, 3256: 4408, 3257: 4409, 3258: 4410, 3259: 4412, 3260: 4419, 3261: 4420, 3262: 4422, 3263: 4424, 3264: 4426, 3265: 4427, 3266: 4428, 3267: 4429, 3268: 4432, 3269: 4433, 3270: 4434, 3271: 4436, 3272: 4437, 3273: 4438, 3274: 4439, 3275: 4440, 3276: 4441, 3277: 4442, 3278: 4443, 3279: 4444, 3280: 4445, 3281: 4446, 3282: 4447, 3283: 4448, 3284: 4449, 3285: 4450, 3286: 4451, 3287: 4452, 3288: 4453, 3289: 4454, 3290: 4458, 3291: 4459, 3292: 4462, 3293: 4463, 3294: 4464, 3295: 4465, 3296: 4466, 3297: 4467, 3298: 4470, 3299: 4471, 3300: 4473, 3301: 4474, 3302: 4475, 3303: 4476, 3304: 4477, 3305: 4478, 3306: 4480, 3307: 4482, 3308: 4483, 3309: 4484, 3310: 4487, 3311: 4488, 3312: 4489, 3313: 4490, 3314: 4492, 3315: 4495, 3316: 4496, 3317: 4497, 3318: 4498, 3319: 4499, 3320: 4500, 3321: 4502, 3322: 4504, 3323: 4505, 3324: 4506, 3325: 4508, 3326: 4509, 3327: 4511, 3328: 4516, 3329: 4517, 3330: 4518, 3331: 4519, 3332: 4520, 3333: 4521, 3334: 4522, 3335: 4523, 3336: 4524, 3337: 4526, 3338: 4527, 3339: 4529, 3340: 4531, 3341: 4533, 3342: 4534, 3343: 4535, 3344: 4537, 3345: 4541, 3346: 4544, 3347: 4545, 3348: 4546, 3349: 4552, 3350: 4553, 3351: 4557, 3352: 4558, 3353: 4562, 3354: 4563, 3355: 4564, 3356: 4565, 3357: 4568, 3358: 4571, 3359: 4572, 3360: 4573, 3361: 4574, 3362: 4577, 3363: 4578, 3364: 4580, 3365: 4581, 3366: 4583, 3367: 4584, 3368: 4585, 3369: 4587, 3370: 4589, 3371: 4591, 3372: 4593, 3373: 4594, 3374: 4595, 3375: 4597, 3376: 4599, 3377: 4600, 3378: 4602, 3379: 4603, 3380: 4605, 3381: 4608, 3382: 4610, 3383: 4611, 3384: 4612, 3385: 4613, 3386: 4614, 3387: 4615, 3388: 4616, 3389: 4617, 3390: 4619, 3391: 4621, 3392: 4622, 3393: 4623, 3394: 4624, 3395: 4625, 3396: 4626, 3397: 4628, 3398: 4629, 3399: 4630, 3400: 4632, 3401: 4634, 3402: 4635, 3403: 4636, 3404: 4638, 3405: 4639, 3406: 4640, 3407: 4641, 3408: 4642, 3409: 4643, 3410: 4644, 3411: 4645, 3412: 4646, 3413: 4649, 3414: 4653, 3415: 4654, 3416: 4658, 3417: 4660, 3418: 4661, 3419: 4662, 3420: 4663, 3421: 4666, 3422: 4670, 3423: 4671, 3424: 4672, 3425: 4673, 3426: 4675, 3427: 4676, 3428: 4677, 3429: 4678, 3430: 4679, 3431: 4681, 3432: 4683, 3433: 4686, 3434: 4687, 3435: 4688, 3436: 4689, 3437: 4690, 3438: 4695, 3439: 4697, 3440: 4699, 3441: 4700, 3442: 4701, 3443: 4703, 3444: 4704, 3445: 4705, 3446: 4708, 3447: 4709, 3448: 4710, 3449: 4711, 3450: 4713, 3451: 4714, 3452: 4715, 3453: 4717, 3454: 4718, 3455: 4719, 3456: 4720, 3457: 4721, 3458: 4722, 3459: 4723, 3460: 4725, 3461: 4727, 3462: 4728, 3463: 4732, 3464: 4733, 3465: 4734, 3466: 4735, 3467: 4736, 3468: 4738, 3469: 4740, 3470: 4741, 3471: 4743, 3472: 4744, 3473: 4745, 3474: 4748, 3475: 4749, 3476: 4750, 3477: 4754, 3478: 4756, 3479: 4757, 3480: 4759, 3481: 4765, 3482: 4766, 3483: 4769, 3484: 4770, 3485: 4771, 3486: 4772, 3487: 4773, 3488: 4774, 3489: 4775, 3490: 4776, 3491: 4777, 3492: 4780, 3493: 4782, 3494: 4783, 3495: 4784, 3496: 4785, 3497: 4786, 3498: 4787, 3499: 4788, 3500: 4789, 3501: 4792, 3502: 4794, 3503: 4795, 3504: 4796, 3505: 4798, 3506: 4799, 3507: 4800, 3508: 4801, 3509: 4802, 3510: 4803, 3511: 4804, 3512: 4808, 3513: 4809, 3514: 4810, 3515: 4811, 3516: 4812, 3517: 4813, 3518: 4814, 3519: 4815, 3520: 4816, 3521: 4818, 3522: 4821, 3523: 4822, 3524: 4823, 3525: 4825, 3526: 4826, 3527: 4827, 3528: 4828, 3529: 4830, 3530: 4831, 3531: 4833, 3532: 4835, 3533: 4836, 3534: 4840, 3535: 4844, 3536: 4845, 3537: 4846, 3538: 4847, 3539: 4848, 3540: 4849, 3541: 4850, 3542: 4852, 3543: 4855, 3544: 4857, 3545: 4860, 3546: 4862, 3547: 4863, 3548: 4864, 3549: 4865, 3550: 4866, 3551: 4867, 3552: 4871, 3553: 4873, 3554: 4874, 3555: 4876, 3556: 4877, 3557: 4878, 3558: 4879, 3559: 4880, 3560: 4881, 3561: 4883, 3562: 4885, 3563: 4886, 3564: 4887, 3565: 4888, 3566: 4889, 3567: 4890, 3568: 4893, 3569: 4896, 3570: 4898, 3571: 4899, 3572: 4900, 3573: 4901, 3574: 4902, 3575: 4903, 3576: 4909, 3577: 4911, 3578: 4912, 3579: 4914, 3580: 4915, 3581: 4916, 3582: 4917, 3583: 4919, 3584: 4920, 3585: 4921, 3586: 4925, 3587: 4926, 3588: 4927, 3589: 4928, 3590: 4929, 3591: 4932, 3592: 4936, 3593: 4939, 3594: 4941, 3595: 4942, 3596: 4945, 3597: 4946, 3598: 4947, 3599: 4951, 3600: 4952, 3601: 4953, 3602: 4954, 3603: 4956, 3604: 4957, 3605: 4958, 3606: 4959, 3607: 4961, 3608: 4962, 3609: 4963, 3610: 4964, 3611: 4965, 3612: 4966, 3613: 4967, 3614: 4969, 3615: 4970, 3616: 4971, 3617: 4973, 3618: 4974, 3619: 4975, 3620: 4976, 3621: 4977, 3622: 4978, 3623: 4979, 3624: 4980, 3625: 4981, 3626: 4985, 3627: 4987, 3628: 4988, 3629: 4989, 3630: 4990, 3631: 4991, 3632: 4992, 3633: 4993, 3634: 4994, 3635: 4995, 3636: 4998, 3637: 5004, 3638: 5007, 3639: 5008, 3640: 5009, 3641: 5010, 3642: 5011, 3643: 5012, 3644: 5013, 3645: 5014, 3646: 5015, 3647: 5016, 3648: 5021, 3649: 5023, 3650: 5025, 3651: 5026, 3652: 5027, 3653: 5028, 3654: 5033, 3655: 5034, 3656: 5039, 3657: 5040, 3658: 5041, 3659: 5046, 3660: 5047, 3661: 5048, 3662: 5049, 3663: 5051, 3664: 5053, 3665: 5054, 3666: 5055, 3667: 5059, 3668: 5060, 3669: 5062, 3670: 5063, 3671: 5064, 3672: 5065, 3673: 5066, 3674: 5068, 3675: 5069, 3676: 5071, 3677: 5072, 3678: 5073, 3679: 5074, 3680: 5075, 3681: 5076, 3682: 5077, 3683: 5080, 3684: 5081, 3685: 5083, 3686: 5088, 3687: 5092, 3688: 5093, 3689: 5094, 3690: 5095, 3691: 5096, 3692: 5099, 3693: 5102, 3694: 5103, 3695: 5105, 3696: 5106, 3697: 5107, 3698: 5108, 3699: 5109, 3700: 5110, 3701: 5111, 3702: 5112, 3703: 5113, 3704: 5114, 3705: 5116, 3706: 5120, 3707: 5121, 3708: 5127, 3709: 5128, 3710: 5131, 3711: 5134, 3712: 5135, 3713: 5136, 3714: 5137, 3715: 5139, 3716: 5146, 3717: 5147, 3718: 5151, 3719: 5152, 3720: 5155, 3721: 5156, 3722: 5159, 3723: 5165, 3724: 5168, 3725: 5170, 3726: 5171, 3727: 5177, 3728: 5178, 3729: 5181, 3730: 5187, 3731: 5189, 3732: 5197, 3733: 5198, 3734: 5202, 3735: 5205, 3736: 5209, 3737: 5212, 3738: 5213, 3739: 5214, 3740: 5218, 3741: 5219, 3742: 5220, 3743: 5221, 3744: 5222, 3745: 5224, 3746: 5225, 3747: 5226, 3748: 5231, 3749: 5237, 3750: 5238, 3751: 5239, 3752: 5240, 3753: 5241, 3754: 5244, 3755: 5246, 3756: 5247, 3757: 5248, 3758: 5250, 3759: 5254, 3760: 5255, 3761: 5256, 3762: 5258, 3763: 5264, 3764: 5265, 3765: 5266, 3766: 5267, 3767: 5268, 3768: 5269, 3769: 5272, 3770: 5275, 3771: 5278, 3772: 5279, 3773: 5282, 3774: 5283, 3775: 5284, 3776: 5285, 3777: 5288, 3778: 5291, 3779: 5292, 3780: 5293, 3781: 5294, 3782: 5296, 3783: 5297, 3784: 5298, 3785: 5299, 3786: 5300, 3787: 5303, 3788: 5304, 3789: 5307, 3790: 5308, 3791: 5309, 3792: 5311, 3793: 5312, 3794: 5313, 3795: 5316, 3796: 5319, 3797: 5321, 3798: 5322, 3799: 5323, 3800: 5324, 3801: 5325, 3802: 5328, 3803: 5329, 3804: 5333, 3805: 5334, 3806: 5337, 3807: 5338, 3808: 5339, 3809: 5341, 3810: 5345, 3811: 5346, 3812: 5347, 3813: 5348, 3814: 5349, 3815: 5353, 3816: 5356, 3817: 5357, 3818: 5358, 3819: 5361, 3820: 5363, 3821: 5364, 3822: 5365, 3823: 5372, 3824: 5373, 3825: 5375, 3826: 5377, 3827: 5378, 3828: 5379, 3829: 5380, 3830: 5382, 3831: 5384, 3832: 5385, 3833: 5387, 3834: 5388, 3835: 5389, 3836: 5390, 3837: 5391, 3838: 5397, 3839: 5398, 3840: 5400, 3841: 5401, 3842: 5404, 3843: 5409, 3844: 5410, 3845: 5414, 3846: 5415, 3847: 5416, 3848: 5417, 3849: 5418, 3850: 5419, 3851: 5420, 3852: 5421, 3853: 5422, 3854: 5423, 3855: 5424, 3856: 5425, 3857: 5427, 3858: 5428, 3859: 5433, 3860: 5434, 3861: 5435, 3862: 5437, 3863: 5438, 3864: 5440, 3865: 5442, 3866: 5443, 3867: 5444, 3868: 5445, 3869: 5446, 3870: 5447, 3871: 5448, 3872: 5449, 3873: 5450, 3874: 5451, 3875: 5452, 3876: 5454, 3877: 5455, 3878: 5456, 3879: 5458, 3880: 5459, 3881: 5460, 3882: 5461, 3883: 5462, 3884: 5463, 3885: 5464, 3886: 5465, 3887: 5466, 3888: 5468, 3889: 5470, 3890: 5471, 3891: 5472, 3892: 5475, 3893: 5476, 3894: 5477, 3895: 5478, 3896: 5479, 3897: 5480, 3898: 5481, 3899: 5483, 3900: 5485, 3901: 5486, 3902: 5489, 3903: 5490, 3904: 5493, 3905: 5497, 3906: 5498, 3907: 5499, 3908: 5500, 3909: 5501, 3910: 5502, 3911: 5503, 3912: 5504, 3913: 5505, 3914: 5506, 3915: 5507, 3916: 5508, 3917: 5512, 3918: 5513, 3919: 5515, 3920: 5521, 3921: 5522, 3922: 5523, 3923: 5524, 3924: 5525, 3925: 5527, 3926: 5528, 3927: 5529, 3928: 5530, 3929: 5531, 3930: 5532, 3931: 5537, 3932: 5538, 3933: 5539, 3934: 5540, 3935: 5541, 3936: 5543, 3937: 5544, 3938: 5548, 3939: 5550, 3940: 5553, 3941: 5556, 3942: 5560, 3943: 5562, 3944: 5563, 3945: 5564, 3946: 5568, 3947: 5569, 3948: 5570, 3949: 5572, 3950: 5573, 3951: 5574, 3952: 5575, 3953: 5577, 3954: 5580, 3955: 5581, 3956: 5582, 3957: 5584, 3958: 5585, 3959: 5588, 3960: 5589, 3961: 5590, 3962: 5591, 3963: 5596, 3964: 5597, 3965: 5601, 3966: 5602, 3967: 5603, 3968: 5604, 3969: 5607, 3970: 5608, 3971: 5609, 3972: 5610, 3973: 5611, 3974: 5612, 3975: 5613, 3976: 5614, 3977: 5615, 3978: 5617, 3979: 5618, 3980: 5619, 3981: 5620, 3982: 5621, 3983: 5625, 3984: 5628, 3985: 5629, 3986: 5630, 3987: 5632, 3988: 5633, 3989: 5635, 3990: 5636, 3991: 5637, 3992: 5638, 3993: 5640, 3994: 5643, 3995: 5644, 3996: 5646, 3997: 5649, 3998: 5650, 3999: 5651, 4000: 5657, 4001: 5663, 4002: 5664, 4003: 5665, 4004: 5666, 4005: 5667, 4006: 5668, 4007: 5669, 4008: 5670, 4009: 5672, 4010: 5673, 4011: 5675, 4012: 5678, 4013: 5679, 4014: 5680, 4015: 5682, 4016: 5684, 4017: 5685, 4018: 5688, 4019: 5689, 4020: 5690, 4021: 5693, 4022: 5694, 4023: 5696, 4024: 5699, 4025: 5700, 4026: 5704, 4027: 5706, 4028: 5707, 4029: 5710, 4030: 5712, 4031: 5720, 4032: 5723, 4033: 5733, 4034: 5735, 4035: 5736, 4036: 5741, 4037: 5742, 4038: 5745, 4039: 5746, 4040: 5747, 4041: 5749, 4042: 5752, 4043: 5755, 4044: 5764, 4045: 5767, 4046: 5768, 4047: 5771, 4048: 5772, 4049: 5773, 4050: 5779, 4051: 5780, 4052: 5782, 4053: 5784, 4054: 5785, 4055: 5786, 4056: 5787, 4057: 5788, 4058: 5791, 4059: 5792, 4060: 5796, 4061: 5797, 4062: 5799, 4063: 5801, 4064: 5802, 4065: 5803, 4066: 5804, 4067: 5809, 4068: 5810, 4069: 5812, 4070: 5816, 4071: 5817, 4072: 5818, 4073: 5820, 4074: 5826, 4075: 5828, 4076: 5829, 4077: 5833, 4078: 5836, 4079: 5838, 4080: 5839, 4081: 5840, 4082: 5841, 4083: 5843, 4084: 5847, 4085: 5849, 4086: 5853, 4087: 5856, 4088: 5863, 4089: 5867, 4090: 5872, 4091: 5873, 4092: 5874, 4093: 5875, 4094: 5876, 4095: 5878, 4096: 5879, 4097: 5880, 4098: 5881, 4099: 5882, 4100: 5883, 4101: 5884, 4102: 5888, 4103: 5889, 4104: 5890, 4105: 5891, 4106: 5893, 4107: 5896, 4108: 5899, 4109: 5900, 4110: 5901, 4111: 5902, 4112: 5903, 4113: 5909, 4114: 5912, 4115: 5915, 4116: 5919, 4117: 5922, 4118: 5925, 4119: 5927, 4120: 5929, 4121: 5932, 4122: 5938, 4123: 5941, 4124: 5942, 4125: 5943, 4126: 5944, 4127: 5945, 4128: 5947, 4129: 5949, 4130: 5951, 4131: 5952, 4132: 5953, 4133: 5954, 4134: 5955, 4135: 5956, 4136: 5957, 4137: 5959, 4138: 5961, 4139: 5962, 4140: 5963, 4141: 5965, 4142: 5968, 4143: 5969, 4144: 5970, 4145: 5971, 4146: 5974, 4147: 5975, 4148: 5979, 4149: 5980, 4150: 5984, 4151: 5986, 4152: 5988, 4153: 5989, 4154: 5990, 4155: 5991, 4156: 5992, 4157: 5993, 4158: 5994, 4159: 5995, 4160: 5999, 4161: 6001, 4162: 6002, 4163: 6003, 4164: 6005, 4165: 6006, 4166: 6009, 4167: 6012, 4168: 6013, 4169: 6014, 4170: 6016, 4171: 6020, 4172: 6021, 4173: 6022, 4174: 6023, 4175: 6025, 4176: 6027, 4177: 6030, 4178: 6031, 4179: 6033, 4180: 6035, 4181: 6036, 4182: 6039, 4183: 6040, 4184: 6041, 4185: 6042, 4186: 6044, 4187: 6049, 4188: 6051, 4189: 6055, 4190: 6057, 4191: 6058, 4192: 6059, 4193: 6060, 4194: 6062, 4195: 6063, 4196: 6064, 4197: 6067, 4198: 6070, 4199: 6078, 4200: 6086, 4201: 6090, 4202: 6093, 4203: 6095, 4204: 6100, 4205: 6101, 4206: 6104, 4207: 6107, 4208: 6111, 4209: 6116, 4210: 6119, 4211: 6122, 4212: 6123, 4213: 6124, 4214: 6125, 4215: 6140, 4216: 6141, 4217: 6143, 4218: 6145, 4219: 6148, 4220: 6153, 4221: 6155, 4222: 6156, 4223: 6157, 4224: 6158, 4225: 6159, 4226: 6162, 4227: 6163, 4228: 6166, 4229: 6169, 4230: 6170, 4231: 6178, 4232: 6181, 4233: 6182, 4234: 6183, 4235: 6184, 4236: 6185, 4237: 6186, 4238: 6187, 4239: 6188, 4240: 6192, 4241: 6193, 4242: 6195, 4243: 6196, 4244: 6197, 4245: 6201, 4246: 6202, 4247: 6203, 4248: 6204, 4249: 6210, 4250: 6212, 4251: 6213, 4252: 6214, 4253: 6215, 4254: 6216, 4255: 6217, 4256: 6218, 4257: 6219, 4258: 6220, 4259: 6222, 4260: 6223, 4261: 6225, 4262: 6228, 4263: 6232, 4264: 6234, 4265: 6235, 4266: 6237, 4267: 6238, 4268: 6239, 4269: 6241, 4270: 6242, 4271: 6244, 4272: 6245, 4273: 6246, 4274: 6249, 4275: 6250, 4276: 6251, 4277: 6252, 4278: 6254, 4279: 6263, 4280: 6264, 4281: 6265, 4282: 6266, 4283: 6267, 4284: 6268, 4285: 6269, 4286: 6270, 4287: 6271, 4288: 6273, 4289: 6279, 4290: 6280, 4291: 6281, 4292: 6283, 4293: 6285, 4294: 6286, 4295: 6287, 4296: 6288, 4297: 6289, 4298: 6290, 4299: 6291, 4300: 6294, 4301: 6295, 4302: 6296, 4303: 6297, 4304: 6298, 4305: 6299, 4306: 6300, 4307: 6301, 4308: 6302, 4309: 6303, 4310: 6305, 4311: 6306, 4312: 6308, 4313: 6310, 4314: 6313, 4315: 6314, 4316: 6315, 4317: 6316, 4318: 6319, 4319: 6320, 4320: 6322, 4321: 6323, 4322: 6324, 4323: 6327, 4324: 6329, 4325: 6330, 4326: 6331, 4327: 6332, 4328: 6333, 4329: 6334, 4330: 6335, 4331: 6336, 4332: 6337, 4333: 6338, 4334: 6339, 4335: 6341, 4336: 6342, 4337: 6344, 4338: 6345, 4339: 6347, 4340: 6348, 4341: 6349, 4342: 6350, 4343: 6357, 4344: 6358, 4345: 6365, 4346: 6367, 4347: 6368, 4348: 6370, 4349: 6371, 4350: 6373, 4351: 6374, 4352: 6375, 4353: 6376, 4354: 6377, 4355: 6378, 4356: 6379, 4357: 6380, 4358: 6382, 4359: 6383, 4360: 6385, 4361: 6386, 4362: 6387, 4363: 6390, 4364: 6395, 4365: 6400, 4366: 6402, 4367: 6405, 4368: 6407, 4369: 6408, 4370: 6410, 4371: 6412, 4372: 6415, 4373: 6417, 4374: 6422, 4375: 6424, 4376: 6425, 4377: 6427, 4378: 6428, 4379: 6429, 4380: 6433, 4381: 6434, 4382: 6436, 4383: 6440, 4384: 6442, 4385: 6448, 4386: 6449, 4387: 6452, 4388: 6453, 4389: 6454, 4390: 6460, 4391: 6461, 4392: 6464, 4393: 6465, 4394: 6466, 4395: 6476, 4396: 6477, 4397: 6480, 4398: 6482, 4399: 6483, 4400: 6484, 4401: 6493, 4402: 6502, 4403: 6503, 4404: 6506, 4405: 6509, 4406: 6510, 4407: 6514, 4408: 6515, 4409: 6516, 4410: 6517, 4411: 6523, 4412: 6527, 4413: 6528, 4414: 6530, 4415: 6533, 4416: 6534, 4417: 6535, 4418: 6536, 4419: 6537, 4420: 6538, 4421: 6539, 4422: 6541, 4423: 6542, 4424: 6545, 4425: 6547, 4426: 6548, 4427: 6549, 4428: 6550, 4429: 6551, 4430: 6552, 4431: 6553, 4432: 6554, 4433: 6557, 4434: 6558, 4435: 6559, 4436: 6560, 4437: 6561, 4438: 6563, 4439: 6564, 4440: 6565, 4441: 6566, 4442: 6567, 4443: 6568, 4444: 6571, 4445: 6572, 4446: 6573, 4447: 6574, 4448: 6577, 4449: 6578, 4450: 6579, 4451: 6581, 4452: 6582, 4453: 6583, 4454: 6584, 4455: 6586, 4456: 6587, 4457: 6588, 4458: 6591, 4459: 6592, 4460: 6593, 4461: 6595, 4462: 6596, 4463: 6597, 4464: 6598, 4465: 6603, 4466: 6604, 4467: 6609, 4468: 6611, 4469: 6612, 4470: 6614, 4471: 6615, 4472: 6616, 4473: 6617, 4474: 6618, 4475: 6619, 4476: 6620, 4477: 6624, 4478: 6625, 4479: 6628, 4480: 6629, 4481: 6631, 4482: 6636, 4483: 6638, 4484: 6639, 4485: 6643, 4486: 6644, 4487: 6645, 4488: 6650, 4489: 6654, 4490: 6656, 4491: 6658, 4492: 6659, 4493: 6660, 4494: 6662, 4495: 6663, 4496: 6664, 4497: 6665, 4498: 6666, 4499: 6667, 4500: 6669, 4501: 6670, 4502: 6671, 4503: 6678, 4504: 6679, 4505: 6684, 4506: 6686, 4507: 6687, 4508: 6688, 4509: 6689, 4510: 6691, 4511: 6692, 4512: 6695, 4513: 6696, 4514: 6699, 4515: 6702, 4516: 6705, 4517: 6706, 4518: 6707, 4519: 6708, 4520: 6709, 4521: 6710, 4522: 6711, 4523: 6713, 4524: 6715, 4525: 6718, 4526: 6720, 4527: 6721, 4528: 6722, 4529: 6723, 4530: 6724, 4531: 6731, 4532: 6732, 4533: 6734, 4534: 6744, 4535: 6746, 4536: 6748, 4537: 6750, 4538: 6751, 4539: 6752, 4540: 6753, 4541: 6754, 4542: 6755, 4543: 6760, 4544: 6763, 4545: 6764, 4546: 6765, 4547: 6768, 4548: 6769, 4549: 6770, 4550: 6772, 4551: 6773, 4552: 6774, 4553: 6775, 4554: 6776, 4555: 6777, 4556: 6780, 4557: 6782, 4558: 6783, 4559: 6785, 4560: 6786, 4561: 6787, 4562: 6788, 4563: 6789, 4564: 6790, 4565: 6791, 4566: 6793, 4567: 6794, 4568: 6796, 4569: 6797, 4570: 6798, 4571: 6800, 4572: 6803, 4573: 6804, 4574: 6807, 4575: 6808, 4576: 6809, 4577: 6810, 4578: 6811, 4579: 6812, 4580: 6814, 4581: 6816, 4582: 6817, 4583: 6818, 4584: 6820, 4585: 6821, 4586: 6827, 4587: 6832, 4588: 6835, 4589: 6836, 4590: 6837, 4591: 6850, 4592: 6851, 4593: 6852, 4594: 6853, 4595: 6856, 4596: 6857, 4597: 6858, 4598: 6860, 4599: 6862, 4600: 6863, 4601: 6867, 4602: 6868, 4603: 6869, 4604: 6870, 4605: 6872, 4606: 6873, 4607: 6874, 4608: 6879, 4609: 6880, 4610: 6881, 4611: 6882, 4612: 6883, 4613: 6884, 4614: 6885, 4615: 6886, 4616: 6887, 4617: 6888, 4618: 6889, 4619: 6890, 4620: 6893, 4621: 6898, 4622: 6899, 4623: 6902, 4624: 6909, 4625: 6911, 4626: 6912, 4627: 6918, 4628: 6920, 4629: 6927, 4630: 6932, 4631: 6934, 4632: 6935, 4633: 6936, 4634: 6938, 4635: 6939, 4636: 6942, 4637: 6944, 4638: 6945, 4639: 6946, 4640: 6947, 4641: 6948, 4642: 6949, 4643: 6950, 4644: 6951, 4645: 6952, 4646: 6953, 4647: 6954, 4648: 6957, 4649: 6958, 4650: 6959, 4651: 6961, 4652: 6962, 4653: 6963, 4654: 6965, 4655: 6966, 4656: 6967, 4657: 6969, 4658: 6970, 4659: 6971, 4660: 6973, 4661: 6974, 4662: 6975, 4663: 6978, 4664: 6979, 4665: 6981, 4666: 6982, 4667: 6983, 4668: 6984, 4669: 6985, 4670: 6986, 4671: 6987, 4672: 6989, 4673: 6990, 4674: 6992, 4675: 6993, 4676: 6994, 4677: 6996, 4678: 6997, 4679: 6998, 4680: 6999, 4681: 7000, 4682: 7001, 4683: 7004, 4684: 7005, 4685: 7007, 4686: 7008, 4687: 7009, 4688: 7010, 4689: 7012, 4690: 7013, 4691: 7015, 4692: 7016, 4693: 7017, 4694: 7018, 4695: 7019, 4696: 7022, 4697: 7023, 4698: 7024, 4699: 7025, 4700: 7026, 4701: 7027, 4702: 7028, 4703: 7030, 4704: 7031, 4705: 7032, 4706: 7033, 4707: 7034, 4708: 7036, 4709: 7037, 4710: 7038, 4711: 7040, 4712: 7041, 4713: 7044, 4714: 7045, 4715: 7046, 4716: 7047, 4717: 7048, 4718: 7049, 4719: 7050, 4720: 7051, 4721: 7052, 4722: 7053, 4723: 7054, 4724: 7055, 4725: 7056, 4726: 7057, 4727: 7058, 4728: 7059, 4729: 7060, 4730: 7061, 4731: 7062, 4732: 7063, 4733: 7064, 4734: 7065, 4735: 7067, 4736: 7069, 4737: 7070, 4738: 7071, 4739: 7072, 4740: 7073, 4741: 7074, 4742: 7075, 4743: 7076, 4744: 7078, 4745: 7079, 4746: 7080, 4747: 7082, 4748: 7083, 4749: 7084, 4750: 7085, 4751: 7086, 4752: 7087, 4753: 7088, 4754: 7089, 4755: 7090, 4756: 7091, 4757: 7092, 4758: 7093, 4759: 7096, 4760: 7099, 4761: 7101, 4762: 7102, 4763: 7103, 4764: 7104, 4765: 7107, 4766: 7108, 4767: 7109, 4768: 7114, 4769: 7115, 4770: 7116, 4771: 7117, 4772: 7118, 4773: 7121, 4774: 7122, 4775: 7123, 4776: 7124, 4777: 7125, 4778: 7127, 4779: 7131, 4780: 7132, 4781: 7134, 4782: 7137, 4783: 7139, 4784: 7141, 4785: 7142, 4786: 7143, 4787: 7147, 4788: 7149, 4789: 7150, 4790: 7151, 4791: 7153, 4792: 7154, 4793: 7155, 4794: 7156, 4795: 7158, 4796: 7160, 4797: 7161, 4798: 7162, 4799: 7163, 4800: 7164, 4801: 7165, 4802: 7167, 4803: 7169, 4804: 7171, 4805: 7173, 4806: 7175, 4807: 7176, 4808: 7177, 4809: 7178, 4810: 7179, 4811: 7181, 4812: 7184, 4813: 7190, 4814: 7191, 4815: 7192, 4816: 7193, 4817: 7202, 4818: 7205, 4819: 7206, 4820: 7208, 4821: 7209, 4822: 7211, 4823: 7212, 4824: 7215, 4825: 7216, 4826: 7217, 4827: 7218, 4828: 7219, 4829: 7222, 4830: 7223, 4831: 7225, 4832: 7228, 4833: 7234, 4834: 7235, 4835: 7236, 4836: 7238, 4837: 7243, 4838: 7245, 4839: 7247, 4840: 7248, 4841: 7251, 4842: 7254, 4843: 7255, 4844: 7256, 4845: 7257, 4846: 7258, 4847: 7259, 4848: 7260, 4849: 7261, 4850: 7262, 4851: 7263, 4852: 7264, 4853: 7265, 4854: 7266, 4855: 7282, 4856: 7285, 4857: 7292, 4858: 7293, 4859: 7294, 4860: 7297, 4861: 7299, 4862: 7301, 4863: 7302, 4864: 7303, 4865: 7304, 4866: 7305, 4867: 7306, 4868: 7307, 4869: 7308, 4870: 7310, 4871: 7311, 4872: 7312, 4873: 7315, 4874: 7316, 4875: 7317, 4876: 7318, 4877: 7319, 4878: 7320, 4879: 7321, 4880: 7323, 4881: 7324, 4882: 7325, 4883: 7326, 4884: 7327, 4885: 7328, 4886: 7333, 4887: 7335, 4888: 7336, 4889: 7340, 4890: 7344, 4891: 7345, 4892: 7346, 4893: 7347, 4894: 7348, 4895: 7349, 4896: 7352, 4897: 7354, 4898: 7357, 4899: 7360, 4900: 7361, 4901: 7362, 4902: 7364, 4903: 7366, 4904: 7367, 4905: 7368, 4906: 7369, 4907: 7371, 4908: 7372, 4909: 7373, 4910: 7375, 4911: 7376, 4912: 7377, 4913: 7379, 4914: 7380, 4915: 7381, 4916: 7382, 4917: 7386, 4918: 7387, 4919: 7390, 4920: 7394, 4921: 7395, 4922: 7396, 4923: 7411, 4924: 7414, 4925: 7419, 4926: 7438, 4927: 7439, 4928: 7440, 4929: 7443, 4930: 7444, 4931: 7445, 4932: 7448, 4933: 7449, 4934: 7450, 4935: 7451, 4936: 7454, 4937: 7455, 4938: 7457, 4939: 7458, 4940: 7459, 4941: 7460, 4942: 7477, 4943: 7479, 4944: 7481, 4945: 7482, 4946: 7486, 4947: 7487, 4948: 7492, 4949: 7493, 4950: 7541, 4951: 7560, 4952: 7561, 4953: 7562, 4954: 7564, 4955: 7566, 4956: 7569, 4957: 7570, 4958: 7572, 4959: 7573, 4960: 7579, 4961: 7581, 4962: 7584, 4963: 7587, 4964: 7614, 4965: 7615, 4966: 7616, 4967: 7618, 4968: 7619, 4969: 7620, 4970: 7624, 4971: 7636, 4972: 7646, 4973: 7647, 4974: 7649, 4975: 7650, 4976: 7657, 4977: 7669, 4978: 7698, 4979: 7700, 4980: 7701, 4981: 7702, 4982: 7704, 4983: 7705, 4984: 7706, 4985: 7707, 4986: 7708, 4987: 7713, 4988: 7714, 4989: 7716, 4990: 7720, 4991: 7727, 4992: 7728, 4993: 7730, 4994: 7742, 4995: 7743, 4996: 7745, 4997: 7748, 4998: 7749, 4999: 7753, 5000: 7756, 5001: 7757, 5002: 7762, 5003: 7766, 5004: 7767, 5005: 7772, 5006: 7773, 5007: 7781, 5008: 7782, 5009: 7786, 5010: 7789, 5011: 7802, 5012: 7810, 5013: 7811, 5014: 7812, 5015: 7815, 5016: 7820, 5017: 7822, 5018: 7826, 5019: 7831, 5020: 7832, 5021: 7833, 5022: 7834, 5023: 7835, 5024: 7839, 5025: 7840, 5026: 7841, 5027: 7842, 5028: 7843, 5029: 7844, 5030: 7845, 5031: 7846, 5032: 7879, 5033: 7882, 5034: 7883, 5035: 7884, 5036: 7888, 5037: 7889, 5038: 7891, 5039: 7894, 5040: 7895, 5041: 7896, 5042: 7899, 5043: 7900, 5044: 7916, 5045: 7920, 5046: 7924, 5047: 7925, 5048: 7926, 5049: 7930, 5050: 7932, 5051: 7934, 5052: 7936, 5053: 7937, 5054: 7938, 5055: 7939, 5056: 7940, 5057: 7943, 5058: 7944, 5059: 7951, 5060: 7976, 5061: 7979, 5062: 7980, 5063: 7981, 5064: 7982, 5065: 7983, 5066: 7984, 5067: 7986, 5068: 7987, 5069: 7988, 5070: 7991, 5071: 7993, 5072: 8008, 5073: 8010, 5074: 8011, 5075: 8012, 5076: 8014, 5077: 8015, 5078: 8016, 5079: 8019, 5080: 8024, 5081: 8025, 5082: 8033, 5083: 8035, 5084: 8042, 5085: 8043, 5086: 8044, 5087: 8045, 5088: 8057, 5089: 8092, 5090: 8093, 5091: 8094, 5092: 8117, 5093: 8118, 5094: 8119, 5095: 8121, 5096: 8125, 5097: 8126, 5098: 8128, 5099: 8131, 5100: 8132, 5101: 8136, 5102: 8137, 5103: 8138, 5104: 8142, 5105: 8143, 5106: 8147, 5107: 8153, 5108: 8154, 5109: 8157, 5110: 8158, 5111: 8167, 5112: 8169, 5113: 8183, 5114: 8188, 5115: 8189, 5116: 8190, 5117: 8191, 5118: 8195, 5119: 8196, 5120: 8197, 5121: 8199, 5122: 8207, 5123: 8225, 5124: 8228, 5125: 8232, 5126: 8235, 5127: 8236, 5128: 8238, 5129: 8239, 5130: 8241, 5131: 8253, 5132: 8254, 5133: 8261, 5134: 8264, 5135: 8266, 5136: 8268, 5137: 8270, 5138: 8275, 5139: 8290, 5140: 8293, 5141: 8302, 5142: 8327, 5143: 8331, 5144: 8335, 5145: 8336, 5146: 8337, 5147: 8338, 5148: 8340, 5149: 8341, 5150: 8360, 5151: 8361, 5152: 8362, 5153: 8363, 5154: 8364, 5155: 8366, 5156: 8368, 5157: 8369, 5158: 8370, 5159: 8371, 5160: 8372, 5161: 8373, 5162: 8375, 5163: 8376, 5164: 8378, 5165: 8379, 5166: 8380, 5167: 8382, 5168: 8383, 5169: 8385, 5170: 8387, 5171: 8391, 5172: 8402, 5173: 8405, 5174: 8410, 5175: 8424, 5176: 8425, 5177: 8426, 5178: 8427, 5179: 8446, 5180: 8447, 5181: 8450, 5182: 8451, 5183: 8454, 5184: 8456, 5185: 8458, 5186: 8459, 5187: 8461, 5188: 8462, 5189: 8463, 5190: 8464, 5191: 8465, 5192: 8477, 5193: 8481, 5194: 8482, 5195: 8484, 5196: 8487, 5197: 8491, 5198: 8492, 5199: 8493, 5200: 8494, 5201: 8495, 5202: 8500, 5203: 8501, 5204: 8502, 5205: 8506, 5206: 8507, 5207: 8511, 5208: 8512, 5209: 8518, 5210: 8521, 5211: 8526, 5212: 8528, 5213: 8529, 5214: 8530, 5215: 8531, 5216: 8532, 5217: 8533, 5218: 8534, 5219: 8535, 5220: 8542, 5221: 8571, 5222: 8574, 5223: 8575, 5224: 8577, 5225: 8578, 5226: 8580, 5227: 8581, 5228: 8582, 5229: 8587, 5230: 8588, 5231: 8591, 5232: 8593, 5233: 8596, 5234: 8600, 5235: 8601, 5236: 8604, 5237: 8605, 5238: 8607, 5239: 8609, 5240: 8610, 5241: 8611, 5242: 8614, 5243: 8617, 5244: 8620, 5245: 8622, 5246: 8623, 5247: 8626, 5248: 8632, 5249: 8633, 5250: 8636, 5251: 8638, 5252: 8640, 5253: 8641, 5254: 8643, 5255: 8644, 5256: 8645, 5257: 8650, 5258: 8656, 5259: 8665, 5260: 8666, 5261: 8667, 5262: 8670, 5263: 8677, 5264: 8684, 5265: 8685, 5266: 8690, 5267: 8695, 5268: 8711, 5269: 8712, 5270: 8713, 5271: 8714, 5272: 8718, 5273: 8720, 5274: 8724, 5275: 8727, 5276: 8730, 5277: 8738, 5278: 8743, 5279: 8748, 5280: 8753, 5281: 8754, 5282: 8755, 5283: 8771, 5284: 8772, 5285: 8773, 5286: 8774, 5287: 8778, 5288: 8781, 5289: 8782, 5290: 8783, 5291: 8784, 5292: 8795, 5293: 8796, 5294: 8798, 5295: 8799, 5296: 8800, 5297: 8804, 5298: 8807, 5299: 8808, 5300: 8809, 5301: 8810, 5302: 8813, 5303: 8814, 5304: 8815, 5305: 8827, 5306: 8830, 5307: 8831, 5308: 8832, 5309: 8833, 5310: 8835, 5311: 8836, 5312: 8838, 5313: 8840, 5314: 8844, 5315: 8848, 5316: 8860, 5317: 8861, 5318: 8864, 5319: 8865, 5320: 8866, 5321: 8869, 5322: 8870, 5323: 8873, 5324: 8874, 5325: 8875, 5326: 8879, 5327: 8880, 5328: 8894, 5329: 8905, 5330: 8906, 5331: 8907, 5332: 8908, 5333: 8910, 5334: 8911, 5335: 8912, 5336: 8914, 5337: 8915, 5338: 8916, 5339: 8917, 5340: 8918, 5341: 8919, 5342: 8920, 5343: 8921, 5344: 8928, 5345: 8933, 5346: 8934, 5347: 8937, 5348: 8938, 5349: 8939, 5350: 8943, 5351: 8946, 5352: 8947, 5353: 8948, 5354: 8949, 5355: 8950, 5356: 8951, 5357: 8952, 5358: 8954, 5359: 8955, 5360: 8957, 5361: 8958, 5362: 8959, 5363: 8961, 5364: 8964, 5365: 8965, 5366: 8966, 5367: 8967, 5368: 8968, 5369: 8969, 5370: 8970, 5371: 8972, 5372: 8973, 5373: 8974, 5374: 8977, 5375: 8978, 5376: 8979, 5377: 8981, 5378: 8982, 5379: 8983, 5380: 8984, 5381: 8985, 5382: 8987, 5383: 8989, 5384: 8998, 5385: 9004, 5386: 9005, 5387: 9008, 5388: 9010, 5389: 9018, 5390: 25746, 5391: 25750, 5392: 25752, 5393: 25753, 5394: 25757, 5395: 25769, 5396: 25771, 5397: 25773, 5398: 25782, 5399: 25788, 5400: 25795, 5401: 25797, 5402: 25805, 5403: 25825, 5404: 25826, 5405: 25827, 5406: 25833, 5407: 25834, 5408: 25841, 5409: 25850, 5410: 25856, 5411: 25865, 5412: 25870, 5413: 25886, 5414: 25887, 5415: 25898, 5416: 25905, 5417: 25906, 5418: 25923, 5419: 25927, 5420: 25937, 5421: 25940, 5422: 25946, 5423: 25947, 5424: 25952, 5425: 25959, 5426: 25962, 5427: 25963, 5428: 25996, 5429: 25999, 5430: 26002, 5431: 26003, 5432: 26038, 5433: 26048, 5434: 26052, 5435: 26059, 5436: 26073, 5437: 26078, 5438: 26082, 5439: 26084, 5440: 26095, 5441: 26116, 5442: 26122, 5443: 26124, 5444: 26131, 5445: 26133, 5446: 26142, 5447: 26147, 5448: 26150, 5449: 26151, 5450: 26152, 5451: 26158, 5452: 26159, 5453: 26169, 5454: 26171, 5455: 26172, 5456: 26176, 5457: 26183, 5458: 26184, 5459: 26195, 5460: 26198, 5461: 26225, 5462: 26231, 5463: 26236, 5464: 26237, 5465: 26242, 5466: 26249, 5467: 26258, 5468: 26265, 5469: 26283, 5470: 26285, 5471: 26303, 5472: 26308, 5473: 26313, 5474: 26317, 5475: 26322, 5476: 26326, 5477: 26340, 5478: 26344, 5479: 26347, 5480: 26350, 5481: 26357, 5482: 26359, 5483: 26365, 5484: 26366, 5485: 26375, 5486: 26386, 5487: 26391, 5488: 26394, 5489: 26399, 5490: 26401, 5491: 26409, 5492: 26413, 5493: 26422, 5494: 26429, 5495: 26444, 5496: 26453, 5497: 26464, 5498: 26467, 5499: 26471, 5500: 26472, 5501: 26492, 5502: 26498, 5503: 26504, 5504: 26510, 5505: 26523, 5506: 26524, 5507: 26527, 5508: 26528, 5509: 26539, 5510: 26542, 5511: 26547, 5512: 26554, 5513: 26555, 5514: 26562, 5515: 26564, 5516: 26567, 5517: 26578, 5518: 26585, 5519: 26587, 5520: 26590, 5521: 26593, 5522: 26599, 5523: 26603, 5524: 26606, 5525: 26612, 5526: 26614, 5527: 26622, 5528: 26629, 5529: 26630, 5530: 26631, 5531: 26645, 5532: 26649, 5533: 26662, 5534: 26676, 5535: 26680, 5536: 26681, 5537: 26686, 5538: 26693, 5539: 26694, 5540: 26695, 5541: 26696, 5542: 26700, 5543: 26701, 5544: 26704, 5545: 26712, 5546: 26713, 5547: 26717, 5548: 26726, 5549: 26729, 5550: 26732, 5551: 26736, 5552: 26741, 5553: 26743, 5554: 26745, 5555: 26750, 5556: 26761, 5557: 26764, 5558: 26765, 5559: 26776, 5560: 26777, 5561: 26778, 5562: 26782, 5563: 26791, 5564: 26792, 5565: 26796, 5566: 26797, 5567: 26810, 5568: 26812, 5569: 26819, 5570: 26828, 5571: 26838, 5572: 26840, 5573: 26849, 5574: 26854, 5575: 26861, 5576: 26865, 5577: 26870, 5578: 26871, 5579: 26875, 5580: 26887, 5581: 26900, 5582: 26901, 5583: 26903, 5584: 26913, 5585: 26928, 5586: 26940, 5587: 26947, 5588: 26958, 5589: 26965, 5590: 26974, 5591: 26985, 5592: 26999, 5593: 27002, 5594: 27003, 5595: 27006, 5596: 27008, 5597: 27020, 5598: 27022, 5599: 27032, 5600: 27036, 5601: 27074, 5602: 27075, 5603: 27105, 5604: 27124, 5605: 27134, 5606: 27140, 5607: 27155, 5608: 27156, 5609: 27176, 5610: 27178, 5611: 27186, 5612: 27193, 5613: 27246, 5614: 27251, 5615: 27255, 5616: 27266, 5617: 27306, 5618: 27311, 5619: 27317, 5620: 27320, 5621: 27328, 5622: 27329, 5623: 27368, 5624: 27369, 5625: 27370, 5626: 27373, 5627: 27397, 5628: 27408, 5629: 27416, 5630: 27420, 5631: 27426, 5632: 27434, 5633: 27441, 5634: 27450, 5635: 27473, 5636: 27478, 5637: 27480, 5638: 27482, 5639: 27491, 5640: 27513, 5641: 27523, 5642: 27537, 5643: 27539, 5644: 27549, 5645: 27555, 5646: 27563, 5647: 27584, 5648: 27592, 5649: 27595, 5650: 27604, 5651: 27611, 5652: 27618, 5653: 27619, 5654: 27627, 5655: 27644, 5656: 27660, 5657: 27664, 5658: 27667, 5659: 27674, 5660: 27683, 5661: 27685, 5662: 27689, 5663: 27692, 5664: 27695, 5665: 27704, 5666: 27705, 5667: 27706, 5668: 27708, 5669: 27716, 5670: 27721, 5671: 27722, 5672: 27728, 5673: 27731, 5674: 27741, 5675: 27744, 5676: 27746, 5677: 27751, 5678: 27762, 5679: 27768, 5680: 27769, 5681: 27772, 5682: 27773, 5683: 27776, 5684: 27778, 5685: 27784, 5686: 27788, 5687: 27790, 5688: 27793, 5689: 27801, 5690: 27802, 5691: 27803, 5692: 27808, 5693: 27815, 5694: 27816, 5695: 27820, 5696: 27821, 5697: 27822, 5698: 27826, 5699: 27829, 5700: 27830, 5701: 27831, 5702: 27834, 5703: 27837, 5704: 27838, 5705: 27839, 5706: 27846, 5707: 27850, 5708: 27865, 5709: 27866, 5710: 27869, 5711: 27873, 5712: 27878, 5713: 27879, 5714: 27882, 5715: 27899, 5716: 27904, 5717: 27905, 5718: 27912, 5719: 30707, 5720: 30745, 5721: 30749, 5722: 30793, 5723: 30803, 5724: 30810, 5725: 30812, 5726: 30816, 5727: 30818, 5728: 30820, 5729: 30822, 5730: 30825, 5731: 30846, 5732: 30848, 5733: 30850, 5734: 30883, 5735: 30890, 5736: 30894, 5737: 30898, 5738: 30994, 5739: 31000, 5740: 31030, 5741: 31038, 5742: 31049, 5743: 31083, 5744: 31086, 5745: 31101, 5746: 31114, 5747: 31116, 5748: 31123, 5749: 31150, 5750: 31162, 5751: 31184, 5752: 31193, 5753: 31221, 5754: 31223, 5755: 31225, 5756: 31260, 5757: 31297, 5758: 31309, 5759: 31364, 5760: 31367, 5761: 31410, 5762: 31420, 5763: 31422, 5764: 31424, 5765: 31427, 5766: 31431, 5767: 31433, 5768: 31435, 5769: 31437, 5770: 31445, 5771: 31522, 5772: 31545, 5773: 31553, 5774: 31590, 5775: 31610, 5776: 31617, 5777: 31658, 5778: 31660, 5779: 31664, 5780: 31685, 5781: 31692, 5782: 31694, 5783: 31696, 5784: 31698, 5785: 31700, 5786: 31702, 5787: 31737, 5788: 31804, 5789: 31851, 5790: 31867, 5791: 31878, 5792: 31903, 5793: 31909, 5794: 31921, 5795: 31923, 5796: 31925, 5797: 31952, 5798: 31973, 5799: 32009, 5800: 32011, 5801: 32017, 5802: 32019, 5803: 32022, 5804: 32029, 5805: 32031, 5806: 32058, 5807: 32060, 5808: 32116, 5809: 32139, 5810: 32179, 5811: 32213, 5812: 32234, 5813: 32243, 5814: 32289, 5815: 32291, 5816: 32294, 5817: 32296, 5818: 32298, 5819: 32300, 5820: 32302, 5821: 32314, 5822: 32387, 5823: 32392, 5824: 32440, 5825: 32442, 5826: 32456, 5827: 32460, 5828: 32469, 5829: 32511, 5830: 32515, 5831: 32554, 5832: 32582, 5833: 32584, 5834: 32587, 5835: 32589, 5836: 32596, 5837: 32598, 5838: 32600, 5839: 32620, 5840: 32632, 5841: 32649, 5842: 32657, 5843: 32659, 5844: 32666, 5845: 32728, 5846: 32743, 5847: 32770, 5848: 32799, 5849: 32862, 5850: 32875, 5851: 32892, 5852: 32898, 5853: 32906, 5854: 32914, 5855: 32917, 5856: 33004, 5857: 33085, 5858: 33090, 5859: 33124, 5860: 33126, 5861: 33132, 5862: 33138, 5863: 33145, 5864: 33148, 5865: 33154, 5866: 33158, 5867: 33162, 5868: 33164, 5869: 33166, 5870: 33171, 5871: 33188, 5872: 33201, 5873: 33237, 5874: 33294, 5875: 33310, 5876: 33312, 5877: 33421, 5878: 33435, 5879: 33437, 5880: 33493, 5881: 33495, 5882: 33499, 5883: 33558, 5884: 33564, 5885: 33615, 5886: 33629, 5887: 33639, 5888: 33644, 5889: 33646, 5890: 33649, 5891: 33660, 5892: 33669, 5893: 33672, 5894: 33677, 5895: 33679, 5896: 33681, 5897: 33683, 5898: 33725, 5899: 33779, 5900: 33781, 5901: 33794, 5902: 33801, 5903: 33815, 5904: 33826, 5905: 33830, 5906: 33834, 5907: 33836, 5908: 33838, 5909: 33880, 5910: 33893, 5911: 33896, 5912: 33903, 5913: 33966, 5914: 34018, 5915: 34048, 5916: 34072, 5917: 34129, 5918: 34143, 5919: 34148, 5920: 34150, 5921: 34153, 5922: 34162, 5923: 34164, 5924: 34271, 5925: 34292, 5926: 34312, 5927: 34319, 5928: 34321, 5929: 34323, 5930: 34326, 5931: 34330, 5932: 34332, 5933: 34334, 5934: 34336, 5935: 34338, 5936: 34359, 5937: 34397, 5938: 34405, 5939: 34437, 5940: 34450, 5941: 34520, 5942: 34523, 5943: 34528, 5944: 34530, 5945: 34532, 5946: 34534, 5947: 34536, 5948: 34540, 5949: 34542, 5950: 34800, 5951: 34811, 5952: 35015, 5953: 35347, 5954: 35807, 5955: 35836, 5956: 35957, 5957: 36276, 5958: 36289, 5959: 36363, 5960: 36397, 5961: 36401, 5962: 36477, 5963: 36509, 5964: 36517, 5965: 36519, 5966: 36525, 5967: 36527, 5968: 36529, 5969: 36533, 5970: 36535, 5971: 36537, 5972: 36708, 5973: 36850, 5974: 36931, 5975: 37211, 5976: 37240, 5977: 37380, 5978: 37382, 5979: 37384, 5980: 37386, 5981: 37444, 5982: 37475, 5983: 37477, 5984: 37495, 5985: 37545, 5986: 37720, 5987: 37727, 5988: 37729, 5989: 37731, 5990: 37733, 5991: 37736, 5992: 37739, 5993: 37741, 5994: 37830, 5995: 37844, 5996: 37853, 5997: 37857, 5998: 38038, 5999: 38061, 6000: 38095, 6001: 38159, 6002: 38164, 6003: 38198, 6004: 38294, 6005: 38304, 6006: 38388, 6007: 38583, 6008: 38798, 6009: 38886, 6010: 38992, 6011: 39183, 6012: 39231, 6013: 39234, 6014: 39292, 6015: 39307, 6016: 39381, 6017: 39400, 6018: 39414, 6019: 39427, 6020: 39435, 6021: 39444, 6022: 39446, 6023: 39449, 6024: 39516, 6025: 39715, 6026: 39801, 6027: 39869, 6028: 40148, 6029: 40278, 6030: 40339, 6031: 40412, 6032: 40414, 6033: 40478, 6034: 40491, 6035: 40578, 6036: 40581, 6037: 40583, 6038: 40597, 6039: 40614, 6040: 40617, 6041: 40629, 6042: 40697, 6043: 40723, 6044: 40732, 6045: 40815, 6046: 40819, 6047: 40826, 6048: 40851, 6049: 40870, 6050: 40946, 6051: 40955, 6052: 40959, 6053: 40962, 6054: 40966, 6055: 41014, 6056: 41285, 6057: 41527, 6058: 41566, 6059: 41569, 6060: 41571, 6061: 41573, 6062: 41617, 6063: 41627, 6064: 41712, 6065: 41716, 6066: 41724, 6067: 41769, 6068: 41828, 6069: 41863, 6070: 41997, 6071: 42002, 6072: 42004, 6073: 42007, 6074: 42009, 6075: 42011, 6076: 42013, 6077: 42015, 6078: 42018, 6079: 42176, 6080: 42191, 6081: 42285, 6082: 42418, 6083: 42422, 6084: 42556, 6085: 42559, 6086: 42602, 6087: 42632, 6088: 42638, 6089: 42718, 6090: 42723, 6091: 42725, 6092: 42728, 6093: 42730, 6094: 42732, 6095: 42734, 6096: 42738, 6097: 42740, 6098: 42761, 6099: 42943, 6100: 42946, 6101: 43289, 6102: 43333, 6103: 43376, 6104: 43396, 6105: 43419, 6106: 43460, 6107: 43549, 6108: 43556, 6109: 43558, 6110: 43560, 6111: 43677, 6112: 43679, 6113: 43684, 6114: 43708, 6115: 43744, 6116: 43836, 6117: 43869, 6118: 43871, 6119: 43904, 6120: 43908, 6121: 43912, 6122: 43914, 6123: 43917, 6124: 43919, 6125: 43921, 6126: 43928, 6127: 43930, 6128: 43932, 6129: 43936, 6130: 44004, 6131: 44020, 6132: 44022, 6133: 44189, 6134: 44191, 6135: 44193, 6136: 44195, 6137: 44197, 6138: 44199, 6139: 44204, 6140: 44225, 6141: 44238, 6142: 44241, 6143: 44243, 6144: 44301, 6145: 44397, 6146: 44399, 6147: 44511, 6148: 44555, 6149: 44597, 6150: 44613, 6151: 44633, 6152: 44657, 6153: 44665, 6154: 44694, 6155: 44709, 6156: 44719, 6157: 44731, 6158: 44759, 6159: 44761, 6160: 44773, 6161: 44777, 6162: 44788, 6163: 44828, 6164: 44840, 6165: 44849, 6166: 44851, 6167: 44864, 6168: 44889, 6169: 44929, 6170: 44931, 6171: 44937, 6172: 44943, 6173: 44972, 6174: 44974, 6175: 45028, 6176: 45062, 6177: 45074, 6178: 45081, 6179: 45106, 6180: 45175, 6181: 45183, 6182: 45186, 6183: 45208, 6184: 45210, 6185: 45221, 6186: 45361, 6187: 45382, 6188: 45431, 6189: 45440, 6190: 45442, 6191: 45447, 6192: 45499, 6193: 45501, 6194: 45503, 6195: 45517, 6196: 45635, 6197: 45648, 6198: 45658, 6199: 45662, 6200: 45666, 6201: 45668, 6202: 45672, 6203: 45720, 6204: 45722, 6205: 45726, 6206: 45728, 6207: 45730, 6208: 45732, 6209: 45880, 6210: 45928, 6211: 45950, 6212: 45969, 6213: 46062, 6214: 46105, 6215: 46231, 6216: 46322, 6217: 46335, 6218: 46337, 6219: 46347, 6220: 46367, 6221: 46530, 6222: 46559, 6223: 46572, 6224: 46574, 6225: 46578, 6226: 46664, 6227: 46723, 6228: 46772, 6229: 46850, 6230: 46855, 6231: 46862, 6232: 46865, 6233: 46948, 6234: 46965, 6235: 46967, 6236: 46970, 6237: 46972, 6238: 46974, 6239: 46976, 6240: 47044, 6241: 47099, 6242: 47122, 6243: 47124, 6244: 47200, 6245: 47202, 6246: 47254, 6247: 47261, 6248: 47382, 6249: 47384, 6250: 47404, 6251: 47423, 6252: 47446, 6253: 47465, 6254: 47491, 6255: 47516, 6256: 47518, 6257: 47538, 6258: 47566, 6259: 47610, 6260: 47629, 6261: 47640, 6262: 47644, 6263: 47646, 6264: 47721, 6265: 47725, 6266: 47736, 6267: 47774, 6268: 47793, 6269: 47810, 6270: 47894, 6271: 47937, 6272: 47950, 6273: 47952, 6274: 47970, 6275: 47978, 6276: 47997, 6277: 47999, 6278: 48001, 6279: 48032, 6280: 48043, 6281: 48045, 6282: 48082, 6283: 48142, 6284: 48150, 6285: 48161, 6286: 48214, 6287: 48262, 6288: 48304, 6289: 48319, 6290: 48322, 6291: 48326, 6292: 48342, 6293: 48385, 6294: 48394, 6295: 48412, 6296: 48414, 6297: 48416, 6298: 48516, 6299: 48518, 6300: 48520, 6301: 48560, 6302: 48593, 6303: 48596, 6304: 48598, 6305: 48638, 6306: 48649, 6307: 48678, 6308: 48696, 6309: 48698, 6310: 48738, 6311: 48741, 6312: 48744, 6313: 48774, 6314: 48780, 6315: 48783, 6316: 48872, 6317: 48877, 6318: 48879, 6319: 48883, 6320: 48982, 6321: 48997, 6322: 49013, 6323: 49110, 6324: 49130, 6325: 49132, 6326: 49220, 6327: 49263, 6328: 49265, 6329: 49272, 6330: 49274, 6331: 49276, 6332: 49278, 6333: 49280, 6334: 49284, 6335: 49286, 6336: 49314, 6337: 49347, 6338: 49389, 6339: 49396, 6340: 49524, 6341: 49530, 6342: 49647, 6343: 49649, 6344: 49651, 6345: 49666, 6346: 49688, 6347: 49735, 6348: 49772, 6349: 49793, 6350: 49822, 6351: 49824, 6352: 49910, 6353: 49917, 6354: 49932, 6355: 49957, 6356: 49961, 6357: 50003, 6358: 50005, 6359: 50064, 6360: 50068, 6361: 50147, 6362: 50158, 6363: 50160, 6364: 50189, 6365: 50274, 6366: 50354, 6367: 50356, 6368: 50440, 6369: 50442, 6370: 50445, 6371: 50514, 6372: 50601, 6373: 50610, 6374: 50613, 6375: 50658, 6376: 50685, 6377: 50740, 6378: 50792, 6379: 50794, 6380: 50796, 6381: 50798, 6382: 50800, 6383: 50802, 6384: 50804, 6385: 50806, 6386: 50842, 6387: 50851, 6388: 50872, 6389: 50912, 6390: 50923, 6391: 50942, 6392: 50954, 6393: 50999, 6394: 51024, 6395: 51037, 6396: 51077, 6397: 51080, 6398: 51082, 6399: 51084, 6400: 51086, 6401: 51088, 6402: 51091, 6403: 51167, 6404: 51174, 6405: 51255, 6406: 51314, 6407: 51357, 6408: 51412, 6409: 51471, 6410: 51498, 6411: 51540, 6412: 51545, 6413: 51562, 6414: 51573, 6415: 51575, 6416: 51662, 6417: 51666, 6418: 51694, 6419: 51698, 6420: 51705, 6421: 51709, 6422: 51834, 6423: 51884, 6424: 51903, 6425: 51925, 6426: 51927, 6427: 51931, 6428: 51933, 6429: 51935, 6430: 51937, 6431: 51939, 6432: 52042, 6433: 52241, 6434: 52245, 6435: 52279, 6436: 52281, 6437: 52283, 6438: 52287, 6439: 52299, 6440: 52319, 6441: 52328, 6442: 52375, 6443: 52435, 6444: 52458, 6445: 52462, 6446: 52579, 6447: 52604, 6448: 52644, 6449: 52668, 6450: 52694, 6451: 52712, 6452: 52715, 6453: 52722, 6454: 52724, 6455: 52730, 6456: 52767, 6457: 52784, 6458: 52831, 6459: 52867, 6460: 52885, 6461: 52950, 6462: 52952, 6463: 52967, 6464: 52973, 6465: 52975, 6466: 53000, 6467: 53022, 6468: 53024, 6469: 53121, 6470: 53123, 6471: 53125, 6472: 53127, 6473: 53129, 6474: 53138, 6475: 53140, 6476: 53143, 6477: 53161, 6478: 53280, 6479: 53318, 6480: 53322, 6481: 53326, 6482: 53355, 6483: 53435, 6484: 53447, 6485: 53450, 6486: 53453, 6487: 53460, 6488: 53464, 6489: 53466, 6490: 53468, 6491: 53519, 6492: 53550, 6493: 53574, 6494: 53578, 6495: 53808, 6496: 53883, 6497: 53894, 6498: 53921, 6499: 53953, 6500: 53956, 6501: 53972, 6502: 53974, 6503: 53993, 6504: 53996, 6505: 54001, 6506: 54004, 6507: 54116, 6508: 54121, 6509: 54185, 6510: 54190, 6511: 54256, 6512: 54259, 6513: 54272, 6514: 54274, 6515: 54276, 6516: 54281, 6517: 54286, 6518: 54354, 6519: 54372, 6520: 54503, 6521: 54617, 6522: 54648, 6523: 54686, 6524: 54732, 6525: 54734, 6526: 54736, 6527: 54745, 6528: 54768, 6529: 54771, 6530: 54780, 6531: 54785, 6532: 54787, 6533: 54796, 6534: 54881, 6535: 54908, 6536: 54910, 6537: 54934, 6538: 54962, 6539: 54995, 6540: 54997, 6541: 54999, 6542: 55020, 6543: 55036, 6544: 55052, 6545: 55061, 6546: 55067, 6547: 55069, 6548: 55071, 6549: 55080, 6550: 55094, 6551: 55110, 6552: 55112, 6553: 55116, 6554: 55118, 6555: 55156, 6556: 55167, 6557: 55190, 6558: 55205, 6559: 55207, 6560: 55232, 6561: 55241, 6562: 55245, 6563: 55247, 6564: 55250, 6565: 55253, 6566: 55259, 6567: 55261, 6568: 55267, 6569: 55269, 6570: 55272, 6571: 55274, 6572: 55276, 6573: 55278, 6574: 55280, 6575: 55282, 6576: 55290, 6577: 55292, 6578: 55294, 6579: 55363, 6580: 55391, 6581: 55442, 6582: 55444, 6583: 55451, 6584: 55492, 6585: 55553, 6586: 55555, 6587: 55577, 6588: 55620, 6589: 55687, 6590: 55721, 6591: 55729, 6592: 55765, 6593: 55768, 6594: 55805, 6595: 55814, 6596: 55820, 6597: 55830, 6598: 55844, 6599: 55854, 6600: 55872, 6601: 55908, 6602: 55946, 6603: 55995, 6604: 56003, 6605: 56012, 6606: 56022, 6607: 56060, 6608: 56145, 6609: 56152, 6610: 56156, 6611: 56169, 6612: 56171, 6613: 56174, 6614: 56176, 6615: 56251, 6616: 56274, 6617: 56286, 6618: 56333, 6619: 56336, 6620: 56339, 6621: 56367, 6622: 56379, 6623: 56389, 6624: 56563, 6625: 56587, 6626: 56607, 6627: 56620, 6628: 56715, 6629: 56757, 6630: 56775, 6631: 56782, 6632: 56788, 6633: 56801, 6634: 56805, 6635: 56837, 6636: 56869, 6637: 56908, 6638: 56915, 6639: 56921, 6640: 56941, 6641: 56949, 6642: 57147, 6643: 57183, 6644: 57243, 6645: 57274, 6646: 57326, 6647: 57368, 6648: 57421, 6649: 57499, 6650: 57502, 6651: 57504, 6652: 57522, 6653: 57526, 6654: 57528, 6655: 57532, 6656: 57536, 6657: 57637, 6658: 57640, 6659: 57669, 6660: 57772, 6661: 57843, 6662: 57910, 6663: 57951, 6664: 58025, 6665: 58047, 6666: 58078, 6667: 58103, 6668: 58105, 6669: 58107, 6670: 58154, 6671: 58156, 6672: 58162, 6673: 58191, 6674: 58287, 6675: 58291, 6676: 58293, 6677: 58295, 6678: 58297, 6679: 58299, 6680: 58301, 6681: 58303, 6682: 58306, 6683: 58309, 6684: 58315, 6685: 58332, 6686: 58347, 6687: 58351, 6688: 58376, 6689: 58404, 6690: 58425, 6691: 58492, 6692: 58554, 6693: 58559, 6694: 58627, 6695: 58655, 6696: 58783, 6697: 58803, 6698: 58806, 6699: 58826, 6700: 58839, 6701: 58842, 6702: 58870, 6703: 58876, 6704: 58879, 6705: 58964, 6706: 58972, 6707: 58975, 6708: 58998, 6709: 59014, 6710: 59016, 6711: 59018, 6712: 59022, 6713: 59026, 6714: 59037, 6715: 59103, 6716: 59118, 6717: 59126, 6718: 59129, 6719: 59131, 6720: 59141, 6721: 59143, 6722: 59220, 6723: 59258, 6724: 59295, 6725: 59306, 6726: 59315, 6727: 59333, 6728: 59336, 6729: 59369, 6730: 59387, 6731: 59421, 6732: 59429, 6733: 59440, 6734: 59501, 6735: 59549, 6736: 59604, 6737: 59615, 6738: 59667, 6739: 59725, 6740: 59727, 6741: 59731, 6742: 59738, 6743: 59784, 6744: 59810, 6745: 59814, 6746: 59900, 6747: 59915, 6748: 59947, 6749: 59985, 6750: 59995, 6751: 60030, 6752: 60037, 6753: 60040, 6754: 60046, 6755: 60069, 6756: 60072, 6757: 60074, 6758: 60126, 6759: 60128, 6760: 60141, 6761: 60161, 6762: 60289, 6763: 60291, 6764: 60293, 6765: 60303, 6766: 60333, 6767: 60363, 6768: 60365, 6769: 60389, 6770: 60397, 6771: 60408, 6772: 60471, 6773: 60487, 6774: 60514, 6775: 60516, 6776: 60522, 6777: 60538, 6778: 60647, 6779: 60674, 6780: 60684, 6781: 60735, 6782: 60737, 6783: 60753, 6784: 60756, 6785: 60760, 6786: 60766, 6787: 60803, 6788: 60818, 6789: 60832, 6790: 60857, 6791: 60885, 6792: 60894, 6793: 60904, 6794: 60937, 6795: 60941, 6796: 60943, 6797: 60950, 6798: 60979, 6799: 61011, 6800: 61024, 6801: 61026, 6802: 61071, 6803: 61073, 6804: 61123, 6805: 61132, 6806: 61160, 6807: 61167, 6808: 61210, 6809: 61236, 6810: 61240, 6811: 61246, 6812: 61248, 6813: 61250, 6814: 61255, 6815: 61257, 6816: 61262, 6817: 61289, 6818: 61319, 6819: 61323, 6820: 61348, 6821: 61350, 6822: 61352, 6823: 61394, 6824: 61401, 6825: 61406, 6826: 61465, 6827: 61628, 6828: 61692, 6829: 61697, 6830: 61705, 6831: 61729, 6832: 61818, 6833: 61986, 6834: 62008, 6835: 62081, 6836: 62113, 6837: 62155, 6838: 62208, 6839: 62250, 6840: 62293, 6841: 62299, 6842: 62336, 6843: 62344, 6844: 62374, 6845: 62376, 6846: 62383, 6847: 62394, 6848: 62434, 6849: 62437, 6850: 62439, 6851: 62511, 6852: 62553, 6853: 62586, 6854: 62644, 6855: 62662, 6856: 62718, 6857: 62792, 6858: 62799, 6859: 62834, 6860: 62836, 6861: 62849, 6862: 62956, 6863: 62970, 6864: 62999, 6865: 63033, 6866: 63062, 6867: 63072, 6868: 63082, 6869: 63113, 6870: 63131, 6871: 63179, 6872: 63222, 6873: 63239, 6874: 63276, 6875: 63312, 6876: 63393, 6877: 63433, 6878: 63436, 6879: 63479, 6880: 63515, 6881: 63540, 6882: 63768, 6883: 63808, 6884: 63826, 6885: 63853, 6886: 63859, 6887: 63876, 6888: 63992, 6889: 64010, 6890: 64030, 6891: 64032, 6892: 64034, 6893: 64114, 6894: 64116, 6895: 64167, 6896: 64197, 6897: 64231, 6898: 64249, 6899: 64278, 6900: 64285, 6901: 64497, 6902: 64499, 6903: 64501, 6904: 64575, 6905: 64614, 6906: 64620, 6907: 64622, 6908: 64695, 6909: 64716, 6910: 64839, 6911: 64957, 6912: 64969, 6913: 64983, 6914: 64993, 6915: 64997, 6916: 65037, 6917: 65088, 6918: 65126, 6919: 65130, 6920: 65133, 6921: 65135, 6922: 65188, 6923: 65193, 6924: 65216, 6925: 65225, 6926: 65230, 6927: 65261, 6928: 65350, 6929: 65359, 6930: 65514, 6931: 65577, 6932: 65585, 6933: 65588, 6934: 65596, 6935: 65601, 6936: 65631, 6937: 65642, 6938: 65651, 6939: 65682, 6940: 65685, 6941: 65738, 6942: 65740, 6943: 65802, 6944: 65810, 6945: 65882, 6946: 65982, 6947: 66090, 6948: 66097, 6949: 66171, 6950: 66198, 6951: 66203, 6952: 66240, 6953: 66297, 6954: 66310, 6955: 66320, 6956: 66335, 6957: 66371, 6958: 66427, 6959: 66509, 6960: 66511, 6961: 66544, 6962: 66665, 6963: 66744, 6964: 66783, 6965: 66785, 6966: 66798, 6967: 66915, 6968: 66934, 6969: 66943, 6970: 67087, 6971: 67168, 6972: 67186, 6973: 67193, 6974: 67197, 6975: 67255, 6976: 67267, 6977: 67295, 6978: 67361, 6979: 67408, 6980: 67508, 6981: 67534, 6982: 67618, 6983: 67665, 6984: 67695, 6985: 67734, 6986: 67788, 6987: 67799, 6988: 67888, 6989: 67923, 6990: 67997, 6991: 68073, 6992: 68135, 6993: 68157, 6994: 68159, 6995: 68194, 6996: 68205, 6997: 68237, 6998: 68269, 6999: 68319, 7000: 68347, 7001: 68358, 7002: 68444, 7003: 68480, 7004: 68486, 7005: 68522, 7006: 68536, 7007: 68552, 7008: 68554, 7009: 68597, 7010: 68600, 7011: 68650, 7012: 68659, 7013: 68791, 7014: 68793, 7015: 68835, 7016: 68848, 7017: 68872, 7018: 68886, 7019: 68932, 7020: 68945, 7021: 68952, 7022: 68954, 7023: 68959, 7024: 69069, 7025: 69118, 7026: 69122, 7027: 69131, 7028: 69134, 7029: 69140, 7030: 69211, 7031: 69224, 7032: 69227, 7033: 69251, 7034: 69275, 7035: 69278, 7036: 69304, 7037: 69306, 7038: 69394, 7039: 69406, 7040: 69436, 7041: 69453, 7042: 69469, 7043: 69481, 7044: 69495, 7045: 69516, 7046: 69524, 7047: 69526, 7048: 69529, 7049: 69604, 7050: 69606, 7051: 69640, 7052: 69644, 7053: 69654, 7054: 69685, 7055: 69712, 7056: 69720, 7057: 69746, 7058: 69757, 7059: 69784, 7060: 69805, 7061: 69844, 7062: 69849, 7063: 69860, 7064: 69904, 7065: 69951, 7066: 69953, 7067: 69988, 7068: 70015, 7069: 70159, 7070: 70183, 7071: 70206, 7072: 70208, 7073: 70286, 7074: 70293, 7075: 70301, 7076: 70305, 7077: 70334, 7078: 70336, 7079: 70361, 7080: 70451, 7081: 70492, 7082: 70521, 7083: 70533, 7084: 70545, 7085: 70565, 7086: 70599, 7087: 70637, 7088: 70641, 7089: 70663, 7090: 70687, 7091: 70697, 7092: 70703, 7093: 70708, 7094: 70728, 7095: 70862, 7096: 70932, 7097: 70946, 7098: 70984, 7099: 70990, 7100: 70994, 7101: 71033, 7102: 71057, 7103: 71106, 7104: 71108, 7105: 71129, 7106: 71131, 7107: 71135, 7108: 71147, 7109: 71156, 7110: 71160, 7111: 71205, 7112: 71211, 7113: 71248, 7114: 71252, 7115: 71254, 7116: 71264, 7117: 71268, 7118: 71282, 7119: 71302, 7120: 71304, 7121: 71327, 7122: 71341, 7123: 71379, 7124: 71429, 7125: 71438, 7126: 71453, 7127: 71462, 7128: 71464, 7129: 71466, 7130: 71468, 7131: 71484, 7132: 71494, 7133: 71500, 7134: 71518, 7135: 71520, 7136: 71530, 7137: 71535, 7138: 71550, 7139: 71579, 7140: 71619, 7141: 71640, 7142: 71668, 7143: 71732, 7144: 71745, 7145: 71810, 7146: 71823, 7147: 71838, 7148: 71867, 7149: 71899, 7150: 71902, 7151: 71910, 7152: 71970, 7153: 71999, 7154: 72011, 7155: 72104, 7156: 72129, 7157: 72142, 7158: 72165, 7159: 72167, 7160: 72171, 7161: 72178, 7162: 72224, 7163: 72226, 7164: 72294, 7165: 72308, 7166: 72330, 7167: 72356, 7168: 72378, 7169: 72395, 7170: 72405, 7171: 72407, 7172: 72424, 7173: 72479, 7174: 72489, 7175: 72554, 7176: 72591, 7177: 72601, 7178: 72603, 7179: 72605, 7180: 72624, 7181: 72641, 7182: 72692, 7183: 72694, 7184: 72696, 7185: 72701, 7186: 72714, 7187: 72720, 7188: 72731, 7189: 72733, 7190: 72737, 7191: 72874, 7192: 72919, 7193: 72921, 7194: 72982, 7195: 72998, 7196: 73015, 7197: 73017, 7198: 73023, 7199: 73042, 7200: 73106, 7201: 73160, 7202: 73211, 7203: 73266, 7204: 73268, 7205: 73290, 7206: 73319, 7207: 73321, 7208: 73323, 7209: 73344, 7210: 73386, 7211: 73431, 7212: 73488, 7213: 73499, 7214: 73501, 7215: 73515, 7216: 73569, 7217: 73676, 7218: 73681, 7219: 73741, 7220: 73804, 7221: 73808, 7222: 73822, 7223: 73854, 7224: 73858, 7225: 73876, 7226: 73881, 7227: 73929, 7228: 74075, 7229: 74089, 7230: 74095, 7231: 74154, 7232: 74226, 7233: 74228, 7234: 74275, 7235: 74282, 7236: 74324, 7237: 74342, 7238: 74370, 7239: 74450, 7240: 74452, 7241: 74458, 7242: 74508, 7243: 74510, 7244: 74530, 7245: 74532, 7246: 74545, 7247: 74553, 7248: 74580, 7249: 74624, 7250: 74647, 7251: 74668, 7252: 74677, 7253: 74683, 7254: 74685, 7255: 74688, 7256: 74696, 7257: 74698, 7258: 74727, 7259: 74750, 7260: 74754, 7261: 74789, 7262: 74791, 7263: 74795, 7264: 74851, 7265: 74868, 7266: 74916, 7267: 74946, 7268: 74948, 7269: 75341, 7270: 75389, 7271: 75395, 7272: 75416, 7273: 75446, 7274: 75803, 7275: 75805, 7276: 75813, 7277: 75816, 7278: 75947, 7279: 75985, 7280: 76030, 7281: 76054, 7282: 76060, 7283: 76077, 7284: 76091, 7285: 76093, 7286: 76143, 7287: 76173, 7288: 76175, 7289: 76251, 7290: 76293, 7291: 76301, 7292: 76738, 7293: 76743, 7294: 76751, 7295: 76763, 7296: 77177, 7297: 77191, 7298: 77201, 7299: 77206, 7300: 77233, 7301: 77266, 7302: 77364, 7303: 77414, 7304: 77421, 7305: 77427, 7306: 77455, 7307: 77561, 7308: 77667, 7309: 77688, 7310: 77709, 7311: 77795, 7312: 77798, 7313: 77800, 7314: 77841, 7315: 77846, 7316: 77866, 7317: 77881, 7318: 77893, 7319: 77931, 7320: 78034, 7321: 78039, 7322: 78041, 7323: 78088, 7324: 78103, 7325: 78105, 7326: 78116, 7327: 78142, 7328: 78160, 7329: 78174, 7330: 78209, 7331: 78218, 7332: 78264, 7333: 78266, 7334: 78316, 7335: 78349, 7336: 78467, 7337: 78469, 7338: 78499, 7339: 78544, 7340: 78574, 7341: 78620, 7342: 78626, 7343: 78637, 7344: 78703, 7345: 78746, 7346: 78772, 7347: 78836, 7348: 78893, 7349: 78959, 7350: 79006, 7351: 79008, 7352: 79057, 7353: 79073, 7354: 79091, 7355: 79132, 7356: 79134, 7357: 79139, 7358: 79185, 7359: 79224, 7360: 79242, 7361: 79251, 7362: 79259, 7363: 79274, 7364: 79293, 7365: 79299, 7366: 79333, 7367: 79357, 7368: 79428, 7369: 79501, 7370: 79536, 7371: 79553, 7372: 79572, 7373: 79590, 7374: 79592, 7375: 79677, 7376: 79684, 7377: 79695, 7378: 79702, 7379: 79798, 7380: 79868, 7381: 79879, 7382: 79895, 7383: 79897, 7384: 79946, 7385: 80083, 7386: 80094, 7387: 80124, 7388: 80126, 7389: 80139, 7390: 80162, 7391: 80166, 7392: 80219, 7393: 80241, 7394: 80363, 7395: 80454, 7396: 80463, 7397: 80478, 7398: 80489, 7399: 80549, 7400: 80551, 7401: 80553, 7402: 80572, 7403: 80584, 7404: 80586, 7405: 80590, 7406: 80615, 7407: 80693, 7408: 80727, 7409: 80748, 7410: 80831, 7411: 80834, 7412: 80839, 7413: 80846, 7414: 80858, 7415: 80860, 7416: 80862, 7417: 80864, 7418: 80880, 7419: 80906, 7420: 80917, 7421: 80969, 7422: 81018, 7423: 81087, 7424: 81132, 7425: 81156, 7426: 81158, 7427: 81191, 7428: 81229, 7429: 81257, 7430: 81383, 7431: 81417, 7432: 81456, 7433: 81512, 7434: 81520, 7435: 81535, 7436: 81537, 7437: 81562, 7438: 81564, 7439: 81591, 7440: 81681, 7441: 81782, 7442: 81784, 7443: 81786, 7444: 81788, 7445: 81791, 7446: 81819, 7447: 81831, 7448: 81834, 7449: 81845, 7450: 81847, 7451: 81910, 7452: 81932, 7453: 81949, 7454: 82041, 7455: 82053, 7456: 82088, 7457: 82093, 7458: 82095, 7459: 82152, 7460: 82167, 7461: 82169, 7462: 82202, 7463: 82242, 7464: 82366, 7465: 82378, 7466: 82459, 7467: 82461, 7468: 82499, 7469: 82527, 7470: 82534, 7471: 82641, 7472: 82667, 7473: 82684, 7474: 82744, 7475: 82765, 7476: 82767, 7477: 82848, 7478: 82852, 7479: 82854, 7480: 82857, 7481: 83086, 7482: 83132, 7483: 83134, 7484: 83177, 7485: 83270, 7486: 83349, 7487: 83369, 7488: 83374, 7489: 83480, 7490: 83601, 7491: 83613, 7492: 83796, 7493: 83803, 7494: 83827, 7495: 83910, 7496: 83969, 7497: 83976, 7498: 84152, 7499: 84156, 7500: 84187, 7501: 84189, 7502: 84240, 7503: 84246, 7504: 84273, 7505: 84374, 7506: 84392, 7507: 84414, 7508: 84512, 7509: 84523, 7510: 84553, 7511: 84601, 7512: 84615, 7513: 84637, 7514: 84696, 7515: 84716, 7516: 84772, 7517: 84799, 7518: 84844, 7519: 84847, 7520: 84942, 7521: 84944, 7522: 84950, 7523: 84952, 7524: 84954, 7525: 85020, 7526: 85022, 7527: 85025, 7528: 85056, 7529: 85131, 7530: 85179, 7531: 85213, 7532: 85259, 7533: 85261, 7534: 85295, 7535: 85316, 7536: 85334, 7537: 85342, 7538: 85354, 7539: 85367, 7540: 85394, 7541: 85397, 7542: 85399, 7543: 85401, 7544: 85412, 7545: 85414, 7546: 85438, 7547: 85510, 7548: 85736, 7549: 85774, 7550: 85780, 7551: 85788, 7552: 85796, 7553: 85881, 7554: 85885, 7555: 86000, 7556: 86014, 7557: 86028, 7558: 86059, 7559: 86066, 7560: 86068, 7561: 86142, 7562: 86190, 7563: 86237, 7564: 86279, 7565: 86286, 7566: 86290, 7567: 86293, 7568: 86295, 7569: 86298, 7570: 86320, 7571: 86332, 7572: 86345, 7573: 86347, 7574: 86355, 7575: 86377, 7576: 86487, 7577: 86504, 7578: 86548, 7579: 86593, 7580: 86628, 7581: 86644, 7582: 86668, 7583: 86721, 7584: 86781, 7585: 86815, 7586: 86817, 7587: 86833, 7588: 86835, 7589: 86864, 7590: 86880, 7591: 86882, 7592: 86892, 7593: 86898, 7594: 86911, 7595: 86922, 7596: 86960, 7597: 87028, 7598: 87192, 7599: 87194, 7600: 87197, 7601: 87222, 7602: 87232, 7603: 87234, 7604: 87287, 7605: 87298, 7606: 87304, 7607: 87306, 7608: 87413, 7609: 87430, 7610: 87444, 7611: 87483, 7612: 87485, 7613: 87520, 7614: 87522, 7615: 87529, 7616: 87660, 7617: 87785, 7618: 87834, 7619: 87867, 7620: 87869, 7621: 87876, 7622: 87960, 7623: 88069, 7624: 88094, 7625: 88108, 7626: 88125, 7627: 88129, 7628: 88140, 7629: 88163, 7630: 88179, 7631: 88235, 7632: 88267, 7633: 88272, 7634: 88327, 7635: 88345, 7636: 88356, 7637: 88405, 7638: 88448, 7639: 88515, 7640: 88593, 7641: 88672, 7642: 88697, 7643: 88699, 7644: 88744, 7645: 88746, 7646: 88785, 7647: 88810, 7648: 88812, 7649: 88911, 7650: 88932, 7651: 88954, 7652: 89028, 7653: 89030, 7654: 89039, 7655: 89047, 7656: 89072, 7657: 89085, 7658: 89087, 7659: 89090, 7660: 89118, 7661: 89190, 7662: 89208, 7663: 89281, 7664: 89305, 7665: 89343, 7666: 89386, 7667: 89388, 7668: 89427, 7669: 89470, 7670: 89492, 7671: 89580, 7672: 89582, 7673: 89586, 7674: 89678, 7675: 89745, 7676: 89753, 7677: 89759, 7678: 89761, 7679: 89774, 7680: 89804, 7681: 89837, 7682: 89840, 7683: 89862, 7684: 89864, 7685: 89898, 7686: 89904, 7687: 89939, 7688: 89945, 7689: 90057, 7690: 90243, 7691: 90245, 7692: 90249, 7693: 90343, 7694: 90345, 7695: 90353, 7696: 90357, 7697: 90374, 7698: 90376, 7699: 90384, 7700: 90403, 7701: 90405, 7702: 90428, 7703: 90430, 7704: 90439, 7705: 90469, 7706: 90471, 7707: 90522, 7708: 90524, 7709: 90528, 7710: 90531, 7711: 90576, 7712: 90600, 7713: 90603, 7714: 90630, 7715: 90647, 7716: 90717, 7717: 90719, 7718: 90738, 7719: 90746, 7720: 90769, 7721: 90809, 7722: 90863, 7723: 90866, 7724: 90888, 7725: 90890, 7726: 90943, 7727: 90945, 7728: 91077, 7729: 91079, 7730: 91094, 7731: 91104, 7732: 91126, 7733: 91128, 7734: 91233, 7735: 91261, 7736: 91266, 7737: 91273, 7738: 91323, 7739: 91325, 7740: 91337, 7741: 91353, 7742: 91355, 7743: 91386, 7744: 91414, 7745: 91470, 7746: 91483, 7747: 91485, 7748: 91488, 7749: 91500, 7750: 91529, 7751: 91535, 7752: 91542, 7753: 91571, 7754: 91622, 7755: 91628, 7756: 91630, 7757: 91653, 7758: 91658, 7759: 91660, 7760: 91666, 7761: 91671, 7762: 91688, 7763: 91690, 7764: 91784, 7765: 91842, 7766: 91860, 7767: 91869, 7768: 91873, 7769: 91890, 7770: 91935, 7771: 91947, 7772: 91974, 7773: 91976, 7774: 91978, 7775: 91981, 7776: 92008, 7777: 92046, 7778: 92048, 7779: 92094, 7780: 92192, 7781: 92198, 7782: 92234, 7783: 92243, 7784: 92259, 7785: 92264, 7786: 92309, 7787: 92348, 7788: 92391, 7789: 92420, 7790: 92422, 7791: 92427, 7792: 92439, 7793: 92475, 7794: 92494, 7795: 92507, 7796: 92509, 7797: 92535, 7798: 92637, 7799: 92643, 7800: 92665, 7801: 92674, 7802: 92681, 7803: 92694, 7804: 92730, 7805: 92760, 7806: 92938, 7807: 92954, 7808: 93006, 7809: 93008, 7810: 93022, 7811: 93040, 7812: 93114, 7813: 93134, 7814: 93139, 7815: 93193, 7816: 93208, 7817: 93242, 7818: 93270, 7819: 93272, 7820: 93287, 7821: 93297, 7822: 93320, 7823: 93326, 7824: 93363, 7825: 93443, 7826: 93502, 7827: 93510, 7828: 93512, 7829: 93563, 7830: 93598, 7831: 93610, 7832: 93721, 7833: 93723, 7834: 93740, 7835: 93766, 7836: 93790, 7837: 93805, 7838: 93819, 7839: 93831, 7840: 93838, 7841: 93840, 7842: 93855, 7843: 93980, 7844: 93982, 7845: 93988, 7846: 94011, 7847: 94015, 7848: 94018, 7849: 94070, 7850: 94122, 7851: 94130, 7852: 94150, 7853: 94160, 7854: 94262, 7855: 94266, 7856: 94323, 7857: 94325, 7858: 94405, 7859: 94478, 7860: 94494, 7861: 94503, 7862: 94661, 7863: 94677, 7864: 94735, 7865: 94777, 7866: 94780, 7867: 94799, 7868: 94810, 7869: 94833, 7870: 94864, 7871: 94867, 7872: 94896, 7873: 94919, 7874: 94931, 7875: 94953, 7876: 94959, 7877: 94985, 7878: 95004, 7879: 95067, 7880: 95088, 7881: 95105, 7882: 95135, 7883: 95145, 7884: 95147, 7885: 95149, 7886: 95163, 7887: 95165, 7888: 95167, 7889: 95170, 7890: 95175, 7891: 95182, 7892: 95193, 7893: 95199, 7894: 95201, 7895: 95207, 7896: 95218, 7897: 95307, 7898: 95309, 7899: 95311, 7900: 95313, 7901: 95377, 7902: 95441, 7903: 95449, 7904: 95473, 7905: 95475, 7906: 95497, 7907: 95499, 7908: 95508, 7909: 95510, 7910: 95519, 7911: 95543, 7912: 95558, 7913: 95583, 7914: 95624, 7915: 95633, 7916: 95654, 7917: 95690, 7918: 95717, 7919: 95720, 7920: 95738, 7921: 95744, 7922: 95761, 7923: 95771, 7924: 95780, 7925: 95796, 7926: 95839, 7927: 95843, 7928: 95858, 7929: 95873, 7930: 95875, 7931: 95939, 7932: 95949, 7933: 95965, 7934: 96004, 7935: 96007, 7936: 96020, 7937: 96079, 7938: 96084, 7939: 96110, 7940: 96114, 7941: 96121, 7942: 96150, 7943: 96281, 7944: 96283, 7945: 96373, 7946: 96411, 7947: 96417, 7948: 96430, 7949: 96432, 7950: 96448, 7951: 96471, 7952: 96488, 7953: 96518, 7954: 96520, 7955: 96530, 7956: 96563, 7957: 96567, 7958: 96588, 7959: 96606, 7960: 96608, 7961: 96610, 7962: 96616, 7963: 96655, 7964: 96691, 7965: 96726, 7966: 96728, 7967: 96737, 7968: 96811, 7969: 96815, 7970: 96821, 7971: 96829, 7972: 96832, 7973: 96861, 7974: 96917, 7975: 96935, 7976: 96945, 7977: 96964, 7978: 96975, 7979: 97024, 7980: 97168, 7981: 97172, 7982: 97188, 7983: 97194, 7984: 97225, 7985: 97230, 7986: 97285, 7987: 97304, 7988: 97306, 7989: 97328, 7990: 97470, 7991: 97643, 7992: 97665, 7993: 97701, 7994: 97742, 7995: 97752, 7996: 97757, 7997: 97785, 7998: 97836, 7999: 97858, 8000: 97860, 8001: 97866, 8002: 97870, 8003: 97904, 8004: 97913, 8005: 97921, 8006: 97923, 8007: 97936, 8008: 97938, 8009: 97950, 8010: 97988, 8011: 98061, 8012: 98083, 8013: 98122, 8014: 98124, 8015: 98154, 8016: 98160, 8017: 98175, 8018: 98203, 8019: 98230, 8020: 98239, 8021: 98243, 8022: 98279, 8023: 98296, 8024: 98361, 8025: 98491, 8026: 98499, 8027: 98503, 8028: 98585, 8029: 98604, 8030: 98607, 8031: 98623, 8032: 98633, 8033: 98697, 8034: 98799, 8035: 98809, 8036: 98836, 8037: 98908, 8038: 98961, 8039: 99005, 8040: 99007, 8041: 99030, 8042: 99087, 8043: 99106, 8044: 99112, 8045: 99114, 8046: 99117, 8047: 99122, 8048: 99130, 8049: 99145, 8050: 99149, 8051: 99191, 8052: 99415, 8053: 99437, 8054: 99532, 8055: 99574, 8056: 99636, 8057: 99638, 8058: 99721, 8059: 99728, 8060: 99750, 8061: 99764, 8062: 99813, 8063: 99846, 8064: 99853, 8065: 99910, 8066: 99917, 8067: 99992, 8068: 100044, 8069: 100068, 8070: 100083, 8071: 100106, 8072: 100159, 8073: 100163, 8074: 100194, 8075: 100226, 8076: 100277, 8077: 100302, 8078: 100304, 8079: 100306, 8080: 100326, 8081: 100383, 8082: 100390, 8083: 100397, 8084: 100487, 8085: 100498, 8086: 100507, 8087: 100527, 8088: 100553, 8089: 100556, 8090: 100579, 8091: 100611, 8092: 100714, 8093: 100737, 8094: 100810, 8095: 100843, 8096: 100882, 8097: 100906, 8098: 101025, 8099: 101070, 8100: 101072, 8101: 101074, 8102: 101076, 8103: 101088, 8104: 101112, 8105: 101142, 8106: 101283, 8107: 101360, 8108: 101362, 8109: 101415, 8110: 101423, 8111: 101525, 8112: 101529, 8113: 101531, 8114: 101577, 8115: 101612, 8116: 101739, 8117: 101741, 8118: 101765, 8119: 101864, 8120: 101884, 8121: 101895, 8122: 101962, 8123: 101973, 8124: 102007, 8125: 102025, 8126: 102033, 8127: 102058, 8128: 102066, 8129: 102070, 8130: 102084, 8131: 102088, 8132: 102123, 8133: 102125, 8134: 102165, 8135: 102194, 8136: 102217, 8137: 102278, 8138: 102338, 8139: 102378, 8140: 102407, 8141: 102445, 8142: 102481, 8143: 102590, 8144: 102602, 8145: 102666, 8146: 102684, 8147: 102686, 8148: 102716, 8149: 102720, 8150: 102735, 8151: 102742, 8152: 102747, 8153: 102749, 8154: 102760, 8155: 102800, 8156: 102802, 8157: 102819, 8158: 102823, 8159: 102852, 8160: 102880, 8161: 102903, 8162: 102984, 8163: 102993, 8164: 103027, 8165: 103042, 8166: 103048, 8167: 103075, 8168: 103085, 8169: 103107, 8170: 103137, 8171: 103141, 8172: 103171, 8173: 103210, 8174: 103219, 8175: 103221, 8176: 103228, 8177: 103233, 8178: 103235, 8179: 103245, 8180: 103249, 8181: 103253, 8182: 103335, 8183: 103339, 8184: 103341, 8185: 103366, 8186: 103372, 8187: 103384, 8188: 103449, 8189: 103483, 8190: 103502, 8191: 103539, 8192: 103543, 8193: 103596, 8194: 103602, 8195: 103606, 8196: 103609, 8197: 103624, 8198: 103655, 8199: 103685, 8200: 103688, 8201: 103755, 8202: 103772, 8203: 103801, 8204: 103810, 8205: 103819, 8206: 103865, 8207: 103883, 8208: 103980, 8209: 103984, 8210: 104017, 8211: 104069, 8212: 104074, 8213: 104076, 8214: 104078, 8215: 104129, 8216: 104141, 8217: 104211, 8218: 104218, 8219: 104241, 8220: 104243, 8221: 104245, 8222: 104272, 8223: 104283, 8224: 104303, 8225: 104337, 8226: 104339, 8227: 104374, 8228: 104419, 8229: 104457, 8230: 104644, 8231: 104760, 8232: 104780, 8233: 104837, 8234: 104841, 8235: 104863, 8236: 104875, 8237: 104879, 8238: 104906, 8239: 104908, 8240: 104913, 8241: 104925, 8242: 104944, 8243: 105020, 8244: 105037, 8245: 105121, 8246: 105197, 8247: 105211, 8248: 105213, 8249: 105246, 8250: 105250, 8251: 105254, 8252: 105325, 8253: 105351, 8254: 105355, 8255: 105468, 8256: 105504, 8257: 105540, 8258: 105585, 8259: 105593, 8260: 105653, 8261: 105720, 8262: 105731, 8263: 105746, 8264: 105755, 8265: 105801, 8266: 105835, 8267: 105844, 8268: 105954, 8269: 106002, 8270: 106062, 8271: 106072, 8272: 106100, 8273: 106144, 8274: 106330, 8275: 106438, 8276: 106441, 8277: 106487, 8278: 106489, 8279: 106491, 8280: 106540, 8281: 106542, 8282: 106594, 8283: 106642, 8284: 106648, 8285: 106696, 8286: 106766, 8287: 106782, 8288: 106785, 8289: 106839, 8290: 106873, 8291: 106883, 8292: 106889, 8293: 106916, 8294: 106918, 8295: 106920, 8296: 106927, 8297: 107013, 8298: 107069, 8299: 107141, 8300: 107159, 8301: 107314, 8302: 107338, 8303: 107348, 8304: 107406, 8305: 107408, 8306: 107410, 8307: 107412, 8308: 107436, 8309: 107447, 8310: 107449, 8311: 107462, 8312: 107565, 8313: 107630, 8314: 107702, 8315: 107723, 8316: 107771, 8317: 107780, 8318: 107846, 8319: 107945, 8320: 107951, 8321: 107953, 8322: 107962, 8323: 107997, 8324: 107999, 8325: 108078, 8326: 108090, 8327: 108156, 8328: 108188, 8329: 108190, 8330: 108192, 8331: 108540, 8332: 108601, 8333: 108689, 8334: 108715, 8335: 108727, 8336: 108729, 8337: 108795, 8338: 108928, 8339: 108932, 8340: 108945, 8341: 108949, 8342: 108981, 8343: 109042, 8344: 109161, 8345: 109183, 8346: 109187, 8347: 109191, 8348: 109241, 8349: 109282, 8350: 109295, 8351: 109313, 8352: 109317, 8353: 109372, 8354: 109374, 8355: 109383, 8356: 109416, 8357: 109483, 8358: 109487, 8359: 109569, 8360: 109576, 8361: 109578, 8362: 109596, 8363: 109633, 8364: 109673, 8365: 109687, 8366: 109723, 8367: 109846, 8368: 109848, 8369: 109850, 8370: 109853, 8371: 109864, 8372: 109895, 8373: 109897, 8374: 109941, 8375: 109968, 8376: 109971, 8377: 110102, 8378: 110127, 8379: 110130, 8380: 110281, 8381: 110286, 8382: 110297, 8383: 110330, 8384: 110350, 8385: 110387, 8386: 110501, 8387: 110541, 8388: 110553, 8389: 110586, 8390: 110591, 8391: 110603, 8392: 110611, 8393: 110655, 8394: 110669, 8395: 110718, 8396: 110730, 8397: 110746, 8398: 110771, 8399: 110773, 8400: 110781, 8401: 110826, 8402: 110882, 8403: 111113, 8404: 111146, 8405: 111320, 8406: 111360, 8407: 111362, 8408: 111364, 8409: 111375, 8410: 111384, 8411: 111443, 8412: 111551, 8413: 111617, 8414: 111622, 8415: 111659, 8416: 111663, 8417: 111680, 8418: 111732, 8419: 111743, 8420: 111759, 8421: 111781, 8422: 111785, 8423: 111795, 8424: 111800, 8425: 111817, 8426: 111844, 8427: 111913, 8428: 111921, 8429: 112006, 8430: 112070, 8431: 112138, 8432: 112171, 8433: 112175, 8434: 112183, 8435: 112290, 8436: 112303, 8437: 112316, 8438: 112326, 8439: 112334, 8440: 112370, 8441: 112421, 8442: 112450, 8443: 112454, 8444: 112460, 8445: 112497, 8446: 112512, 8447: 112515, 8448: 112552, 8449: 112556, 8450: 112580, 8451: 112623, 8452: 112727, 8453: 112749, 8454: 112788, 8455: 112804, 8456: 112818, 8457: 112852, 8458: 112868, 8459: 112897, 8460: 112911, 8461: 112940, 8462: 113159, 8463: 113186, 8464: 113207, 8465: 113225, 8466: 113252, 8467: 113275, 8468: 113278, 8469: 113280, 8470: 113313, 8471: 113345, 8472: 113348, 8473: 113350, 8474: 113374, 8475: 113378, 8476: 113394, 8477: 113416, 8478: 113453, 8479: 113532, 8480: 113565, 8481: 113573, 8482: 113604, 8483: 113705, 8484: 113741, 8485: 113780, 8486: 113829, 8487: 113849, 8488: 113862, 8489: 114028, 8490: 114044, 8491: 114060, 8492: 114066, 8493: 114074, 8494: 114126, 8495: 114180, 8496: 114184, 8497: 114246, 8498: 114265, 8499: 114335, 8500: 114396, 8501: 114494, 8502: 114554, 8503: 114601, 8504: 114627, 8505: 114662, 8506: 114670, 8507: 114678, 8508: 114707, 8509: 114713, 8510: 114762, 8511: 114795, 8512: 114818, 8513: 114847, 8514: 114925, 8515: 114935, 8516: 115065, 8517: 115111, 8518: 115122, 8519: 115149, 8520: 115151, 8521: 115170, 8522: 115203, 8523: 115210, 8524: 115216, 8525: 115231, 8526: 115502, 8527: 115569, 8528: 115617, 8529: 115664, 8530: 115667, 8531: 115680, 8532: 115713, 8533: 115727, 8534: 115819, 8535: 115828, 8536: 115877, 8537: 115969, 8538: 116044, 8539: 116138, 8540: 116169, 8541: 116207, 8542: 116411, 8543: 116413, 8544: 116419, 8545: 116505, 8546: 116529, 8547: 116668, 8548: 116718, 8549: 116724, 8550: 116738, 8551: 116797, 8552: 116799, 8553: 116817, 8554: 116823, 8555: 116849, 8556: 116887, 8557: 116897, 8558: 116941, 8559: 116963, 8560: 116977, 8561: 116985, 8562: 117107, 8563: 117109, 8564: 117133, 8565: 117176, 8566: 117192, 8567: 117364, 8568: 117368, 8569: 117444, 8570: 117466, 8571: 117511, 8572: 117529, 8573: 117531, 8574: 117533, 8575: 117545, 8576: 117572, 8577: 117590, 8578: 117630, 8579: 117646, 8580: 117849, 8581: 117851, 8582: 117867, 8583: 117877, 8584: 117881, 8585: 117887, 8586: 117895, 8587: 117922, 8588: 118082, 8589: 118166, 8590: 118198, 8591: 118248, 8592: 118270, 8593: 118290, 8594: 118326, 8595: 118354, 8596: 118512, 8597: 118530, 8598: 118572, 8599: 118696, 8600: 118700, 8601: 118702, 8602: 118706, 8603: 118784, 8604: 118814, 8605: 118834, 8606: 118862, 8607: 118880, 8608: 118888, 8609: 118894, 8610: 118896, 8611: 118900, 8612: 118924, 8613: 118930, 8614: 118985, 8615: 118997, 8616: 119068, 8617: 119141, 8618: 119145, 8619: 119153, 8620: 119155, 8621: 119167, 8622: 119218, 8623: 119655, 8624: 119714, 8625: 119828, 8626: 119964, 8627: 120130, 8628: 120138, 8629: 120466, 8630: 120478, 8631: 120625, 8632: 120635, 8633: 120637, 8634: 120761, 8635: 120783, 8636: 120799, 8637: 120807, 8638: 120813, 8639: 120827, 8640: 120919, 8641: 121007, 8642: 121035, 8643: 121097, 8644: 121099, 8645: 121129, 8646: 121169, 8647: 121171, 8648: 121231, 8649: 121253, 8650: 121338, 8651: 121342, 8652: 121372, 8653: 121374, 8654: 121469, 8655: 121715, 8656: 121781, 8657: 122092, 8658: 122246, 8659: 122260, 8660: 122433, 8661: 122490, 8662: 122627, 8663: 122882, 8664: 122884, 8665: 122886, 8666: 122888, 8667: 122890, 8668: 122892, 8669: 122896, 8670: 122898, 8671: 122900, 8672: 122902, 8673: 122904, 8674: 122906, 8675: 122912, 8676: 122916, 8677: 122918, 8678: 122920, 8679: 122922, 8680: 122924, 8681: 122926, 8682: 122932, 8683: 123200, 8684: 123310, 8685: 123545, 8686: 123553, 8687: 123947, 8688: 124273, 8689: 124404, 8690: 124484, 8691: 124851, 8692: 124853, 8693: 124859, 8694: 125221, 8695: 125914, 8696: 125916, 8697: 125970, 8698: 125974, 8699: 126088, 8700: 126090, 8701: 126142, 8702: 126420, 8703: 126426, 8704: 126430, 8705: 126482, 8706: 126548, 8707: 126577, 8708: 126921, 8709: 127052, 8710: 127096, 8711: 127098, 8712: 127108, 8713: 127114, 8714: 127116, 8715: 127130, 8716: 127132, 8717: 127134, 8718: 127136, 8719: 127146, 8720: 127152, 8721: 127164, 8722: 127172, 8723: 127180, 8724: 127184, 8725: 127194, 8726: 127198, 8727: 127202, 8728: 127204, 8729: 127212, 8730: 127298, 8731: 127319, 8732: 127323, 8733: 127390, 8734: 128087, 8735: 128089, 8736: 128097, 8737: 128099, 8738: 128197, 8739: 128360, 8740: 128366, 8741: 128488, 8742: 128512, 8743: 128520, 8744: 128542, 8745: 128592, 8746: 128594, 8747: 128620, 8748: 128695, 8749: 128736, 8750: 128832, 8751: 128838, 8752: 128842, 8753: 128852, 8754: 128900, 8755: 128902, 8756: 128908, 8757: 128914, 8758: 128944, 8759: 128968, 8760: 128975, 8761: 128991, 8762: 129011, 8763: 129229, 8764: 129250, 8765: 129313, 8766: 129333, 8767: 129354, 8768: 129397, 8769: 129428, 8770: 129514, 8771: 129657, 8772: 129659, 8773: 129737, 8774: 129779, 8775: 129937, 8776: 130050, 8777: 130052, 8778: 130073, 8779: 130083, 8780: 130087, 8781: 130444, 8782: 130450, 8783: 130452, 8784: 130482, 8785: 130490, 8786: 130498, 8787: 130518, 8788: 130520, 8789: 130576, 8790: 130578, 8791: 130634, 8792: 130686, 8793: 130840, 8794: 130842, 8795: 130970, 8796: 130976, 8797: 130978, 8798: 131013, 8799: 131023, 8800: 131098, 8801: 131104, 8802: 131130, 8803: 131237, 8804: 131439, 8805: 131480, 8806: 131578, 8807: 131610, 8808: 131656, 8809: 131714, 8810: 131724, 8811: 131739, 8812: 131749, 8813: 131796, 8814: 131826, 8815: 131920, 8816: 131934, 8817: 132046, 8818: 132084, 8819: 132153, 8820: 132157, 8821: 132333, 8822: 132335, 8823: 132362, 8824: 132422, 8825: 132424, 8826: 132454, 8827: 132462, 8828: 132488, 8829: 132496, 8830: 132584, 8831: 132618, 8832: 132660, 8833: 132796, 8834: 132800, 8835: 132888, 8836: 133115, 8837: 133195, 8838: 133217, 8839: 133281, 8840: 133365, 8841: 133377, 8842: 133419, 8843: 133545, 8844: 133645, 8845: 133712, 8846: 133716, 8847: 133771, 8848: 133780, 8849: 133782, 8850: 133798, 8851: 133802, 8852: 133832, 8853: 133867, 8854: 133879, 8855: 134004, 8856: 134019, 8857: 134021, 8858: 134041, 8859: 134095, 8860: 134109, 8861: 134130, 8862: 134158, 8863: 134170, 8864: 134184, 8865: 134214, 8866: 134246, 8867: 134248, 8868: 134252, 8869: 134326, 8870: 134334, 8871: 134368, 8872: 134393, 8873: 134515, 8874: 134524, 8875: 134528, 8876: 134775, 8877: 134783, 8878: 134796, 8879: 134808, 8880: 134847, 8881: 134849, 8882: 134853, 8883: 134859, 8884: 134861, 8885: 134881, 8886: 135133, 8887: 135137, 8888: 135143, 8889: 135198, 8890: 135216, 8891: 135288, 8892: 135436, 8893: 135456, 8894: 135518, 8895: 135532, 8896: 135534, 8897: 135536, 8898: 135567, 8899: 135569, 8900: 135777, 8901: 135787, 8902: 135803, 8903: 135815, 8904: 135861, 8905: 135885, 8906: 135887, 8907: 135937, 8908: 136012, 8909: 136016, 8910: 136018, 8911: 136020, 8912: 136024, 8913: 136297, 8914: 136305, 8915: 136341, 8916: 136353, 8917: 136355, 8918: 136359, 8919: 136443, 8920: 136445, 8921: 136447, 8922: 136449, 8923: 136469, 8924: 136471, 8925: 136503, 8926: 136511, 8927: 136540, 8928: 136556, 8929: 136562, 8930: 136564, 8931: 136598, 8932: 136602, 8933: 136654, 8934: 136664, 8935: 136666, 8936: 136778, 8937: 136786, 8938: 136800, 8939: 136816, 8940: 136834, 8941: 136838, 8942: 136840, 8943: 136850, 8944: 136859, 8945: 136864, 8946: 136912, 8947: 136958, 8948: 137218, 8949: 137337, 8950: 137345, 8951: 137517, 8952: 137595, 8953: 137857, 8954: 137859, 8955: 137863, 8956: 138036, 8957: 138186, 8958: 138204, 8959: 138208, 8960: 138210, 8961: 138396, 8962: 138546, 8963: 138610, 8964: 138632, 8965: 138702, 8966: 138798, 8967: 138835, 8968: 138966, 8969: 139052, 8970: 139130, 8971: 139157, 8972: 139385, 8973: 139415, 8974: 139511, 8975: 139640, 8976: 139642, 8977: 139644, 8978: 139655, 8979: 139717, 8980: 139747, 8981: 139855, 8982: 139857, 8983: 139859, 8984: 139915, 8985: 139994, 8986: 140016, 8987: 140038, 8988: 140110, 8989: 140133, 8990: 140162, 8991: 140174, 8992: 140237, 8993: 140247, 8994: 140265, 8995: 140267, 8996: 140289, 8997: 140301, 8998: 140359, 8999: 140481, 9000: 140523, 9001: 140525, 9002: 140541, 9003: 140561, 9004: 140627, 9005: 140711, 9006: 140715, 9007: 140725, 9008: 140737, 9009: 140816, 9010: 140850, 9011: 140852, 9012: 140928, 9013: 140956, 9014: 141004, 9015: 141131, 9016: 141400, 9017: 141408, 9018: 141422, 9019: 141513, 9020: 141544, 9021: 141646, 9022: 141668, 9023: 141688, 9024: 141718, 9025: 141749, 9026: 141799, 9027: 141810, 9028: 141816, 9029: 141818, 9030: 141820, 9031: 141830, 9032: 141836, 9033: 141844, 9034: 141846, 9035: 141866, 9036: 141890, 9037: 141928, 9038: 141994, 9039: 142020, 9040: 142056, 9041: 142074, 9042: 142115, 9043: 142196, 9044: 142222, 9045: 142366, 9046: 142372, 9047: 142420, 9048: 142422, 9049: 142424, 9050: 142444, 9051: 142448, 9052: 142456, 9053: 142488, 9054: 142507, 9055: 142509, 9056: 142536, 9057: 142550, 9058: 142558, 9059: 142598, 9060: 142602, 9061: 142831, 9062: 142961, 9063: 142997, 9064: 143001, 9065: 143031, 9066: 143245, 9067: 143255, 9068: 143257, 9069: 143355, 9070: 143365, 9071: 143367, 9072: 143385, 9073: 143410, 9074: 143458, 9075: 143472, 9076: 143511, 9077: 143525, 9078: 143559, 9079: 143859, 9080: 143896, 9081: 143969, 9082: 144210, 9083: 144222, 9084: 144262, 9085: 144352, 9086: 144478, 9087: 144522, 9088: 144606, 9089: 144620, 9090: 144714, 9091: 144716, 9092: 144734, 9093: 144976, 9094: 145080, 9095: 145150, 9096: 145283, 9097: 145418, 9098: 145491, 9099: 145724, 9100: 145745, 9101: 145839, 9102: 145935, 9103: 145951, 9104: 145994, 9105: 146024, 9106: 146028, 9107: 146210, 9108: 146244, 9109: 146309, 9110: 146656, 9111: 146662, 9112: 146682, 9113: 146684, 9114: 146688, 9115: 146730, 9116: 146986, 9117: 147002, 9118: 147142, 9119: 147196, 9120: 147250, 9121: 147282, 9122: 147286, 9123: 147300, 9124: 147326, 9125: 147328, 9126: 147330, 9127: 147372, 9128: 147374, 9129: 147376, 9130: 147378, 9131: 147380, 9132: 147382, 9133: 147384, 9134: 147410, 9135: 147657, 9136: 147662, 9137: 147936, 9138: 148166, 9139: 148172, 9140: 148238, 9141: 148424, 9142: 148482, 9143: 148592, 9144: 148626, 9145: 148632, 9146: 148652, 9147: 148667, 9148: 148671, 9149: 148675, 9150: 148709, 9151: 148775, 9152: 148881, 9153: 148888, 9154: 148956, 9155: 148978, 9156: 148982, 9157: 149011, 9158: 149144, 9159: 149146, 9160: 149330, 9161: 149334, 9162: 149350, 9163: 149352, 9164: 149354, 9165: 149380, 9166: 149406, 9167: 149508, 9168: 149566, 9169: 149590, 9170: 149612, 9171: 149830, 9172: 149902, 9173: 150254, 9174: 150401, 9175: 150548, 9176: 150554, 9177: 150596, 9178: 150604, 9179: 150696, 9180: 150993, 9181: 151311, 9182: 151315, 9183: 151317, 9184: 151455, 9185: 151479, 9186: 151501, 9187: 151557, 9188: 151559, 9189: 151653, 9190: 151687, 9191: 151695, 9192: 151739, 9193: 151745, 9194: 151759, 9195: 151763, 9196: 151769, 9197: 151777, 9198: 151781, 9199: 152037, 9200: 152063, 9201: 152065, 9202: 152071, 9203: 152077, 9204: 152079, 9205: 152081, 9206: 152083, 9207: 152085, 9208: 152091, 9209: 152105, 9210: 152173, 9211: 152270, 9212: 152284, 9213: 152372, 9214: 152591, 9215: 152658, 9216: 152711, 9217: 152970, 9218: 153070, 9219: 153236, 9220: 153386, 9221: 153408, 9222: 154065, 9223: 154358, 9224: 154975, 9225: 155064, 9226: 155168, 9227: 155288, 9228: 155358, 9229: 155509, 9230: 155589, 9231: 155659, 9232: 155743, 9233: 155774, 9234: 155812, 9235: 155820, 9236: 155892, 9237: 156025, 9238: 156371, 9239: 156387, 9240: 156553, 9241: 156605, 9242: 156607, 9243: 156609, 9244: 156675, 9245: 156706, 9246: 156726, 9247: 156781, 9248: 156783, 9249: 157108, 9250: 157110, 9251: 157122, 9252: 157130, 9253: 157172, 9254: 157200, 9255: 157270, 9256: 157296, 9257: 157312, 9258: 157340, 9259: 157369, 9260: 157407, 9261: 157432, 9262: 157699, 9263: 157775, 9264: 157865, 9265: 158022, 9266: 158027, 9267: 158035, 9268: 158238, 9269: 158254, 9270: 158388, 9271: 158398, 9272: 158402, 9273: 158528, 9274: 158721, 9275: 158783, 9276: 158813, 9277: 158830, 9278: 158842, 9279: 158872, 9280: 158874, 9281: 158882, 9282: 158956, 9283: 158966, 9284: 158972, 9285: 159061, 9286: 159069, 9287: 159077, 9288: 159093, 9289: 159161, 9290: 159193, 9291: 159403, 9292: 159415, 9293: 159441, 9294: 159510, 9295: 159690, 9296: 159717, 9297: 159755, 9298: 159779, 9299: 159811, 9300: 159817, 9301: 159849, 9302: 159858, 9303: 159976, 9304: 160080, 9305: 160271, 9306: 160289, 9307: 160341, 9308: 160400, 9309: 160422, 9310: 160438, 9311: 160440, 9312: 160527, 9313: 160563, 9314: 160565, 9315: 160567, 9316: 160569, 9317: 160571, 9318: 160573, 9319: 160644, 9320: 160646, 9321: 160684, 9322: 160718, 9323: 160730, 9324: 160836, 9325: 160848, 9326: 160872, 9327: 160954, 9328: 160978, 9329: 160980, 9330: 161008, 9331: 161024, 9332: 161032, 9333: 161044, 9334: 161127, 9335: 161131, 9336: 161290, 9337: 161354, 9338: 161580, 9339: 161582, 9340: 161594, 9341: 161634, 9342: 161830, 9343: 161918, 9344: 161922, 9345: 161966, 9346: 162082, 9347: 162344, 9348: 162350, 9349: 162414, 9350: 162478, 9351: 162578, 9352: 162590, 9353: 162598, 9354: 162600, 9355: 162602, 9356: 162606, 9357: 162828, 9358: 162968, 9359: 162982, 9360: 163056, 9361: 163072, 9362: 163112, 9363: 163134, 9364: 163386, 9365: 163527, 9366: 163639, 9367: 163645, 9368: 163653, 9369: 163809, 9370: 163925, 9371: 163937, 9372: 163981, 9373: 163985, 9374: 164179, 9375: 164200, 9376: 164226, 9377: 164280, 9378: 164367, 9379: 164375, 9380: 164540, 9381: 164647, 9382: 164655, 9383: 164707, 9384: 164753, 9385: 164881, 9386: 164909, 9387: 164917, 9388: 165075, 9389: 165101, 9390: 165103, 9391: 165139, 9392: 165343, 9393: 165347, 9394: 165483, 9395: 165489, 9396: 165529, 9397: 165549, 9398: 165551, 9399: 165635, 9400: 165639, 9401: 165645, 9402: 165671, 9403: 165843, 9404: 165947, 9405: 165959, 9406: 165969, 9407: 166015, 9408: 166024, 9409: 166183, 9410: 166203, 9411: 166291, 9412: 166461, 9413: 166492, 9414: 166526, 9415: 166528, 9416: 166534, 9417: 166558, 9418: 166568, 9419: 166635, 9420: 166643, 9421: 166705, 9422: 166946, 9423: 167018, 9424: 167036, 9425: 167064, 9426: 167296, 9427: 167370, 9428: 167380, 9429: 167538, 9430: 167570, 9431: 167634, 9432: 167706, 9433: 167732, 9434: 167746, 9435: 167772, 9436: 167790, 9437: 167854, 9438: 168026, 9439: 168090, 9440: 168144, 9441: 168174, 9442: 168218, 9443: 168248, 9444: 168250, 9445: 168252, 9446: 168254, 9447: 168266, 9448: 168326, 9449: 168350, 9450: 168358, 9451: 168366, 9452: 168418, 9453: 168456, 9454: 168492, 9455: 168608, 9456: 168612, 9457: 168632, 9458: 168712, 9459: 168846, 9460: 169034, 9461: 169180, 9462: 169670, 9463: 169904, 9464: 169912, 9465: 169958, 9466: 169982, 9467: 169984, 9468: 169992, 9469: 170289, 9470: 170297, 9471: 170355, 9472: 170357, 9473: 170399, 9474: 170401, 9475: 170411, 9476: 170551, 9477: 170597, 9478: 170697, 9479: 170705, 9480: 170777, 9481: 170813, 9482: 170817, 9483: 170827, 9484: 170837, 9485: 170875, 9486: 170897, 9487: 170907, 9488: 170937, 9489: 170939, 9490: 170945, 9491: 170957, 9492: 170993, 9493: 171011, 9494: 171023, 9495: 171251, 9496: 171495, 9497: 171631, 9498: 171695, 9499: 171701, 9500: 171749, 9501: 171751, 9502: 171759, 9503: 171763, 9504: 171765, 9505: 171811, 9506: 171867, 9507: 171891, 9508: 171917, 9509: 172013, 9510: 172215, 9511: 172229, 9512: 172233, 9513: 172253, 9514: 172321, 9515: 172461, 9516: 172497, 9517: 172547, 9518: 172577, 9519: 172583, 9520: 172585, 9521: 172587, 9522: 172589, 9523: 172591, 9524: 172637, 9525: 172705, 9526: 172793, 9527: 172825, 9528: 172875, 9529: 172881, 9530: 172887, 9531: 172909, 9532: 173145, 9533: 173197, 9534: 173205, 9535: 173209, 9536: 173235, 9537: 173253, 9538: 173255, 9539: 173291, 9540: 173307, 9541: 173317, 9542: 173351, 9543: 173355, 9544: 173535, 9545: 173619, 9546: 173751, 9547: 173873, 9548: 173925, 9549: 173941, 9550: 173963, 9551: 174045, 9552: 174053, 9553: 174055, 9554: 174141, 9555: 174403, 9556: 174479, 9557: 174551, 9558: 174681, 9559: 174727, 9560: 174737, 9561: 174815, 9562: 174909, 9563: 175197, 9564: 175199, 9565: 175293, 9566: 175303, 9567: 175387, 9568: 175397, 9569: 175401, 9570: 175431, 9571: 175435, 9572: 175475, 9573: 175485, 9574: 175569, 9575: 175577, 9576: 175585, 9577: 175661, 9578: 175693, 9579: 175705, 9580: 175707, 9581: 175743, 9582: 175781, 9583: 176051, 9584: 176101, 9585: 176329, 9586: 176371, 9587: 176389, 9588: 176413, 9589: 176415, 9590: 176419, 9591: 176423, 9592: 176579, 9593: 176601, 9594: 176621, 9595: 176751, 9596: 176805, 9597: 176935, 9598: 177185, 9599: 177285, 9600: 177593, 9601: 177615, 9602: 177763, 9603: 177765, 9604: 177939, 9605: 178061, 9606: 178111, 9607: 178129, 9608: 178323, 9609: 178613, 9610: 178615, 9611: 178827, 9612: 179053, 9613: 179073, 9614: 179119, 9615: 179133, 9616: 179135, 9617: 179211, 9618: 179401, 9619: 179427, 9620: 179491, 9621: 179511, 9622: 179709, 9623: 179749, 9624: 179813, 9625: 179815, 9626: 179817, 9627: 179819, 9628: 179953, 9629: 180031, 9630: 180045, 9631: 180095, 9632: 180231, 9633: 180263, 9634: 180265, 9635: 180297, 9636: 180497, 9637: 180777, 9638: 180985, 9639: 180987, 9640: 181065, 9641: 181139, 9642: 181315, 9643: 181413, 9644: 181659, 9645: 181719, 9646: 182293, 9647: 182297, 9648: 182299, 9649: 182639, 9650: 182715, 9651: 182727, 9652: 182731, 9653: 182749, 9654: 182793, 9655: 182823, 9656: 183011, 9657: 183197, 9658: 183199, 9659: 183227, 9660: 183295, 9661: 183301, 9662: 183317, 9663: 183611, 9664: 183635, 9665: 183897, 9666: 183911, 9667: 183959, 9668: 184015, 9669: 184053, 9670: 184245, 9671: 184253, 9672: 184257, 9673: 184349, 9674: 184471, 9675: 184641, 9676: 184721, 9677: 184791, 9678: 184931, 9679: 184987, 9680: 184997, 9681: 185029, 9682: 185031, 9683: 185033, 9684: 185135, 9685: 185435, 9686: 185473, 9687: 185585, 9688: 186587, 9689: 187031, 9690: 187541, 9691: 187593, 9692: 187595, 9693: 187717, 9694: 188189, 9695: 188301, 9696: 188675, 9697: 188751, 9698: 188797, 9699: 188833, 9700: 189043, 9701: 189111, 9702: 189333, 9703: 189381, 9704: 189547, 9705: 189713, 9706: 190183, 9707: 190207, 9708: 190209, 9709: 190213, 9710: 190215, 9711: 190219, 9712: 190221, 9713: 191005, 9714: 193565, 9715: 193567, 9716: 193571, 9717: 193573, 9718: 193579, 9719: 193581, 9720: 193583, 9721: 193585, 9722: 193587, 9723: 193609}\n"
     ]
    }
   ],
   "source": [
    "movies_id = clean_ratings_df['movieId'].unique().tolist()\n",
    "print('list movieId:', movies_id)\n",
    "\n",
    "movie_encoded = {x: i for i, x in enumerate(movies_id)}\n",
    "print('encoded movieId:', movie_encoded)\n",
    "\n",
    "decode_movie = {i: x for i, x in enumerate(movies_id)}\n",
    "print('decode movieId:', decode_movie)"
   ]
  },
  {
   "cell_type": "code",
   "execution_count": 49,
   "metadata": {
    "execution": {
     "iopub.execute_input": "2025-05-01T10:28:20.071458Z",
     "iopub.status.busy": "2025-05-01T10:28:20.071204Z",
     "iopub.status.idle": "2025-05-01T10:28:20.078751Z",
     "shell.execute_reply": "2025-05-01T10:28:20.077980Z",
     "shell.execute_reply.started": "2025-05-01T10:28:20.071416Z"
    },
    "id": "Sc1uRyYmBtzq",
    "trusted": true
   },
   "outputs": [],
   "source": [
    "clean_ratings_df['user'] = clean_ratings_df['userId'].map(user_encoded)"
   ]
  },
  {
   "cell_type": "code",
   "execution_count": null,
   "metadata": {
    "execution": {
     "iopub.execute_input": "2025-05-01T10:28:20.079847Z",
     "iopub.status.busy": "2025-05-01T10:28:20.079550Z",
     "iopub.status.idle": "2025-05-01T10:28:20.099329Z",
     "shell.execute_reply": "2025-05-01T10:28:20.098495Z",
     "shell.execute_reply.started": "2025-05-01T10:28:20.079824Z"
    },
    "id": "PDbPPtU9B7S_",
    "trusted": true
   },
   "outputs": [],
   "source": [
    "clean_ratings_df['movie'] = clean_ratings_df['movieId'].map(movie_encoded)"
   ]
  },
  {
   "cell_type": "code",
   "execution_count": 51,
   "metadata": {
    "colab": {
     "base_uri": "https://localhost:8080/",
     "height": 424
    },
    "execution": {
     "iopub.execute_input": "2025-05-01T10:28:20.100498Z",
     "iopub.status.busy": "2025-05-01T10:28:20.100160Z",
     "iopub.status.idle": "2025-05-01T10:28:20.117163Z",
     "shell.execute_reply": "2025-05-01T10:28:20.116501Z",
     "shell.execute_reply.started": "2025-05-01T10:28:20.100475Z"
    },
    "id": "046HzuSSCkJQ",
    "outputId": "71cdbfca-f560-4920-b4d5-d99655d247c6",
    "trusted": true
   },
   "outputs": [
    {
     "data": {
      "text/html": [
       "<div>\n",
       "<style scoped>\n",
       "    .dataframe tbody tr th:only-of-type {\n",
       "        vertical-align: middle;\n",
       "    }\n",
       "\n",
       "    .dataframe tbody tr th {\n",
       "        vertical-align: top;\n",
       "    }\n",
       "\n",
       "    .dataframe thead th {\n",
       "        text-align: right;\n",
       "    }\n",
       "</style>\n",
       "<table border=\"1\" class=\"dataframe\">\n",
       "  <thead>\n",
       "    <tr style=\"text-align: right;\">\n",
       "      <th></th>\n",
       "      <th>userId</th>\n",
       "      <th>movieId</th>\n",
       "      <th>rating</th>\n",
       "      <th>user</th>\n",
       "      <th>movie</th>\n",
       "    </tr>\n",
       "  </thead>\n",
       "  <tbody>\n",
       "    <tr>\n",
       "      <th>90256</th>\n",
       "      <td>587</td>\n",
       "      <td>1</td>\n",
       "      <td>5.0</td>\n",
       "      <td>0</td>\n",
       "      <td>0</td>\n",
       "    </tr>\n",
       "    <tr>\n",
       "      <th>98666</th>\n",
       "      <td>608</td>\n",
       "      <td>1</td>\n",
       "      <td>2.5</td>\n",
       "      <td>1</td>\n",
       "      <td>0</td>\n",
       "    </tr>\n",
       "    <tr>\n",
       "      <th>58965</th>\n",
       "      <td>385</td>\n",
       "      <td>1</td>\n",
       "      <td>4.0</td>\n",
       "      <td>2</td>\n",
       "      <td>0</td>\n",
       "    </tr>\n",
       "    <tr>\n",
       "      <th>75200</th>\n",
       "      <td>475</td>\n",
       "      <td>2</td>\n",
       "      <td>4.5</td>\n",
       "      <td>3</td>\n",
       "      <td>1</td>\n",
       "    </tr>\n",
       "    <tr>\n",
       "      <th>12731</th>\n",
       "      <td>82</td>\n",
       "      <td>2</td>\n",
       "      <td>3.0</td>\n",
       "      <td>4</td>\n",
       "      <td>1</td>\n",
       "    </tr>\n",
       "    <tr>\n",
       "      <th>...</th>\n",
       "      <td>...</td>\n",
       "      <td>...</td>\n",
       "      <td>...</td>\n",
       "      <td>...</td>\n",
       "      <td>...</td>\n",
       "    </tr>\n",
       "    <tr>\n",
       "      <th>27259</th>\n",
       "      <td>184</td>\n",
       "      <td>193587</td>\n",
       "      <td>3.5</td>\n",
       "      <td>524</td>\n",
       "      <td>9722</td>\n",
       "    </tr>\n",
       "    <tr>\n",
       "      <th>27259</th>\n",
       "      <td>184</td>\n",
       "      <td>193587</td>\n",
       "      <td>3.5</td>\n",
       "      <td>524</td>\n",
       "      <td>9722</td>\n",
       "    </tr>\n",
       "    <tr>\n",
       "      <th>51362</th>\n",
       "      <td>331</td>\n",
       "      <td>193609</td>\n",
       "      <td>4.0</td>\n",
       "      <td>97</td>\n",
       "      <td>9723</td>\n",
       "    </tr>\n",
       "    <tr>\n",
       "      <th>51362</th>\n",
       "      <td>331</td>\n",
       "      <td>193609</td>\n",
       "      <td>4.0</td>\n",
       "      <td>97</td>\n",
       "      <td>9723</td>\n",
       "    </tr>\n",
       "    <tr>\n",
       "      <th>51362</th>\n",
       "      <td>331</td>\n",
       "      <td>193609</td>\n",
       "      <td>4.0</td>\n",
       "      <td>97</td>\n",
       "      <td>9723</td>\n",
       "    </tr>\n",
       "  </tbody>\n",
       "</table>\n",
       "<p>29172 rows × 5 columns</p>\n",
       "</div>"
      ],
      "text/plain": [
       "       userId  movieId  rating  user  movie\n",
       "90256     587        1     5.0     0      0\n",
       "98666     608        1     2.5     1      0\n",
       "58965     385        1     4.0     2      0\n",
       "75200     475        2     4.5     3      1\n",
       "12731      82        2     3.0     4      1\n",
       "...       ...      ...     ...   ...    ...\n",
       "27259     184   193587     3.5   524   9722\n",
       "27259     184   193587     3.5   524   9722\n",
       "51362     331   193609     4.0    97   9723\n",
       "51362     331   193609     4.0    97   9723\n",
       "51362     331   193609     4.0    97   9723\n",
       "\n",
       "[29172 rows x 5 columns]"
      ]
     },
     "execution_count": 51,
     "metadata": {},
     "output_type": "execute_result"
    }
   ],
   "source": [
    "clean_ratings_df"
   ]
  },
  {
   "cell_type": "code",
   "execution_count": 52,
   "metadata": {
    "colab": {
     "base_uri": "https://localhost:8080/"
    },
    "execution": {
     "iopub.execute_input": "2025-05-01T10:28:20.118514Z",
     "iopub.status.busy": "2025-05-01T10:28:20.117891Z",
     "iopub.status.idle": "2025-05-01T10:28:20.137271Z",
     "shell.execute_reply": "2025-05-01T10:28:20.136762Z",
     "shell.execute_reply.started": "2025-05-01T10:28:20.118493Z"
    },
    "id": "55jj9vdrCncE",
    "outputId": "6503d8c4-fb50-4785-ffa8-67e0c8c0f357",
    "trusted": true
   },
   "outputs": [
    {
     "name": "stdout",
     "output_type": "stream",
     "text": [
      "570\n",
      "9724\n",
      "Number of User: 570, Number of Movie: 9724, Min Rating: 0.5, Max Rating5.0\n"
     ]
    }
   ],
   "source": [
    "user_number = len(user_encoded)\n",
    "print(user_number)\n",
    "\n",
    "movie_number = len(movie_encoded)\n",
    "print(movie_number)\n",
    "\n",
    "clean_ratings_df['rating'] = clean_ratings_df['rating'].values.astype(np.float32)\n",
    "min_rating = min(clean_ratings_df['rating'])\n",
    "max_rating = max(clean_ratings_df['rating'])\n",
    "\n",
    "print('Number of User: {}, Number of Movie: {}, Min Rating: {}, Max Rating{}'. format(\n",
    "    user_number, movie_number, min_rating, max_rating\n",
    "))"
   ]
  },
  {
   "cell_type": "markdown",
   "metadata": {
    "id": "92kFJenuDgno"
   },
   "source": [
    "#### *Train Test Split*\n",
    "\n",
    "> **Penjelasan**: Metode *train-test split* digunakan untuk membagi dataset menjadi dua bagian, yaitu data yang digunakan untuk melatih model dan data yang tidak digunakan selama proses pelatihan. Tujuannya adalah untuk menguji kemampuan model dalam memprediksi data yang belum pernah dilihat sebelumnya.\n",
    "\n",
    "> **Alasan**: Dengan melakukan pemisahan ini, kita dapat mengevaluasi tingkat akurasi model saat dihadapkan pada data baru, sehingga dapat diketahui performa model secara objektif."
   ]
  },
  {
   "cell_type": "code",
   "execution_count": 53,
   "metadata": {
    "colab": {
     "base_uri": "https://localhost:8080/"
    },
    "execution": {
     "iopub.execute_input": "2025-05-01T10:28:20.138253Z",
     "iopub.status.busy": "2025-05-01T10:28:20.138016Z",
     "iopub.status.idle": "2025-05-01T10:28:20.164392Z",
     "shell.execute_reply": "2025-05-01T10:28:20.163791Z",
     "shell.execute_reply.started": "2025-05-01T10:28:20.138232Z"
    },
    "id": "XnjmmYxYDhpX",
    "outputId": "7cb4e712-c3c1-4572-9019-dd74d37cbea5",
    "trusted": true
   },
   "outputs": [
    {
     "name": "stdout",
     "output_type": "stream",
     "text": [
      "[[  21 1331]\n",
      " [ 143 7653]\n",
      " [  84 2120]\n",
      " ...\n",
      " [  35  286]\n",
      " [ 110 5265]\n",
      " [ 114 7884]] [0.33333333 0.55555556 0.11111111 ... 0.33333333 0.66666667 0.55555556]\n"
     ]
    }
   ],
   "source": [
    "clean_ratings_df = clean_ratings_df.sample(frac=1, random_state=42)\n",
    "clean_ratings_df\n",
    "\n",
    "x = clean_ratings_df[['user', 'movie']].values\n",
    "y = clean_ratings_df['rating'].apply(lambda x: (x - min_rating) / (max_rating - min_rating)).values\n",
    "\n",
    "train_indices = int(0.8 * clean_ratings_df.shape[0])\n",
    "x_train, x_val = (\n",
    "    x[:train_indices],\n",
    "    x[train_indices:]\n",
    ")\n",
    "y_train, y_val = (\n",
    "    y[:train_indices],\n",
    "    y[train_indices:]\n",
    ")\n",
    "\n",
    "print(x, y)"
   ]
  },
  {
   "cell_type": "markdown",
   "metadata": {
    "id": "4sPS39o8E1J9"
   },
   "source": [
    "### *Modelling*\n",
    "\n",
    "Pada proyek ini, terdapat dua model sistem rekomendasi yang dibuat yaitu model sistem rekomendasi dengan teknik *Content Based Filtering* dan dengan teknik *Collaborative Filtering*."
   ]
  },
  {
   "cell_type": "markdown",
   "metadata": {
    "id": "E0c1DfcnE3tl"
   },
   "source": [
    "1. *Content Based Filtering*\n",
    "\n",
    "    *Content-Based Filtering* memberikan rekomendasi kepada pengguna berdasarkan riwayat kesukaan mereka terhadap suatu *item*. Metode ini menitikberatkan pada atribut atau fitur yang dimiliki oleh *item* tersebut.\n",
    "\n",
    "  Kelebihan:\n",
    "    - Bersifat personal: Rekomendasi yang dihasilkan sangat sesuai dengan preferensi masing-masing pengguna.\n",
    "    - Mudah diperbarui: Sistem dapat langsung menyesuaikan jika ada informasi baru terkait *item*.\n",
    "    - Tidak memerlukan data pengguna lain: Cukup menggunakan data dari pengguna itu sendiri.\n",
    "\n",
    "  Kekurangan:\n",
    "    - Pilihan rekomendasi terbatas: Sistem hanya dapat merekomendasikan *item* yang serupa dengan yang sudah disukai, sehingga kurang bervariasi.\n",
    "    - Kendala pada *item* baru: Jika deskripsi *item* belum lengkap, sistem akan kesulitan memberikan rekomendasi.\n",
    "\n",
    "\n",
    "2. *Collaborative Filtering*\n",
    "\n",
    "    *Collaborative Filtering* menghasilkan rekomendasi berdasarkan preferensi pengguna lain yang memiliki kesamaan minat dengan pengguna tersebut.\n",
    "\n",
    "  Kelebihan:\n",
    "    - Rekomendasi lebih beragam: Sistem dapat menyarankan *item* yang belum pernah dicoba pengguna, karena memanfaatkan data dari pengguna lain.\n",
    "    - Tidak memerlukan detail *item*: Sistem hanya menganalisis pola kesukaan dari berbagai pengguna.\n",
    "\n",
    "  Kekurangan:\n",
    "    - Membutuhkan banyak data interaksi: Jika jumlah data pengguna sedikit, metode ini menjadi kurang efektif.\n",
    "    - Tantangan untuk pengguna baru: Jika pengguna belum pernah memberikan *rating*, sistem kesulitan menentukan rekomendasi yang sesuai.\n",
    "    - Proses komputasi berat: Pada dataset yang besar, membandingkan banyak pengguna atau *item* memerlukan waktu dan sumber daya yang cukup besar.\n",
    "\n"
   ]
  },
  {
   "cell_type": "markdown",
   "metadata": {
    "id": "ys0m1uTkE-_f"
   },
   "source": [
    "#### *Modelling with Content Based Filtering Technique*\n",
    "Membuat fungsi yang akan digunakan untuk menghasilkan *Top-N recommendation film* sebagai *output* berdasarkan nama film sebagai *input*."
   ]
  },
  {
   "cell_type": "code",
   "execution_count": 54,
   "metadata": {
    "execution": {
     "iopub.execute_input": "2025-05-01T10:28:20.165344Z",
     "iopub.status.busy": "2025-05-01T10:28:20.165121Z",
     "iopub.status.idle": "2025-05-01T10:28:20.170334Z",
     "shell.execute_reply": "2025-05-01T10:28:20.169803Z",
     "shell.execute_reply.started": "2025-05-01T10:28:20.165325Z"
    },
    "id": "AhWP7BgpE2MA",
    "trusted": true
   },
   "outputs": [],
   "source": [
    "def movie_recommendations(movie_title, similarity_data = cosine_df, items=movies_df[['title', 'genres']], k=5):\n",
    "    index = similarity_data.loc[:,movie_title].to_numpy().argpartition(range(-1, -k, -1))\n",
    "\n",
    "    closest = similarity_data.columns[index[-1:-(k+2):-1]]\n",
    "\n",
    "    closest = closest.drop(movie_title, errors='ignore')\n",
    "\n",
    "    return pd.DataFrame(closest).merge(items).head(k)"
   ]
  },
  {
   "cell_type": "markdown",
   "metadata": {
    "id": "13swQYGNGFEx"
   },
   "source": [
    "Memeriksa apakah judul yang akan dicoba sebagai *input* terdapat di `movies_df`."
   ]
  },
  {
   "cell_type": "code",
   "execution_count": 55,
   "metadata": {
    "colab": {
     "base_uri": "https://localhost:8080/",
     "height": 81
    },
    "execution": {
     "iopub.execute_input": "2025-05-01T10:28:20.171146Z",
     "iopub.status.busy": "2025-05-01T10:28:20.170986Z",
     "iopub.status.idle": "2025-05-01T10:28:20.190807Z",
     "shell.execute_reply": "2025-05-01T10:28:20.190055Z",
     "shell.execute_reply.started": "2025-05-01T10:28:20.171133Z"
    },
    "id": "UPUPu9KaGHOH",
    "outputId": "e451ace9-1b1e-40a6-cf9e-0828ad891626",
    "trusted": true
   },
   "outputs": [
    {
     "data": {
      "text/html": [
       "<div>\n",
       "<style scoped>\n",
       "    .dataframe tbody tr th:only-of-type {\n",
       "        vertical-align: middle;\n",
       "    }\n",
       "\n",
       "    .dataframe tbody tr th {\n",
       "        vertical-align: top;\n",
       "    }\n",
       "\n",
       "    .dataframe thead th {\n",
       "        text-align: right;\n",
       "    }\n",
       "</style>\n",
       "<table border=\"1\" class=\"dataframe\">\n",
       "  <thead>\n",
       "    <tr style=\"text-align: right;\">\n",
       "      <th></th>\n",
       "      <th>movieId</th>\n",
       "      <th>title</th>\n",
       "      <th>genres</th>\n",
       "    </tr>\n",
       "  </thead>\n",
       "  <tbody>\n",
       "    <tr>\n",
       "      <th>8376</th>\n",
       "      <td>109487</td>\n",
       "      <td>Interstellar (2014)</td>\n",
       "      <td>Sci-Fi</td>\n",
       "    </tr>\n",
       "  </tbody>\n",
       "</table>\n",
       "</div>"
      ],
      "text/plain": [
       "      movieId                title  genres\n",
       "8376   109487  Interstellar (2014)  Sci-Fi"
      ]
     },
     "execution_count": 55,
     "metadata": {},
     "output_type": "execute_result"
    }
   ],
   "source": [
    "movies_df[movies_df.title.eq('Interstellar (2014)')]"
   ]
  },
  {
   "cell_type": "markdown",
   "metadata": {
    "id": "O7he6gvxGaTA"
   },
   "source": [
    "Menjalankan model yang dimana nama film *Interstellar (2014)* dijadikan sebagai *input*."
   ]
  },
  {
   "cell_type": "code",
   "execution_count": 56,
   "metadata": {
    "colab": {
     "base_uri": "https://localhost:8080/",
     "height": 206
    },
    "execution": {
     "iopub.execute_input": "2025-05-01T10:28:20.191832Z",
     "iopub.status.busy": "2025-05-01T10:28:20.191585Z",
     "iopub.status.idle": "2025-05-01T10:28:20.220155Z",
     "shell.execute_reply": "2025-05-01T10:28:20.219483Z",
     "shell.execute_reply.started": "2025-05-01T10:28:20.191811Z"
    },
    "id": "GkKGSqwCGYqQ",
    "outputId": "c48e31c7-2be6-4a1f-a98f-1cb03a9381fe",
    "trusted": true
   },
   "outputs": [
    {
     "data": {
      "text/html": [
       "<div>\n",
       "<style scoped>\n",
       "    .dataframe tbody tr th:only-of-type {\n",
       "        vertical-align: middle;\n",
       "    }\n",
       "\n",
       "    .dataframe tbody tr th {\n",
       "        vertical-align: top;\n",
       "    }\n",
       "\n",
       "    .dataframe thead th {\n",
       "        text-align: right;\n",
       "    }\n",
       "</style>\n",
       "<table border=\"1\" class=\"dataframe\">\n",
       "  <thead>\n",
       "    <tr style=\"text-align: right;\">\n",
       "      <th></th>\n",
       "      <th>title</th>\n",
       "      <th>genres</th>\n",
       "    </tr>\n",
       "  </thead>\n",
       "  <tbody>\n",
       "    <tr>\n",
       "      <th>0</th>\n",
       "      <td>Timecrimes (Cronocrímenes, Los) (2007)</td>\n",
       "      <td>Sci-Fi</td>\n",
       "    </tr>\n",
       "    <tr>\n",
       "      <th>1</th>\n",
       "      <td>Meteor (1979)</td>\n",
       "      <td>Sci-Fi</td>\n",
       "    </tr>\n",
       "    <tr>\n",
       "      <th>2</th>\n",
       "      <td>Sphere (1998)</td>\n",
       "      <td>Sci-Fi</td>\n",
       "    </tr>\n",
       "    <tr>\n",
       "      <th>3</th>\n",
       "      <td>Beginning of the End (1957)</td>\n",
       "      <td>Sci-Fi</td>\n",
       "    </tr>\n",
       "    <tr>\n",
       "      <th>4</th>\n",
       "      <td>Contagion (2011)</td>\n",
       "      <td>Sci-Fi</td>\n",
       "    </tr>\n",
       "  </tbody>\n",
       "</table>\n",
       "</div>"
      ],
      "text/plain": [
       "                                    title  genres\n",
       "0  Timecrimes (Cronocrímenes, Los) (2007)  Sci-Fi\n",
       "1                           Meteor (1979)  Sci-Fi\n",
       "2                           Sphere (1998)  Sci-Fi\n",
       "3             Beginning of the End (1957)  Sci-Fi\n",
       "4                        Contagion (2011)  Sci-Fi"
      ]
     },
     "execution_count": 56,
     "metadata": {},
     "output_type": "execute_result"
    }
   ],
   "source": [
    "movie_recommendations('Interstellar (2014)')"
   ]
  },
  {
   "cell_type": "markdown",
   "metadata": {
    "id": "mFjPJtRPGqpQ"
   },
   "source": [
    "Berdasarkan *output* dari kode diatas, terdapat lima film yang dihasilkan dari model sistem rekomendasi dengan teknik *content based filtering*."
   ]
  },
  {
   "cell_type": "markdown",
   "metadata": {
    "id": "witqLl1TGwOZ"
   },
   "source": [
    "#### *Modelling with Collaborative Filtering Technique*\n",
    "Pada tahap ini, akan dibuat sebuah fungsi inti yang menjadi dasar pengembangan model dengan metode *collaborative filtering*. Fungsi ini berperan penting dalam menghasilkan rekomendasi berdasarkan pola interaksi dan kesamaan preferensi antar pengguna, sehingga sistem dapat memberikan saran film yang relevan sesuai perilaku pengguna lain yang serupa."
   ]
  },
  {
   "cell_type": "code",
   "execution_count": null,
   "metadata": {
    "execution": {
     "iopub.execute_input": "2025-05-01T10:28:20.221104Z",
     "iopub.status.busy": "2025-05-01T10:28:20.220880Z",
     "iopub.status.idle": "2025-05-01T10:28:20.227576Z",
     "shell.execute_reply": "2025-05-01T10:28:20.226809Z",
     "shell.execute_reply.started": "2025-05-01T10:28:20.221081Z"
    },
    "id": "lR2NvM67Gujb",
    "trusted": true
   },
   "outputs": [],
   "source": [
    "class RecommenderSystem(tf.keras.Model):\n",
    "  def __init__(self, user_number, movie_number, embedding_size, **kwargs):\n",
    "    super(RecommenderSystem, self).__init__(**kwargs)\n",
    "    self.user_number = user_number\n",
    "    self.movie_number = movie_number\n",
    "    self.embedding_size = embedding_size\n",
    "    self.user_embedding = tf.keras.layers.Embedding(\n",
    "        user_number,\n",
    "        embedding_size,\n",
    "        \n",
    "        embeddings_initializer= 'he_normal',\n",
    "        embeddings_regularizer = tf.keras.regularizers.l2(1e-6)\n",
    "    )\n",
    "    self.user_bias = tf.keras.layers.Embedding(user_number, 1)\n",
    "    self.resto_embedding = tf.keras.layers.Embedding(\n",
    "        movie_number,\n",
    "        embedding_size,\n",
    "        \n",
    "        embeddings_initializer = 'he_normal',\n",
    "        embeddings_regularizer = tf.keras.regularizers.l2(1e-6)\n",
    "    )\n",
    "    self.resto_bias = tf.keras.layers.Embedding(movie_number, 1)\n",
    "\n",
    "  def call(self, inputs):\n",
    "    user_vector = self.user_embedding(inputs[:, 0])\n",
    "    user_bias = self.user_bias(inputs[:, 0])\n",
    "    resto_vector = self.resto_embedding(inputs[:, 1])\n",
    "    resto_bias = self.resto_bias(inputs[:, 1])\n",
    "\n",
    "    dot_user_resto = tf.tensordot(user_vector, resto_vector, 2)\n",
    "\n",
    "    x = dot_user_resto + user_bias + resto_bias\n",
    "\n",
    "    return tf.nn.sigmoid(x)"
   ]
  },
  {
   "cell_type": "markdown",
   "metadata": {
    "id": "JA6rDIDbPgUN"
   },
   "source": [
    "Inisialisasi model menggunakan fungsi yang telah dibuat sebelumnya."
   ]
  },
  {
   "cell_type": "code",
   "execution_count": 68,
   "metadata": {
    "execution": {
     "iopub.execute_input": "2025-05-01T10:30:34.990564Z",
     "iopub.status.busy": "2025-05-01T10:30:34.989863Z",
     "iopub.status.idle": "2025-05-01T10:30:35.007258Z",
     "shell.execute_reply": "2025-05-01T10:30:35.006437Z",
     "shell.execute_reply.started": "2025-05-01T10:30:34.990535Z"
    },
    "id": "SJWp92LiPh9Y",
    "trusted": true
   },
   "outputs": [],
   "source": [
    "model = RecommenderSystem(user_number, movie_number, 50)\n",
    "\n",
    "model.compile(\n",
    "    loss = tf.keras.losses.BinaryCrossentropy(),\n",
    "    optimizer = tf.keras.optimizers.Adam(learning_rate=0.001),\n",
    "    metrics = [tf.keras.metrics.RootMeanSquaredError()]\n",
    ")"
   ]
  },
  {
   "cell_type": "markdown",
   "metadata": {
    "id": "1rZFxGQ_QnKE"
   },
   "source": [
    "Melakukan proses *training* pada model yang telah diinisialisasikan sebelumnya."
   ]
  },
  {
   "cell_type": "code",
   "execution_count": 69,
   "metadata": {
    "colab": {
     "base_uri": "https://localhost:8080/"
    },
    "execution": {
     "iopub.execute_input": "2025-05-01T10:30:39.429647Z",
     "iopub.status.busy": "2025-05-01T10:30:39.429360Z",
     "iopub.status.idle": "2025-05-01T10:32:49.417243Z",
     "shell.execute_reply": "2025-05-01T10:32:49.416691Z",
     "shell.execute_reply.started": "2025-05-01T10:30:39.429626Z"
    },
    "id": "F45uoEBjP5nJ",
    "outputId": "f648aa7d-8720-4132-a4aa-e8aad3b916e7",
    "trusted": true
   },
   "outputs": [
    {
     "name": "stdout",
     "output_type": "stream",
     "text": [
      "Epoch 1/30\n",
      "\u001b[1m2918/2918\u001b[0m \u001b[32m━━━━━━━━━━━━━━━━━━━━\u001b[0m\u001b[37m\u001b[0m \u001b[1m8s\u001b[0m 2ms/step - loss: 0.6744 - root_mean_squared_error: 0.2506 - val_loss: 0.6437 - val_root_mean_squared_error: 0.2180\n",
      "Epoch 2/30\n",
      "\u001b[1m2918/2918\u001b[0m \u001b[32m━━━━━━━━━━━━━━━━━━━━\u001b[0m\u001b[37m\u001b[0m \u001b[1m4s\u001b[0m 1ms/step - loss: 0.6365 - root_mean_squared_error: 0.2070 - val_loss: 0.6366 - val_root_mean_squared_error: 0.2098\n",
      "Epoch 3/30\n",
      "\u001b[1m2918/2918\u001b[0m \u001b[32m━━━━━━━━━━━━━━━━━━━━\u001b[0m\u001b[37m\u001b[0m \u001b[1m4s\u001b[0m 1ms/step - loss: 0.6209 - root_mean_squared_error: 0.1942 - val_loss: 0.6308 - val_root_mean_squared_error: 0.2032\n",
      "Epoch 4/30\n",
      "\u001b[1m2918/2918\u001b[0m \u001b[32m━━━━━━━━━━━━━━━━━━━━\u001b[0m\u001b[37m\u001b[0m \u001b[1m4s\u001b[0m 1ms/step - loss: 0.6146 - root_mean_squared_error: 0.1847 - val_loss: 0.6263 - val_root_mean_squared_error: 0.1981\n",
      "Epoch 5/30\n",
      "\u001b[1m2918/2918\u001b[0m \u001b[32m━━━━━━━━━━━━━━━━━━━━\u001b[0m\u001b[37m\u001b[0m \u001b[1m4s\u001b[0m 1ms/step - loss: 0.6090 - root_mean_squared_error: 0.1749 - val_loss: 0.6245 - val_root_mean_squared_error: 0.1961\n",
      "Epoch 6/30\n",
      "\u001b[1m2918/2918\u001b[0m \u001b[32m━━━━━━━━━━━━━━━━━━━━\u001b[0m\u001b[37m\u001b[0m \u001b[1m4s\u001b[0m 1ms/step - loss: 0.6029 - root_mean_squared_error: 0.1682 - val_loss: 0.6217 - val_root_mean_squared_error: 0.1929\n",
      "Epoch 7/30\n",
      "\u001b[1m2918/2918\u001b[0m \u001b[32m━━━━━━━━━━━━━━━━━━━━\u001b[0m\u001b[37m\u001b[0m \u001b[1m4s\u001b[0m 1ms/step - loss: 0.5990 - root_mean_squared_error: 0.1614 - val_loss: 0.6188 - val_root_mean_squared_error: 0.1896\n",
      "Epoch 8/30\n",
      "\u001b[1m2918/2918\u001b[0m \u001b[32m━━━━━━━━━━━━━━━━━━━━\u001b[0m\u001b[37m\u001b[0m \u001b[1m4s\u001b[0m 1ms/step - loss: 0.5954 - root_mean_squared_error: 0.1574 - val_loss: 0.6173 - val_root_mean_squared_error: 0.1879\n",
      "Epoch 9/30\n",
      "\u001b[1m2918/2918\u001b[0m \u001b[32m━━━━━━━━━━━━━━━━━━━━\u001b[0m\u001b[37m\u001b[0m \u001b[1m4s\u001b[0m 1ms/step - loss: 0.5919 - root_mean_squared_error: 0.1528 - val_loss: 0.6154 - val_root_mean_squared_error: 0.1857\n",
      "Epoch 10/30\n",
      "\u001b[1m2918/2918\u001b[0m \u001b[32m━━━━━━━━━━━━━━━━━━━━\u001b[0m\u001b[37m\u001b[0m \u001b[1m4s\u001b[0m 1ms/step - loss: 0.5879 - root_mean_squared_error: 0.1458 - val_loss: 0.6139 - val_root_mean_squared_error: 0.1841\n",
      "Epoch 11/30\n",
      "\u001b[1m2918/2918\u001b[0m \u001b[32m━━━━━━━━━━━━━━━━━━━━\u001b[0m\u001b[37m\u001b[0m \u001b[1m4s\u001b[0m 1ms/step - loss: 0.5846 - root_mean_squared_error: 0.1438 - val_loss: 0.6122 - val_root_mean_squared_error: 0.1822\n",
      "Epoch 12/30\n",
      "\u001b[1m2918/2918\u001b[0m \u001b[32m━━━━━━━━━━━━━━━━━━━━\u001b[0m\u001b[37m\u001b[0m \u001b[1m4s\u001b[0m 1ms/step - loss: 0.5833 - root_mean_squared_error: 0.1377 - val_loss: 0.6112 - val_root_mean_squared_error: 0.1812\n",
      "Epoch 13/30\n",
      "\u001b[1m2918/2918\u001b[0m \u001b[32m━━━━━━━━━━━━━━━━━━━━\u001b[0m\u001b[37m\u001b[0m \u001b[1m4s\u001b[0m 1ms/step - loss: 0.5802 - root_mean_squared_error: 0.1380 - val_loss: 0.6103 - val_root_mean_squared_error: 0.1801\n",
      "Epoch 14/30\n",
      "\u001b[1m2918/2918\u001b[0m \u001b[32m━━━━━━━━━━━━━━━━━━━━\u001b[0m\u001b[37m\u001b[0m \u001b[1m4s\u001b[0m 1ms/step - loss: 0.5765 - root_mean_squared_error: 0.1343 - val_loss: 0.6090 - val_root_mean_squared_error: 0.1787\n",
      "Epoch 15/30\n",
      "\u001b[1m2918/2918\u001b[0m \u001b[32m━━━━━━━━━━━━━━━━━━━━\u001b[0m\u001b[37m\u001b[0m \u001b[1m4s\u001b[0m 1ms/step - loss: 0.5730 - root_mean_squared_error: 0.1303 - val_loss: 0.6082 - val_root_mean_squared_error: 0.1779\n",
      "Epoch 16/30\n",
      "\u001b[1m2918/2918\u001b[0m \u001b[32m━━━━━━━━━━━━━━━━━━━━\u001b[0m\u001b[37m\u001b[0m \u001b[1m4s\u001b[0m 1ms/step - loss: 0.5728 - root_mean_squared_error: 0.1278 - val_loss: 0.6074 - val_root_mean_squared_error: 0.1770\n",
      "Epoch 17/30\n",
      "\u001b[1m2918/2918\u001b[0m \u001b[32m━━━━━━━━━━━━━━━━━━━━\u001b[0m\u001b[37m\u001b[0m \u001b[1m4s\u001b[0m 1ms/step - loss: 0.5737 - root_mean_squared_error: 0.1257 - val_loss: 0.6068 - val_root_mean_squared_error: 0.1763\n",
      "Epoch 18/30\n",
      "\u001b[1m2918/2918\u001b[0m \u001b[32m━━━━━━━━━━━━━━━━━━━━\u001b[0m\u001b[37m\u001b[0m \u001b[1m4s\u001b[0m 1ms/step - loss: 0.5692 - root_mean_squared_error: 0.1225 - val_loss: 0.6060 - val_root_mean_squared_error: 0.1756\n",
      "Epoch 19/30\n",
      "\u001b[1m2918/2918\u001b[0m \u001b[32m━━━━━━━━━━━━━━━━━━━━\u001b[0m\u001b[37m\u001b[0m \u001b[1m4s\u001b[0m 1ms/step - loss: 0.5679 - root_mean_squared_error: 0.1228 - val_loss: 0.6056 - val_root_mean_squared_error: 0.1752\n",
      "Epoch 20/30\n",
      "\u001b[1m2918/2918\u001b[0m \u001b[32m━━━━━━━━━━━━━━━━━━━━\u001b[0m\u001b[37m\u001b[0m \u001b[1m4s\u001b[0m 1ms/step - loss: 0.5679 - root_mean_squared_error: 0.1206 - val_loss: 0.6055 - val_root_mean_squared_error: 0.1751\n",
      "Epoch 21/30\n",
      "\u001b[1m2918/2918\u001b[0m \u001b[32m━━━━━━━━━━━━━━━━━━━━\u001b[0m\u001b[37m\u001b[0m \u001b[1m4s\u001b[0m 1ms/step - loss: 0.5665 - root_mean_squared_error: 0.1167 - val_loss: 0.6050 - val_root_mean_squared_error: 0.1745\n",
      "Epoch 22/30\n",
      "\u001b[1m2918/2918\u001b[0m \u001b[32m━━━━━━━━━━━━━━━━━━━━\u001b[0m\u001b[37m\u001b[0m \u001b[1m4s\u001b[0m 1ms/step - loss: 0.5650 - root_mean_squared_error: 0.1176 - val_loss: 0.6048 - val_root_mean_squared_error: 0.1745\n",
      "Epoch 23/30\n",
      "\u001b[1m2918/2918\u001b[0m \u001b[32m━━━━━━━━━━━━━━━━━━━━\u001b[0m\u001b[37m\u001b[0m \u001b[1m4s\u001b[0m 1ms/step - loss: 0.5660 - root_mean_squared_error: 0.1152 - val_loss: 0.6050 - val_root_mean_squared_error: 0.1748\n",
      "Epoch 24/30\n",
      "\u001b[1m2918/2918\u001b[0m \u001b[32m━━━━━━━━━━━━━━━━━━━━\u001b[0m\u001b[37m\u001b[0m \u001b[1m4s\u001b[0m 1ms/step - loss: 0.5675 - root_mean_squared_error: 0.1142 - val_loss: 0.6043 - val_root_mean_squared_error: 0.1740\n",
      "Epoch 25/30\n",
      "\u001b[1m2918/2918\u001b[0m \u001b[32m━━━━━━━━━━━━━━━━━━━━\u001b[0m\u001b[37m\u001b[0m \u001b[1m4s\u001b[0m 1ms/step - loss: 0.5643 - root_mean_squared_error: 0.1148 - val_loss: 0.6046 - val_root_mean_squared_error: 0.1744\n",
      "Epoch 26/30\n",
      "\u001b[1m2918/2918\u001b[0m \u001b[32m━━━━━━━━━━━━━━━━━━━━\u001b[0m\u001b[37m\u001b[0m \u001b[1m4s\u001b[0m 1ms/step - loss: 0.5639 - root_mean_squared_error: 0.1132 - val_loss: 0.6048 - val_root_mean_squared_error: 0.1745\n",
      "Epoch 27/30\n",
      "\u001b[1m2918/2918\u001b[0m \u001b[32m━━━━━━━━━━━━━━━━━━━━\u001b[0m\u001b[37m\u001b[0m \u001b[1m4s\u001b[0m 1ms/step - loss: 0.5614 - root_mean_squared_error: 0.1104 - val_loss: 0.6047 - val_root_mean_squared_error: 0.1745\n",
      "Epoch 28/30\n",
      "\u001b[1m2918/2918\u001b[0m \u001b[32m━━━━━━━━━━━━━━━━━━━━\u001b[0m\u001b[37m\u001b[0m \u001b[1m4s\u001b[0m 1ms/step - loss: 0.5616 - root_mean_squared_error: 0.1120 - val_loss: 0.6049 - val_root_mean_squared_error: 0.1747\n",
      "Epoch 29/30\n",
      "\u001b[1m2918/2918\u001b[0m \u001b[32m━━━━━━━━━━━━━━━━━━━━\u001b[0m\u001b[37m\u001b[0m \u001b[1m4s\u001b[0m 2ms/step - loss: 0.5625 - root_mean_squared_error: 0.1111 - val_loss: 0.6052 - val_root_mean_squared_error: 0.1751\n",
      "Epoch 30/30\n",
      "\u001b[1m2918/2918\u001b[0m \u001b[32m━━━━━━━━━━━━━━━━━━━━\u001b[0m\u001b[37m\u001b[0m \u001b[1m4s\u001b[0m 1ms/step - loss: 0.5592 - root_mean_squared_error: 0.1089 - val_loss: 0.6054 - val_root_mean_squared_error: 0.1752\n"
     ]
    }
   ],
   "source": [
    "history = model.fit(\n",
    "    x = x_train,\n",
    "    y = y_train,\n",
    "    batch_size = 8,\n",
    "    epochs = 30,\n",
    "    validation_data = (x_val, y_val)\n",
    ")"
   ]
  },
  {
   "cell_type": "markdown",
   "metadata": {
    "id": "7yoHFdkFRAbD"
   },
   "source": [
    "Setelah proses pelatihan model selesai, langkah berikutnya adalah melakukan evaluasi dan melihat hasil prediksi dari sistem rekomendasi yang telah dibangun.\n",
    "\n",
    "Berdasarkan output training di atas, dapat dilihat bahwa nilai loss dan root mean squared error (RMSE) pada data training maupun validasi secara bertahap mengalami penurunan seiring bertambahnya jumlah epoch. Pada epoch ke-30, model mencapai loss sebesar 0.5592 dan RMSE sebesar 0.1089 pada data training, serta val_loss sebesar 0.6054 dan val_root_mean_squared_error sebesar 0.1752 pada data validasi. Hal ini menunjukkan bahwa model mampu belajar dengan baik dan menghasilkan prediksi yang cukup akurat pada data validasi."
   ]
  },
  {
   "cell_type": "code",
   "execution_count": 60,
   "metadata": {
    "execution": {
     "iopub.execute_input": "2025-05-01T10:29:09.212715Z",
     "iopub.status.busy": "2025-05-01T10:29:09.212479Z",
     "iopub.status.idle": "2025-05-01T10:29:09.220810Z",
     "shell.execute_reply": "2025-05-01T10:29:09.220129Z",
     "shell.execute_reply.started": "2025-05-01T10:29:09.212699Z"
    },
    "id": "jy1Ohak2Q2Er",
    "trusted": true
   },
   "outputs": [],
   "source": [
    "user_id = clean_ratings_df.userId.sample(1).iloc[0]\n",
    "movie_watched_by_user = clean_ratings_df[clean_ratings_df.userId == user_id]\n",
    "\n",
    "movie_not_watched = clean_movies_df[~clean_movies_df['movieId'].isin(movie_watched_by_user.movieId.values)]['movieId']"
   ]
  },
  {
   "cell_type": "code",
   "execution_count": 61,
   "metadata": {
    "execution": {
     "iopub.execute_input": "2025-05-01T10:29:09.221615Z",
     "iopub.status.busy": "2025-05-01T10:29:09.221413Z",
     "iopub.status.idle": "2025-05-01T10:29:09.234859Z",
     "shell.execute_reply": "2025-05-01T10:29:09.234240Z",
     "shell.execute_reply.started": "2025-05-01T10:29:09.221601Z"
    },
    "id": "sXoybjkRQYXu",
    "trusted": true
   },
   "outputs": [],
   "source": [
    "movie_not_watched = list(\n",
    "    set(movie_not_watched).intersection(set(movie_encoded.keys()))\n",
    ")"
   ]
  },
  {
   "cell_type": "code",
   "execution_count": 62,
   "metadata": {
    "colab": {
     "base_uri": "https://localhost:8080/"
    },
    "execution": {
     "iopub.execute_input": "2025-05-01T10:29:09.235849Z",
     "iopub.status.busy": "2025-05-01T10:29:09.235611Z",
     "iopub.status.idle": "2025-05-01T10:29:09.259368Z",
     "shell.execute_reply": "2025-05-01T10:29:09.258805Z",
     "shell.execute_reply.started": "2025-05-01T10:29:09.235825Z"
    },
    "id": "wb70yqGuQYXu",
    "outputId": "ed1d4bf2-e554-4911-d883-c5c703f42a3a",
    "trusted": true
   },
   "outputs": [
    {
     "data": {
      "text/plain": [
       "[1,\n",
       " 2,\n",
       " 3,\n",
       " 4,\n",
       " 5,\n",
       " 6,\n",
       " 7,\n",
       " 8,\n",
       " 9,\n",
       " 10,\n",
       " 11,\n",
       " 12,\n",
       " 13,\n",
       " 14,\n",
       " 15,\n",
       " 16,\n",
       " 17,\n",
       " 18,\n",
       " 19,\n",
       " 20,\n",
       " 21,\n",
       " 22,\n",
       " 23,\n",
       " 24,\n",
       " 25,\n",
       " 26,\n",
       " 27,\n",
       " 28,\n",
       " 29,\n",
       " 30,\n",
       " 31,\n",
       " 32,\n",
       " 32799,\n",
       " 34,\n",
       " 36,\n",
       " 38,\n",
       " 39,\n",
       " 40,\n",
       " 41,\n",
       " 42,\n",
       " 43,\n",
       " 44,\n",
       " 45,\n",
       " 46,\n",
       " 47,\n",
       " 48,\n",
       " 49,\n",
       " 50,\n",
       " 65585,\n",
       " 52,\n",
       " 53,\n",
       " 54,\n",
       " 55,\n",
       " 57,\n",
       " 58,\n",
       " 98361,\n",
       " 60,\n",
       " 61,\n",
       " 62,\n",
       " 63,\n",
       " 64,\n",
       " 65,\n",
       " 66,\n",
       " 65596,\n",
       " 68,\n",
       " 69,\n",
       " 70,\n",
       " 71,\n",
       " 72,\n",
       " 73,\n",
       " 74,\n",
       " 75,\n",
       " 76,\n",
       " 77,\n",
       " 78,\n",
       " 79,\n",
       " 80,\n",
       " 81,\n",
       " 82,\n",
       " 83,\n",
       " 85,\n",
       " 86,\n",
       " 87,\n",
       " 88,\n",
       " 89,\n",
       " 163925,\n",
       " 92,\n",
       " 93,\n",
       " 94,\n",
       " 95,\n",
       " 96,\n",
       " 97,\n",
       " 32862,\n",
       " 99,\n",
       " 100,\n",
       " 101,\n",
       " 102,\n",
       " 103,\n",
       " 104,\n",
       " 105,\n",
       " 106,\n",
       " 107,\n",
       " 108,\n",
       " 32875,\n",
       " 110,\n",
       " 111,\n",
       " 112,\n",
       " 113,\n",
       " 65642,\n",
       " 65651,\n",
       " 116,\n",
       " 117,\n",
       " 118,\n",
       " 119,\n",
       " 121,\n",
       " 122,\n",
       " 123,\n",
       " 32892,\n",
       " 125,\n",
       " 126,\n",
       " 128,\n",
       " 129,\n",
       " 32898,\n",
       " 132,\n",
       " 135,\n",
       " 137,\n",
       " 32906,\n",
       " 140,\n",
       " 141,\n",
       " 163981,\n",
       " 144,\n",
       " 145,\n",
       " 146,\n",
       " 147,\n",
       " 148,\n",
       " 149,\n",
       " 150,\n",
       " 151,\n",
       " 152,\n",
       " 153,\n",
       " 154,\n",
       " 155,\n",
       " 156,\n",
       " 157,\n",
       " 158,\n",
       " 159,\n",
       " 160,\n",
       " 161,\n",
       " 162,\n",
       " 163,\n",
       " 164,\n",
       " 165,\n",
       " 166,\n",
       " 131237,\n",
       " 168,\n",
       " 169,\n",
       " 170,\n",
       " 171,\n",
       " 172,\n",
       " 173,\n",
       " 174,\n",
       " 175,\n",
       " 176,\n",
       " 177,\n",
       " 178,\n",
       " 179,\n",
       " 180,\n",
       " 181,\n",
       " 183,\n",
       " 184,\n",
       " 185,\n",
       " 186,\n",
       " 187,\n",
       " 188,\n",
       " 189,\n",
       " 190,\n",
       " 191,\n",
       " 98491,\n",
       " 193,\n",
       " 194,\n",
       " 195,\n",
       " 196,\n",
       " 98499,\n",
       " 198,\n",
       " 199,\n",
       " 98503,\n",
       " 201,\n",
       " 202,\n",
       " 203,\n",
       " 204,\n",
       " 205,\n",
       " 206,\n",
       " 207,\n",
       " 208,\n",
       " 209,\n",
       " 210,\n",
       " 211,\n",
       " 212,\n",
       " 213,\n",
       " 214,\n",
       " 215,\n",
       " 216,\n",
       " 217,\n",
       " 218,\n",
       " 219,\n",
       " 220,\n",
       " 222,\n",
       " 223,\n",
       " 224,\n",
       " 225,\n",
       " 227,\n",
       " 228,\n",
       " 229,\n",
       " 230,\n",
       " 231,\n",
       " 232,\n",
       " 233,\n",
       " 234,\n",
       " 235,\n",
       " 236,\n",
       " 237,\n",
       " 238,\n",
       " 239,\n",
       " 240,\n",
       " 241,\n",
       " 242,\n",
       " 243,\n",
       " 33004,\n",
       " 246,\n",
       " 247,\n",
       " 248,\n",
       " 249,\n",
       " 250,\n",
       " 251,\n",
       " 252,\n",
       " 253,\n",
       " 254,\n",
       " 255,\n",
       " 256,\n",
       " 257,\n",
       " 258,\n",
       " 259,\n",
       " 260,\n",
       " 261,\n",
       " 262,\n",
       " 263,\n",
       " 265,\n",
       " 266,\n",
       " 267,\n",
       " 65802,\n",
       " 269,\n",
       " 270,\n",
       " 271,\n",
       " 272,\n",
       " 273,\n",
       " 274,\n",
       " 275,\n",
       " 276,\n",
       " 277,\n",
       " 278,\n",
       " 279,\n",
       " 280,\n",
       " 281,\n",
       " 282,\n",
       " 283,\n",
       " 284,\n",
       " 285,\n",
       " 98585,\n",
       " 287,\n",
       " 288,\n",
       " 289,\n",
       " 290,\n",
       " 291,\n",
       " 292,\n",
       " 293,\n",
       " 294,\n",
       " 295,\n",
       " 296,\n",
       " 298,\n",
       " 299,\n",
       " 300,\n",
       " 301,\n",
       " 302,\n",
       " 303,\n",
       " 304,\n",
       " 305,\n",
       " 306,\n",
       " 307,\n",
       " 308,\n",
       " 98604,\n",
       " 310,\n",
       " 311,\n",
       " 312,\n",
       " 313,\n",
       " 314,\n",
       " 315,\n",
       " 316,\n",
       " 317,\n",
       " 318,\n",
       " 319,\n",
       " 320,\n",
       " 321,\n",
       " 322,\n",
       " 33085,\n",
       " 324,\n",
       " 325,\n",
       " 326,\n",
       " 327,\n",
       " 328,\n",
       " 329,\n",
       " 330,\n",
       " 331,\n",
       " 332,\n",
       " 333,\n",
       " 334,\n",
       " 335,\n",
       " 336,\n",
       " 337,\n",
       " 338,\n",
       " 339,\n",
       " 340,\n",
       " 341,\n",
       " 342,\n",
       " 343,\n",
       " 344,\n",
       " 345,\n",
       " 346,\n",
       " 347,\n",
       " 348,\n",
       " 349,\n",
       " 350,\n",
       " 351,\n",
       " 352,\n",
       " 353,\n",
       " 354,\n",
       " 355,\n",
       " 356,\n",
       " 357,\n",
       " 358,\n",
       " 359,\n",
       " 360,\n",
       " 361,\n",
       " 362,\n",
       " 363,\n",
       " 364,\n",
       " 365,\n",
       " 366,\n",
       " 367,\n",
       " 368,\n",
       " 369,\n",
       " 370,\n",
       " 371,\n",
       " 372,\n",
       " 373,\n",
       " 374,\n",
       " 33138,\n",
       " 376,\n",
       " 377,\n",
       " 378,\n",
       " 379,\n",
       " 380,\n",
       " 381,\n",
       " 382,\n",
       " 383,\n",
       " 384,\n",
       " 385,\n",
       " 386,\n",
       " 387,\n",
       " 388,\n",
       " 389,\n",
       " 390,\n",
       " 391,\n",
       " 33154,\n",
       " 393,\n",
       " 33158,\n",
       " 33162,\n",
       " 33164,\n",
       " 98697,\n",
       " 33166,\n",
       " 33171,\n",
       " 405,\n",
       " 406,\n",
       " 407,\n",
       " 408,\n",
       " 409,\n",
       " 410,\n",
       " 131480,\n",
       " 412,\n",
       " 413,\n",
       " 414,\n",
       " 415,\n",
       " 416,\n",
       " 417,\n",
       " 418,\n",
       " 419,\n",
       " 420,\n",
       " 421,\n",
       " 422,\n",
       " 423,\n",
       " 424,\n",
       " 425,\n",
       " 426,\n",
       " 427,\n",
       " 428,\n",
       " 429,\n",
       " 430,\n",
       " 431,\n",
       " 432,\n",
       " 433,\n",
       " 434,\n",
       " 435,\n",
       " 436,\n",
       " 437,\n",
       " 438,\n",
       " 33201,\n",
       " 440,\n",
       " 441,\n",
       " 442,\n",
       " 164280,\n",
       " 444,\n",
       " 445,\n",
       " 446,\n",
       " 65982,\n",
       " 448,\n",
       " 449,\n",
       " 450,\n",
       " 451,\n",
       " 452,\n",
       " 453,\n",
       " 454,\n",
       " 455,\n",
       " 456,\n",
       " 457,\n",
       " 458,\n",
       " 459,\n",
       " 460,\n",
       " 461,\n",
       " 464,\n",
       " 466,\n",
       " 467,\n",
       " 468,\n",
       " 469,\n",
       " 470,\n",
       " 471,\n",
       " 472,\n",
       " 473,\n",
       " 474,\n",
       " 475,\n",
       " 476,\n",
       " 477,\n",
       " 478,\n",
       " 479,\n",
       " 480,\n",
       " 481,\n",
       " 482,\n",
       " 484,\n",
       " 485,\n",
       " 486,\n",
       " 487,\n",
       " 488,\n",
       " 489,\n",
       " 490,\n",
       " 491,\n",
       " 492,\n",
       " 493,\n",
       " 494,\n",
       " 495,\n",
       " 496,\n",
       " 497,\n",
       " 98799,\n",
       " 499,\n",
       " 500,\n",
       " 501,\n",
       " 502,\n",
       " 504,\n",
       " 505,\n",
       " 506,\n",
       " 507,\n",
       " 508,\n",
       " 509,\n",
       " 510,\n",
       " 511,\n",
       " 512,\n",
       " 513,\n",
       " 514,\n",
       " 515,\n",
       " 516,\n",
       " 517,\n",
       " 518,\n",
       " 519,\n",
       " 520,\n",
       " 521,\n",
       " 522,\n",
       " 523,\n",
       " 524,\n",
       " 526,\n",
       " 527,\n",
       " 528,\n",
       " 529,\n",
       " 33294,\n",
       " 531,\n",
       " 532,\n",
       " 533,\n",
       " 534,\n",
       " 535,\n",
       " 536,\n",
       " 537,\n",
       " 538,\n",
       " 539,\n",
       " 540,\n",
       " 541,\n",
       " 542,\n",
       " 543,\n",
       " 544,\n",
       " 33310,\n",
       " 546,\n",
       " 547,\n",
       " 548,\n",
       " 549,\n",
       " 550,\n",
       " 551,\n",
       " 552,\n",
       " 553,\n",
       " 66090,\n",
       " 555,\n",
       " 556,\n",
       " 558,\n",
       " 66097,\n",
       " 562,\n",
       " 563,\n",
       " 564,\n",
       " 567,\n",
       " 568,\n",
       " 569,\n",
       " 573,\n",
       " 574,\n",
       " 575,\n",
       " 577,\n",
       " 579,\n",
       " 580,\n",
       " 581,\n",
       " 583,\n",
       " 131656,\n",
       " 585,\n",
       " 586,\n",
       " 587,\n",
       " 588,\n",
       " 589,\n",
       " 590,\n",
       " 592,\n",
       " 593,\n",
       " 594,\n",
       " 595,\n",
       " 596,\n",
       " 597,\n",
       " 599,\n",
       " 600,\n",
       " 602,\n",
       " 98908,\n",
       " 605,\n",
       " 606,\n",
       " 608,\n",
       " 609,\n",
       " 610,\n",
       " 611,\n",
       " 612,\n",
       " 613,\n",
       " 615,\n",
       " 616,\n",
       " 617,\n",
       " 618,\n",
       " 619,\n",
       " 626,\n",
       " 627,\n",
       " 628,\n",
       " 631,\n",
       " 632,\n",
       " 633,\n",
       " 634,\n",
       " 635,\n",
       " 636,\n",
       " 637,\n",
       " 638,\n",
       " 639,\n",
       " 640,\n",
       " 66171,\n",
       " 131714,\n",
       " 645,\n",
       " 647,\n",
       " 648,\n",
       " 649,\n",
       " 650,\n",
       " 131724,\n",
       " 653,\n",
       " 33421,\n",
       " 656,\n",
       " 98961,\n",
       " 661,\n",
       " 662,\n",
       " 663,\n",
       " 66198,\n",
       " 665,\n",
       " 667,\n",
       " 668,\n",
       " 33435,\n",
       " 670,\n",
       " 671,\n",
       " 33437,\n",
       " 673,\n",
       " 674,\n",
       " 66203,\n",
       " 131739,\n",
       " 131749,\n",
       " 678,\n",
       " 679,\n",
       " 680,\n",
       " 685,\n",
       " 688,\n",
       " 691,\n",
       " 692,\n",
       " 694,\n",
       " 695,\n",
       " 697,\n",
       " 698,\n",
       " 700,\n",
       " 99005,\n",
       " 164540,\n",
       " 703,\n",
       " 704,\n",
       " 66240,\n",
       " 706,\n",
       " 707,\n",
       " 708,\n",
       " 709,\n",
       " 710,\n",
       " 711,\n",
       " 99007,\n",
       " 714,\n",
       " 715,\n",
       " 718,\n",
       " 719,\n",
       " 720,\n",
       " 722,\n",
       " 724,\n",
       " 725,\n",
       " 726,\n",
       " 33493,\n",
       " 728,\n",
       " 33495,\n",
       " 99030,\n",
       " 731,\n",
       " 33499,\n",
       " 733,\n",
       " 735,\n",
       " 736,\n",
       " 737,\n",
       " 741,\n",
       " 742,\n",
       " 743,\n",
       " 745,\n",
       " 747,\n",
       " 748,\n",
       " 750,\n",
       " 757,\n",
       " 759,\n",
       " 760,\n",
       " 761,\n",
       " 762,\n",
       " 66297,\n",
       " 764,\n",
       " 765,\n",
       " 766,\n",
       " 773,\n",
       " 66310,\n",
       " 775,\n",
       " 778,\n",
       " 779,\n",
       " 780,\n",
       " 781,\n",
       " 782,\n",
       " 783,\n",
       " 784,\n",
       " 785,\n",
       " 786,\n",
       " 66320,\n",
       " 788,\n",
       " 99087,\n",
       " 790,\n",
       " 791,\n",
       " 33558,\n",
       " 795,\n",
       " 33564,\n",
       " 798,\n",
       " 799,\n",
       " 800,\n",
       " 801,\n",
       " 802,\n",
       " 803,\n",
       " 804,\n",
       " 805,\n",
       " 806,\n",
       " 66335,\n",
       " 808,\n",
       " 809,\n",
       " 810,\n",
       " 99106,\n",
       " 99112,\n",
       " 813,\n",
       " 99114,\n",
       " 164647,\n",
       " 164655,\n",
       " 818,\n",
       " 823,\n",
       " 824,\n",
       " 828,\n",
       " 829,\n",
       " 830,\n",
       " 832,\n",
       " 833,\n",
       " 835,\n",
       " 836,\n",
       " 837,\n",
       " 838,\n",
       " 839,\n",
       " 840,\n",
       " 841,\n",
       " 842,\n",
       " 66371,\n",
       " 99145,\n",
       " 99149,\n",
       " 33615,\n",
       " 848,\n",
       " 849,\n",
       " 131920,\n",
       " 851,\n",
       " 852,\n",
       " 858,\n",
       " 861,\n",
       " 33629,\n",
       " 131934,\n",
       " 866,\n",
       " 867,\n",
       " 869,\n",
       " 870,\n",
       " 33639,\n",
       " 875,\n",
       " 876,\n",
       " 33644,\n",
       " 879,\n",
       " 880,\n",
       " 881,\n",
       " 882,\n",
       " 33649,\n",
       " 885,\n",
       " 886,\n",
       " 99191,\n",
       " 888,\n",
       " 889,\n",
       " 891,\n",
       " 892,\n",
       " 893,\n",
       " 33660,\n",
       " 66427,\n",
       " 896,\n",
       " 897,\n",
       " 898,\n",
       " 899,\n",
       " 900,\n",
       " 33669,\n",
       " 902,\n",
       " 903,\n",
       " 904,\n",
       " 33672,\n",
       " 906,\n",
       " 907,\n",
       " 908,\n",
       " 909,\n",
       " 910,\n",
       " 911,\n",
       " 912,\n",
       " 913,\n",
       " 914,\n",
       " 915,\n",
       " 916,\n",
       " 917,\n",
       " 918,\n",
       " 919,\n",
       " 920,\n",
       " 921,\n",
       " 922,\n",
       " 923,\n",
       " 924,\n",
       " 926,\n",
       " 927,\n",
       " 928,\n",
       " 929,\n",
       " 930,\n",
       " 931,\n",
       " 932,\n",
       " 933,\n",
       " 934,\n",
       " 935,\n",
       " 937,\n",
       " 938,\n",
       " 940,\n",
       " 941,\n",
       " 942,\n",
       " 943,\n",
       " 944,\n",
       " 948,\n",
       " 949,\n",
       " 951,\n",
       " 952,\n",
       " 953,\n",
       " 954,\n",
       " 955,\n",
       " 956,\n",
       " 33725,\n",
       " 959,\n",
       " 961,\n",
       " 963,\n",
       " 965,\n",
       " 968,\n",
       " 969,\n",
       " 970,\n",
       " 971,\n",
       " 973,\n",
       " 66509,\n",
       " 66511,\n",
       " 976,\n",
       " 132046,\n",
       " 979,\n",
       " 981,\n",
       " 982,\n",
       " 984,\n",
       " 986,\n",
       " 987,\n",
       " 988,\n",
       " 990,\n",
       " 991,\n",
       " 993,\n",
       " 994,\n",
       " 996,\n",
       " 998,\n",
       " 999,\n",
       " 1003,\n",
       " 1004,\n",
       " 1005,\n",
       " 1006,\n",
       " 1007,\n",
       " 1008,\n",
       " 1009,\n",
       " 1010,\n",
       " 1011,\n",
       " 1012,\n",
       " 1013,\n",
       " 1014,\n",
       " 1015,\n",
       " 1016,\n",
       " 1017,\n",
       " 1018,\n",
       " 1019,\n",
       " 1020,\n",
       " 1021,\n",
       " 1022,\n",
       " 1023,\n",
       " 1024,\n",
       " 1025,\n",
       " 33794,\n",
       " 1027,\n",
       " 1028,\n",
       " 1029,\n",
       " 1030,\n",
       " 1031,\n",
       " 1032,\n",
       " 1033,\n",
       " 1034,\n",
       " 1035,\n",
       " 1036,\n",
       " 1037,\n",
       " 32770,\n",
       " 33801,\n",
       " 1040,\n",
       " 1041,\n",
       " 1042,\n",
       " 1043,\n",
       " 164881,\n",
       " 1046,\n",
       " 1047,\n",
       " 33815,\n",
       " 1049,\n",
       " 1050,\n",
       " 1051,\n",
       " 1053,\n",
       " 1054,\n",
       " 1055,\n",
       " 1056,\n",
       " 1057,\n",
       " 33826,\n",
       " 1059,\n",
       " 1060,\n",
       " 1061,\n",
       " 1064,\n",
       " 1066,\n",
       " 33834,\n",
       " 1068,\n",
       " 33836,\n",
       " 33838,\n",
       " 164909,\n",
       " 1073,\n",
       " 1077,\n",
       " 1078,\n",
       " 1079,\n",
       " 1080,\n",
       " 1081,\n",
       " 1082,\n",
       " 1083,\n",
       " 1084,\n",
       " 1085,\n",
       " 1086,\n",
       " 132157,\n",
       " 1088,\n",
       " 1089,\n",
       " 1090,\n",
       " 1091,\n",
       " 1092,\n",
       " 1093,\n",
       " 1094,\n",
       " 1095,\n",
       " 1096,\n",
       " 1097,\n",
       " 1099,\n",
       " 1100,\n",
       " 1101,\n",
       " 1103,\n",
       " 1104,\n",
       " 1105,\n",
       " 1107,\n",
       " 1111,\n",
       " 1112,\n",
       " 33880,\n",
       " 1114,\n",
       " 99415,\n",
       " 1116,\n",
       " 1117,\n",
       " 1119,\n",
       " 1120,\n",
       " 1121,\n",
       " 1123,\n",
       " 1124,\n",
       " 1125,\n",
       " 1126,\n",
       " 1127,\n",
       " 1128,\n",
       " 1129,\n",
       " 1130,\n",
       " 1131,\n",
       " 1132,\n",
       " 33893,\n",
       " 33896,\n",
       " 1135,\n",
       " 1136,\n",
       " 1137,\n",
       " 33903,\n",
       " 99437,\n",
       " 1140,\n",
       " 1144,\n",
       " 1147,\n",
       " 1148,\n",
       " 1150,\n",
       " 1151,\n",
       " 1156,\n",
       " 1161,\n",
       " 1162,\n",
       " 1163,\n",
       " 1167,\n",
       " 1170,\n",
       " 1171,\n",
       " 1172,\n",
       " 1173,\n",
       " 1175,\n",
       " 1176,\n",
       " 1177,\n",
       " 1178,\n",
       " 1179,\n",
       " 1180,\n",
       " 1183,\n",
       " 1184,\n",
       " 1185,\n",
       " 1186,\n",
       " 1187,\n",
       " 1188,\n",
       " 1189,\n",
       " 1190,\n",
       " 1191,\n",
       " 1192,\n",
       " 1193,\n",
       " 1194,\n",
       " 1196,\n",
       " 1198,\n",
       " ...]"
      ]
     },
     "execution_count": 62,
     "metadata": {},
     "output_type": "execute_result"
    }
   ],
   "source": [
    "movie_not_watched"
   ]
  },
  {
   "cell_type": "code",
   "execution_count": 63,
   "metadata": {
    "execution": {
     "iopub.execute_input": "2025-05-01T10:29:09.260417Z",
     "iopub.status.busy": "2025-05-01T10:29:09.260194Z",
     "iopub.status.idle": "2025-05-01T10:29:09.280500Z",
     "shell.execute_reply": "2025-05-01T10:29:09.279967Z",
     "shell.execute_reply.started": "2025-05-01T10:29:09.260401Z"
    },
    "id": "sf0uzJBcQYXu",
    "trusted": true
   },
   "outputs": [],
   "source": [
    "movie_not_watched = [[movie_encoded.get(x)] for x in movie_not_watched]\n",
    "user_encoder = user_encoded.get(user_id)\n",
    "user_movie_array = np.hstack(\n",
    "    ([[user_encoder]] * len(movie_not_watched), movie_not_watched)\n",
    ")"
   ]
  },
  {
   "cell_type": "code",
   "execution_count": 64,
   "metadata": {
    "colab": {
     "base_uri": "https://localhost:8080/"
    },
    "execution": {
     "iopub.execute_input": "2025-05-01T10:29:09.281427Z",
     "iopub.status.busy": "2025-05-01T10:29:09.281182Z",
     "iopub.status.idle": "2025-05-01T10:29:09.304713Z",
     "shell.execute_reply": "2025-05-01T10:29:09.304009Z",
     "shell.execute_reply.started": "2025-05-01T10:29:09.281411Z"
    },
    "id": "KRyinSrmQYXu",
    "outputId": "9e9783b0-4b26-4eea-b661-8c38505882b9",
    "trusted": true
   },
   "outputs": [
    {
     "data": {
      "text/plain": [
       "[[0],\n",
       " [1],\n",
       " [2],\n",
       " [3],\n",
       " [4],\n",
       " [5],\n",
       " [6],\n",
       " [7],\n",
       " [8],\n",
       " [9],\n",
       " [10],\n",
       " [11],\n",
       " [12],\n",
       " [13],\n",
       " [14],\n",
       " [15],\n",
       " [16],\n",
       " [17],\n",
       " [18],\n",
       " [19],\n",
       " [20],\n",
       " [21],\n",
       " [22],\n",
       " [23],\n",
       " [24],\n",
       " [25],\n",
       " [26],\n",
       " [27],\n",
       " [28],\n",
       " [29],\n",
       " [30],\n",
       " [31],\n",
       " [5848],\n",
       " [32],\n",
       " [33],\n",
       " [34],\n",
       " [35],\n",
       " [36],\n",
       " [37],\n",
       " [38],\n",
       " [39],\n",
       " [40],\n",
       " [41],\n",
       " [42],\n",
       " [43],\n",
       " [44],\n",
       " [45],\n",
       " [46],\n",
       " [6932],\n",
       " [47],\n",
       " [48],\n",
       " [49],\n",
       " [50],\n",
       " [51],\n",
       " [52],\n",
       " [8024],\n",
       " [53],\n",
       " [54],\n",
       " [55],\n",
       " [56],\n",
       " [57],\n",
       " [58],\n",
       " [59],\n",
       " [6934],\n",
       " [60],\n",
       " [61],\n",
       " [62],\n",
       " [63],\n",
       " [64],\n",
       " [65],\n",
       " [66],\n",
       " [67],\n",
       " [68],\n",
       " [69],\n",
       " [70],\n",
       " [71],\n",
       " [72],\n",
       " [73],\n",
       " [74],\n",
       " [75],\n",
       " [76],\n",
       " [77],\n",
       " [78],\n",
       " [79],\n",
       " [80],\n",
       " [9370],\n",
       " [81],\n",
       " [82],\n",
       " [83],\n",
       " [84],\n",
       " [85],\n",
       " [86],\n",
       " [5849],\n",
       " [87],\n",
       " [88],\n",
       " [89],\n",
       " [90],\n",
       " [91],\n",
       " [92],\n",
       " [93],\n",
       " [94],\n",
       " [95],\n",
       " [96],\n",
       " [5850],\n",
       " [97],\n",
       " [98],\n",
       " [99],\n",
       " [100],\n",
       " [6937],\n",
       " [6938],\n",
       " [101],\n",
       " [102],\n",
       " [103],\n",
       " [104],\n",
       " [105],\n",
       " [106],\n",
       " [107],\n",
       " [5851],\n",
       " [108],\n",
       " [109],\n",
       " [110],\n",
       " [111],\n",
       " [5852],\n",
       " [112],\n",
       " [113],\n",
       " [114],\n",
       " [5853],\n",
       " [115],\n",
       " [116],\n",
       " [9372],\n",
       " [117],\n",
       " [118],\n",
       " [119],\n",
       " [120],\n",
       " [121],\n",
       " [122],\n",
       " [123],\n",
       " [124],\n",
       " [125],\n",
       " [126],\n",
       " [127],\n",
       " [128],\n",
       " [129],\n",
       " [130],\n",
       " [131],\n",
       " [132],\n",
       " [133],\n",
       " [134],\n",
       " [135],\n",
       " [136],\n",
       " [137],\n",
       " [138],\n",
       " [139],\n",
       " [8803],\n",
       " [140],\n",
       " [141],\n",
       " [142],\n",
       " [143],\n",
       " [144],\n",
       " [145],\n",
       " [146],\n",
       " [147],\n",
       " [148],\n",
       " [149],\n",
       " [150],\n",
       " [151],\n",
       " [152],\n",
       " [153],\n",
       " [154],\n",
       " [155],\n",
       " [156],\n",
       " [157],\n",
       " [158],\n",
       " [159],\n",
       " [160],\n",
       " [161],\n",
       " [162],\n",
       " [8025],\n",
       " [163],\n",
       " [164],\n",
       " [165],\n",
       " [166],\n",
       " [8026],\n",
       " [167],\n",
       " [168],\n",
       " [8027],\n",
       " [169],\n",
       " [170],\n",
       " [171],\n",
       " [172],\n",
       " [173],\n",
       " [174],\n",
       " [175],\n",
       " [176],\n",
       " [177],\n",
       " [178],\n",
       " [179],\n",
       " [180],\n",
       " [181],\n",
       " [182],\n",
       " [183],\n",
       " [184],\n",
       " [185],\n",
       " [186],\n",
       " [187],\n",
       " [188],\n",
       " [189],\n",
       " [190],\n",
       " [191],\n",
       " [192],\n",
       " [193],\n",
       " [194],\n",
       " [195],\n",
       " [196],\n",
       " [197],\n",
       " [198],\n",
       " [199],\n",
       " [200],\n",
       " [201],\n",
       " [202],\n",
       " [203],\n",
       " [204],\n",
       " [205],\n",
       " [206],\n",
       " [207],\n",
       " [208],\n",
       " [209],\n",
       " [5856],\n",
       " [210],\n",
       " [211],\n",
       " [212],\n",
       " [213],\n",
       " [214],\n",
       " [215],\n",
       " [216],\n",
       " [217],\n",
       " [218],\n",
       " [219],\n",
       " [220],\n",
       " [221],\n",
       " [222],\n",
       " [223],\n",
       " [224],\n",
       " [225],\n",
       " [226],\n",
       " [227],\n",
       " [228],\n",
       " [229],\n",
       " [230],\n",
       " [6943],\n",
       " [231],\n",
       " [232],\n",
       " [233],\n",
       " [234],\n",
       " [235],\n",
       " [236],\n",
       " [237],\n",
       " [238],\n",
       " [239],\n",
       " [240],\n",
       " [241],\n",
       " [242],\n",
       " [243],\n",
       " [244],\n",
       " [245],\n",
       " [246],\n",
       " [247],\n",
       " [8028],\n",
       " [248],\n",
       " [249],\n",
       " [250],\n",
       " [251],\n",
       " [252],\n",
       " [253],\n",
       " [254],\n",
       " [255],\n",
       " [256],\n",
       " [257],\n",
       " [258],\n",
       " [259],\n",
       " [260],\n",
       " [261],\n",
       " [262],\n",
       " [263],\n",
       " [264],\n",
       " [265],\n",
       " [266],\n",
       " [267],\n",
       " [268],\n",
       " [8029],\n",
       " [269],\n",
       " [270],\n",
       " [271],\n",
       " [272],\n",
       " [273],\n",
       " [274],\n",
       " [275],\n",
       " [276],\n",
       " [277],\n",
       " [278],\n",
       " [279],\n",
       " [280],\n",
       " [281],\n",
       " [5857],\n",
       " [282],\n",
       " [283],\n",
       " [284],\n",
       " [285],\n",
       " [286],\n",
       " [287],\n",
       " [288],\n",
       " [289],\n",
       " [290],\n",
       " [291],\n",
       " [292],\n",
       " [293],\n",
       " [294],\n",
       " [295],\n",
       " [296],\n",
       " [297],\n",
       " [298],\n",
       " [299],\n",
       " [300],\n",
       " [301],\n",
       " [302],\n",
       " [303],\n",
       " [304],\n",
       " [305],\n",
       " [306],\n",
       " [307],\n",
       " [308],\n",
       " [309],\n",
       " [310],\n",
       " [311],\n",
       " [312],\n",
       " [313],\n",
       " [314],\n",
       " [315],\n",
       " [316],\n",
       " [317],\n",
       " [318],\n",
       " [319],\n",
       " [320],\n",
       " [321],\n",
       " [322],\n",
       " [323],\n",
       " [324],\n",
       " [325],\n",
       " [326],\n",
       " [327],\n",
       " [328],\n",
       " [329],\n",
       " [330],\n",
       " [331],\n",
       " [332],\n",
       " [5862],\n",
       " [333],\n",
       " [334],\n",
       " [335],\n",
       " [336],\n",
       " [337],\n",
       " [338],\n",
       " [339],\n",
       " [340],\n",
       " [341],\n",
       " [342],\n",
       " [343],\n",
       " [344],\n",
       " [345],\n",
       " [346],\n",
       " [347],\n",
       " [348],\n",
       " [5865],\n",
       " [349],\n",
       " [5866],\n",
       " [5867],\n",
       " [5868],\n",
       " [8033],\n",
       " [5869],\n",
       " [5870],\n",
       " [350],\n",
       " [351],\n",
       " [352],\n",
       " [353],\n",
       " [354],\n",
       " [355],\n",
       " [8805],\n",
       " [356],\n",
       " [357],\n",
       " [358],\n",
       " [359],\n",
       " [360],\n",
       " [361],\n",
       " [362],\n",
       " [363],\n",
       " [364],\n",
       " [365],\n",
       " [366],\n",
       " [367],\n",
       " [368],\n",
       " [369],\n",
       " [370],\n",
       " [371],\n",
       " [372],\n",
       " [373],\n",
       " [374],\n",
       " [375],\n",
       " [376],\n",
       " [377],\n",
       " [378],\n",
       " [379],\n",
       " [380],\n",
       " [381],\n",
       " [382],\n",
       " [5872],\n",
       " [383],\n",
       " [384],\n",
       " [385],\n",
       " [9377],\n",
       " [386],\n",
       " [387],\n",
       " [388],\n",
       " [6946],\n",
       " [389],\n",
       " [390],\n",
       " [391],\n",
       " [392],\n",
       " [393],\n",
       " [394],\n",
       " [395],\n",
       " [396],\n",
       " [397],\n",
       " [398],\n",
       " [399],\n",
       " [400],\n",
       " [401],\n",
       " [402],\n",
       " [403],\n",
       " [404],\n",
       " [405],\n",
       " [406],\n",
       " [407],\n",
       " [408],\n",
       " [409],\n",
       " [410],\n",
       " [411],\n",
       " [412],\n",
       " [413],\n",
       " [414],\n",
       " [415],\n",
       " [416],\n",
       " [417],\n",
       " [418],\n",
       " [419],\n",
       " [420],\n",
       " [421],\n",
       " [422],\n",
       " [423],\n",
       " [424],\n",
       " [425],\n",
       " [426],\n",
       " [427],\n",
       " [428],\n",
       " [429],\n",
       " [430],\n",
       " [431],\n",
       " [432],\n",
       " [433],\n",
       " [434],\n",
       " [8034],\n",
       " [435],\n",
       " [436],\n",
       " [437],\n",
       " [438],\n",
       " [439],\n",
       " [440],\n",
       " [441],\n",
       " [442],\n",
       " [443],\n",
       " [444],\n",
       " [445],\n",
       " [446],\n",
       " [447],\n",
       " [448],\n",
       " [449],\n",
       " [450],\n",
       " [451],\n",
       " [452],\n",
       " [453],\n",
       " [454],\n",
       " [455],\n",
       " [456],\n",
       " [457],\n",
       " [458],\n",
       " [459],\n",
       " [460],\n",
       " [461],\n",
       " [462],\n",
       " [463],\n",
       " [5874],\n",
       " [464],\n",
       " [465],\n",
       " [466],\n",
       " [467],\n",
       " [468],\n",
       " [469],\n",
       " [470],\n",
       " [471],\n",
       " [472],\n",
       " [473],\n",
       " [474],\n",
       " [475],\n",
       " [476],\n",
       " [477],\n",
       " [5875],\n",
       " [478],\n",
       " [479],\n",
       " [480],\n",
       " [481],\n",
       " [482],\n",
       " [483],\n",
       " [484],\n",
       " [485],\n",
       " [6947],\n",
       " [486],\n",
       " [487],\n",
       " [488],\n",
       " [6948],\n",
       " [489],\n",
       " [490],\n",
       " [491],\n",
       " [492],\n",
       " [493],\n",
       " [494],\n",
       " [495],\n",
       " [496],\n",
       " [497],\n",
       " [498],\n",
       " [499],\n",
       " [500],\n",
       " [501],\n",
       " [502],\n",
       " [8808],\n",
       " [503],\n",
       " [504],\n",
       " [505],\n",
       " [506],\n",
       " [507],\n",
       " [508],\n",
       " [509],\n",
       " [510],\n",
       " [511],\n",
       " [512],\n",
       " [513],\n",
       " [514],\n",
       " [515],\n",
       " [516],\n",
       " [517],\n",
       " [8037],\n",
       " [518],\n",
       " [519],\n",
       " [520],\n",
       " [521],\n",
       " [522],\n",
       " [523],\n",
       " [524],\n",
       " [525],\n",
       " [526],\n",
       " [527],\n",
       " [528],\n",
       " [529],\n",
       " [530],\n",
       " [531],\n",
       " [532],\n",
       " [533],\n",
       " [534],\n",
       " [535],\n",
       " [536],\n",
       " [537],\n",
       " [538],\n",
       " [539],\n",
       " [540],\n",
       " [541],\n",
       " [542],\n",
       " [543],\n",
       " [6949],\n",
       " [8809],\n",
       " [544],\n",
       " [545],\n",
       " [546],\n",
       " [547],\n",
       " [548],\n",
       " [8810],\n",
       " [549],\n",
       " [5877],\n",
       " [550],\n",
       " [8038],\n",
       " [551],\n",
       " [552],\n",
       " [553],\n",
       " [6950],\n",
       " [554],\n",
       " [555],\n",
       " [556],\n",
       " [5878],\n",
       " [557],\n",
       " [558],\n",
       " [5879],\n",
       " [559],\n",
       " [560],\n",
       " [6951],\n",
       " [8811],\n",
       " [8812],\n",
       " [561],\n",
       " [562],\n",
       " [563],\n",
       " [564],\n",
       " [565],\n",
       " [566],\n",
       " [567],\n",
       " [568],\n",
       " [569],\n",
       " [570],\n",
       " [571],\n",
       " [572],\n",
       " [8039],\n",
       " [9380],\n",
       " [573],\n",
       " [574],\n",
       " [6952],\n",
       " [575],\n",
       " [576],\n",
       " [577],\n",
       " [578],\n",
       " [579],\n",
       " [580],\n",
       " [8040],\n",
       " [581],\n",
       " [582],\n",
       " [583],\n",
       " [584],\n",
       " [585],\n",
       " [586],\n",
       " [587],\n",
       " [588],\n",
       " [589],\n",
       " [5880],\n",
       " [590],\n",
       " [5881],\n",
       " [8041],\n",
       " [591],\n",
       " [5882],\n",
       " [592],\n",
       " [593],\n",
       " [594],\n",
       " [595],\n",
       " [596],\n",
       " [597],\n",
       " [598],\n",
       " [599],\n",
       " [600],\n",
       " [601],\n",
       " [602],\n",
       " [603],\n",
       " [604],\n",
       " [605],\n",
       " [606],\n",
       " [607],\n",
       " [6953],\n",
       " [608],\n",
       " [609],\n",
       " [610],\n",
       " [611],\n",
       " [6954],\n",
       " [612],\n",
       " [613],\n",
       " [614],\n",
       " [615],\n",
       " [616],\n",
       " [617],\n",
       " [618],\n",
       " [619],\n",
       " [620],\n",
       " [621],\n",
       " [6955],\n",
       " [622],\n",
       " [8042],\n",
       " [623],\n",
       " [624],\n",
       " [5883],\n",
       " [625],\n",
       " [5884],\n",
       " [626],\n",
       " [627],\n",
       " [628],\n",
       " [629],\n",
       " [630],\n",
       " [631],\n",
       " [632],\n",
       " [633],\n",
       " [634],\n",
       " [6956],\n",
       " [635],\n",
       " [636],\n",
       " [637],\n",
       " [8043],\n",
       " [8044],\n",
       " [638],\n",
       " [8045],\n",
       " [9381],\n",
       " [9382],\n",
       " [639],\n",
       " [640],\n",
       " [641],\n",
       " [642],\n",
       " [643],\n",
       " [644],\n",
       " [645],\n",
       " [646],\n",
       " [647],\n",
       " [648],\n",
       " [649],\n",
       " [650],\n",
       " [651],\n",
       " [652],\n",
       " [653],\n",
       " [654],\n",
       " [6957],\n",
       " [8049],\n",
       " [8050],\n",
       " [5885],\n",
       " [655],\n",
       " [656],\n",
       " [8815],\n",
       " [657],\n",
       " [658],\n",
       " [659],\n",
       " [660],\n",
       " [5886],\n",
       " [8816],\n",
       " [661],\n",
       " [662],\n",
       " [663],\n",
       " [664],\n",
       " [5887],\n",
       " [665],\n",
       " [666],\n",
       " [5888],\n",
       " [667],\n",
       " [668],\n",
       " [669],\n",
       " [670],\n",
       " [5890],\n",
       " [671],\n",
       " [672],\n",
       " [8051],\n",
       " [673],\n",
       " [674],\n",
       " [675],\n",
       " [676],\n",
       " [677],\n",
       " [5891],\n",
       " [6958],\n",
       " [678],\n",
       " [679],\n",
       " [680],\n",
       " [681],\n",
       " [682],\n",
       " [5892],\n",
       " [684],\n",
       " [685],\n",
       " [686],\n",
       " [5893],\n",
       " [688],\n",
       " [689],\n",
       " [690],\n",
       " [691],\n",
       " [692],\n",
       " [693],\n",
       " [694],\n",
       " [695],\n",
       " [696],\n",
       " [697],\n",
       " [698],\n",
       " [699],\n",
       " [700],\n",
       " [701],\n",
       " [702],\n",
       " [703],\n",
       " [704],\n",
       " [705],\n",
       " [706],\n",
       " [707],\n",
       " [708],\n",
       " [709],\n",
       " [710],\n",
       " [711],\n",
       " [712],\n",
       " [713],\n",
       " [714],\n",
       " [715],\n",
       " [716],\n",
       " [718],\n",
       " [719],\n",
       " [720],\n",
       " [721],\n",
       " [722],\n",
       " [723],\n",
       " [724],\n",
       " [728],\n",
       " [729],\n",
       " [731],\n",
       " [732],\n",
       " [733],\n",
       " [734],\n",
       " [735],\n",
       " [736],\n",
       " [5898],\n",
       " [737],\n",
       " [738],\n",
       " [739],\n",
       " [740],\n",
       " [741],\n",
       " [742],\n",
       " [743],\n",
       " [744],\n",
       " [745],\n",
       " [6959],\n",
       " [6960],\n",
       " [746],\n",
       " [8817],\n",
       " [747],\n",
       " [748],\n",
       " [749],\n",
       " [750],\n",
       " [751],\n",
       " [752],\n",
       " [753],\n",
       " [754],\n",
       " [755],\n",
       " [756],\n",
       " [757],\n",
       " [758],\n",
       " [759],\n",
       " [760],\n",
       " [761],\n",
       " [762],\n",
       " [763],\n",
       " [764],\n",
       " [765],\n",
       " [766],\n",
       " [767],\n",
       " [768],\n",
       " [769],\n",
       " [770],\n",
       " [771],\n",
       " [772],\n",
       " [773],\n",
       " [774],\n",
       " [775],\n",
       " [776],\n",
       " [777],\n",
       " [778],\n",
       " [779],\n",
       " [780],\n",
       " [781],\n",
       " [782],\n",
       " [783],\n",
       " [5901],\n",
       " [784],\n",
       " [785],\n",
       " [786],\n",
       " [787],\n",
       " [788],\n",
       " [789],\n",
       " [790],\n",
       " [791],\n",
       " [792],\n",
       " [793],\n",
       " [794],\n",
       " [5847],\n",
       " [5902],\n",
       " [795],\n",
       " [796],\n",
       " [797],\n",
       " [798],\n",
       " [9385],\n",
       " [799],\n",
       " [800],\n",
       " [5903],\n",
       " [801],\n",
       " [802],\n",
       " [803],\n",
       " [804],\n",
       " [805],\n",
       " [806],\n",
       " [807],\n",
       " [808],\n",
       " [5904],\n",
       " [809],\n",
       " [810],\n",
       " [811],\n",
       " [812],\n",
       " [813],\n",
       " [5906],\n",
       " [814],\n",
       " [5907],\n",
       " [5908],\n",
       " [9386],\n",
       " [815],\n",
       " [816],\n",
       " [817],\n",
       " [818],\n",
       " [819],\n",
       " [820],\n",
       " [821],\n",
       " [822],\n",
       " [823],\n",
       " [824],\n",
       " [825],\n",
       " [8820],\n",
       " [826],\n",
       " [827],\n",
       " [828],\n",
       " [829],\n",
       " [830],\n",
       " [831],\n",
       " [832],\n",
       " [833],\n",
       " [834],\n",
       " [835],\n",
       " [836],\n",
       " [837],\n",
       " [838],\n",
       " [839],\n",
       " [840],\n",
       " [841],\n",
       " [842],\n",
       " [843],\n",
       " [844],\n",
       " [5909],\n",
       " [845],\n",
       " [8052],\n",
       " [846],\n",
       " [847],\n",
       " [848],\n",
       " [849],\n",
       " [850],\n",
       " [851],\n",
       " [852],\n",
       " [853],\n",
       " [854],\n",
       " [855],\n",
       " [856],\n",
       " [857],\n",
       " [858],\n",
       " [859],\n",
       " [860],\n",
       " [5910],\n",
       " [5911],\n",
       " [861],\n",
       " [862],\n",
       " [863],\n",
       " [5912],\n",
       " [8053],\n",
       " [864],\n",
       " [865],\n",
       " [866],\n",
       " [867],\n",
       " [868],\n",
       " [869],\n",
       " [870],\n",
       " [871],\n",
       " [872],\n",
       " [873],\n",
       " [874],\n",
       " [875],\n",
       " [876],\n",
       " [877],\n",
       " [878],\n",
       " [879],\n",
       " [880],\n",
       " [881],\n",
       " [882],\n",
       " [883],\n",
       " [884],\n",
       " [885],\n",
       " [886],\n",
       " [887],\n",
       " [888],\n",
       " [889],\n",
       " [890],\n",
       " [891],\n",
       " [892],\n",
       " [893],\n",
       " [894],\n",
       " [895],\n",
       " [896],\n",
       " [897],\n",
       " [899],\n",
       " ...]"
      ]
     },
     "execution_count": 64,
     "metadata": {},
     "output_type": "execute_result"
    }
   ],
   "source": [
    "movie_not_watched"
   ]
  },
  {
   "cell_type": "code",
   "execution_count": 65,
   "metadata": {
    "colab": {
     "base_uri": "https://localhost:8080/"
    },
    "execution": {
     "iopub.execute_input": "2025-05-01T10:29:09.305683Z",
     "iopub.status.busy": "2025-05-01T10:29:09.305406Z",
     "iopub.status.idle": "2025-05-01T10:29:10.403813Z",
     "shell.execute_reply": "2025-05-01T10:29:10.403190Z",
     "shell.execute_reply.started": "2025-05-01T10:29:09.305652Z"
    },
    "id": "F7yVrlnSQYXv",
    "outputId": "86e454db-7e81-49cd-83f6-0d2d2647c532",
    "trusted": true
   },
   "outputs": [
    {
     "name": "stdout",
     "output_type": "stream",
     "text": [
      "\u001b[1m293/293\u001b[0m \u001b[32m━━━━━━━━━━━━━━━━━━━━\u001b[0m\u001b[37m\u001b[0m \u001b[1m1s\u001b[0m 2ms/step\n",
      "Showing recommendations for users: 89\n",
      "===========================\n",
      "Movie with high ratings from user\n",
      "--------------------------------\n",
      "Valet, The (La doublure) (2006)\n",
      "Boy Eats Girl (2005)\n",
      "Get Low (2009)\n",
      "Stuart Little 3: Call of the Wild (2005)\n",
      "Hollywood Chainsaw Hookers (1988)\n",
      "--------------------------------\n",
      "Top 10 movie recommendation\n",
      "--------------------------------\n",
      "Nobody Knows (Dare mo shiranai) (2004)\n",
      "Idlewild (2006)\n",
      "Hunger (2008)\n",
      "Pervert's Guide to Cinema, The (2006)\n",
      "TiMER (2009)\n",
      "Enter the Void (2009)\n",
      "Endgame (2009)\n",
      "Dance of Reality, The (Danza de la realidad, La) (2013)\n",
      "Sex, Drugs & Taxation (2013)\n",
      "The Girl on the Train (2016)\n"
     ]
    }
   ],
   "source": [
    "# Ensure user_movie_array is not empty before prediction\n",
    "if user_movie_array.size > 0:\n",
    "    ratings = model.predict(user_movie_array).flatten()\n",
    "\n",
    "    top_ratings_indices = ratings.argsort()[-10:][::-1]\n",
    "    recommended_movie_ids = [\n",
    "        decode_movie.get(movie_not_watched[x][0]) for x in top_ratings_indices if decode_movie.get(movie_not_watched[x][0]) is not None\n",
    "    ] # Ensure decoding exists\n",
    "\n",
    "    print('Showing recommendations for users: {}'.format(user_id))\n",
    "    print('===' * 9)\n",
    "    print('Movie with high ratings from user')\n",
    "    print('----' * 8)\n",
    "\n",
    "    top_movie_user = (\n",
    "        movie_watched_by_user.sort_values(\n",
    "            by = 'rating',\n",
    "            ascending=False\n",
    "        )\n",
    "        .head(5)\n",
    "        .movieId.values\n",
    "    )\n",
    "\n",
    "    movie_df_rows = movies_df[movies_df['movieId'].isin(top_movie_user)]\n",
    "    if not movie_df_rows.empty:\n",
    "        for row in movie_df_rows.itertuples():\n",
    "            print(row.title)\n",
    "    else:\n",
    "        print(\"No highly rated movies found for this user in the original movies_df.\")\n",
    "\n",
    "\n",
    "    print('----' * 8)\n",
    "    print('Top 10 movie recommendation')\n",
    "    print('----' * 8)\n",
    "\n",
    "    recommended_movie = movies_df[movies_df['movieId'].isin(recommended_movie_ids)]\n",
    "    if not recommended_movie.empty:\n",
    "        for row in recommended_movie.itertuples():\n",
    "            print(row.title)\n",
    "    else:\n",
    "        print(\"No recommendations found based on predicted ratings.\")\n",
    "else:\n",
    "    print(f\"Cannot generate recommendations for user {user_id} as no unwatched movies were found or user/movie encoding failed.\")\n"
   ]
  },
  {
   "cell_type": "markdown",
   "metadata": {},
   "source": [
    "Output tersebut menunjukkan hasil rekomendasi film untuk user dengan `userId` 89.\n",
    "\n",
    "- Bagian pertama menampilkan 5 film dengan rating tertinggi yang pernah diberikan oleh user tersebut.\n",
    "- Bagian kedua menampilkan 10 rekomendasi film teratas yang diprediksi akan disukai oleh user tersebut berdasarkan model collaborative filtering.\n",
    "- Rekomendasi ini dihasilkan dari prediksi model terhadap film yang belum pernah ditonton user, sehingga dapat membantu user menemukan film baru yang relevan dengan preferensinya.\n"
   ]
  },
  {
   "cell_type": "markdown",
   "metadata": {
    "id": "P9hBVZB1QYXv"
   },
   "source": [
    "### *Evaluation*\n",
    "\n",
    "Setelah proses *modelling* selesai dilakukan, langkah berikutnya adalah melakukan *evaluation* untuk menilai performa model yang telah dibangun. Pada model dengan pendekatan *content based filtering*, evaluasi dilakukan menggunakan metrik *Precision*. Sementara itu, untuk model berbasis *collaborative filtering*, metrik yang digunakan untuk evaluasi adalah *Root Mean Squared Error* (RMSE)."
   ]
  },
  {
   "cell_type": "markdown",
   "metadata": {
    "id": "NfeqHWdWQYXw"
   },
   "source": [
    "#### Metrik *Model dengan Content Based Filtering* (Metrik *Precision*)\n",
    "\n",
    "- Penjelasan *Precision*\n",
    "  - Precision digunakan untuk menilai tingkat ketepatan model dalam mengidentifikasi kelas positif, yaitu dengan melihat seberapa besar proporsi prediksi positif yang benar dibandingkan seluruh prediksi positif yang dibuat oleh model.\n",
    "\n",
    "- Rumus *Precision*\n",
    "  - **Precision = TP / (TP + FP)**\n",
    "  - TP (*True Positives*): Jumlah kasus ketika model memprediksi \"positif\" dan prediksi tersebut benar.\n",
    "  - FP (*False Positives*): Jumlah kasus ketika model memprediksi \"positif\" namun prediksinya ternyata salah.\n",
    "\n",
    "- Cara Kerja\n",
    "  - Precision menghitung persentase prediksi positif yang benar dari semua prediksi positif yang dihasilkan model. Dengan kata lain, precision membandingkan jumlah *True Positives* (TP) dengan total prediksi positif, yaitu *True Positives* (TP) ditambah *False Positives* (FP). Metrik ini sangat berguna ketika tujuan utama adalah memastikan bahwa hasil yang diberikan model benar-benar relevan dan akurat."
   ]
  },
  {
   "cell_type": "code",
   "execution_count": null,
   "metadata": {
    "colab": {
     "base_uri": "https://localhost:8080/"
    },
    "execution": {
     "iopub.execute_input": "2025-05-01T10:29:10.404780Z",
     "iopub.status.busy": "2025-05-01T10:29:10.404546Z",
     "iopub.status.idle": "2025-05-01T10:29:10.433017Z",
     "shell.execute_reply": "2025-05-01T10:29:10.432473Z",
     "shell.execute_reply.started": "2025-05-01T10:29:10.404762Z"
    },
    "id": "-q7spV4oQYXw",
    "outputId": "be6ea082-6729-4e62-cbf0-b57aeae7031a",
    "trusted": true
   },
   "outputs": [
    {
     "name": "stdout",
     "output_type": "stream",
     "text": [
      "Evaluation Summary for 'Interstellar (2014)':\n",
      "Total Recommendations: 5\n",
      "Relevant Recommendations: 5\n",
      "Irrelevant Recommendations: 0\n",
      "Precision: 1.0000\n",
      "Relevant Movies: Timecrimes (Cronocrímenes, Los) (2007), Meteor (1979), Sphere (1998), Beginning of the End (1957), Contagion (2011)\n",
      "Irrelevant Movies: None\n"
     ]
    }
   ],
   "source": [
    "def evaluate_content_based_filtering(movie_title, similarity_data=cosine_df, items=movies_df[['title', 'genres']], k=5):\n",
    "    # Ensure the movie title exists in the similarity data index\n",
    "    if movie_title not in similarity_data.index:\n",
    "        print(f\"Movie '{movie_title}' not found in similarity data index.\")\n",
    "        return None\n",
    "\n",
    "    # Ensure the movie title exists in the items dataframe\n",
    "    if not items[items['title'] == movie_title].empty:\n",
    "        input_movie_genres_series = items[items['title'] == movie_title]['genres']\n",
    "        if not input_movie_genres_series.empty and input_movie_genres_series.values[0] is not None:\n",
    "             input_movie_genres = input_movie_genres_series.values[0].split('|')\n",
    "        else:\n",
    "             print(f\"Genres not found or are null for movie '{movie_title}'.\")\n",
    "             return None\n",
    "    else:\n",
    "        print(f\"Movie '{movie_title}' not found in items dataframe.\")\n",
    "        return None\n",
    "\n",
    "    recommended_movies_df = movie_recommendations(movie_title, similarity_data, items, k)\n",
    "    if recommended_movies_df is None or recommended_movies_df.empty:\n",
    "         print(f\"No recommendations generated for '{movie_title}'.\")\n",
    "         return None\n",
    "\n",
    "    recommended_movies = recommended_movies_df['title'].values\n",
    "\n",
    "    relevant = []\n",
    "    for movie in recommended_movies:\n",
    "        movie_genres_series = items[items['title'] == movie]['genres']\n",
    "        if not movie_genres_series.empty and movie_genres_series.values[0] is not None:\n",
    "            movie_genres = movie_genres_series.values[0].split('|')\n",
    "            # Check if any recommended movie genre is in the input movie's genres\n",
    "            is_relevant = 1 if any(genre in input_movie_genres for genre in movie_genres) else 0\n",
    "            relevant.append(is_relevant)\n",
    "        else:\n",
    "            relevant.append(0)\n",
    "\n",
    "\n",
    "    precision = np.mean(relevant) if relevant else 0\n",
    "\n",
    "    relevant_movies = [movie for movie, is_relevant in zip(recommended_movies, relevant) if is_relevant == 1]\n",
    "    irrelevant_movies = [movie for movie, is_relevant in zip(recommended_movies, relevant) if is_relevant == 0]\n",
    "\n",
    "    relevant_count = len(relevant_movies)\n",
    "    irrelevant_count = len(irrelevant_movies)\n",
    "\n",
    "    evaluation_summary = {\n",
    "        'Movie': movie_title,\n",
    "        'Total Recommendations': k,\n",
    "        'Relevant Recommendations': relevant_count,\n",
    "        'Irrelevant Recommendations': irrelevant_count,\n",
    "        'Precision': precision,\n",
    "        'Relevant Movies': relevant_movies,\n",
    "        'Irrelevant Movies': irrelevant_movies\n",
    "    }\n",
    "\n",
    "    return evaluation_summary\n",
    "\n",
    "# Ensure the movie exists before evaluating\n",
    "if not movies_df[movies_df.title.eq('Interstellar (2014)')].empty:\n",
    "    evaluation = evaluate_content_based_filtering('Interstellar (2014)')\n",
    "    if evaluation:\n",
    "        print(f\"Evaluation Summary for 'Interstellar (2014)':\")\n",
    "        print(f\"Total Recommendations: {evaluation['Total Recommendations']}\")\n",
    "        print(f\"Relevant Recommendations: {evaluation['Relevant Recommendations']}\")\n",
    "        print(f\"Irrelevant Recommendations: {evaluation['Irrelevant Recommendations']}\")\n",
    "        print(f\"Precision: {evaluation['Precision']:.4f}\")\n",
    "        # Check if lists are empty before joining\n",
    "        relevant_str = ', '.join(evaluation['Relevant Movies']) if evaluation['Relevant Movies'] else \"None\"\n",
    "        irrelevant_str = ', '.join(evaluation['Irrelevant Movies']) if evaluation['Irrelevant Movies'] else \"None\"\n",
    "        print(f\"Relevant Movies: {relevant_str}\")\n",
    "        print(f\"Irrelevant Movies: {irrelevant_str}\")\n",
    "else:\n",
    "    print(\"Movie 'Interstellar (2014)' not found in movies_df, skipping evaluation.\")\n"
   ]
  },
  {
   "cell_type": "markdown",
   "metadata": {
    "id": "9FkyUJN_QYXw"
   },
   "source": [
    "Berdasarkan hasil evaluasi di atas, ketika model diberikan *input* berupa 'Interstellar (2014)', sistem merekomendasikan lima film yang seluruhnya relevan dengan film tersebut. Hal ini tercermin dari nilai precision yang mencapai `1.0` atau `100%`, menandakan bahwa semua rekomendasi yang dihasilkan benar-benar sesuai dengan preferensi genre film input. Output evaluasi juga menunjukkan tidak ada rekomendasi yang tidak relevan (irrelevant), sehingga model terbukti sangat akurat dalam memberikan saran film serupa."
   ]
  },
  {
   "cell_type": "markdown",
   "metadata": {
    "id": "AFaCG2NPQYXx"
   },
   "source": [
    "#### Metrik *Model dengan Content Based Filtering* (Metrik *Root Mean Squared Error*)\n",
    "\n",
    "- Penjelasan *Root Mean Squared Error*\n",
    "  - RMSE merupakan indikator yang digunakan untuk menilai rata-rata besarnya kesalahan antara prediksi model dan nilai aktual. Nilai RMSE memiliki satuan yang sama dengan data aslinya, sehingga memudahkan interpretasi. Semakin rendah nilai RMSE, semakin akurat prediksi yang dihasilkan oleh model.\n",
    "\n",
    "- Rumus *Root Mean Squared Error*\n",
    "    $` RMSE = \\sqrt{\\frac{1}{n} \\sum_{i=1}^{n} (y_i - \\hat{y}_i)^2} `$\n",
    "\n",
    "  - $`(y_i)`$ adalah nilai rating aktual, sedangkan $`(\\hat{y}_i)`$ merupakan nilai rating hasil prediksi.\n",
    "- Cara Kerja\n",
    "  - RMSE diperoleh dengan membandingkan setiap nilai aktual dan prediksi, lalu menghitung selisihnya. Selisih tersebut dikuadratkan agar bernilai positif, kemudian dirata-ratakan untuk mengetahui rata-rata kesalahan. Terakhir, akar kuadrat dari rata-rata tersebut diambil untuk mendapatkan nilai RMSE."
   ]
  },
  {
   "cell_type": "code",
   "execution_count": null,
   "metadata": {},
   "outputs": [
    {
     "name": "stdout",
     "output_type": "stream",
     "text": [
      "Epoch 1/30\n",
      "\u001b[1m2918/2918\u001b[0m \u001b[32m━━━━━━━━━━━━━━━━━━━━\u001b[0m\u001b[37m\u001b[0m \u001b[1m8s\u001b[0m 2ms/step - loss: 0.6744 - root_mean_squared_error: 0.2506 - val_loss: 0.6437 - val_root_mean_squared_error: 0.2180\n",
      "Epoch 2/30\n",
      "\u001b[1m2918/2918\u001b[0m \u001b[32m━━━━━━━━━━━━━━━━━━━━\u001b[0m\u001b[37m\u001b[0m \u001b[1m4s\u001b[0m 1ms/step - loss: 0.6365 - root_mean_squared_error: 0.2070 - val_loss: 0.6366 - val_root_mean_squared_error: 0.2098\n",
      "Epoch 3/30\n",
      "\u001b[1m2918/2918\u001b[0m \u001b[32m━━━━━━━━━━━━━━━━━━━━\u001b[0m\u001b[37m\u001b[0m \u001b[1m4s\u001b[0m 1ms/step - loss: 0.6209 - root_mean_squared_error: 0.1942 - val_loss: 0.6308 - val_root_mean_squared_error: 0.2032\n",
      "Epoch 4/30\n",
      "\u001b[1m2918/2918\u001b[0m \u001b[32m━━━━━━━━━━━━━━━━━━━━\u001b[0m\u001b[37m\u001b[0m \u001b[1m4s\u001b[0m 1ms/step - loss: 0.6146 - root_mean_squared_error: 0.1847 - val_loss: 0.6263 - val_root_mean_squared_error: 0.1981\n",
      "Epoch 5/30\n",
      "\u001b[1m2918/2918\u001b[0m \u001b[32m━━━━━━━━━━━━━━━━━━━━\u001b[0m\u001b[37m\u001b[0m \u001b[1m4s\u001b[0m 1ms/step - loss: 0.6090 - root_mean_squared_error: 0.1749 - val_loss: 0.6245 - val_root_mean_squared_error: 0.1961\n",
      "Epoch 6/30\n",
      "\u001b[1m2918/2918\u001b[0m \u001b[32m━━━━━━━━━━━━━━━━━━━━\u001b[0m\u001b[37m\u001b[0m \u001b[1m4s\u001b[0m 1ms/step - loss: 0.6029 - root_mean_squared_error: 0.1682 - val_loss: 0.6217 - val_root_mean_squared_error: 0.1929\n",
      "Epoch 7/30\n",
      "\u001b[1m2918/2918\u001b[0m \u001b[32m━━━━━━━━━━━━━━━━━━━━\u001b[0m\u001b[37m\u001b[0m \u001b[1m4s\u001b[0m 1ms/step - loss: 0.5990 - root_mean_squared_error: 0.1614 - val_loss: 0.6188 - val_root_mean_squared_error: 0.1896\n",
      "Epoch 8/30\n",
      "\u001b[1m2918/2918\u001b[0m \u001b[32m━━━━━━━━━━━━━━━━━━━━\u001b[0m\u001b[37m\u001b[0m \u001b[1m4s\u001b[0m 1ms/step - loss: 0.5954 - root_mean_squared_error: 0.1574 - val_loss: 0.6173 - val_root_mean_squared_error: 0.1879\n",
      "Epoch 9/30\n",
      "\u001b[1m2918/2918\u001b[0m \u001b[32m━━━━━━━━━━━━━━━━━━━━\u001b[0m\u001b[37m\u001b[0m \u001b[1m4s\u001b[0m 1ms/step - loss: 0.5919 - root_mean_squared_error: 0.1528 - val_loss: 0.6154 - val_root_mean_squared_error: 0.1857\n",
      "Epoch 10/30\n",
      "\u001b[1m2918/2918\u001b[0m \u001b[32m━━━━━━━━━━━━━━━━━━━━\u001b[0m\u001b[37m\u001b[0m \u001b[1m4s\u001b[0m 1ms/step - loss: 0.5879 - root_mean_squared_error: 0.1458 - val_loss: 0.6139 - val_root_mean_squared_error: 0.1841\n",
      "Epoch 11/30\n",
      "\u001b[1m2918/2918\u001b[0m \u001b[32m━━━━━━━━━━━━━━━━━━━━\u001b[0m\u001b[37m\u001b[0m \u001b[1m4s\u001b[0m 1ms/step - loss: 0.5846 - root_mean_squared_error: 0.1438 - val_loss: 0.6122 - val_root_mean_squared_error: 0.1822\n",
      "Epoch 12/30\n",
      "\u001b[1m2918/2918\u001b[0m \u001b[32m━━━━━━━━━━━━━━━━━━━━\u001b[0m\u001b[37m\u001b[0m \u001b[1m4s\u001b[0m 1ms/step - loss: 0.5833 - root_mean_squared_error: 0.1377 - val_loss: 0.6112 - val_root_mean_squared_error: 0.1812\n",
      "Epoch 13/30\n",
      "\u001b[1m2918/2918\u001b[0m \u001b[32m━━━━━━━━━━━━━━━━━━━━\u001b[0m\u001b[37m\u001b[0m \u001b[1m4s\u001b[0m 1ms/step - loss: 0.5802 - root_mean_squared_error: 0.1380 - val_loss: 0.6103 - val_root_mean_squared_error: 0.1801\n",
      "Epoch 14/30\n",
      "\u001b[1m2918/2918\u001b[0m \u001b[32m━━━━━━━━━━━━━━━━━━━━\u001b[0m\u001b[37m\u001b[0m \u001b[1m4s\u001b[0m 1ms/step - loss: 0.5765 - root_mean_squared_error: 0.1343 - val_loss: 0.6090 - val_root_mean_squared_error: 0.1787\n",
      "Epoch 15/30\n",
      "\u001b[1m2918/2918\u001b[0m \u001b[32m━━━━━━━━━━━━━━━━━━━━\u001b[0m\u001b[37m\u001b[0m \u001b[1m4s\u001b[0m 1ms/step - loss: 0.5730 - root_mean_squared_error: 0.1303 - val_loss: 0.6082 - val_root_mean_squared_error: 0.1779\n",
      "Epoch 16/30\n",
      "\u001b[1m2918/2918\u001b[0m \u001b[32m━━━━━━━━━━━━━━━━━━━━\u001b[0m\u001b[37m\u001b[0m \u001b[1m4s\u001b[0m 1ms/step - loss: 0.5728 - root_mean_squared_error: 0.1278 - val_loss: 0.6074 - val_root_mean_squared_error: 0.1770\n",
      "Epoch 17/30\n",
      "\u001b[1m2918/2918\u001b[0m \u001b[32m━━━━━━━━━━━━━━━━━━━━\u001b[0m\u001b[37m\u001b[0m \u001b[1m4s\u001b[0m 1ms/step - loss: 0.5737 - root_mean_squared_error: 0.1257 - val_loss: 0.6068 - val_root_mean_squared_error: 0.1763\n",
      "Epoch 18/30\n",
      "\u001b[1m2918/2918\u001b[0m \u001b[32m━━━━━━━━━━━━━━━━━━━━\u001b[0m\u001b[37m\u001b[0m \u001b[1m4s\u001b[0m 1ms/step - loss: 0.5692 - root_mean_squared_error: 0.1225 - val_loss: 0.6060 - val_root_mean_squared_error: 0.1756\n",
      "Epoch 19/30\n",
      "\u001b[1m2918/2918\u001b[0m \u001b[32m━━━━━━━━━━━━━━━━━━━━\u001b[0m\u001b[37m\u001b[0m \u001b[1m4s\u001b[0m 1ms/step - loss: 0.5679 - root_mean_squared_error: 0.1228 - val_loss: 0.6056 - val_root_mean_squared_error: 0.1752\n",
      "Epoch 20/30\n",
      "\u001b[1m2918/2918\u001b[0m \u001b[32m━━━━━━━━━━━━━━━━━━━━\u001b[0m\u001b[37m\u001b[0m \u001b[1m4s\u001b[0m 1ms/step - loss: 0.5679 - root_mean_squared_error: 0.1206 - val_loss: 0.6055 - val_root_mean_squared_error: 0.1751\n",
      "Epoch 21/30\n",
      "\u001b[1m2918/2918\u001b[0m \u001b[32m━━━━━━━━━━━━━━━━━━━━\u001b[0m\u001b[37m\u001b[0m \u001b[1m4s\u001b[0m 1ms/step - loss: 0.5665 - root_mean_squared_error: 0.1167 - val_loss: 0.6050 - val_root_mean_squared_error: 0.1745\n",
      "Epoch 22/30\n",
      "\u001b[1m2918/2918\u001b[0m \u001b[32m━━━━━━━━━━━━━━━━━━━━\u001b[0m\u001b[37m\u001b[0m \u001b[1m4s\u001b[0m 1ms/step - loss: 0.5650 - root_mean_squared_error: 0.1176 - val_loss: 0.6048 - val_root_mean_squared_error: 0.1745\n",
      "Epoch 23/30\n",
      "\u001b[1m2918/2918\u001b[0m \u001b[32m━━━━━━━━━━━━━━━━━━━━\u001b[0m\u001b[37m\u001b[0m \u001b[1m4s\u001b[0m 1ms/step - loss: 0.5660 - root_mean_squared_error: 0.1152 - val_loss: 0.6050 - val_root_mean_squared_error: 0.1748\n",
      "Epoch 24/30\n",
      "\u001b[1m2918/2918\u001b[0m \u001b[32m━━━━━━━━━━━━━━━━━━━━\u001b[0m\u001b[37m\u001b[0m \u001b[1m4s\u001b[0m 1ms/step - loss: 0.5675 - root_mean_squared_error: 0.1142 - val_loss: 0.6043 - val_root_mean_squared_error: 0.1740\n",
      "Epoch 25/30\n",
      "\u001b[1m2918/2918\u001b[0m \u001b[32m━━━━━━━━━━━━━━━━━━━━\u001b[0m\u001b[37m\u001b[0m \u001b[1m4s\u001b[0m 1ms/step - loss: 0.5643 - root_mean_squared_error: 0.1148 - val_loss: 0.6046 - val_root_mean_squared_error: 0.1744\n",
      "Epoch 26/30\n",
      "\u001b[1m2918/2918\u001b[0m \u001b[32m━━━━━━━━━━━━━━━━━━━━\u001b[0m\u001b[37m\u001b[0m \u001b[1m4s\u001b[0m 1ms/step - loss: 0.5639 - root_mean_squared_error: 0.1132 - val_loss: 0.6048 - val_root_mean_squared_error: 0.1745\n",
      "Epoch 27/30\n",
      "\u001b[1m2918/2918\u001b[0m \u001b[32m━━━━━━━━━━━━━━━━━━━━\u001b[0m\u001b[37m\u001b[0m \u001b[1m4s\u001b[0m 1ms/step - loss: 0.5614 - root_mean_squared_error: 0.1104 - val_loss: 0.6047 - val_root_mean_squared_error: 0.1745\n",
      "Epoch 28/30\n",
      "\u001b[1m2918/2918\u001b[0m \u001b[32m━━━━━━━━━━━━━━━━━━━━\u001b[0m\u001b[37m\u001b[0m \u001b[1m4s\u001b[0m 1ms/step - loss: 0.5616 - root_mean_squared_error: 0.1120 - val_loss: 0.6049 - val_root_mean_squared_error: 0.1747\n",
      "Epoch 29/30\n",
      "\u001b[1m2918/2918\u001b[0m \u001b[32m━━━━━━━━━━━━━━━━━━━━\u001b[0m\u001b[37m\u001b[0m \u001b[1m4s\u001b[0m 2ms/step - loss: 0.5625 - root_mean_squared_error: 0.1111 - val_loss: 0.6052 - val_root_mean_squared_error: 0.1751\n",
      "Epoch 30/30\n",
      "\u001b[1m2918/2918\u001b[0m \u001b[32m━━━━━━━━━━━━━━━━━━━━\u001b[0m\u001b[37m\u001b[0m \u001b[1m4s\u001b[0m 1ms/step - loss: 0.5592 - root_mean_squared_error: 0.1089 - val_loss: 0.6054 - val_root_mean_squared_error: 0.1752\n"
     ]
    }
   ],
   "source": [
    "history = model.fit(\n",
    "    x = x_train,\n",
    "    y = y_train,\n",
    "    batch_size = 8,\n",
    "    epochs = 30,\n",
    "    validation_data = (x_val, y_val)\n",
    ")"
   ]
  },
  {
   "cell_type": "code",
   "execution_count": 67,
   "metadata": {
    "colab": {
     "base_uri": "https://localhost:8080/",
     "height": 472
    },
    "execution": {
     "iopub.execute_input": "2025-05-01T10:29:10.433975Z",
     "iopub.status.busy": "2025-05-01T10:29:10.433674Z",
     "iopub.status.idle": "2025-05-01T10:29:10.587981Z",
     "shell.execute_reply": "2025-05-01T10:29:10.587313Z",
     "shell.execute_reply.started": "2025-05-01T10:29:10.433956Z"
    },
    "id": "KCBKW0RnQYXx",
    "outputId": "d27b0df8-7a12-41cc-de08-e9ecdf753778",
    "trusted": true
   },
   "outputs": [
    {
     "data": {
      "image/png": "[encoded data removed]",
      "text/plain": [
       "<Figure size 640x480 with 1 Axes>"
      ]
     },
     "metadata": {},
     "output_type": "display_data"
    }
   ],
   "source": [
    "plt.plot(history.history['root_mean_squared_error'])\n",
    "plt.plot(history.history['val_root_mean_squared_error'])\n",
    "plt.title('Collaborative Filtering Model Evalutation')\n",
    "plt.ylabel('RMSE')\n",
    "plt.xlabel('epoch')\n",
    "plt.legend(['train', 'val'])\n",
    "plt.show()"
   ]
  },
  {
   "cell_type": "markdown",
   "metadata": {
    "id": "vWDCzjtkQYXy"
   },
   "source": [
    "Berdasarkan hasil evaluasi di atas, model dengan metode *collaborative filtering* menunjukkan performa yang baik. Hal ini terlihat dari nilai RMSE yang terus menurun secara signifikan di setiap *epoch*, hingga mencapai nilai yang cukup rendah pada *epoch* ke-30. Artinya, model mampu belajar dengan baik dan menghasilkan prediksi yang akurat. Berikut adalah metrik yang diperoleh:\n",
    "\n",
    "- loss: 0.5592\n",
    "- root_mean_squared_error: 0.1089\n",
    "- val_loss: 0.6054\n",
    "- val_root_mean_squared_error: 0.1752\n",
    "\n"
   ]
  }
 ],
 "metadata": {
  "accelerator": "TPU",
  "colab": {
   "gpuType": "V28",
   "provenance": []
  },
  "kaggle": {
   "accelerator": "gpu",
   "dataSources": [],
   "dockerImageVersionId": 31011,
   "isGpuEnabled": true,
   "isInternetEnabled": true,
   "language": "python",
   "sourceType": "notebook"
  },
  "kernelspec": {
   "display_name": "Python 3",
   "language": "python",
   "name": "python3"
  },
  "language_info": {
   "codemirror_mode": {
    "name": "ipython",
    "version": 3
   },
   "file_extension": ".py",
   "mimetype": "text/x-python",
   "name": "python",
   "nbconvert_exporter": "python",
   "pygments_lexer": "ipython3",
   "version": "3.11.11"
  }
 },
 "nbformat": 4,
 "nbformat_minor": 4
}
